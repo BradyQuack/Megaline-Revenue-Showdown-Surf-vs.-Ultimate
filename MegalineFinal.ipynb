{
 "cells": [
  {
   "cell_type": "markdown",
   "metadata": {},
   "source": [
    "# Megaline Revenue Showdown: Surf vs. Ultimate\n",
    "\n",
    "### Overview: \n",
    "Megaline offers two prepaid plans—Surf and Ultimate. The commercial department is interested in understanding which of these plans generates more revenue in order to optimize advertising efforts and where to reallocate budgets.\n",
    "\n",
    "### Objective:\n",
    "The goal of this project is to analyze data from a sample of 500 Megaline clients to evaluate the usage patterns of customers on both the Surf and Ultimate plans, and to determine which plan generates more revenue. By doing so, we will provide actionable insights that could guide future marketing strategies and help in resource allocation for the company.\n",
    "\n",
    "### Plan of Action: \n",
    "(1) Data Preparation\n",
    "\n",
    "(2) Revenue Collection\n",
    "\n",
    "(3) Comparitive Analysis\n",
    "\n",
    "(4) Statistical Testing\n",
    "\n",
    "(5) Data Visualization\n",
    "\n",
    "(6) Findings"
   ]
  },
  {
   "cell_type": "markdown",
   "metadata": {},
   "source": [
    "# Imports"
   ]
  },
  {
   "cell_type": "code",
   "execution_count": 1,
   "metadata": {},
   "outputs": [],
   "source": [
    "# Imports\n",
    "import pandas as pd\n",
    "import numpy as np\n",
    "from matplotlib import pyplot as plt\n",
    "from scipy import stats as st\n",
    "import math as mt\n",
    "from math import factorial"
   ]
  },
  {
   "cell_type": "markdown",
   "metadata": {},
   "source": [
    "# Load data"
   ]
  },
  {
   "cell_type": "code",
   "execution_count": 2,
   "metadata": {},
   "outputs": [],
   "source": [
    "# Load the data files into different DataFrames\n",
    "calls_df = pd.read_csv('/datasets/megaline_calls.csv')\n",
    "internet_df = pd.read_csv('/datasets/megaline_internet.csv')\n",
    "messages_df = pd.read_csv('/datasets/megaline_messages.csv')\n",
    "plans_df = pd.read_csv('/datasets/megaline_plans.csv')\n",
    "users_df = pd.read_csv('/datasets/megaline_users.csv')"
   ]
  },
  {
   "cell_type": "markdown",
   "metadata": {},
   "source": [
    "## Prepare Data"
   ]
  },
  {
   "cell_type": "markdown",
   "metadata": {},
   "source": [
    "## Plans"
   ]
  },
  {
   "cell_type": "code",
   "execution_count": 3,
   "metadata": {},
   "outputs": [
    {
     "name": "stdout",
     "output_type": "stream",
     "text": [
      "<class 'pandas.core.frame.DataFrame'>\n",
      "RangeIndex: 2 entries, 0 to 1\n",
      "Data columns (total 8 columns):\n",
      " #   Column                 Non-Null Count  Dtype  \n",
      "---  ------                 --------------  -----  \n",
      " 0   messages_included      2 non-null      int64  \n",
      " 1   mb_per_month_included  2 non-null      int64  \n",
      " 2   minutes_included       2 non-null      int64  \n",
      " 3   usd_monthly_pay        2 non-null      int64  \n",
      " 4   usd_per_gb             2 non-null      int64  \n",
      " 5   usd_per_message        2 non-null      float64\n",
      " 6   usd_per_minute         2 non-null      float64\n",
      " 7   plan_name              2 non-null      object \n",
      "dtypes: float64(2), int64(5), object(1)\n",
      "memory usage: 256.0+ bytes\n"
     ]
    }
   ],
   "source": [
    "# Print the general/summary information about the plans' DataFrame\n",
    "plans_df.info()"
   ]
  },
  {
   "cell_type": "code",
   "execution_count": 4,
   "metadata": {},
   "outputs": [
    {
     "data": {
      "text/html": [
       "<div>\n",
       "<style scoped>\n",
       "    .dataframe tbody tr th:only-of-type {\n",
       "        vertical-align: middle;\n",
       "    }\n",
       "\n",
       "    .dataframe tbody tr th {\n",
       "        vertical-align: top;\n",
       "    }\n",
       "\n",
       "    .dataframe thead th {\n",
       "        text-align: right;\n",
       "    }\n",
       "</style>\n",
       "<table border=\"1\" class=\"dataframe\">\n",
       "  <thead>\n",
       "    <tr style=\"text-align: right;\">\n",
       "      <th></th>\n",
       "      <th>messages_included</th>\n",
       "      <th>mb_per_month_included</th>\n",
       "      <th>minutes_included</th>\n",
       "      <th>usd_monthly_pay</th>\n",
       "      <th>usd_per_gb</th>\n",
       "      <th>usd_per_message</th>\n",
       "      <th>usd_per_minute</th>\n",
       "      <th>plan_name</th>\n",
       "    </tr>\n",
       "  </thead>\n",
       "  <tbody>\n",
       "    <tr>\n",
       "      <th>1</th>\n",
       "      <td>1000</td>\n",
       "      <td>30720</td>\n",
       "      <td>3000</td>\n",
       "      <td>70</td>\n",
       "      <td>7</td>\n",
       "      <td>0.01</td>\n",
       "      <td>0.01</td>\n",
       "      <td>ultimate</td>\n",
       "    </tr>\n",
       "    <tr>\n",
       "      <th>0</th>\n",
       "      <td>50</td>\n",
       "      <td>15360</td>\n",
       "      <td>500</td>\n",
       "      <td>20</td>\n",
       "      <td>10</td>\n",
       "      <td>0.03</td>\n",
       "      <td>0.03</td>\n",
       "      <td>surf</td>\n",
       "    </tr>\n",
       "  </tbody>\n",
       "</table>\n",
       "</div>"
      ],
      "text/plain": [
       "   messages_included  mb_per_month_included  minutes_included  \\\n",
       "1               1000                  30720              3000   \n",
       "0                 50                  15360               500   \n",
       "\n",
       "   usd_monthly_pay  usd_per_gb  usd_per_message  usd_per_minute plan_name  \n",
       "1               70           7             0.01            0.01  ultimate  \n",
       "0               20          10             0.03            0.03      surf  "
      ]
     },
     "execution_count": 4,
     "metadata": {},
     "output_type": "execute_result"
    }
   ],
   "source": [
    "# Print a sample of data for plans\n",
    "plans_df.sample(2)"
   ]
  },
  {
   "cell_type": "markdown",
   "metadata": {},
   "source": [
    "### Summary:\n",
    "Surf and Ultimate are the only two plans in the dataset. No missing values in dataset. Index 0-4 are correct int64 data types. Index 5-6 are correct float64 data types. Index 7 is correct object data type. usd_per_gb is calculated per gigabyte. mb_per_month_included is in megabytes. mb_per_month_included will have to be converted to gigabytes. "
   ]
  },
  {
   "cell_type": "markdown",
   "metadata": {},
   "source": [
    " "
   ]
  },
  {
   "cell_type": "markdown",
   "metadata": {},
   "source": [
    "## Enrich data"
   ]
  },
  {
   "cell_type": "code",
   "execution_count": 5,
   "metadata": {
    "scrolled": true
   },
   "outputs": [
    {
     "data": {
      "text/html": [
       "<div>\n",
       "<style scoped>\n",
       "    .dataframe tbody tr th:only-of-type {\n",
       "        vertical-align: middle;\n",
       "    }\n",
       "\n",
       "    .dataframe tbody tr th {\n",
       "        vertical-align: top;\n",
       "    }\n",
       "\n",
       "    .dataframe thead th {\n",
       "        text-align: right;\n",
       "    }\n",
       "</style>\n",
       "<table border=\"1\" class=\"dataframe\">\n",
       "  <thead>\n",
       "    <tr style=\"text-align: right;\">\n",
       "      <th></th>\n",
       "      <th>messages_included</th>\n",
       "      <th>mb_per_month_included</th>\n",
       "      <th>minutes_included</th>\n",
       "      <th>usd_monthly_pay</th>\n",
       "      <th>usd_per_gb</th>\n",
       "      <th>usd_per_message</th>\n",
       "      <th>usd_per_minute</th>\n",
       "      <th>plan_name</th>\n",
       "      <th>gb_per_month_included</th>\n",
       "    </tr>\n",
       "  </thead>\n",
       "  <tbody>\n",
       "    <tr>\n",
       "      <th>0</th>\n",
       "      <td>50</td>\n",
       "      <td>15360</td>\n",
       "      <td>500</td>\n",
       "      <td>20</td>\n",
       "      <td>10</td>\n",
       "      <td>0.03</td>\n",
       "      <td>0.03</td>\n",
       "      <td>surf</td>\n",
       "      <td>15.36</td>\n",
       "    </tr>\n",
       "    <tr>\n",
       "      <th>1</th>\n",
       "      <td>1000</td>\n",
       "      <td>30720</td>\n",
       "      <td>3000</td>\n",
       "      <td>70</td>\n",
       "      <td>7</td>\n",
       "      <td>0.01</td>\n",
       "      <td>0.01</td>\n",
       "      <td>ultimate</td>\n",
       "      <td>30.72</td>\n",
       "    </tr>\n",
       "  </tbody>\n",
       "</table>\n",
       "</div>"
      ],
      "text/plain": [
       "   messages_included  mb_per_month_included  minutes_included  \\\n",
       "0                 50                  15360               500   \n",
       "1               1000                  30720              3000   \n",
       "\n",
       "   usd_monthly_pay  usd_per_gb  usd_per_message  usd_per_minute plan_name  \\\n",
       "0               20          10             0.03            0.03      surf   \n",
       "1               70           7             0.01            0.01  ultimate   \n",
       "\n",
       "   gb_per_month_included  \n",
       "0                  15.36  \n",
       "1                  30.72  "
      ]
     },
     "execution_count": 5,
     "metadata": {},
     "output_type": "execute_result"
    }
   ],
   "source": [
    "# added gb_per_month_included column\n",
    "plans_df['gb_per_month_included'] = plans_df['mb_per_month_included'] / 1000\n",
    "plans_df.head()"
   ]
  },
  {
   "cell_type": "markdown",
   "metadata": {},
   "source": [
    "## Users"
   ]
  },
  {
   "cell_type": "code",
   "execution_count": 6,
   "metadata": {},
   "outputs": [
    {
     "name": "stdout",
     "output_type": "stream",
     "text": [
      "<class 'pandas.core.frame.DataFrame'>\n",
      "RangeIndex: 500 entries, 0 to 499\n",
      "Data columns (total 8 columns):\n",
      " #   Column      Non-Null Count  Dtype \n",
      "---  ------      --------------  ----- \n",
      " 0   user_id     500 non-null    int64 \n",
      " 1   first_name  500 non-null    object\n",
      " 2   last_name   500 non-null    object\n",
      " 3   age         500 non-null    int64 \n",
      " 4   city        500 non-null    object\n",
      " 5   reg_date    500 non-null    object\n",
      " 6   plan        500 non-null    object\n",
      " 7   churn_date  34 non-null     object\n",
      "dtypes: int64(2), object(6)\n",
      "memory usage: 31.4+ KB\n"
     ]
    }
   ],
   "source": [
    "# Print the general/summary information about the users' DataFrame\n",
    "users_df.info()"
   ]
  },
  {
   "cell_type": "code",
   "execution_count": 7,
   "metadata": {},
   "outputs": [
    {
     "data": {
      "text/html": [
       "<div>\n",
       "<style scoped>\n",
       "    .dataframe tbody tr th:only-of-type {\n",
       "        vertical-align: middle;\n",
       "    }\n",
       "\n",
       "    .dataframe tbody tr th {\n",
       "        vertical-align: top;\n",
       "    }\n",
       "\n",
       "    .dataframe thead th {\n",
       "        text-align: right;\n",
       "    }\n",
       "</style>\n",
       "<table border=\"1\" class=\"dataframe\">\n",
       "  <thead>\n",
       "    <tr style=\"text-align: right;\">\n",
       "      <th></th>\n",
       "      <th>user_id</th>\n",
       "      <th>first_name</th>\n",
       "      <th>last_name</th>\n",
       "      <th>age</th>\n",
       "      <th>city</th>\n",
       "      <th>reg_date</th>\n",
       "      <th>plan</th>\n",
       "      <th>churn_date</th>\n",
       "    </tr>\n",
       "  </thead>\n",
       "  <tbody>\n",
       "    <tr>\n",
       "      <th>89</th>\n",
       "      <td>1089</td>\n",
       "      <td>Malena</td>\n",
       "      <td>Kelley</td>\n",
       "      <td>70</td>\n",
       "      <td>Philadelphia-Camden-Wilmington, PA-NJ-DE-MD MSA</td>\n",
       "      <td>2018-09-03</td>\n",
       "      <td>surf</td>\n",
       "      <td>NaN</td>\n",
       "    </tr>\n",
       "    <tr>\n",
       "      <th>186</th>\n",
       "      <td>1186</td>\n",
       "      <td>Josiah</td>\n",
       "      <td>Douglas</td>\n",
       "      <td>55</td>\n",
       "      <td>Las Vegas-Henderson-Paradise, NV MSA</td>\n",
       "      <td>2018-12-22</td>\n",
       "      <td>ultimate</td>\n",
       "      <td>2018-12-31</td>\n",
       "    </tr>\n",
       "    <tr>\n",
       "      <th>37</th>\n",
       "      <td>1037</td>\n",
       "      <td>Reena</td>\n",
       "      <td>Velazquez</td>\n",
       "      <td>20</td>\n",
       "      <td>Seattle-Tacoma-Bellevue, WA MSA</td>\n",
       "      <td>2018-08-11</td>\n",
       "      <td>ultimate</td>\n",
       "      <td>NaN</td>\n",
       "    </tr>\n",
       "    <tr>\n",
       "      <th>494</th>\n",
       "      <td>1494</td>\n",
       "      <td>Preston</td>\n",
       "      <td>Downs</td>\n",
       "      <td>70</td>\n",
       "      <td>New York-Newark-Jersey City, NY-NJ-PA MSA</td>\n",
       "      <td>2018-04-19</td>\n",
       "      <td>surf</td>\n",
       "      <td>NaN</td>\n",
       "    </tr>\n",
       "    <tr>\n",
       "      <th>456</th>\n",
       "      <td>1456</td>\n",
       "      <td>Seymour</td>\n",
       "      <td>Olsen</td>\n",
       "      <td>66</td>\n",
       "      <td>Minneapolis-St. Paul-Bloomington, MN-WI MSA</td>\n",
       "      <td>2018-06-02</td>\n",
       "      <td>ultimate</td>\n",
       "      <td>NaN</td>\n",
       "    </tr>\n",
       "  </tbody>\n",
       "</table>\n",
       "</div>"
      ],
      "text/plain": [
       "     user_id first_name  last_name  age  \\\n",
       "89      1089     Malena     Kelley   70   \n",
       "186     1186     Josiah    Douglas   55   \n",
       "37      1037      Reena  Velazquez   20   \n",
       "494     1494    Preston      Downs   70   \n",
       "456     1456    Seymour      Olsen   66   \n",
       "\n",
       "                                                city    reg_date      plan  \\\n",
       "89   Philadelphia-Camden-Wilmington, PA-NJ-DE-MD MSA  2018-09-03      surf   \n",
       "186             Las Vegas-Henderson-Paradise, NV MSA  2018-12-22  ultimate   \n",
       "37                   Seattle-Tacoma-Bellevue, WA MSA  2018-08-11  ultimate   \n",
       "494        New York-Newark-Jersey City, NY-NJ-PA MSA  2018-04-19      surf   \n",
       "456      Minneapolis-St. Paul-Bloomington, MN-WI MSA  2018-06-02  ultimate   \n",
       "\n",
       "     churn_date  \n",
       "89          NaN  \n",
       "186  2018-12-31  \n",
       "37          NaN  \n",
       "494         NaN  \n",
       "456         NaN  "
      ]
     },
     "execution_count": 7,
     "metadata": {},
     "output_type": "execute_result"
    }
   ],
   "source": [
    "# Print a sample of data for users\n",
    "users_df.sample(5)\n"
   ]
  },
  {
   "cell_type": "markdown",
   "metadata": {},
   "source": [
    "### Summary:\n",
    "Data types appear correct. Users_df contains missing values in churn_date. May be useful to check ages and plan values for inconsistencies. first_name, city, and last_name contain capital letters that could be an issue. reg_date and churn_date are not in datetime."
   ]
  },
  {
   "cell_type": "code",
   "execution_count": 8,
   "metadata": {},
   "outputs": [
    {
     "name": "stdout",
     "output_type": "stream",
     "text": [
      "Age Min: 18\n",
      "Age Max: 75\n"
     ]
    }
   ],
   "source": [
    "# Check age values\n",
    "print('Age Min:', users_df['age'].min())\n",
    "print('Age Max:', users_df['age'].max()) "
   ]
  },
  {
   "cell_type": "code",
   "execution_count": 9,
   "metadata": {},
   "outputs": [
    {
     "name": "stdout",
     "output_type": "stream",
     "text": [
      "surf        339\n",
      "ultimate    161\n",
      "Name: plan, dtype: int64\n"
     ]
    }
   ],
   "source": [
    "# check plan values\n",
    "print(users_df['plan'].value_counts())"
   ]
  },
  {
   "cell_type": "code",
   "execution_count": 10,
   "metadata": {},
   "outputs": [
    {
     "data": {
      "text/html": [
       "<div>\n",
       "<style scoped>\n",
       "    .dataframe tbody tr th:only-of-type {\n",
       "        vertical-align: middle;\n",
       "    }\n",
       "\n",
       "    .dataframe tbody tr th {\n",
       "        vertical-align: top;\n",
       "    }\n",
       "\n",
       "    .dataframe thead th {\n",
       "        text-align: right;\n",
       "    }\n",
       "</style>\n",
       "<table border=\"1\" class=\"dataframe\">\n",
       "  <thead>\n",
       "    <tr style=\"text-align: right;\">\n",
       "      <th></th>\n",
       "      <th>user_id</th>\n",
       "      <th>first_name</th>\n",
       "      <th>last_name</th>\n",
       "      <th>age</th>\n",
       "      <th>city</th>\n",
       "      <th>reg_date</th>\n",
       "      <th>plan</th>\n",
       "      <th>churn_date</th>\n",
       "    </tr>\n",
       "  </thead>\n",
       "  <tbody>\n",
       "    <tr>\n",
       "      <th>466</th>\n",
       "      <td>1466</td>\n",
       "      <td>Alphonse</td>\n",
       "      <td>Harmon</td>\n",
       "      <td>56</td>\n",
       "      <td>Los Angeles-Long Beach-Anaheim, CA MSA</td>\n",
       "      <td>2018-01-26</td>\n",
       "      <td>surf</td>\n",
       "      <td>2018-09-17</td>\n",
       "    </tr>\n",
       "  </tbody>\n",
       "</table>\n",
       "</div>"
      ],
      "text/plain": [
       "     user_id first_name last_name  age  \\\n",
       "466     1466   Alphonse    Harmon   56   \n",
       "\n",
       "                                       city    reg_date  plan  churn_date  \n",
       "466  Los Angeles-Long Beach-Anaheim, CA MSA  2018-01-26  surf  2018-09-17  "
      ]
     },
     "execution_count": 10,
     "metadata": {},
     "output_type": "execute_result"
    }
   ],
   "source": [
    "# Check churn dates\n",
    "churns = users_df[~users_df['churn_date'].isna()]\n",
    "churns.sample()"
   ]
  },
  {
   "cell_type": "markdown",
   "metadata": {},
   "source": [
    "### Summary:\n",
    "Age contains values from 18 to 75 and plan only contains two values surf and ultimate. Churns shows 34 users that have stopped their service. Month_year column needs to be added for monthly calculations. "
   ]
  },
  {
   "cell_type": "markdown",
   "metadata": {},
   "source": [
    "### Fix Data"
   ]
  },
  {
   "cell_type": "code",
   "execution_count": 11,
   "metadata": {},
   "outputs": [
    {
     "data": {
      "text/html": [
       "<div>\n",
       "<style scoped>\n",
       "    .dataframe tbody tr th:only-of-type {\n",
       "        vertical-align: middle;\n",
       "    }\n",
       "\n",
       "    .dataframe tbody tr th {\n",
       "        vertical-align: top;\n",
       "    }\n",
       "\n",
       "    .dataframe thead th {\n",
       "        text-align: right;\n",
       "    }\n",
       "</style>\n",
       "<table border=\"1\" class=\"dataframe\">\n",
       "  <thead>\n",
       "    <tr style=\"text-align: right;\">\n",
       "      <th></th>\n",
       "      <th>user_id</th>\n",
       "      <th>first_name</th>\n",
       "      <th>last_name</th>\n",
       "      <th>age</th>\n",
       "      <th>city</th>\n",
       "      <th>reg_date</th>\n",
       "      <th>plan</th>\n",
       "      <th>churn_date</th>\n",
       "    </tr>\n",
       "  </thead>\n",
       "  <tbody>\n",
       "    <tr>\n",
       "      <th>423</th>\n",
       "      <td>1423</td>\n",
       "      <td>malcom</td>\n",
       "      <td>neal</td>\n",
       "      <td>61</td>\n",
       "      <td>philadelphia-camden-wilmington, pa-nj-de-md msa</td>\n",
       "      <td>2018-10-16</td>\n",
       "      <td>surf</td>\n",
       "      <td>unknown</td>\n",
       "    </tr>\n",
       "  </tbody>\n",
       "</table>\n",
       "</div>"
      ],
      "text/plain": [
       "     user_id first_name last_name  age  \\\n",
       "423     1423     malcom      neal   61   \n",
       "\n",
       "                                                city    reg_date  plan  \\\n",
       "423  philadelphia-camden-wilmington, pa-nj-de-md msa  2018-10-16  surf   \n",
       "\n",
       "    churn_date  \n",
       "423    unknown  "
      ]
     },
     "execution_count": 11,
     "metadata": {},
     "output_type": "execute_result"
    }
   ],
   "source": [
    "# Fix missing churn values\n",
    "users_df['churn_date'] = users_df['churn_date'].fillna('unknown')\n",
    "\n",
    "# lowercase first name, last name, and city\n",
    "users_df['first_name'] = users_df['first_name'].str.lower()\n",
    "users_df['last_name'] = users_df['last_name'].str.lower()\n",
    "users_df['city'] = users_df['city'].str.lower()\n",
    "users_df.sample()"
   ]
  },
  {
   "cell_type": "code",
   "execution_count": 12,
   "metadata": {},
   "outputs": [
    {
     "data": {
      "text/html": [
       "<div>\n",
       "<style scoped>\n",
       "    .dataframe tbody tr th:only-of-type {\n",
       "        vertical-align: middle;\n",
       "    }\n",
       "\n",
       "    .dataframe tbody tr th {\n",
       "        vertical-align: top;\n",
       "    }\n",
       "\n",
       "    .dataframe thead th {\n",
       "        text-align: right;\n",
       "    }\n",
       "</style>\n",
       "<table border=\"1\" class=\"dataframe\">\n",
       "  <thead>\n",
       "    <tr style=\"text-align: right;\">\n",
       "      <th></th>\n",
       "      <th>user_id</th>\n",
       "      <th>first_name</th>\n",
       "      <th>last_name</th>\n",
       "      <th>age</th>\n",
       "      <th>city</th>\n",
       "      <th>reg_date</th>\n",
       "      <th>plan</th>\n",
       "      <th>churn_date</th>\n",
       "    </tr>\n",
       "  </thead>\n",
       "  <tbody>\n",
       "    <tr>\n",
       "      <th>224</th>\n",
       "      <td>1224</td>\n",
       "      <td>kelly</td>\n",
       "      <td>cole</td>\n",
       "      <td>74</td>\n",
       "      <td>atlanta-sandy springs-roswell, ga msa</td>\n",
       "      <td>2018-06-28</td>\n",
       "      <td>ultimate</td>\n",
       "      <td>NaT</td>\n",
       "    </tr>\n",
       "  </tbody>\n",
       "</table>\n",
       "</div>"
      ],
      "text/plain": [
       "     user_id first_name last_name  age                                   city  \\\n",
       "224     1224      kelly      cole   74  atlanta-sandy springs-roswell, ga msa   \n",
       "\n",
       "      reg_date      plan churn_date  \n",
       "224 2018-06-28  ultimate        NaT  "
      ]
     },
     "execution_count": 12,
     "metadata": {},
     "output_type": "execute_result"
    }
   ],
   "source": [
    "# to datetime (Keeping NaT values as unknown values)\n",
    "users_df['reg_date'] = pd.to_datetime(users_df['reg_date'])\n",
    "users_df['churn_date'] = pd.to_datetime(users_df['churn_date'], errors='coerce')\n",
    "users_df.sample()"
   ]
  },
  {
   "cell_type": "code",
   "execution_count": 13,
   "metadata": {},
   "outputs": [
    {
     "name": "stdout",
     "output_type": "stream",
     "text": [
      "<class 'pandas.core.frame.DataFrame'>\n",
      "RangeIndex: 500 entries, 0 to 499\n",
      "Data columns (total 8 columns):\n",
      " #   Column      Non-Null Count  Dtype         \n",
      "---  ------      --------------  -----         \n",
      " 0   user_id     500 non-null    int64         \n",
      " 1   first_name  500 non-null    object        \n",
      " 2   last_name   500 non-null    object        \n",
      " 3   age         500 non-null    int64         \n",
      " 4   city        500 non-null    object        \n",
      " 5   reg_date    500 non-null    datetime64[ns]\n",
      " 6   plan        500 non-null    object        \n",
      " 7   churn_date  34 non-null     datetime64[ns]\n",
      "dtypes: datetime64[ns](2), int64(2), object(4)\n",
      "memory usage: 31.4+ KB\n"
     ]
    }
   ],
   "source": [
    "users_df.info()"
   ]
  },
  {
   "cell_type": "markdown",
   "metadata": {},
   "source": [
    "### Enrich Data"
   ]
  },
  {
   "cell_type": "code",
   "execution_count": 14,
   "metadata": {},
   "outputs": [
    {
     "data": {
      "text/html": [
       "<div>\n",
       "<style scoped>\n",
       "    .dataframe tbody tr th:only-of-type {\n",
       "        vertical-align: middle;\n",
       "    }\n",
       "\n",
       "    .dataframe tbody tr th {\n",
       "        vertical-align: top;\n",
       "    }\n",
       "\n",
       "    .dataframe thead th {\n",
       "        text-align: right;\n",
       "    }\n",
       "</style>\n",
       "<table border=\"1\" class=\"dataframe\">\n",
       "  <thead>\n",
       "    <tr style=\"text-align: right;\">\n",
       "      <th></th>\n",
       "      <th>user_id</th>\n",
       "      <th>first_name</th>\n",
       "      <th>last_name</th>\n",
       "      <th>age</th>\n",
       "      <th>city</th>\n",
       "      <th>reg_date</th>\n",
       "      <th>plan</th>\n",
       "      <th>churn_date</th>\n",
       "      <th>month_year</th>\n",
       "      <th>churn_month_year</th>\n",
       "    </tr>\n",
       "  </thead>\n",
       "  <tbody>\n",
       "    <tr>\n",
       "      <th>0</th>\n",
       "      <td>1000</td>\n",
       "      <td>anamaria</td>\n",
       "      <td>bauer</td>\n",
       "      <td>45</td>\n",
       "      <td>atlanta-sandy springs-roswell, ga msa</td>\n",
       "      <td>2018-12-24</td>\n",
       "      <td>ultimate</td>\n",
       "      <td>NaT</td>\n",
       "      <td>2018-12</td>\n",
       "      <td>NaT</td>\n",
       "    </tr>\n",
       "    <tr>\n",
       "      <th>1</th>\n",
       "      <td>1001</td>\n",
       "      <td>mickey</td>\n",
       "      <td>wilkerson</td>\n",
       "      <td>28</td>\n",
       "      <td>seattle-tacoma-bellevue, wa msa</td>\n",
       "      <td>2018-08-13</td>\n",
       "      <td>surf</td>\n",
       "      <td>NaT</td>\n",
       "      <td>2018-08</td>\n",
       "      <td>NaT</td>\n",
       "    </tr>\n",
       "    <tr>\n",
       "      <th>2</th>\n",
       "      <td>1002</td>\n",
       "      <td>carlee</td>\n",
       "      <td>hoffman</td>\n",
       "      <td>36</td>\n",
       "      <td>las vegas-henderson-paradise, nv msa</td>\n",
       "      <td>2018-10-21</td>\n",
       "      <td>surf</td>\n",
       "      <td>NaT</td>\n",
       "      <td>2018-10</td>\n",
       "      <td>NaT</td>\n",
       "    </tr>\n",
       "    <tr>\n",
       "      <th>3</th>\n",
       "      <td>1003</td>\n",
       "      <td>reynaldo</td>\n",
       "      <td>jenkins</td>\n",
       "      <td>52</td>\n",
       "      <td>tulsa, ok msa</td>\n",
       "      <td>2018-01-28</td>\n",
       "      <td>surf</td>\n",
       "      <td>NaT</td>\n",
       "      <td>2018-01</td>\n",
       "      <td>NaT</td>\n",
       "    </tr>\n",
       "    <tr>\n",
       "      <th>4</th>\n",
       "      <td>1004</td>\n",
       "      <td>leonila</td>\n",
       "      <td>thompson</td>\n",
       "      <td>40</td>\n",
       "      <td>seattle-tacoma-bellevue, wa msa</td>\n",
       "      <td>2018-05-23</td>\n",
       "      <td>surf</td>\n",
       "      <td>NaT</td>\n",
       "      <td>2018-05</td>\n",
       "      <td>NaT</td>\n",
       "    </tr>\n",
       "    <tr>\n",
       "      <th>...</th>\n",
       "      <td>...</td>\n",
       "      <td>...</td>\n",
       "      <td>...</td>\n",
       "      <td>...</td>\n",
       "      <td>...</td>\n",
       "      <td>...</td>\n",
       "      <td>...</td>\n",
       "      <td>...</td>\n",
       "      <td>...</td>\n",
       "      <td>...</td>\n",
       "    </tr>\n",
       "    <tr>\n",
       "      <th>495</th>\n",
       "      <td>1495</td>\n",
       "      <td>fidel</td>\n",
       "      <td>sharpe</td>\n",
       "      <td>67</td>\n",
       "      <td>new york-newark-jersey city, ny-nj-pa msa</td>\n",
       "      <td>2018-09-04</td>\n",
       "      <td>surf</td>\n",
       "      <td>NaT</td>\n",
       "      <td>2018-09</td>\n",
       "      <td>NaT</td>\n",
       "    </tr>\n",
       "    <tr>\n",
       "      <th>496</th>\n",
       "      <td>1496</td>\n",
       "      <td>ariel</td>\n",
       "      <td>shepherd</td>\n",
       "      <td>49</td>\n",
       "      <td>new orleans-metairie, la msa</td>\n",
       "      <td>2018-02-20</td>\n",
       "      <td>surf</td>\n",
       "      <td>NaT</td>\n",
       "      <td>2018-02</td>\n",
       "      <td>NaT</td>\n",
       "    </tr>\n",
       "    <tr>\n",
       "      <th>497</th>\n",
       "      <td>1497</td>\n",
       "      <td>donte</td>\n",
       "      <td>barrera</td>\n",
       "      <td>49</td>\n",
       "      <td>los angeles-long beach-anaheim, ca msa</td>\n",
       "      <td>2018-12-10</td>\n",
       "      <td>ultimate</td>\n",
       "      <td>NaT</td>\n",
       "      <td>2018-12</td>\n",
       "      <td>NaT</td>\n",
       "    </tr>\n",
       "    <tr>\n",
       "      <th>498</th>\n",
       "      <td>1498</td>\n",
       "      <td>scot</td>\n",
       "      <td>williamson</td>\n",
       "      <td>51</td>\n",
       "      <td>new york-newark-jersey city, ny-nj-pa msa</td>\n",
       "      <td>2018-02-04</td>\n",
       "      <td>surf</td>\n",
       "      <td>NaT</td>\n",
       "      <td>2018-02</td>\n",
       "      <td>NaT</td>\n",
       "    </tr>\n",
       "    <tr>\n",
       "      <th>499</th>\n",
       "      <td>1499</td>\n",
       "      <td>shena</td>\n",
       "      <td>dickson</td>\n",
       "      <td>37</td>\n",
       "      <td>orlando-kissimmee-sanford, fl msa</td>\n",
       "      <td>2018-05-06</td>\n",
       "      <td>surf</td>\n",
       "      <td>NaT</td>\n",
       "      <td>2018-05</td>\n",
       "      <td>NaT</td>\n",
       "    </tr>\n",
       "  </tbody>\n",
       "</table>\n",
       "<p>500 rows × 10 columns</p>\n",
       "</div>"
      ],
      "text/plain": [
       "     user_id first_name   last_name  age  \\\n",
       "0       1000   anamaria       bauer   45   \n",
       "1       1001     mickey   wilkerson   28   \n",
       "2       1002     carlee     hoffman   36   \n",
       "3       1003   reynaldo     jenkins   52   \n",
       "4       1004    leonila    thompson   40   \n",
       "..       ...        ...         ...  ...   \n",
       "495     1495      fidel      sharpe   67   \n",
       "496     1496      ariel    shepherd   49   \n",
       "497     1497      donte     barrera   49   \n",
       "498     1498       scot  williamson   51   \n",
       "499     1499      shena     dickson   37   \n",
       "\n",
       "                                          city   reg_date      plan  \\\n",
       "0        atlanta-sandy springs-roswell, ga msa 2018-12-24  ultimate   \n",
       "1              seattle-tacoma-bellevue, wa msa 2018-08-13      surf   \n",
       "2         las vegas-henderson-paradise, nv msa 2018-10-21      surf   \n",
       "3                                tulsa, ok msa 2018-01-28      surf   \n",
       "4              seattle-tacoma-bellevue, wa msa 2018-05-23      surf   \n",
       "..                                         ...        ...       ...   \n",
       "495  new york-newark-jersey city, ny-nj-pa msa 2018-09-04      surf   \n",
       "496               new orleans-metairie, la msa 2018-02-20      surf   \n",
       "497     los angeles-long beach-anaheim, ca msa 2018-12-10  ultimate   \n",
       "498  new york-newark-jersey city, ny-nj-pa msa 2018-02-04      surf   \n",
       "499          orlando-kissimmee-sanford, fl msa 2018-05-06      surf   \n",
       "\n",
       "    churn_date month_year churn_month_year  \n",
       "0          NaT    2018-12              NaT  \n",
       "1          NaT    2018-08              NaT  \n",
       "2          NaT    2018-10              NaT  \n",
       "3          NaT    2018-01              NaT  \n",
       "4          NaT    2018-05              NaT  \n",
       "..         ...        ...              ...  \n",
       "495        NaT    2018-09              NaT  \n",
       "496        NaT    2018-02              NaT  \n",
       "497        NaT    2018-12              NaT  \n",
       "498        NaT    2018-02              NaT  \n",
       "499        NaT    2018-05              NaT  \n",
       "\n",
       "[500 rows x 10 columns]"
      ]
     },
     "execution_count": 14,
     "metadata": {},
     "output_type": "execute_result"
    }
   ],
   "source": [
    "# to month_year\n",
    "users_df['month_year'] = users_df['reg_date'].dt.to_period('m')\n",
    "users_df['churn_month_year'] = users_df['churn_date'].dt.to_period('m')\n",
    "users_df"
   ]
  },
  {
   "cell_type": "code",
   "execution_count": 15,
   "metadata": {},
   "outputs": [
    {
     "data": {
      "text/html": [
       "<div>\n",
       "<style scoped>\n",
       "    .dataframe tbody tr th:only-of-type {\n",
       "        vertical-align: middle;\n",
       "    }\n",
       "\n",
       "    .dataframe tbody tr th {\n",
       "        vertical-align: top;\n",
       "    }\n",
       "\n",
       "    .dataframe thead th {\n",
       "        text-align: right;\n",
       "    }\n",
       "</style>\n",
       "<table border=\"1\" class=\"dataframe\">\n",
       "  <thead>\n",
       "    <tr style=\"text-align: right;\">\n",
       "      <th></th>\n",
       "      <th>user_id</th>\n",
       "      <th>first_name</th>\n",
       "      <th>last_name</th>\n",
       "      <th>age</th>\n",
       "      <th>city</th>\n",
       "      <th>reg_date</th>\n",
       "      <th>plan</th>\n",
       "      <th>churn_date</th>\n",
       "      <th>month_year</th>\n",
       "      <th>churn_month_year</th>\n",
       "    </tr>\n",
       "  </thead>\n",
       "  <tbody>\n",
       "    <tr>\n",
       "      <th>67</th>\n",
       "      <td>1067</td>\n",
       "      <td>robt</td>\n",
       "      <td>allen</td>\n",
       "      <td>37</td>\n",
       "      <td>grand rapids-kentwood, mi msa</td>\n",
       "      <td>2018-09-24</td>\n",
       "      <td>surf</td>\n",
       "      <td>2018-11-24</td>\n",
       "      <td>2018-09</td>\n",
       "      <td>2018-11</td>\n",
       "    </tr>\n",
       "  </tbody>\n",
       "</table>\n",
       "</div>"
      ],
      "text/plain": [
       "    user_id first_name last_name  age                           city  \\\n",
       "67     1067       robt     allen   37  grand rapids-kentwood, mi msa   \n",
       "\n",
       "     reg_date  plan churn_date month_year churn_month_year  \n",
       "67 2018-09-24  surf 2018-11-24    2018-09          2018-11  "
      ]
     },
     "execution_count": 15,
     "metadata": {},
     "output_type": "execute_result"
    }
   ],
   "source": [
    "# check for non missing churn_month_year\n",
    "churns = users_df[~users_df['churn_date'].isna()]\n",
    "churns.sample()"
   ]
  },
  {
   "cell_type": "markdown",
   "metadata": {},
   "source": [
    "## Calls"
   ]
  },
  {
   "cell_type": "code",
   "execution_count": 16,
   "metadata": {},
   "outputs": [
    {
     "name": "stdout",
     "output_type": "stream",
     "text": [
      "<class 'pandas.core.frame.DataFrame'>\n",
      "RangeIndex: 137735 entries, 0 to 137734\n",
      "Data columns (total 4 columns):\n",
      " #   Column     Non-Null Count   Dtype  \n",
      "---  ------     --------------   -----  \n",
      " 0   id         137735 non-null  object \n",
      " 1   user_id    137735 non-null  int64  \n",
      " 2   call_date  137735 non-null  object \n",
      " 3   duration   137735 non-null  float64\n",
      "dtypes: float64(1), int64(1), object(2)\n",
      "memory usage: 4.2+ MB\n"
     ]
    }
   ],
   "source": [
    "# Print the general/summary information about the calls' DataFrame\n",
    "calls_df.info()"
   ]
  },
  {
   "cell_type": "code",
   "execution_count": 17,
   "metadata": {},
   "outputs": [
    {
     "data": {
      "text/html": [
       "<div>\n",
       "<style scoped>\n",
       "    .dataframe tbody tr th:only-of-type {\n",
       "        vertical-align: middle;\n",
       "    }\n",
       "\n",
       "    .dataframe tbody tr th {\n",
       "        vertical-align: top;\n",
       "    }\n",
       "\n",
       "    .dataframe thead th {\n",
       "        text-align: right;\n",
       "    }\n",
       "</style>\n",
       "<table border=\"1\" class=\"dataframe\">\n",
       "  <thead>\n",
       "    <tr style=\"text-align: right;\">\n",
       "      <th></th>\n",
       "      <th>id</th>\n",
       "      <th>user_id</th>\n",
       "      <th>call_date</th>\n",
       "      <th>duration</th>\n",
       "    </tr>\n",
       "  </thead>\n",
       "  <tbody>\n",
       "    <tr>\n",
       "      <th>42091</th>\n",
       "      <td>1155_35</td>\n",
       "      <td>1155</td>\n",
       "      <td>2018-10-13</td>\n",
       "      <td>4.31</td>\n",
       "    </tr>\n",
       "  </tbody>\n",
       "</table>\n",
       "</div>"
      ],
      "text/plain": [
       "            id  user_id   call_date  duration\n",
       "42091  1155_35     1155  2018-10-13      4.31"
      ]
     },
     "execution_count": 17,
     "metadata": {},
     "output_type": "execute_result"
    }
   ],
   "source": [
    "# Print a sample of data for calls\n",
    "calls_df.sample()"
   ]
  },
  {
   "cell_type": "markdown",
   "metadata": {},
   "source": [
    "### Summary:\n",
    "Call_date is object type but should be datetime. id is a unique call identifier that shouldn't be mixed up with user_id. Maintaining id as object type. No missing values. Month_year column needs to be added for monthly calculations. "
   ]
  },
  {
   "cell_type": "markdown",
   "metadata": {},
   "source": [
    " "
   ]
  },
  {
   "cell_type": "markdown",
   "metadata": {},
   "source": [
    "### Fix data"
   ]
  },
  {
   "cell_type": "code",
   "execution_count": 18,
   "metadata": {},
   "outputs": [
    {
     "name": "stdout",
     "output_type": "stream",
     "text": [
      "<class 'pandas.core.frame.DataFrame'>\n",
      "RangeIndex: 137735 entries, 0 to 137734\n",
      "Data columns (total 4 columns):\n",
      " #   Column     Non-Null Count   Dtype         \n",
      "---  ------     --------------   -----         \n",
      " 0   id         137735 non-null  object        \n",
      " 1   user_id    137735 non-null  int64         \n",
      " 2   call_date  137735 non-null  datetime64[ns]\n",
      " 3   duration   137735 non-null  float64       \n",
      "dtypes: datetime64[ns](1), float64(1), int64(1), object(1)\n",
      "memory usage: 4.2+ MB\n"
     ]
    }
   ],
   "source": [
    "calls_df['call_date'] = pd.to_datetime(calls_df['call_date'])\n",
    "calls_df.info()"
   ]
  },
  {
   "cell_type": "markdown",
   "metadata": {},
   "source": [
    "### Enrich data"
   ]
  },
  {
   "cell_type": "code",
   "execution_count": 19,
   "metadata": {},
   "outputs": [
    {
     "data": {
      "text/html": [
       "<div>\n",
       "<style scoped>\n",
       "    .dataframe tbody tr th:only-of-type {\n",
       "        vertical-align: middle;\n",
       "    }\n",
       "\n",
       "    .dataframe tbody tr th {\n",
       "        vertical-align: top;\n",
       "    }\n",
       "\n",
       "    .dataframe thead th {\n",
       "        text-align: right;\n",
       "    }\n",
       "</style>\n",
       "<table border=\"1\" class=\"dataframe\">\n",
       "  <thead>\n",
       "    <tr style=\"text-align: right;\">\n",
       "      <th></th>\n",
       "      <th>id</th>\n",
       "      <th>user_id</th>\n",
       "      <th>call_date</th>\n",
       "      <th>duration</th>\n",
       "      <th>rounded_minutes</th>\n",
       "      <th>month_year</th>\n",
       "    </tr>\n",
       "  </thead>\n",
       "  <tbody>\n",
       "    <tr>\n",
       "      <th>103744</th>\n",
       "      <td>1365_940</td>\n",
       "      <td>1365</td>\n",
       "      <td>2018-10-02</td>\n",
       "      <td>13.29</td>\n",
       "      <td>14.0</td>\n",
       "      <td>2018-10</td>\n",
       "    </tr>\n",
       "  </tbody>\n",
       "</table>\n",
       "</div>"
      ],
      "text/plain": [
       "              id  user_id  call_date  duration  rounded_minutes month_year\n",
       "103744  1365_940     1365 2018-10-02     13.29             14.0    2018-10"
      ]
     },
     "execution_count": 19,
     "metadata": {},
     "output_type": "execute_result"
    }
   ],
   "source": [
    "# rounded_minutes column\n",
    "calls_df['rounded_minutes'] = np.ceil(calls_df['duration'])\n",
    "calls_df.sample()\n",
    "\n",
    "# month_year column\n",
    "calls_df['month_year'] = calls_df['call_date'].dt.to_period('m')\n",
    "calls_df.sample()\n"
   ]
  },
  {
   "cell_type": "markdown",
   "metadata": {},
   "source": [
    "## Messages"
   ]
  },
  {
   "cell_type": "code",
   "execution_count": 20,
   "metadata": {},
   "outputs": [
    {
     "name": "stdout",
     "output_type": "stream",
     "text": [
      "<class 'pandas.core.frame.DataFrame'>\n",
      "RangeIndex: 76051 entries, 0 to 76050\n",
      "Data columns (total 3 columns):\n",
      " #   Column        Non-Null Count  Dtype \n",
      "---  ------        --------------  ----- \n",
      " 0   id            76051 non-null  object\n",
      " 1   user_id       76051 non-null  int64 \n",
      " 2   message_date  76051 non-null  object\n",
      "dtypes: int64(1), object(2)\n",
      "memory usage: 1.7+ MB\n"
     ]
    }
   ],
   "source": [
    "# Print the general/summary information about the messages' DataFrame\n",
    "messages_df.info()"
   ]
  },
  {
   "cell_type": "code",
   "execution_count": 21,
   "metadata": {},
   "outputs": [
    {
     "data": {
      "text/html": [
       "<div>\n",
       "<style scoped>\n",
       "    .dataframe tbody tr th:only-of-type {\n",
       "        vertical-align: middle;\n",
       "    }\n",
       "\n",
       "    .dataframe tbody tr th {\n",
       "        vertical-align: top;\n",
       "    }\n",
       "\n",
       "    .dataframe thead th {\n",
       "        text-align: right;\n",
       "    }\n",
       "</style>\n",
       "<table border=\"1\" class=\"dataframe\">\n",
       "  <thead>\n",
       "    <tr style=\"text-align: right;\">\n",
       "      <th></th>\n",
       "      <th>id</th>\n",
       "      <th>user_id</th>\n",
       "      <th>message_date</th>\n",
       "    </tr>\n",
       "  </thead>\n",
       "  <tbody>\n",
       "    <tr>\n",
       "      <th>2613</th>\n",
       "      <td>1028_536</td>\n",
       "      <td>1028</td>\n",
       "      <td>2018-11-28</td>\n",
       "    </tr>\n",
       "  </tbody>\n",
       "</table>\n",
       "</div>"
      ],
      "text/plain": [
       "            id  user_id message_date\n",
       "2613  1028_536     1028   2018-11-28"
      ]
     },
     "execution_count": 21,
     "metadata": {},
     "output_type": "execute_result"
    }
   ],
   "source": [
    "# Print a sample of data for messages\n",
    "messages_df.sample()"
   ]
  },
  {
   "cell_type": "markdown",
   "metadata": {},
   "source": [
    "### Summary:\n",
    "message_date is object type but should be datetime. No missing values. Maintaining object type for id and int64 type for user_id. Month_year column needs to be added for monthly calculations. "
   ]
  },
  {
   "cell_type": "markdown",
   "metadata": {},
   "source": [
    " "
   ]
  },
  {
   "cell_type": "markdown",
   "metadata": {},
   "source": [
    "### Fix data"
   ]
  },
  {
   "cell_type": "code",
   "execution_count": 22,
   "metadata": {},
   "outputs": [
    {
     "name": "stdout",
     "output_type": "stream",
     "text": [
      "<class 'pandas.core.frame.DataFrame'>\n",
      "RangeIndex: 76051 entries, 0 to 76050\n",
      "Data columns (total 3 columns):\n",
      " #   Column        Non-Null Count  Dtype         \n",
      "---  ------        --------------  -----         \n",
      " 0   id            76051 non-null  object        \n",
      " 1   user_id       76051 non-null  int64         \n",
      " 2   message_date  76051 non-null  datetime64[ns]\n",
      "dtypes: datetime64[ns](1), int64(1), object(1)\n",
      "memory usage: 1.7+ MB\n"
     ]
    }
   ],
   "source": [
    "# to datetime\n",
    "messages_df['message_date'] = pd.to_datetime(messages_df['message_date'])\n",
    "messages_df.info()"
   ]
  },
  {
   "cell_type": "markdown",
   "metadata": {},
   "source": [
    "### Enrich data"
   ]
  },
  {
   "cell_type": "code",
   "execution_count": 23,
   "metadata": {},
   "outputs": [
    {
     "data": {
      "text/html": [
       "<div>\n",
       "<style scoped>\n",
       "    .dataframe tbody tr th:only-of-type {\n",
       "        vertical-align: middle;\n",
       "    }\n",
       "\n",
       "    .dataframe tbody tr th {\n",
       "        vertical-align: top;\n",
       "    }\n",
       "\n",
       "    .dataframe thead th {\n",
       "        text-align: right;\n",
       "    }\n",
       "</style>\n",
       "<table border=\"1\" class=\"dataframe\">\n",
       "  <thead>\n",
       "    <tr style=\"text-align: right;\">\n",
       "      <th></th>\n",
       "      <th>id</th>\n",
       "      <th>user_id</th>\n",
       "      <th>message_date</th>\n",
       "      <th>month_year</th>\n",
       "    </tr>\n",
       "  </thead>\n",
       "  <tbody>\n",
       "    <tr>\n",
       "      <th>43155</th>\n",
       "      <td>1283_94</td>\n",
       "      <td>1283</td>\n",
       "      <td>2018-12-20</td>\n",
       "      <td>2018-12</td>\n",
       "    </tr>\n",
       "  </tbody>\n",
       "</table>\n",
       "</div>"
      ],
      "text/plain": [
       "            id  user_id message_date month_year\n",
       "43155  1283_94     1283   2018-12-20    2018-12"
      ]
     },
     "execution_count": 23,
     "metadata": {},
     "output_type": "execute_result"
    }
   ],
   "source": [
    "# add month_year column\n",
    "messages_df['month_year'] = messages_df['message_date'].dt.to_period('m')\n",
    "messages_df.sample()"
   ]
  },
  {
   "cell_type": "markdown",
   "metadata": {},
   "source": [
    "## Internet"
   ]
  },
  {
   "cell_type": "code",
   "execution_count": 24,
   "metadata": {},
   "outputs": [
    {
     "name": "stdout",
     "output_type": "stream",
     "text": [
      "<class 'pandas.core.frame.DataFrame'>\n",
      "RangeIndex: 104825 entries, 0 to 104824\n",
      "Data columns (total 4 columns):\n",
      " #   Column        Non-Null Count   Dtype  \n",
      "---  ------        --------------   -----  \n",
      " 0   id            104825 non-null  object \n",
      " 1   user_id       104825 non-null  int64  \n",
      " 2   session_date  104825 non-null  object \n",
      " 3   mb_used       104825 non-null  float64\n",
      "dtypes: float64(1), int64(1), object(2)\n",
      "memory usage: 3.2+ MB\n"
     ]
    }
   ],
   "source": [
    "# Print the general/summary information about the internet DataFrame\n",
    "internet_df.info()\n"
   ]
  },
  {
   "cell_type": "code",
   "execution_count": 25,
   "metadata": {},
   "outputs": [
    {
     "data": {
      "text/html": [
       "<div>\n",
       "<style scoped>\n",
       "    .dataframe tbody tr th:only-of-type {\n",
       "        vertical-align: middle;\n",
       "    }\n",
       "\n",
       "    .dataframe tbody tr th {\n",
       "        vertical-align: top;\n",
       "    }\n",
       "\n",
       "    .dataframe thead th {\n",
       "        text-align: right;\n",
       "    }\n",
       "</style>\n",
       "<table border=\"1\" class=\"dataframe\">\n",
       "  <thead>\n",
       "    <tr style=\"text-align: right;\">\n",
       "      <th></th>\n",
       "      <th>id</th>\n",
       "      <th>user_id</th>\n",
       "      <th>session_date</th>\n",
       "      <th>mb_used</th>\n",
       "    </tr>\n",
       "  </thead>\n",
       "  <tbody>\n",
       "    <tr>\n",
       "      <th>91867</th>\n",
       "      <td>1425_279</td>\n",
       "      <td>1425</td>\n",
       "      <td>2018-11-13</td>\n",
       "      <td>621.76</td>\n",
       "    </tr>\n",
       "  </tbody>\n",
       "</table>\n",
       "</div>"
      ],
      "text/plain": [
       "             id  user_id session_date  mb_used\n",
       "91867  1425_279     1425   2018-11-13   621.76"
      ]
     },
     "execution_count": 25,
     "metadata": {},
     "output_type": "execute_result"
    }
   ],
   "source": [
    "# Print a sample of data for the internet traffic\n",
    "internet_df.sample()\n"
   ]
  },
  {
   "cell_type": "markdown",
   "metadata": {},
   "source": [
    "### Summary:\n",
    "session_date is object type but should be datetime. Maintaining object type for id and int64 for user_id. No missing values. Month_year column needs to be added for monthly calculations.  "
   ]
  },
  {
   "cell_type": "markdown",
   "metadata": {},
   "source": [
    " "
   ]
  },
  {
   "cell_type": "markdown",
   "metadata": {},
   "source": [
    "### Fix data"
   ]
  },
  {
   "cell_type": "code",
   "execution_count": 26,
   "metadata": {},
   "outputs": [
    {
     "name": "stdout",
     "output_type": "stream",
     "text": [
      "<class 'pandas.core.frame.DataFrame'>\n",
      "RangeIndex: 104825 entries, 0 to 104824\n",
      "Data columns (total 4 columns):\n",
      " #   Column        Non-Null Count   Dtype         \n",
      "---  ------        --------------   -----         \n",
      " 0   id            104825 non-null  object        \n",
      " 1   user_id       104825 non-null  int64         \n",
      " 2   session_date  104825 non-null  datetime64[ns]\n",
      " 3   mb_used       104825 non-null  float64       \n",
      "dtypes: datetime64[ns](1), float64(1), int64(1), object(1)\n",
      "memory usage: 3.2+ MB\n"
     ]
    }
   ],
   "source": [
    "# to datetime\n",
    "internet_df['session_date'] = pd.to_datetime(internet_df['session_date'])\n",
    "internet_df.info()"
   ]
  },
  {
   "cell_type": "markdown",
   "metadata": {},
   "source": [
    "### Enrich data"
   ]
  },
  {
   "cell_type": "code",
   "execution_count": 27,
   "metadata": {},
   "outputs": [
    {
     "data": {
      "text/html": [
       "<div>\n",
       "<style scoped>\n",
       "    .dataframe tbody tr th:only-of-type {\n",
       "        vertical-align: middle;\n",
       "    }\n",
       "\n",
       "    .dataframe tbody tr th {\n",
       "        vertical-align: top;\n",
       "    }\n",
       "\n",
       "    .dataframe thead th {\n",
       "        text-align: right;\n",
       "    }\n",
       "</style>\n",
       "<table border=\"1\" class=\"dataframe\">\n",
       "  <thead>\n",
       "    <tr style=\"text-align: right;\">\n",
       "      <th></th>\n",
       "      <th>id</th>\n",
       "      <th>user_id</th>\n",
       "      <th>session_date</th>\n",
       "      <th>mb_used</th>\n",
       "      <th>month_year</th>\n",
       "    </tr>\n",
       "  </thead>\n",
       "  <tbody>\n",
       "    <tr>\n",
       "      <th>77533</th>\n",
       "      <td>1362_206</td>\n",
       "      <td>1362</td>\n",
       "      <td>2018-07-09</td>\n",
       "      <td>0.0</td>\n",
       "      <td>2018-07</td>\n",
       "    </tr>\n",
       "  </tbody>\n",
       "</table>\n",
       "</div>"
      ],
      "text/plain": [
       "             id  user_id session_date  mb_used month_year\n",
       "77533  1362_206     1362   2018-07-09      0.0    2018-07"
      ]
     },
     "execution_count": 27,
     "metadata": {},
     "output_type": "execute_result"
    }
   ],
   "source": [
    "# add month_year column\n",
    "internet_df['month_year'] = internet_df['session_date'].dt.to_period('m')\n",
    "internet_df.sample()"
   ]
  },
  {
   "cell_type": "markdown",
   "metadata": {},
   "source": [
    "## Study plan conditions"
   ]
  },
  {
   "cell_type": "code",
   "execution_count": 28,
   "metadata": {},
   "outputs": [],
   "source": [
    "# Print out the plan conditions and make sure they are clear for you\n",
    "\n",
    "# Surf\n",
    "# Monthly charge: $20\n",
    "# 500 monthly minutes, 50 texts, and 15 GB of data\n",
    "# After exceeding the package limits:\n",
    "# 1 minute: 3 cents\n",
    "# 1 text message: 3 cents\n",
    "# 1 GB of data: $10\n",
    "\n",
    "# Ultimate\n",
    "# Monthly charge: $70\n",
    "# 3000 monthly minutes, 1000 text messages, and 30 GB of data\n",
    "# After exceeding the package limits:\n",
    "# 1 minute: 1 cent\n",
    "# 1 text message: 1 cent\n",
    "# 1 GB of data: $7\n"
   ]
  },
  {
   "cell_type": "markdown",
   "metadata": {},
   "source": [
    "# Aggregate data per user"
   ]
  },
  {
   "cell_type": "code",
   "execution_count": 29,
   "metadata": {},
   "outputs": [
    {
     "data": {
      "text/html": [
       "<div>\n",
       "<style scoped>\n",
       "    .dataframe tbody tr th:only-of-type {\n",
       "        vertical-align: middle;\n",
       "    }\n",
       "\n",
       "    .dataframe tbody tr th {\n",
       "        vertical-align: top;\n",
       "    }\n",
       "\n",
       "    .dataframe thead th {\n",
       "        text-align: right;\n",
       "    }\n",
       "</style>\n",
       "<table border=\"1\" class=\"dataframe\">\n",
       "  <thead>\n",
       "    <tr style=\"text-align: right;\">\n",
       "      <th></th>\n",
       "      <th>user_id</th>\n",
       "      <th>month_year</th>\n",
       "      <th>calls_per_m</th>\n",
       "    </tr>\n",
       "  </thead>\n",
       "  <tbody>\n",
       "    <tr>\n",
       "      <th>0</th>\n",
       "      <td>1000</td>\n",
       "      <td>2018-12</td>\n",
       "      <td>16</td>\n",
       "    </tr>\n",
       "    <tr>\n",
       "      <th>1</th>\n",
       "      <td>1001</td>\n",
       "      <td>2018-08</td>\n",
       "      <td>27</td>\n",
       "    </tr>\n",
       "    <tr>\n",
       "      <th>2</th>\n",
       "      <td>1001</td>\n",
       "      <td>2018-09</td>\n",
       "      <td>49</td>\n",
       "    </tr>\n",
       "    <tr>\n",
       "      <th>3</th>\n",
       "      <td>1001</td>\n",
       "      <td>2018-10</td>\n",
       "      <td>65</td>\n",
       "    </tr>\n",
       "    <tr>\n",
       "      <th>4</th>\n",
       "      <td>1001</td>\n",
       "      <td>2018-11</td>\n",
       "      <td>64</td>\n",
       "    </tr>\n",
       "    <tr>\n",
       "      <th>...</th>\n",
       "      <td>...</td>\n",
       "      <td>...</td>\n",
       "      <td>...</td>\n",
       "    </tr>\n",
       "    <tr>\n",
       "      <th>2253</th>\n",
       "      <td>1498</td>\n",
       "      <td>2018-12</td>\n",
       "      <td>39</td>\n",
       "    </tr>\n",
       "    <tr>\n",
       "      <th>2254</th>\n",
       "      <td>1499</td>\n",
       "      <td>2018-09</td>\n",
       "      <td>41</td>\n",
       "    </tr>\n",
       "    <tr>\n",
       "      <th>2255</th>\n",
       "      <td>1499</td>\n",
       "      <td>2018-10</td>\n",
       "      <td>53</td>\n",
       "    </tr>\n",
       "    <tr>\n",
       "      <th>2256</th>\n",
       "      <td>1499</td>\n",
       "      <td>2018-11</td>\n",
       "      <td>45</td>\n",
       "    </tr>\n",
       "    <tr>\n",
       "      <th>2257</th>\n",
       "      <td>1499</td>\n",
       "      <td>2018-12</td>\n",
       "      <td>65</td>\n",
       "    </tr>\n",
       "  </tbody>\n",
       "</table>\n",
       "<p>2258 rows × 3 columns</p>\n",
       "</div>"
      ],
      "text/plain": [
       "      user_id month_year  calls_per_m\n",
       "0        1000    2018-12           16\n",
       "1        1001    2018-08           27\n",
       "2        1001    2018-09           49\n",
       "3        1001    2018-10           65\n",
       "4        1001    2018-11           64\n",
       "...       ...        ...          ...\n",
       "2253     1498    2018-12           39\n",
       "2254     1499    2018-09           41\n",
       "2255     1499    2018-10           53\n",
       "2256     1499    2018-11           45\n",
       "2257     1499    2018-12           65\n",
       "\n",
       "[2258 rows x 3 columns]"
      ]
     },
     "execution_count": 29,
     "metadata": {},
     "output_type": "execute_result"
    }
   ],
   "source": [
    "# Calculate the number of calls made by each user per month. Save the result.\n",
    "calls_per_month = calls_df.groupby(['user_id', 'month_year']).agg(calls_per_m=('id', 'count')).reset_index()\n",
    "calls_per_month\n"
   ]
  },
  {
   "cell_type": "code",
   "execution_count": 30,
   "metadata": {},
   "outputs": [
    {
     "data": {
      "text/html": [
       "<div>\n",
       "<style scoped>\n",
       "    .dataframe tbody tr th:only-of-type {\n",
       "        vertical-align: middle;\n",
       "    }\n",
       "\n",
       "    .dataframe tbody tr th {\n",
       "        vertical-align: top;\n",
       "    }\n",
       "\n",
       "    .dataframe thead th {\n",
       "        text-align: right;\n",
       "    }\n",
       "</style>\n",
       "<table border=\"1\" class=\"dataframe\">\n",
       "  <thead>\n",
       "    <tr style=\"text-align: right;\">\n",
       "      <th></th>\n",
       "      <th>user_id</th>\n",
       "      <th>month_year</th>\n",
       "      <th>minutes_per_m</th>\n",
       "    </tr>\n",
       "  </thead>\n",
       "  <tbody>\n",
       "    <tr>\n",
       "      <th>0</th>\n",
       "      <td>1000</td>\n",
       "      <td>2018-12</td>\n",
       "      <td>124.0</td>\n",
       "    </tr>\n",
       "    <tr>\n",
       "      <th>1</th>\n",
       "      <td>1001</td>\n",
       "      <td>2018-08</td>\n",
       "      <td>182.0</td>\n",
       "    </tr>\n",
       "    <tr>\n",
       "      <th>2</th>\n",
       "      <td>1001</td>\n",
       "      <td>2018-09</td>\n",
       "      <td>315.0</td>\n",
       "    </tr>\n",
       "    <tr>\n",
       "      <th>3</th>\n",
       "      <td>1001</td>\n",
       "      <td>2018-10</td>\n",
       "      <td>393.0</td>\n",
       "    </tr>\n",
       "    <tr>\n",
       "      <th>4</th>\n",
       "      <td>1001</td>\n",
       "      <td>2018-11</td>\n",
       "      <td>426.0</td>\n",
       "    </tr>\n",
       "    <tr>\n",
       "      <th>...</th>\n",
       "      <td>...</td>\n",
       "      <td>...</td>\n",
       "      <td>...</td>\n",
       "    </tr>\n",
       "    <tr>\n",
       "      <th>2253</th>\n",
       "      <td>1498</td>\n",
       "      <td>2018-12</td>\n",
       "      <td>339.0</td>\n",
       "    </tr>\n",
       "    <tr>\n",
       "      <th>2254</th>\n",
       "      <td>1499</td>\n",
       "      <td>2018-09</td>\n",
       "      <td>346.0</td>\n",
       "    </tr>\n",
       "    <tr>\n",
       "      <th>2255</th>\n",
       "      <td>1499</td>\n",
       "      <td>2018-10</td>\n",
       "      <td>385.0</td>\n",
       "    </tr>\n",
       "    <tr>\n",
       "      <th>2256</th>\n",
       "      <td>1499</td>\n",
       "      <td>2018-11</td>\n",
       "      <td>308.0</td>\n",
       "    </tr>\n",
       "    <tr>\n",
       "      <th>2257</th>\n",
       "      <td>1499</td>\n",
       "      <td>2018-12</td>\n",
       "      <td>496.0</td>\n",
       "    </tr>\n",
       "  </tbody>\n",
       "</table>\n",
       "<p>2258 rows × 3 columns</p>\n",
       "</div>"
      ],
      "text/plain": [
       "      user_id month_year  minutes_per_m\n",
       "0        1000    2018-12          124.0\n",
       "1        1001    2018-08          182.0\n",
       "2        1001    2018-09          315.0\n",
       "3        1001    2018-10          393.0\n",
       "4        1001    2018-11          426.0\n",
       "...       ...        ...            ...\n",
       "2253     1498    2018-12          339.0\n",
       "2254     1499    2018-09          346.0\n",
       "2255     1499    2018-10          385.0\n",
       "2256     1499    2018-11          308.0\n",
       "2257     1499    2018-12          496.0\n",
       "\n",
       "[2258 rows x 3 columns]"
      ]
     },
     "execution_count": 30,
     "metadata": {},
     "output_type": "execute_result"
    }
   ],
   "source": [
    "# Calculate the amount of minutes spent by each user per month. Save the result.\n",
    "minutes_per_month = calls_df.groupby(['user_id', 'month_year']).agg(minutes_per_m=('rounded_minutes', 'sum')).reset_index()\n",
    "minutes_per_month\n"
   ]
  },
  {
   "cell_type": "code",
   "execution_count": 31,
   "metadata": {},
   "outputs": [
    {
     "data": {
      "text/html": [
       "<div>\n",
       "<style scoped>\n",
       "    .dataframe tbody tr th:only-of-type {\n",
       "        vertical-align: middle;\n",
       "    }\n",
       "\n",
       "    .dataframe tbody tr th {\n",
       "        vertical-align: top;\n",
       "    }\n",
       "\n",
       "    .dataframe thead th {\n",
       "        text-align: right;\n",
       "    }\n",
       "</style>\n",
       "<table border=\"1\" class=\"dataframe\">\n",
       "  <thead>\n",
       "    <tr style=\"text-align: right;\">\n",
       "      <th></th>\n",
       "      <th>user_id_</th>\n",
       "      <th>month_year_</th>\n",
       "      <th>duration_count</th>\n",
       "      <th>duration_sum</th>\n",
       "    </tr>\n",
       "  </thead>\n",
       "  <tbody>\n",
       "    <tr>\n",
       "      <th>0</th>\n",
       "      <td>1000</td>\n",
       "      <td>2018-12</td>\n",
       "      <td>16</td>\n",
       "      <td>116.83</td>\n",
       "    </tr>\n",
       "    <tr>\n",
       "      <th>1</th>\n",
       "      <td>1001</td>\n",
       "      <td>2018-08</td>\n",
       "      <td>27</td>\n",
       "      <td>171.14</td>\n",
       "    </tr>\n",
       "    <tr>\n",
       "      <th>2</th>\n",
       "      <td>1001</td>\n",
       "      <td>2018-09</td>\n",
       "      <td>49</td>\n",
       "      <td>297.69</td>\n",
       "    </tr>\n",
       "    <tr>\n",
       "      <th>3</th>\n",
       "      <td>1001</td>\n",
       "      <td>2018-10</td>\n",
       "      <td>65</td>\n",
       "      <td>374.11</td>\n",
       "    </tr>\n",
       "    <tr>\n",
       "      <th>4</th>\n",
       "      <td>1001</td>\n",
       "      <td>2018-11</td>\n",
       "      <td>64</td>\n",
       "      <td>404.59</td>\n",
       "    </tr>\n",
       "    <tr>\n",
       "      <th>...</th>\n",
       "      <td>...</td>\n",
       "      <td>...</td>\n",
       "      <td>...</td>\n",
       "      <td>...</td>\n",
       "    </tr>\n",
       "    <tr>\n",
       "      <th>2253</th>\n",
       "      <td>1498</td>\n",
       "      <td>2018-12</td>\n",
       "      <td>39</td>\n",
       "      <td>324.77</td>\n",
       "    </tr>\n",
       "    <tr>\n",
       "      <th>2254</th>\n",
       "      <td>1499</td>\n",
       "      <td>2018-09</td>\n",
       "      <td>41</td>\n",
       "      <td>330.37</td>\n",
       "    </tr>\n",
       "    <tr>\n",
       "      <th>2255</th>\n",
       "      <td>1499</td>\n",
       "      <td>2018-10</td>\n",
       "      <td>53</td>\n",
       "      <td>363.28</td>\n",
       "    </tr>\n",
       "    <tr>\n",
       "      <th>2256</th>\n",
       "      <td>1499</td>\n",
       "      <td>2018-11</td>\n",
       "      <td>45</td>\n",
       "      <td>288.56</td>\n",
       "    </tr>\n",
       "    <tr>\n",
       "      <th>2257</th>\n",
       "      <td>1499</td>\n",
       "      <td>2018-12</td>\n",
       "      <td>65</td>\n",
       "      <td>468.10</td>\n",
       "    </tr>\n",
       "  </tbody>\n",
       "</table>\n",
       "<p>2258 rows × 4 columns</p>\n",
       "</div>"
      ],
      "text/plain": [
       "      user_id_ month_year_  duration_count  duration_sum\n",
       "0         1000     2018-12              16        116.83\n",
       "1         1001     2018-08              27        171.14\n",
       "2         1001     2018-09              49        297.69\n",
       "3         1001     2018-10              65        374.11\n",
       "4         1001     2018-11              64        404.59\n",
       "...        ...         ...             ...           ...\n",
       "2253      1498     2018-12              39        324.77\n",
       "2254      1499     2018-09              41        330.37\n",
       "2255      1499     2018-10              53        363.28\n",
       "2256      1499     2018-11              45        288.56\n",
       "2257      1499     2018-12              65        468.10\n",
       "\n",
       "[2258 rows x 4 columns]"
      ]
     },
     "execution_count": 31,
     "metadata": {},
     "output_type": "execute_result"
    }
   ],
   "source": [
    "# Group by and aggregate\n",
    "result = calls_df.groupby(['user_id', 'month_year']).agg({'duration': ['count', 'sum']}).reset_index()\n",
    "\n",
    "# Flatten the MultiIndex in columns\n",
    "result.columns = ['_'.join(col).strip() if type(col) is tuple else col for col in result.columns.values]\n",
    "result\n",
    "\n",
    "## Interesting THANK YOU"
   ]
  },
  {
   "cell_type": "code",
   "execution_count": 32,
   "metadata": {},
   "outputs": [
    {
     "data": {
      "text/html": [
       "<div>\n",
       "<style scoped>\n",
       "    .dataframe tbody tr th:only-of-type {\n",
       "        vertical-align: middle;\n",
       "    }\n",
       "\n",
       "    .dataframe tbody tr th {\n",
       "        vertical-align: top;\n",
       "    }\n",
       "\n",
       "    .dataframe thead th {\n",
       "        text-align: right;\n",
       "    }\n",
       "</style>\n",
       "<table border=\"1\" class=\"dataframe\">\n",
       "  <thead>\n",
       "    <tr style=\"text-align: right;\">\n",
       "      <th></th>\n",
       "      <th>user_id</th>\n",
       "      <th>month_year</th>\n",
       "      <th>messages_per_m</th>\n",
       "    </tr>\n",
       "  </thead>\n",
       "  <tbody>\n",
       "    <tr>\n",
       "      <th>0</th>\n",
       "      <td>1000</td>\n",
       "      <td>2018-12</td>\n",
       "      <td>11</td>\n",
       "    </tr>\n",
       "    <tr>\n",
       "      <th>1</th>\n",
       "      <td>1001</td>\n",
       "      <td>2018-08</td>\n",
       "      <td>30</td>\n",
       "    </tr>\n",
       "    <tr>\n",
       "      <th>2</th>\n",
       "      <td>1001</td>\n",
       "      <td>2018-09</td>\n",
       "      <td>44</td>\n",
       "    </tr>\n",
       "    <tr>\n",
       "      <th>3</th>\n",
       "      <td>1001</td>\n",
       "      <td>2018-10</td>\n",
       "      <td>53</td>\n",
       "    </tr>\n",
       "    <tr>\n",
       "      <th>4</th>\n",
       "      <td>1001</td>\n",
       "      <td>2018-11</td>\n",
       "      <td>36</td>\n",
       "    </tr>\n",
       "    <tr>\n",
       "      <th>...</th>\n",
       "      <td>...</td>\n",
       "      <td>...</td>\n",
       "      <td>...</td>\n",
       "    </tr>\n",
       "    <tr>\n",
       "      <th>1801</th>\n",
       "      <td>1496</td>\n",
       "      <td>2018-09</td>\n",
       "      <td>21</td>\n",
       "    </tr>\n",
       "    <tr>\n",
       "      <th>1802</th>\n",
       "      <td>1496</td>\n",
       "      <td>2018-10</td>\n",
       "      <td>18</td>\n",
       "    </tr>\n",
       "    <tr>\n",
       "      <th>1803</th>\n",
       "      <td>1496</td>\n",
       "      <td>2018-11</td>\n",
       "      <td>13</td>\n",
       "    </tr>\n",
       "    <tr>\n",
       "      <th>1804</th>\n",
       "      <td>1496</td>\n",
       "      <td>2018-12</td>\n",
       "      <td>11</td>\n",
       "    </tr>\n",
       "    <tr>\n",
       "      <th>1805</th>\n",
       "      <td>1497</td>\n",
       "      <td>2018-12</td>\n",
       "      <td>50</td>\n",
       "    </tr>\n",
       "  </tbody>\n",
       "</table>\n",
       "<p>1806 rows × 3 columns</p>\n",
       "</div>"
      ],
      "text/plain": [
       "      user_id month_year  messages_per_m\n",
       "0        1000    2018-12              11\n",
       "1        1001    2018-08              30\n",
       "2        1001    2018-09              44\n",
       "3        1001    2018-10              53\n",
       "4        1001    2018-11              36\n",
       "...       ...        ...             ...\n",
       "1801     1496    2018-09              21\n",
       "1802     1496    2018-10              18\n",
       "1803     1496    2018-11              13\n",
       "1804     1496    2018-12              11\n",
       "1805     1497    2018-12              50\n",
       "\n",
       "[1806 rows x 3 columns]"
      ]
     },
     "execution_count": 32,
     "metadata": {},
     "output_type": "execute_result"
    }
   ],
   "source": [
    "# Calculate the number of messages sent by each user per month. Save the result.\n",
    "messages_per_month = messages_df.groupby(['user_id', 'month_year']).agg(messages_per_m=('month_year', 'count')).reset_index()\n",
    "messages_per_month\n"
   ]
  },
  {
   "cell_type": "code",
   "execution_count": 33,
   "metadata": {},
   "outputs": [
    {
     "data": {
      "text/html": [
       "<div>\n",
       "<style scoped>\n",
       "    .dataframe tbody tr th:only-of-type {\n",
       "        vertical-align: middle;\n",
       "    }\n",
       "\n",
       "    .dataframe tbody tr th {\n",
       "        vertical-align: top;\n",
       "    }\n",
       "\n",
       "    .dataframe thead th {\n",
       "        text-align: right;\n",
       "    }\n",
       "</style>\n",
       "<table border=\"1\" class=\"dataframe\">\n",
       "  <thead>\n",
       "    <tr style=\"text-align: right;\">\n",
       "      <th></th>\n",
       "      <th>user_id</th>\n",
       "      <th>month_year</th>\n",
       "      <th>mb_used_per_month</th>\n",
       "      <th>gb_used_per_month</th>\n",
       "    </tr>\n",
       "  </thead>\n",
       "  <tbody>\n",
       "    <tr>\n",
       "      <th>0</th>\n",
       "      <td>1000</td>\n",
       "      <td>2018-12</td>\n",
       "      <td>1901.47</td>\n",
       "      <td>2.0</td>\n",
       "    </tr>\n",
       "    <tr>\n",
       "      <th>1</th>\n",
       "      <td>1001</td>\n",
       "      <td>2018-08</td>\n",
       "      <td>6919.15</td>\n",
       "      <td>7.0</td>\n",
       "    </tr>\n",
       "    <tr>\n",
       "      <th>2</th>\n",
       "      <td>1001</td>\n",
       "      <td>2018-09</td>\n",
       "      <td>13314.82</td>\n",
       "      <td>14.0</td>\n",
       "    </tr>\n",
       "    <tr>\n",
       "      <th>3</th>\n",
       "      <td>1001</td>\n",
       "      <td>2018-10</td>\n",
       "      <td>22330.49</td>\n",
       "      <td>23.0</td>\n",
       "    </tr>\n",
       "    <tr>\n",
       "      <th>4</th>\n",
       "      <td>1001</td>\n",
       "      <td>2018-11</td>\n",
       "      <td>18504.30</td>\n",
       "      <td>19.0</td>\n",
       "    </tr>\n",
       "    <tr>\n",
       "      <th>...</th>\n",
       "      <td>...</td>\n",
       "      <td>...</td>\n",
       "      <td>...</td>\n",
       "      <td>...</td>\n",
       "    </tr>\n",
       "    <tr>\n",
       "      <th>2272</th>\n",
       "      <td>1498</td>\n",
       "      <td>2018-12</td>\n",
       "      <td>23137.69</td>\n",
       "      <td>24.0</td>\n",
       "    </tr>\n",
       "    <tr>\n",
       "      <th>2273</th>\n",
       "      <td>1499</td>\n",
       "      <td>2018-09</td>\n",
       "      <td>12984.76</td>\n",
       "      <td>13.0</td>\n",
       "    </tr>\n",
       "    <tr>\n",
       "      <th>2274</th>\n",
       "      <td>1499</td>\n",
       "      <td>2018-10</td>\n",
       "      <td>19492.43</td>\n",
       "      <td>20.0</td>\n",
       "    </tr>\n",
       "    <tr>\n",
       "      <th>2275</th>\n",
       "      <td>1499</td>\n",
       "      <td>2018-11</td>\n",
       "      <td>16813.83</td>\n",
       "      <td>17.0</td>\n",
       "    </tr>\n",
       "    <tr>\n",
       "      <th>2276</th>\n",
       "      <td>1499</td>\n",
       "      <td>2018-12</td>\n",
       "      <td>22059.21</td>\n",
       "      <td>23.0</td>\n",
       "    </tr>\n",
       "  </tbody>\n",
       "</table>\n",
       "<p>2277 rows × 4 columns</p>\n",
       "</div>"
      ],
      "text/plain": [
       "      user_id month_year  mb_used_per_month  gb_used_per_month\n",
       "0        1000    2018-12            1901.47                2.0\n",
       "1        1001    2018-08            6919.15                7.0\n",
       "2        1001    2018-09           13314.82               14.0\n",
       "3        1001    2018-10           22330.49               23.0\n",
       "4        1001    2018-11           18504.30               19.0\n",
       "...       ...        ...                ...                ...\n",
       "2272     1498    2018-12           23137.69               24.0\n",
       "2273     1499    2018-09           12984.76               13.0\n",
       "2274     1499    2018-10           19492.43               20.0\n",
       "2275     1499    2018-11           16813.83               17.0\n",
       "2276     1499    2018-12           22059.21               23.0\n",
       "\n",
       "[2277 rows x 4 columns]"
      ]
     },
     "execution_count": 33,
     "metadata": {},
     "output_type": "execute_result"
    }
   ],
   "source": [
    "# Calculate the volume of internet traffic used by each user per month. Save the result.\n",
    "volume_per_month = internet_df.groupby(['user_id', 'month_year']).agg(mb_used_per_month=('mb_used', 'sum')).reset_index()\n",
    "volume_per_month\n",
    "\n",
    "# added gb used per month column and used ceil() for rounding up\n",
    "volume_per_month['gb_used_per_month'] = np.ceil(volume_per_month['mb_used_per_month'] / 1000)\n",
    "volume_per_month\n"
   ]
  },
  {
   "cell_type": "code",
   "execution_count": 34,
   "metadata": {},
   "outputs": [
    {
     "data": {
      "text/html": [
       "<div>\n",
       "<style scoped>\n",
       "    .dataframe tbody tr th:only-of-type {\n",
       "        vertical-align: middle;\n",
       "    }\n",
       "\n",
       "    .dataframe tbody tr th {\n",
       "        vertical-align: top;\n",
       "    }\n",
       "\n",
       "    .dataframe thead th {\n",
       "        text-align: right;\n",
       "    }\n",
       "</style>\n",
       "<table border=\"1\" class=\"dataframe\">\n",
       "  <thead>\n",
       "    <tr style=\"text-align: right;\">\n",
       "      <th></th>\n",
       "      <th>user_id</th>\n",
       "      <th>month_year</th>\n",
       "      <th>calls_per_m</th>\n",
       "      <th>messages_per_m</th>\n",
       "      <th>mb_used_per_month</th>\n",
       "      <th>gb_used_per_month</th>\n",
       "      <th>minutes_per_m</th>\n",
       "      <th>plan</th>\n",
       "      <th>churn_month_year</th>\n",
       "      <th>city</th>\n",
       "    </tr>\n",
       "  </thead>\n",
       "  <tbody>\n",
       "    <tr>\n",
       "      <th>0</th>\n",
       "      <td>1000</td>\n",
       "      <td>2018-12</td>\n",
       "      <td>16.0</td>\n",
       "      <td>11.0</td>\n",
       "      <td>1901.47</td>\n",
       "      <td>2.0</td>\n",
       "      <td>124.0</td>\n",
       "      <td>ultimate</td>\n",
       "      <td>NaT</td>\n",
       "      <td>atlanta-sandy springs-roswell, ga msa</td>\n",
       "    </tr>\n",
       "    <tr>\n",
       "      <th>1</th>\n",
       "      <td>1001</td>\n",
       "      <td>2018-08</td>\n",
       "      <td>27.0</td>\n",
       "      <td>30.0</td>\n",
       "      <td>6919.15</td>\n",
       "      <td>7.0</td>\n",
       "      <td>182.0</td>\n",
       "      <td>surf</td>\n",
       "      <td>NaT</td>\n",
       "      <td>seattle-tacoma-bellevue, wa msa</td>\n",
       "    </tr>\n",
       "    <tr>\n",
       "      <th>2</th>\n",
       "      <td>1001</td>\n",
       "      <td>2018-09</td>\n",
       "      <td>49.0</td>\n",
       "      <td>44.0</td>\n",
       "      <td>13314.82</td>\n",
       "      <td>14.0</td>\n",
       "      <td>315.0</td>\n",
       "      <td>surf</td>\n",
       "      <td>NaT</td>\n",
       "      <td>seattle-tacoma-bellevue, wa msa</td>\n",
       "    </tr>\n",
       "    <tr>\n",
       "      <th>3</th>\n",
       "      <td>1001</td>\n",
       "      <td>2018-10</td>\n",
       "      <td>65.0</td>\n",
       "      <td>53.0</td>\n",
       "      <td>22330.49</td>\n",
       "      <td>23.0</td>\n",
       "      <td>393.0</td>\n",
       "      <td>surf</td>\n",
       "      <td>NaT</td>\n",
       "      <td>seattle-tacoma-bellevue, wa msa</td>\n",
       "    </tr>\n",
       "    <tr>\n",
       "      <th>4</th>\n",
       "      <td>1001</td>\n",
       "      <td>2018-11</td>\n",
       "      <td>64.0</td>\n",
       "      <td>36.0</td>\n",
       "      <td>18504.30</td>\n",
       "      <td>19.0</td>\n",
       "      <td>426.0</td>\n",
       "      <td>surf</td>\n",
       "      <td>NaT</td>\n",
       "      <td>seattle-tacoma-bellevue, wa msa</td>\n",
       "    </tr>\n",
       "    <tr>\n",
       "      <th>...</th>\n",
       "      <td>...</td>\n",
       "      <td>...</td>\n",
       "      <td>...</td>\n",
       "      <td>...</td>\n",
       "      <td>...</td>\n",
       "      <td>...</td>\n",
       "      <td>...</td>\n",
       "      <td>...</td>\n",
       "      <td>...</td>\n",
       "      <td>...</td>\n",
       "    </tr>\n",
       "    <tr>\n",
       "      <th>2298</th>\n",
       "      <td>1307</td>\n",
       "      <td>NaT</td>\n",
       "      <td>NaN</td>\n",
       "      <td>NaN</td>\n",
       "      <td>NaN</td>\n",
       "      <td>NaN</td>\n",
       "      <td>NaN</td>\n",
       "      <td>surf</td>\n",
       "      <td>NaT</td>\n",
       "      <td>boston-cambridge-newton, ma-nh msa</td>\n",
       "    </tr>\n",
       "    <tr>\n",
       "      <th>2299</th>\n",
       "      <td>1319</td>\n",
       "      <td>NaT</td>\n",
       "      <td>NaN</td>\n",
       "      <td>NaN</td>\n",
       "      <td>NaN</td>\n",
       "      <td>NaN</td>\n",
       "      <td>NaN</td>\n",
       "      <td>surf</td>\n",
       "      <td>NaT</td>\n",
       "      <td>colorado springs, co msa</td>\n",
       "    </tr>\n",
       "    <tr>\n",
       "      <th>2300</th>\n",
       "      <td>1378</td>\n",
       "      <td>NaT</td>\n",
       "      <td>NaN</td>\n",
       "      <td>NaN</td>\n",
       "      <td>NaN</td>\n",
       "      <td>NaN</td>\n",
       "      <td>NaN</td>\n",
       "      <td>surf</td>\n",
       "      <td>NaT</td>\n",
       "      <td>denver-aurora-lakewood, co msa</td>\n",
       "    </tr>\n",
       "    <tr>\n",
       "      <th>2301</th>\n",
       "      <td>1463</td>\n",
       "      <td>NaT</td>\n",
       "      <td>NaN</td>\n",
       "      <td>NaN</td>\n",
       "      <td>NaN</td>\n",
       "      <td>NaN</td>\n",
       "      <td>NaN</td>\n",
       "      <td>ultimate</td>\n",
       "      <td>NaT</td>\n",
       "      <td>atlanta-sandy springs-roswell, ga msa</td>\n",
       "    </tr>\n",
       "    <tr>\n",
       "      <th>2302</th>\n",
       "      <td>1473</td>\n",
       "      <td>NaT</td>\n",
       "      <td>NaN</td>\n",
       "      <td>NaN</td>\n",
       "      <td>NaN</td>\n",
       "      <td>NaN</td>\n",
       "      <td>NaN</td>\n",
       "      <td>surf</td>\n",
       "      <td>NaT</td>\n",
       "      <td>louisville/jefferson county, ky-in msa</td>\n",
       "    </tr>\n",
       "  </tbody>\n",
       "</table>\n",
       "<p>2303 rows × 10 columns</p>\n",
       "</div>"
      ],
      "text/plain": [
       "      user_id month_year  calls_per_m  messages_per_m  mb_used_per_month  \\\n",
       "0        1000    2018-12         16.0            11.0            1901.47   \n",
       "1        1001    2018-08         27.0            30.0            6919.15   \n",
       "2        1001    2018-09         49.0            44.0           13314.82   \n",
       "3        1001    2018-10         65.0            53.0           22330.49   \n",
       "4        1001    2018-11         64.0            36.0           18504.30   \n",
       "...       ...        ...          ...             ...                ...   \n",
       "2298     1307        NaT          NaN             NaN                NaN   \n",
       "2299     1319        NaT          NaN             NaN                NaN   \n",
       "2300     1378        NaT          NaN             NaN                NaN   \n",
       "2301     1463        NaT          NaN             NaN                NaN   \n",
       "2302     1473        NaT          NaN             NaN                NaN   \n",
       "\n",
       "      gb_used_per_month  minutes_per_m      plan churn_month_year  \\\n",
       "0                   2.0          124.0  ultimate              NaT   \n",
       "1                   7.0          182.0      surf              NaT   \n",
       "2                  14.0          315.0      surf              NaT   \n",
       "3                  23.0          393.0      surf              NaT   \n",
       "4                  19.0          426.0      surf              NaT   \n",
       "...                 ...            ...       ...              ...   \n",
       "2298                NaN            NaN      surf              NaT   \n",
       "2299                NaN            NaN      surf              NaT   \n",
       "2300                NaN            NaN      surf              NaT   \n",
       "2301                NaN            NaN  ultimate              NaT   \n",
       "2302                NaN            NaN      surf              NaT   \n",
       "\n",
       "                                        city  \n",
       "0      atlanta-sandy springs-roswell, ga msa  \n",
       "1            seattle-tacoma-bellevue, wa msa  \n",
       "2            seattle-tacoma-bellevue, wa msa  \n",
       "3            seattle-tacoma-bellevue, wa msa  \n",
       "4            seattle-tacoma-bellevue, wa msa  \n",
       "...                                      ...  \n",
       "2298      boston-cambridge-newton, ma-nh msa  \n",
       "2299                colorado springs, co msa  \n",
       "2300          denver-aurora-lakewood, co msa  \n",
       "2301   atlanta-sandy springs-roswell, ga msa  \n",
       "2302  louisville/jefferson county, ky-in msa  \n",
       "\n",
       "[2303 rows x 10 columns]"
      ]
     },
     "execution_count": 34,
     "metadata": {},
     "output_type": "execute_result"
    }
   ],
   "source": [
    "# Merge the data for calls, minutes, messages, internet based on user_id and month\n",
    "merged_data = pd.merge(calls_per_month, messages_per_month, on=['user_id', 'month_year'], how='outer')\n",
    "merged_data = pd.merge(merged_data, volume_per_month, on=['user_id', 'month_year'], how='outer')\n",
    "merged_data = pd.merge(merged_data, minutes_per_month, on=['user_id', 'month_year'], how='outer')\n",
    "merged_data = pd.merge(merged_data, users_df[['user_id', 'plan']], on=['user_id'], how='outer')\n",
    "merged_data = pd.merge(merged_data, users_df[['user_id', 'churn_month_year']], on=['user_id'], how='outer')\n",
    "merged_data = pd.merge(merged_data, users_df[['user_id', 'city']], on=['user_id'], how='outer')\n",
    "merged_data"
   ]
  },
  {
   "cell_type": "code",
   "execution_count": 35,
   "metadata": {},
   "outputs": [
    {
     "data": {
      "text/html": [
       "<div>\n",
       "<style scoped>\n",
       "    .dataframe tbody tr th:only-of-type {\n",
       "        vertical-align: middle;\n",
       "    }\n",
       "\n",
       "    .dataframe tbody tr th {\n",
       "        vertical-align: top;\n",
       "    }\n",
       "\n",
       "    .dataframe thead th {\n",
       "        text-align: right;\n",
       "    }\n",
       "</style>\n",
       "<table border=\"1\" class=\"dataframe\">\n",
       "  <thead>\n",
       "    <tr style=\"text-align: right;\">\n",
       "      <th></th>\n",
       "      <th>user_id</th>\n",
       "      <th>month_year</th>\n",
       "      <th>calls_per_m</th>\n",
       "      <th>messages_per_m</th>\n",
       "      <th>mb_used_per_month</th>\n",
       "      <th>gb_used_per_month</th>\n",
       "      <th>minutes_per_m</th>\n",
       "      <th>plan</th>\n",
       "      <th>churn_month_year</th>\n",
       "      <th>city</th>\n",
       "    </tr>\n",
       "  </thead>\n",
       "  <tbody>\n",
       "    <tr>\n",
       "      <th>2293</th>\n",
       "      <td>1025</td>\n",
       "      <td>NaT</td>\n",
       "      <td>NaN</td>\n",
       "      <td>NaN</td>\n",
       "      <td>NaN</td>\n",
       "      <td>NaN</td>\n",
       "      <td>NaN</td>\n",
       "      <td>ultimate</td>\n",
       "      <td>NaT</td>\n",
       "      <td>atlanta-sandy springs-roswell, ga msa</td>\n",
       "    </tr>\n",
       "    <tr>\n",
       "      <th>2294</th>\n",
       "      <td>1129</td>\n",
       "      <td>NaT</td>\n",
       "      <td>NaN</td>\n",
       "      <td>NaN</td>\n",
       "      <td>NaN</td>\n",
       "      <td>NaN</td>\n",
       "      <td>NaN</td>\n",
       "      <td>surf</td>\n",
       "      <td>2018-12</td>\n",
       "      <td>baton rouge, la msa</td>\n",
       "    </tr>\n",
       "    <tr>\n",
       "      <th>2295</th>\n",
       "      <td>1143</td>\n",
       "      <td>NaT</td>\n",
       "      <td>NaN</td>\n",
       "      <td>NaN</td>\n",
       "      <td>NaN</td>\n",
       "      <td>NaN</td>\n",
       "      <td>NaN</td>\n",
       "      <td>surf</td>\n",
       "      <td>NaT</td>\n",
       "      <td>cincinnati, oh-ky-in msa</td>\n",
       "    </tr>\n",
       "    <tr>\n",
       "      <th>2296</th>\n",
       "      <td>1269</td>\n",
       "      <td>NaT</td>\n",
       "      <td>NaN</td>\n",
       "      <td>NaN</td>\n",
       "      <td>NaN</td>\n",
       "      <td>NaN</td>\n",
       "      <td>NaN</td>\n",
       "      <td>ultimate</td>\n",
       "      <td>2018-12</td>\n",
       "      <td>dallas-fort worth-arlington, tx msa</td>\n",
       "    </tr>\n",
       "    <tr>\n",
       "      <th>2297</th>\n",
       "      <td>1275</td>\n",
       "      <td>NaT</td>\n",
       "      <td>NaN</td>\n",
       "      <td>NaN</td>\n",
       "      <td>NaN</td>\n",
       "      <td>NaN</td>\n",
       "      <td>NaN</td>\n",
       "      <td>ultimate</td>\n",
       "      <td>NaT</td>\n",
       "      <td>new york-newark-jersey city, ny-nj-pa msa</td>\n",
       "    </tr>\n",
       "    <tr>\n",
       "      <th>2298</th>\n",
       "      <td>1307</td>\n",
       "      <td>NaT</td>\n",
       "      <td>NaN</td>\n",
       "      <td>NaN</td>\n",
       "      <td>NaN</td>\n",
       "      <td>NaN</td>\n",
       "      <td>NaN</td>\n",
       "      <td>surf</td>\n",
       "      <td>NaT</td>\n",
       "      <td>boston-cambridge-newton, ma-nh msa</td>\n",
       "    </tr>\n",
       "    <tr>\n",
       "      <th>2299</th>\n",
       "      <td>1319</td>\n",
       "      <td>NaT</td>\n",
       "      <td>NaN</td>\n",
       "      <td>NaN</td>\n",
       "      <td>NaN</td>\n",
       "      <td>NaN</td>\n",
       "      <td>NaN</td>\n",
       "      <td>surf</td>\n",
       "      <td>NaT</td>\n",
       "      <td>colorado springs, co msa</td>\n",
       "    </tr>\n",
       "    <tr>\n",
       "      <th>2300</th>\n",
       "      <td>1378</td>\n",
       "      <td>NaT</td>\n",
       "      <td>NaN</td>\n",
       "      <td>NaN</td>\n",
       "      <td>NaN</td>\n",
       "      <td>NaN</td>\n",
       "      <td>NaN</td>\n",
       "      <td>surf</td>\n",
       "      <td>NaT</td>\n",
       "      <td>denver-aurora-lakewood, co msa</td>\n",
       "    </tr>\n",
       "    <tr>\n",
       "      <th>2301</th>\n",
       "      <td>1463</td>\n",
       "      <td>NaT</td>\n",
       "      <td>NaN</td>\n",
       "      <td>NaN</td>\n",
       "      <td>NaN</td>\n",
       "      <td>NaN</td>\n",
       "      <td>NaN</td>\n",
       "      <td>ultimate</td>\n",
       "      <td>NaT</td>\n",
       "      <td>atlanta-sandy springs-roswell, ga msa</td>\n",
       "    </tr>\n",
       "    <tr>\n",
       "      <th>2302</th>\n",
       "      <td>1473</td>\n",
       "      <td>NaT</td>\n",
       "      <td>NaN</td>\n",
       "      <td>NaN</td>\n",
       "      <td>NaN</td>\n",
       "      <td>NaN</td>\n",
       "      <td>NaN</td>\n",
       "      <td>surf</td>\n",
       "      <td>NaT</td>\n",
       "      <td>louisville/jefferson county, ky-in msa</td>\n",
       "    </tr>\n",
       "  </tbody>\n",
       "</table>\n",
       "</div>"
      ],
      "text/plain": [
       "      user_id month_year  calls_per_m  messages_per_m  mb_used_per_month  \\\n",
       "2293     1025        NaT          NaN             NaN                NaN   \n",
       "2294     1129        NaT          NaN             NaN                NaN   \n",
       "2295     1143        NaT          NaN             NaN                NaN   \n",
       "2296     1269        NaT          NaN             NaN                NaN   \n",
       "2297     1275        NaT          NaN             NaN                NaN   \n",
       "2298     1307        NaT          NaN             NaN                NaN   \n",
       "2299     1319        NaT          NaN             NaN                NaN   \n",
       "2300     1378        NaT          NaN             NaN                NaN   \n",
       "2301     1463        NaT          NaN             NaN                NaN   \n",
       "2302     1473        NaT          NaN             NaN                NaN   \n",
       "\n",
       "      gb_used_per_month  minutes_per_m      plan churn_month_year  \\\n",
       "2293                NaN            NaN  ultimate              NaT   \n",
       "2294                NaN            NaN      surf          2018-12   \n",
       "2295                NaN            NaN      surf              NaT   \n",
       "2296                NaN            NaN  ultimate          2018-12   \n",
       "2297                NaN            NaN  ultimate              NaT   \n",
       "2298                NaN            NaN      surf              NaT   \n",
       "2299                NaN            NaN      surf              NaT   \n",
       "2300                NaN            NaN      surf              NaT   \n",
       "2301                NaN            NaN  ultimate              NaT   \n",
       "2302                NaN            NaN      surf              NaT   \n",
       "\n",
       "                                           city  \n",
       "2293      atlanta-sandy springs-roswell, ga msa  \n",
       "2294                        baton rouge, la msa  \n",
       "2295                   cincinnati, oh-ky-in msa  \n",
       "2296        dallas-fort worth-arlington, tx msa  \n",
       "2297  new york-newark-jersey city, ny-nj-pa msa  \n",
       "2298         boston-cambridge-newton, ma-nh msa  \n",
       "2299                   colorado springs, co msa  \n",
       "2300             denver-aurora-lakewood, co msa  \n",
       "2301      atlanta-sandy springs-roswell, ga msa  \n",
       "2302     louisville/jefferson county, ky-in msa  "
      ]
     },
     "execution_count": 35,
     "metadata": {},
     "output_type": "execute_result"
    }
   ],
   "source": [
    "# check for monthyear missing values\n",
    "check = merged_data[merged_data['month_year'].isna()]\n",
    "check"
   ]
  },
  {
   "cell_type": "code",
   "execution_count": 36,
   "metadata": {},
   "outputs": [
    {
     "data": {
      "text/html": [
       "<div>\n",
       "<style scoped>\n",
       "    .dataframe tbody tr th:only-of-type {\n",
       "        vertical-align: middle;\n",
       "    }\n",
       "\n",
       "    .dataframe tbody tr th {\n",
       "        vertical-align: top;\n",
       "    }\n",
       "\n",
       "    .dataframe thead th {\n",
       "        text-align: right;\n",
       "    }\n",
       "</style>\n",
       "<table border=\"1\" class=\"dataframe\">\n",
       "  <thead>\n",
       "    <tr style=\"text-align: right;\">\n",
       "      <th></th>\n",
       "      <th>user_id</th>\n",
       "      <th>month_year</th>\n",
       "      <th>calls_per_m</th>\n",
       "      <th>messages_per_m</th>\n",
       "      <th>mb_used_per_month</th>\n",
       "      <th>gb_used_per_month</th>\n",
       "      <th>minutes_per_m</th>\n",
       "      <th>plan</th>\n",
       "      <th>churn_month_year</th>\n",
       "      <th>city</th>\n",
       "    </tr>\n",
       "  </thead>\n",
       "  <tbody>\n",
       "    <tr>\n",
       "      <th>0</th>\n",
       "      <td>1000</td>\n",
       "      <td>2018-12</td>\n",
       "      <td>16.0</td>\n",
       "      <td>11.0</td>\n",
       "      <td>1901.47</td>\n",
       "      <td>2.0</td>\n",
       "      <td>124.0</td>\n",
       "      <td>ultimate</td>\n",
       "      <td>NaT</td>\n",
       "      <td>atlanta-sandy springs-roswell, ga msa</td>\n",
       "    </tr>\n",
       "    <tr>\n",
       "      <th>1</th>\n",
       "      <td>1001</td>\n",
       "      <td>2018-08</td>\n",
       "      <td>27.0</td>\n",
       "      <td>30.0</td>\n",
       "      <td>6919.15</td>\n",
       "      <td>7.0</td>\n",
       "      <td>182.0</td>\n",
       "      <td>surf</td>\n",
       "      <td>NaT</td>\n",
       "      <td>seattle-tacoma-bellevue, wa msa</td>\n",
       "    </tr>\n",
       "    <tr>\n",
       "      <th>2</th>\n",
       "      <td>1001</td>\n",
       "      <td>2018-09</td>\n",
       "      <td>49.0</td>\n",
       "      <td>44.0</td>\n",
       "      <td>13314.82</td>\n",
       "      <td>14.0</td>\n",
       "      <td>315.0</td>\n",
       "      <td>surf</td>\n",
       "      <td>NaT</td>\n",
       "      <td>seattle-tacoma-bellevue, wa msa</td>\n",
       "    </tr>\n",
       "    <tr>\n",
       "      <th>3</th>\n",
       "      <td>1001</td>\n",
       "      <td>2018-10</td>\n",
       "      <td>65.0</td>\n",
       "      <td>53.0</td>\n",
       "      <td>22330.49</td>\n",
       "      <td>23.0</td>\n",
       "      <td>393.0</td>\n",
       "      <td>surf</td>\n",
       "      <td>NaT</td>\n",
       "      <td>seattle-tacoma-bellevue, wa msa</td>\n",
       "    </tr>\n",
       "    <tr>\n",
       "      <th>4</th>\n",
       "      <td>1001</td>\n",
       "      <td>2018-11</td>\n",
       "      <td>64.0</td>\n",
       "      <td>36.0</td>\n",
       "      <td>18504.30</td>\n",
       "      <td>19.0</td>\n",
       "      <td>426.0</td>\n",
       "      <td>surf</td>\n",
       "      <td>NaT</td>\n",
       "      <td>seattle-tacoma-bellevue, wa msa</td>\n",
       "    </tr>\n",
       "    <tr>\n",
       "      <th>...</th>\n",
       "      <td>...</td>\n",
       "      <td>...</td>\n",
       "      <td>...</td>\n",
       "      <td>...</td>\n",
       "      <td>...</td>\n",
       "      <td>...</td>\n",
       "      <td>...</td>\n",
       "      <td>...</td>\n",
       "      <td>...</td>\n",
       "      <td>...</td>\n",
       "    </tr>\n",
       "    <tr>\n",
       "      <th>2288</th>\n",
       "      <td>1204</td>\n",
       "      <td>2018-12</td>\n",
       "      <td>NaN</td>\n",
       "      <td>78.0</td>\n",
       "      <td>36730.05</td>\n",
       "      <td>37.0</td>\n",
       "      <td>NaN</td>\n",
       "      <td>ultimate</td>\n",
       "      <td>NaT</td>\n",
       "      <td>chicago-naperville-elgin, il-in-wi msa</td>\n",
       "    </tr>\n",
       "    <tr>\n",
       "      <th>2289</th>\n",
       "      <td>1349</td>\n",
       "      <td>2018-10</td>\n",
       "      <td>NaN</td>\n",
       "      <td>76.0</td>\n",
       "      <td>13093.55</td>\n",
       "      <td>14.0</td>\n",
       "      <td>NaN</td>\n",
       "      <td>surf</td>\n",
       "      <td>NaT</td>\n",
       "      <td>boston-cambridge-newton, ma-nh msa</td>\n",
       "    </tr>\n",
       "    <tr>\n",
       "      <th>2290</th>\n",
       "      <td>1349</td>\n",
       "      <td>2018-11</td>\n",
       "      <td>NaN</td>\n",
       "      <td>72.0</td>\n",
       "      <td>17128.26</td>\n",
       "      <td>18.0</td>\n",
       "      <td>NaN</td>\n",
       "      <td>surf</td>\n",
       "      <td>NaT</td>\n",
       "      <td>boston-cambridge-newton, ma-nh msa</td>\n",
       "    </tr>\n",
       "    <tr>\n",
       "      <th>2291</th>\n",
       "      <td>1349</td>\n",
       "      <td>2018-12</td>\n",
       "      <td>NaN</td>\n",
       "      <td>61.0</td>\n",
       "      <td>13039.91</td>\n",
       "      <td>14.0</td>\n",
       "      <td>NaN</td>\n",
       "      <td>surf</td>\n",
       "      <td>NaT</td>\n",
       "      <td>boston-cambridge-newton, ma-nh msa</td>\n",
       "    </tr>\n",
       "    <tr>\n",
       "      <th>2292</th>\n",
       "      <td>1108</td>\n",
       "      <td>2018-12</td>\n",
       "      <td>NaN</td>\n",
       "      <td>NaN</td>\n",
       "      <td>233.17</td>\n",
       "      <td>1.0</td>\n",
       "      <td>NaN</td>\n",
       "      <td>ultimate</td>\n",
       "      <td>NaT</td>\n",
       "      <td>salt lake city, ut msa</td>\n",
       "    </tr>\n",
       "  </tbody>\n",
       "</table>\n",
       "<p>2293 rows × 10 columns</p>\n",
       "</div>"
      ],
      "text/plain": [
       "      user_id month_year  calls_per_m  messages_per_m  mb_used_per_month  \\\n",
       "0        1000    2018-12         16.0            11.0            1901.47   \n",
       "1        1001    2018-08         27.0            30.0            6919.15   \n",
       "2        1001    2018-09         49.0            44.0           13314.82   \n",
       "3        1001    2018-10         65.0            53.0           22330.49   \n",
       "4        1001    2018-11         64.0            36.0           18504.30   \n",
       "...       ...        ...          ...             ...                ...   \n",
       "2288     1204    2018-12          NaN            78.0           36730.05   \n",
       "2289     1349    2018-10          NaN            76.0           13093.55   \n",
       "2290     1349    2018-11          NaN            72.0           17128.26   \n",
       "2291     1349    2018-12          NaN            61.0           13039.91   \n",
       "2292     1108    2018-12          NaN             NaN             233.17   \n",
       "\n",
       "      gb_used_per_month  minutes_per_m      plan churn_month_year  \\\n",
       "0                   2.0          124.0  ultimate              NaT   \n",
       "1                   7.0          182.0      surf              NaT   \n",
       "2                  14.0          315.0      surf              NaT   \n",
       "3                  23.0          393.0      surf              NaT   \n",
       "4                  19.0          426.0      surf              NaT   \n",
       "...                 ...            ...       ...              ...   \n",
       "2288               37.0            NaN  ultimate              NaT   \n",
       "2289               14.0            NaN      surf              NaT   \n",
       "2290               18.0            NaN      surf              NaT   \n",
       "2291               14.0            NaN      surf              NaT   \n",
       "2292                1.0            NaN  ultimate              NaT   \n",
       "\n",
       "                                        city  \n",
       "0      atlanta-sandy springs-roswell, ga msa  \n",
       "1            seattle-tacoma-bellevue, wa msa  \n",
       "2            seattle-tacoma-bellevue, wa msa  \n",
       "3            seattle-tacoma-bellevue, wa msa  \n",
       "4            seattle-tacoma-bellevue, wa msa  \n",
       "...                                      ...  \n",
       "2288  chicago-naperville-elgin, il-in-wi msa  \n",
       "2289      boston-cambridge-newton, ma-nh msa  \n",
       "2290      boston-cambridge-newton, ma-nh msa  \n",
       "2291      boston-cambridge-newton, ma-nh msa  \n",
       "2292                  salt lake city, ut msa  \n",
       "\n",
       "[2293 rows x 10 columns]"
      ]
     },
     "execution_count": 36,
     "metadata": {},
     "output_type": "execute_result"
    }
   ],
   "source": [
    "# rows contain no valuable data\n",
    "# drop rows\n",
    "merged_data = merged_data.dropna(subset=['month_year'])\n",
    "merged_data"
   ]
  },
  {
   "cell_type": "code",
   "execution_count": 37,
   "metadata": {},
   "outputs": [
    {
     "data": {
      "text/html": [
       "<div>\n",
       "<style scoped>\n",
       "    .dataframe tbody tr th:only-of-type {\n",
       "        vertical-align: middle;\n",
       "    }\n",
       "\n",
       "    .dataframe tbody tr th {\n",
       "        vertical-align: top;\n",
       "    }\n",
       "\n",
       "    .dataframe thead th {\n",
       "        text-align: right;\n",
       "    }\n",
       "</style>\n",
       "<table border=\"1\" class=\"dataframe\">\n",
       "  <thead>\n",
       "    <tr style=\"text-align: right;\">\n",
       "      <th></th>\n",
       "      <th>user_id</th>\n",
       "      <th>month_year</th>\n",
       "      <th>calls_per_m</th>\n",
       "      <th>messages_per_m</th>\n",
       "      <th>mb_used_per_month</th>\n",
       "      <th>gb_used_per_month</th>\n",
       "      <th>minutes_per_m</th>\n",
       "      <th>plan</th>\n",
       "      <th>churn_month_year</th>\n",
       "      <th>city</th>\n",
       "    </tr>\n",
       "  </thead>\n",
       "  <tbody>\n",
       "    <tr>\n",
       "      <th>2117</th>\n",
       "      <td>1466</td>\n",
       "      <td>2018-12</td>\n",
       "      <td>32.0</td>\n",
       "      <td>41.0</td>\n",
       "      <td>11303.25</td>\n",
       "      <td>12.0</td>\n",
       "      <td>254.0</td>\n",
       "      <td>surf</td>\n",
       "      <td>2018-09</td>\n",
       "      <td>los angeles-long beach-anaheim, ca msa</td>\n",
       "    </tr>\n",
       "  </tbody>\n",
       "</table>\n",
       "</div>"
      ],
      "text/plain": [
       "      user_id month_year  calls_per_m  messages_per_m  mb_used_per_month  \\\n",
       "2117     1466    2018-12         32.0            41.0           11303.25   \n",
       "\n",
       "      gb_used_per_month  minutes_per_m  plan churn_month_year  \\\n",
       "2117               12.0          254.0  surf          2018-09   \n",
       "\n",
       "                                        city  \n",
       "2117  los angeles-long beach-anaheim, ca msa  "
      ]
     },
     "execution_count": 37,
     "metadata": {},
     "output_type": "execute_result"
    }
   ],
   "source": [
    "# Check to see values in churn_month_year and check to see if users continue usage without a plan\n",
    "check = merged_data[~merged_data['churn_month_year'].isna()]\n",
    "check = merged_data[merged_data['month_year'] > merged_data['churn_month_year']]\n",
    "check.sample()"
   ]
  },
  {
   "cell_type": "code",
   "execution_count": 38,
   "metadata": {},
   "outputs": [
    {
     "name": "stdout",
     "output_type": "stream",
     "text": [
      "<class 'pandas.core.frame.DataFrame'>\n",
      "Int64Index: 37 entries, 54 to 2222\n",
      "Data columns (total 10 columns):\n",
      " #   Column             Non-Null Count  Dtype    \n",
      "---  ------             --------------  -----    \n",
      " 0   user_id            37 non-null     int64    \n",
      " 1   month_year         37 non-null     period[M]\n",
      " 2   calls_per_m        37 non-null     float64  \n",
      " 3   messages_per_m     29 non-null     float64  \n",
      " 4   mb_used_per_month  37 non-null     float64  \n",
      " 5   gb_used_per_month  37 non-null     float64  \n",
      " 6   minutes_per_m      37 non-null     float64  \n",
      " 7   plan               37 non-null     object   \n",
      " 8   churn_month_year   37 non-null     period[M]\n",
      " 9   city               37 non-null     object   \n",
      "dtypes: float64(5), int64(1), object(2), period[M](2)\n",
      "memory usage: 3.2+ KB\n"
     ]
    },
    {
     "name": "stderr",
     "output_type": "stream",
     "text": [
      "/opt/conda/envs/python3/lib/python3.9/site-packages/pandas/core/indexing.py:1720: SettingWithCopyWarning: \n",
      "A value is trying to be set on a copy of a slice from a DataFrame.\n",
      "Try using .loc[row_indexer,col_indexer] = value instead\n",
      "\n",
      "See the caveats in the documentation: https://pandas.pydata.org/pandas-docs/stable/user_guide/indexing.html#returning-a-view-versus-a-copy\n",
      "  self._setitem_single_column(loc, value, pi)\n"
     ]
    }
   ],
   "source": [
    "# change plan name to \"cancelled\"\n",
    "# filters out months where surf or ultimate are listed but plan was cancelled in futher analysis and plots\n",
    "merged_data.loc[merged_data['month_year'] > merged_data['churn_month_year'], 'plan'] = 'cancelled'\n",
    "check = merged_data[merged_data['plan'] == 'cancelled']\n",
    "check.info()"
   ]
  },
  {
   "cell_type": "code",
   "execution_count": 39,
   "metadata": {},
   "outputs": [
    {
     "data": {
      "text/html": [
       "<div>\n",
       "<style scoped>\n",
       "    .dataframe tbody tr th:only-of-type {\n",
       "        vertical-align: middle;\n",
       "    }\n",
       "\n",
       "    .dataframe tbody tr th {\n",
       "        vertical-align: top;\n",
       "    }\n",
       "\n",
       "    .dataframe thead th {\n",
       "        text-align: right;\n",
       "    }\n",
       "</style>\n",
       "<table border=\"1\" class=\"dataframe\">\n",
       "  <thead>\n",
       "    <tr style=\"text-align: right;\">\n",
       "      <th></th>\n",
       "      <th>user_id</th>\n",
       "      <th>month_year</th>\n",
       "      <th>calls_per_m</th>\n",
       "      <th>messages_per_m</th>\n",
       "      <th>mb_used_per_month</th>\n",
       "      <th>gb_used_per_month</th>\n",
       "      <th>minutes_per_m</th>\n",
       "      <th>plan</th>\n",
       "      <th>churn_month_year</th>\n",
       "      <th>city</th>\n",
       "    </tr>\n",
       "  </thead>\n",
       "  <tbody>\n",
       "    <tr>\n",
       "      <th>1025</th>\n",
       "      <td>1220</td>\n",
       "      <td>2018-11</td>\n",
       "      <td>76.0</td>\n",
       "      <td>25.0</td>\n",
       "      <td>12919.69</td>\n",
       "      <td>13.0</td>\n",
       "      <td>487.0</td>\n",
       "      <td>cancelled</td>\n",
       "      <td>2018-10</td>\n",
       "      <td>cincinnati, oh-ky-in msa</td>\n",
       "    </tr>\n",
       "  </tbody>\n",
       "</table>\n",
       "</div>"
      ],
      "text/plain": [
       "      user_id month_year  calls_per_m  messages_per_m  mb_used_per_month  \\\n",
       "1025     1220    2018-11         76.0            25.0           12919.69   \n",
       "\n",
       "      gb_used_per_month  minutes_per_m       plan churn_month_year  \\\n",
       "1025               13.0          487.0  cancelled          2018-10   \n",
       "\n",
       "                          city  \n",
       "1025  cincinnati, oh-ky-in msa  "
      ]
     },
     "execution_count": 39,
     "metadata": {},
     "output_type": "execute_result"
    }
   ],
   "source": [
    "check.sample()"
   ]
  },
  {
   "cell_type": "code",
   "execution_count": 40,
   "metadata": {},
   "outputs": [
    {
     "name": "stdout",
     "output_type": "stream",
     "text": [
      "<class 'pandas.core.frame.DataFrame'>\n",
      "Int64Index: 37 entries, 54 to 2222\n",
      "Data columns (total 10 columns):\n",
      " #   Column             Non-Null Count  Dtype    \n",
      "---  ------             --------------  -----    \n",
      " 0   user_id            37 non-null     int64    \n",
      " 1   month_year         37 non-null     period[M]\n",
      " 2   calls_per_m        37 non-null     float64  \n",
      " 3   messages_per_m     29 non-null     float64  \n",
      " 4   mb_used_per_month  37 non-null     float64  \n",
      " 5   gb_used_per_month  37 non-null     float64  \n",
      " 6   minutes_per_m      37 non-null     float64  \n",
      " 7   plan               37 non-null     object   \n",
      " 8   churn_month_year   37 non-null     period[M]\n",
      " 9   city               37 non-null     object   \n",
      "dtypes: float64(5), int64(1), object(2), period[M](2)\n",
      "memory usage: 3.2+ KB\n"
     ]
    }
   ],
   "source": [
    "# check length of DF\n",
    "check.info()"
   ]
  },
  {
   "cell_type": "code",
   "execution_count": 41,
   "metadata": {},
   "outputs": [],
   "source": [
    "# Add the plan information\n",
    "def calculate_revenue(row):\n",
    "    month_year = row['month_year']\n",
    "    churn_month_year = row['churn_month_year']\n",
    "    \n",
    "    # Surf Plan\n",
    "    if row['plan'] == 'surf':\n",
    "        free_minutes = 500\n",
    "        free_messages = 50\n",
    "        free_gb = 15\n",
    "        monthly_charge = 20\n",
    "        minute_charge = 0.03\n",
    "        message_charge = 0.03\n",
    "        gb_charge = 10\n",
    "        \n",
    "    # Ultimate Plan\n",
    "    elif row['plan'] == 'ultimate':\n",
    "        free_minutes = 3000\n",
    "        free_messages = 1000\n",
    "        free_gb = 30\n",
    "        monthly_charge = 70\n",
    "        minute_charge = 0.01\n",
    "        message_charge = 0.01\n",
    "        gb_charge = 7\n",
    "        \n",
    "    # If user canceled plan but continued usage\n",
    "    # used surf plan charges without free options\n",
    "    elif row['plan'] == 'cancelled':\n",
    "        free_minutes = 0\n",
    "        free_messages = 0\n",
    "        free_gb = 0\n",
    "        monthly_charge = 0\n",
    "        minute_charge = 0.03\n",
    "        message_charge = 0.03\n",
    "        gb_charge = 10\n",
    "        \n",
    "    # calculate excess usage\n",
    "    excess_minutes = max(0, row['minutes_per_m'] - free_minutes)\n",
    "    excess_messages = max(0, row['messages_per_m'] - free_messages)\n",
    "    excess_gb = max(0, row['gb_used_per_month'] - free_gb)\n",
    "    \n",
    "    # calculate revenue from excess usage\n",
    "    excess_charge = (excess_minutes * minute_charge) + (excess_messages * message_charge) + (excess_gb * gb_charge)\n",
    "    \n",
    "    # calculate total revenue\n",
    "    total_revenue = monthly_charge + excess_charge\n",
    "    return total_revenue\n"
   ]
  },
  {
   "cell_type": "code",
   "execution_count": 42,
   "metadata": {},
   "outputs": [
    {
     "name": "stderr",
     "output_type": "stream",
     "text": [
      "/tmp/ipykernel_141/4134699403.py:2: SettingWithCopyWarning: \n",
      "A value is trying to be set on a copy of a slice from a DataFrame.\n",
      "Try using .loc[row_indexer,col_indexer] = value instead\n",
      "\n",
      "See the caveats in the documentation: https://pandas.pydata.org/pandas-docs/stable/user_guide/indexing.html#returning-a-view-versus-a-copy\n",
      "  merged_data['monthly_revenue'] = merged_data.apply(calculate_revenue, axis=1)\n"
     ]
    },
    {
     "data": {
      "text/html": [
       "<div>\n",
       "<style scoped>\n",
       "    .dataframe tbody tr th:only-of-type {\n",
       "        vertical-align: middle;\n",
       "    }\n",
       "\n",
       "    .dataframe tbody tr th {\n",
       "        vertical-align: top;\n",
       "    }\n",
       "\n",
       "    .dataframe thead th {\n",
       "        text-align: right;\n",
       "    }\n",
       "</style>\n",
       "<table border=\"1\" class=\"dataframe\">\n",
       "  <thead>\n",
       "    <tr style=\"text-align: right;\">\n",
       "      <th></th>\n",
       "      <th>user_id</th>\n",
       "      <th>month_year</th>\n",
       "      <th>plan</th>\n",
       "      <th>monthly_revenue</th>\n",
       "    </tr>\n",
       "  </thead>\n",
       "  <tbody>\n",
       "    <tr>\n",
       "      <th>0</th>\n",
       "      <td>1000</td>\n",
       "      <td>2018-12</td>\n",
       "      <td>ultimate</td>\n",
       "      <td>70.00</td>\n",
       "    </tr>\n",
       "    <tr>\n",
       "      <th>1</th>\n",
       "      <td>1001</td>\n",
       "      <td>2018-08</td>\n",
       "      <td>surf</td>\n",
       "      <td>20.00</td>\n",
       "    </tr>\n",
       "    <tr>\n",
       "      <th>2</th>\n",
       "      <td>1001</td>\n",
       "      <td>2018-09</td>\n",
       "      <td>surf</td>\n",
       "      <td>20.00</td>\n",
       "    </tr>\n",
       "    <tr>\n",
       "      <th>3</th>\n",
       "      <td>1001</td>\n",
       "      <td>2018-10</td>\n",
       "      <td>surf</td>\n",
       "      <td>100.09</td>\n",
       "    </tr>\n",
       "    <tr>\n",
       "      <th>4</th>\n",
       "      <td>1001</td>\n",
       "      <td>2018-11</td>\n",
       "      <td>surf</td>\n",
       "      <td>60.00</td>\n",
       "    </tr>\n",
       "    <tr>\n",
       "      <th>...</th>\n",
       "      <td>...</td>\n",
       "      <td>...</td>\n",
       "      <td>...</td>\n",
       "      <td>...</td>\n",
       "    </tr>\n",
       "    <tr>\n",
       "      <th>2288</th>\n",
       "      <td>1204</td>\n",
       "      <td>2018-12</td>\n",
       "      <td>ultimate</td>\n",
       "      <td>119.00</td>\n",
       "    </tr>\n",
       "    <tr>\n",
       "      <th>2289</th>\n",
       "      <td>1349</td>\n",
       "      <td>2018-10</td>\n",
       "      <td>surf</td>\n",
       "      <td>20.78</td>\n",
       "    </tr>\n",
       "    <tr>\n",
       "      <th>2290</th>\n",
       "      <td>1349</td>\n",
       "      <td>2018-11</td>\n",
       "      <td>surf</td>\n",
       "      <td>50.66</td>\n",
       "    </tr>\n",
       "    <tr>\n",
       "      <th>2291</th>\n",
       "      <td>1349</td>\n",
       "      <td>2018-12</td>\n",
       "      <td>surf</td>\n",
       "      <td>20.33</td>\n",
       "    </tr>\n",
       "    <tr>\n",
       "      <th>2292</th>\n",
       "      <td>1108</td>\n",
       "      <td>2018-12</td>\n",
       "      <td>ultimate</td>\n",
       "      <td>70.00</td>\n",
       "    </tr>\n",
       "  </tbody>\n",
       "</table>\n",
       "<p>2293 rows × 4 columns</p>\n",
       "</div>"
      ],
      "text/plain": [
       "      user_id month_year      plan  monthly_revenue\n",
       "0        1000    2018-12  ultimate            70.00\n",
       "1        1001    2018-08      surf            20.00\n",
       "2        1001    2018-09      surf            20.00\n",
       "3        1001    2018-10      surf           100.09\n",
       "4        1001    2018-11      surf            60.00\n",
       "...       ...        ...       ...              ...\n",
       "2288     1204    2018-12  ultimate           119.00\n",
       "2289     1349    2018-10      surf            20.78\n",
       "2290     1349    2018-11      surf            50.66\n",
       "2291     1349    2018-12      surf            20.33\n",
       "2292     1108    2018-12  ultimate            70.00\n",
       "\n",
       "[2293 rows x 4 columns]"
      ]
     },
     "execution_count": 42,
     "metadata": {},
     "output_type": "execute_result"
    }
   ],
   "source": [
    "# Calculate the monthly revenue for each user\n",
    "merged_data['monthly_revenue'] = merged_data.apply(calculate_revenue, axis=1)\n",
    "\n",
    "# Display\n",
    "merged_data[['user_id', 'month_year', 'plan', 'monthly_revenue']]"
   ]
  },
  {
   "cell_type": "code",
   "execution_count": 43,
   "metadata": {},
   "outputs": [
    {
     "data": {
      "text/html": [
       "<div>\n",
       "<style scoped>\n",
       "    .dataframe tbody tr th:only-of-type {\n",
       "        vertical-align: middle;\n",
       "    }\n",
       "\n",
       "    .dataframe tbody tr th {\n",
       "        vertical-align: top;\n",
       "    }\n",
       "\n",
       "    .dataframe thead th {\n",
       "        text-align: right;\n",
       "    }\n",
       "</style>\n",
       "<table border=\"1\" class=\"dataframe\">\n",
       "  <thead>\n",
       "    <tr style=\"text-align: right;\">\n",
       "      <th></th>\n",
       "      <th>user_id</th>\n",
       "      <th>month_year</th>\n",
       "      <th>calls_per_m</th>\n",
       "      <th>messages_per_m</th>\n",
       "      <th>mb_used_per_month</th>\n",
       "      <th>gb_used_per_month</th>\n",
       "      <th>minutes_per_m</th>\n",
       "      <th>plan</th>\n",
       "      <th>churn_month_year</th>\n",
       "      <th>city</th>\n",
       "      <th>monthly_revenue</th>\n",
       "    </tr>\n",
       "  </thead>\n",
       "  <tbody>\n",
       "    <tr>\n",
       "      <th>1130</th>\n",
       "      <td>1246</td>\n",
       "      <td>2018-08</td>\n",
       "      <td>96.0</td>\n",
       "      <td>15.0</td>\n",
       "      <td>18177.28</td>\n",
       "      <td>19.0</td>\n",
       "      <td>698.0</td>\n",
       "      <td>cancelled</td>\n",
       "      <td>2018-07</td>\n",
       "      <td>tampa-st. petersburg-clearwater, fl msa</td>\n",
       "      <td>211.39</td>\n",
       "    </tr>\n",
       "  </tbody>\n",
       "</table>\n",
       "</div>"
      ],
      "text/plain": [
       "      user_id month_year  calls_per_m  messages_per_m  mb_used_per_month  \\\n",
       "1130     1246    2018-08         96.0            15.0           18177.28   \n",
       "\n",
       "      gb_used_per_month  minutes_per_m       plan churn_month_year  \\\n",
       "1130               19.0          698.0  cancelled          2018-07   \n",
       "\n",
       "                                         city  monthly_revenue  \n",
       "1130  tampa-st. petersburg-clearwater, fl msa           211.39  "
      ]
     },
     "execution_count": 43,
     "metadata": {},
     "output_type": "execute_result"
    }
   ],
   "source": [
    "after_check = merged_data[(merged_data['plan'] == 'cancelled') & (merged_data['month_year'] == '2018-08')]\n",
    "after_check"
   ]
  },
  {
   "cell_type": "code",
   "execution_count": 44,
   "metadata": {},
   "outputs": [
    {
     "data": {
      "text/html": [
       "<div>\n",
       "<style scoped>\n",
       "    .dataframe tbody tr th:only-of-type {\n",
       "        vertical-align: middle;\n",
       "    }\n",
       "\n",
       "    .dataframe tbody tr th {\n",
       "        vertical-align: top;\n",
       "    }\n",
       "\n",
       "    .dataframe thead th {\n",
       "        text-align: right;\n",
       "    }\n",
       "</style>\n",
       "<table border=\"1\" class=\"dataframe\">\n",
       "  <thead>\n",
       "    <tr style=\"text-align: right;\">\n",
       "      <th></th>\n",
       "      <th>user_id</th>\n",
       "      <th>month_year</th>\n",
       "      <th>calls_per_m</th>\n",
       "      <th>messages_per_m</th>\n",
       "      <th>mb_used_per_month</th>\n",
       "      <th>gb_used_per_month</th>\n",
       "      <th>minutes_per_m</th>\n",
       "      <th>plan</th>\n",
       "      <th>churn_month_year</th>\n",
       "      <th>city</th>\n",
       "      <th>monthly_revenue</th>\n",
       "    </tr>\n",
       "  </thead>\n",
       "  <tbody>\n",
       "    <tr>\n",
       "      <th>1913</th>\n",
       "      <td>1414</td>\n",
       "      <td>2018-12</td>\n",
       "      <td>65.0</td>\n",
       "      <td>54.0</td>\n",
       "      <td>30361.91</td>\n",
       "      <td>31.0</td>\n",
       "      <td>451.0</td>\n",
       "      <td>cancelled</td>\n",
       "      <td>2018-09</td>\n",
       "      <td>urban honolulu, hi msa</td>\n",
       "      <td>325.15</td>\n",
       "    </tr>\n",
       "    <tr>\n",
       "      <th>81</th>\n",
       "      <td>1022</td>\n",
       "      <td>2018-11</td>\n",
       "      <td>72.0</td>\n",
       "      <td>NaN</td>\n",
       "      <td>22204.48</td>\n",
       "      <td>23.0</td>\n",
       "      <td>498.0</td>\n",
       "      <td>cancelled</td>\n",
       "      <td>2018-09</td>\n",
       "      <td>new york-newark-jersey city, ny-nj-pa msa</td>\n",
       "      <td>244.94</td>\n",
       "    </tr>\n",
       "    <tr>\n",
       "      <th>82</th>\n",
       "      <td>1022</td>\n",
       "      <td>2018-12</td>\n",
       "      <td>82.0</td>\n",
       "      <td>NaN</td>\n",
       "      <td>18283.62</td>\n",
       "      <td>19.0</td>\n",
       "      <td>585.0</td>\n",
       "      <td>cancelled</td>\n",
       "      <td>2018-09</td>\n",
       "      <td>new york-newark-jersey city, ny-nj-pa msa</td>\n",
       "      <td>207.55</td>\n",
       "    </tr>\n",
       "    <tr>\n",
       "      <th>2115</th>\n",
       "      <td>1466</td>\n",
       "      <td>2018-10</td>\n",
       "      <td>33.0</td>\n",
       "      <td>51.0</td>\n",
       "      <td>14944.62</td>\n",
       "      <td>15.0</td>\n",
       "      <td>238.0</td>\n",
       "      <td>cancelled</td>\n",
       "      <td>2018-09</td>\n",
       "      <td>los angeles-long beach-anaheim, ca msa</td>\n",
       "      <td>158.67</td>\n",
       "    </tr>\n",
       "    <tr>\n",
       "      <th>213</th>\n",
       "      <td>1050</td>\n",
       "      <td>2018-11</td>\n",
       "      <td>57.0</td>\n",
       "      <td>NaN</td>\n",
       "      <td>14227.19</td>\n",
       "      <td>15.0</td>\n",
       "      <td>413.0</td>\n",
       "      <td>cancelled</td>\n",
       "      <td>2018-10</td>\n",
       "      <td>miami-fort lauderdale-west palm beach, fl msa</td>\n",
       "      <td>162.39</td>\n",
       "    </tr>\n",
       "  </tbody>\n",
       "</table>\n",
       "</div>"
      ],
      "text/plain": [
       "      user_id month_year  calls_per_m  messages_per_m  mb_used_per_month  \\\n",
       "1913     1414    2018-12         65.0            54.0           30361.91   \n",
       "81       1022    2018-11         72.0             NaN           22204.48   \n",
       "82       1022    2018-12         82.0             NaN           18283.62   \n",
       "2115     1466    2018-10         33.0            51.0           14944.62   \n",
       "213      1050    2018-11         57.0             NaN           14227.19   \n",
       "\n",
       "      gb_used_per_month  minutes_per_m       plan churn_month_year  \\\n",
       "1913               31.0          451.0  cancelled          2018-09   \n",
       "81                 23.0          498.0  cancelled          2018-09   \n",
       "82                 19.0          585.0  cancelled          2018-09   \n",
       "2115               15.0          238.0  cancelled          2018-09   \n",
       "213                15.0          413.0  cancelled          2018-10   \n",
       "\n",
       "                                               city  monthly_revenue  \n",
       "1913                         urban honolulu, hi msa           325.15  \n",
       "81        new york-newark-jersey city, ny-nj-pa msa           244.94  \n",
       "82        new york-newark-jersey city, ny-nj-pa msa           207.55  \n",
       "2115         los angeles-long beach-anaheim, ca msa           158.67  \n",
       "213   miami-fort lauderdale-west palm beach, fl msa           162.39  "
      ]
     },
     "execution_count": 44,
     "metadata": {},
     "output_type": "execute_result"
    }
   ],
   "source": [
    "# Check for monthly revenue when customer cancels plan and continues usage\n",
    "check = merged_data[merged_data['month_year'] > merged_data['churn_month_year']]\n",
    "check.sample(5)"
   ]
  },
  {
   "cell_type": "code",
   "execution_count": 45,
   "metadata": {},
   "outputs": [
    {
     "data": {
      "text/html": [
       "<div>\n",
       "<style scoped>\n",
       "    .dataframe tbody tr th:only-of-type {\n",
       "        vertical-align: middle;\n",
       "    }\n",
       "\n",
       "    .dataframe tbody tr th {\n",
       "        vertical-align: top;\n",
       "    }\n",
       "\n",
       "    .dataframe thead th {\n",
       "        text-align: right;\n",
       "    }\n",
       "</style>\n",
       "<table border=\"1\" class=\"dataframe\">\n",
       "  <thead>\n",
       "    <tr style=\"text-align: right;\">\n",
       "      <th></th>\n",
       "      <th>user_id</th>\n",
       "      <th>plan</th>\n",
       "      <th>month_year</th>\n",
       "      <th>churn_month_year</th>\n",
       "      <th>monthly_revenue</th>\n",
       "      <th>calls_per_m</th>\n",
       "      <th>minutes_per_m</th>\n",
       "      <th>messages_per_m</th>\n",
       "      <th>mb_used_per_m</th>\n",
       "      <th>gb_used_per_m</th>\n",
       "      <th>city</th>\n",
       "    </tr>\n",
       "  </thead>\n",
       "  <tbody>\n",
       "    <tr>\n",
       "      <th>1799</th>\n",
       "      <td>1393</td>\n",
       "      <td>surf</td>\n",
       "      <td>2018-12</td>\n",
       "      <td>NaT</td>\n",
       "      <td>31.64</td>\n",
       "      <td>126.0</td>\n",
       "      <td>888.0</td>\n",
       "      <td>32.0</td>\n",
       "      <td>14164.82</td>\n",
       "      <td>15.0</td>\n",
       "      <td>knoxville, tn msa</td>\n",
       "    </tr>\n",
       "  </tbody>\n",
       "</table>\n",
       "</div>"
      ],
      "text/plain": [
       "      user_id  plan month_year churn_month_year  monthly_revenue  calls_per_m  \\\n",
       "1799     1393  surf    2018-12              NaT            31.64        126.0   \n",
       "\n",
       "      minutes_per_m  messages_per_m  mb_used_per_m  gb_used_per_m  \\\n",
       "1799          888.0            32.0       14164.82           15.0   \n",
       "\n",
       "                   city  \n",
       "1799  knoxville, tn msa  "
      ]
     },
     "execution_count": 45,
     "metadata": {},
     "output_type": "execute_result"
    }
   ],
   "source": [
    "# format merged data \n",
    "merged_data = merged_data.rename(columns={\n",
    "    'mb_used_per_month': 'mb_used_per_m',\n",
    "    'gb_used_per_month': 'gb_used_per_m'\n",
    "})\n",
    "\n",
    "merged_data = merged_data[[\n",
    "    'user_id',\n",
    "    'plan',\n",
    "    'month_year',\n",
    "    'churn_month_year',\n",
    "    'monthly_revenue',\n",
    "    'calls_per_m',\n",
    "    'minutes_per_m',\n",
    "    'messages_per_m',\n",
    "    'mb_used_per_m',\n",
    "    'gb_used_per_m',\n",
    "    'city'\n",
    "]]\n",
    "merged_data.sample()"
   ]
  },
  {
   "cell_type": "markdown",
   "metadata": {},
   "source": [
    "# Study user behaviour"
   ]
  },
  {
   "cell_type": "markdown",
   "metadata": {},
   "source": [
    "## Calls"
   ]
  },
  {
   "cell_type": "code",
   "execution_count": 46,
   "metadata": {},
   "outputs": [
    {
     "name": "stdout",
     "output_type": "stream",
     "text": [
      "<class 'pandas.core.frame.DataFrame'>\n",
      "Int64Index: 2293 entries, 0 to 2292\n",
      "Data columns (total 11 columns):\n",
      " #   Column            Non-Null Count  Dtype    \n",
      "---  ------            --------------  -----    \n",
      " 0   user_id           2293 non-null   int64    \n",
      " 1   plan              2293 non-null   object   \n",
      " 2   month_year        2293 non-null   period[M]\n",
      " 3   churn_month_year  158 non-null    period[M]\n",
      " 4   monthly_revenue   2293 non-null   float64  \n",
      " 5   calls_per_m       2258 non-null   float64  \n",
      " 6   minutes_per_m     2258 non-null   float64  \n",
      " 7   messages_per_m    1806 non-null   float64  \n",
      " 8   mb_used_per_m     2277 non-null   float64  \n",
      " 9   gb_used_per_m     2277 non-null   float64  \n",
      " 10  city              2293 non-null   object   \n",
      "dtypes: float64(6), int64(1), object(2), period[M](2)\n",
      "memory usage: 215.0+ KB\n"
     ]
    }
   ],
   "source": [
    "## info for missing values\n",
    "merged_data.info()"
   ]
  },
  {
   "cell_type": "code",
   "execution_count": 47,
   "metadata": {},
   "outputs": [
    {
     "name": "stdout",
     "output_type": "stream",
     "text": [
      "<class 'pandas.core.frame.DataFrame'>\n",
      "Int64Index: 2293 entries, 0 to 2292\n",
      "Data columns (total 11 columns):\n",
      " #   Column            Non-Null Count  Dtype    \n",
      "---  ------            --------------  -----    \n",
      " 0   user_id           2293 non-null   int64    \n",
      " 1   plan              2293 non-null   object   \n",
      " 2   month_year        2293 non-null   period[M]\n",
      " 3   churn_month_year  158 non-null    period[M]\n",
      " 4   monthly_revenue   2293 non-null   float64  \n",
      " 5   calls_per_m       2293 non-null   float64  \n",
      " 6   minutes_per_m     2293 non-null   float64  \n",
      " 7   messages_per_m    2293 non-null   float64  \n",
      " 8   mb_used_per_m     2293 non-null   float64  \n",
      " 9   gb_used_per_m     2293 non-null   float64  \n",
      " 10  city              2293 non-null   object   \n",
      "dtypes: float64(6), int64(1), object(2), period[M](2)\n",
      "memory usage: 215.0+ KB\n"
     ]
    }
   ],
   "source": [
    "## Replace missing values with 0\n",
    "cols = ['calls_per_m', 'minutes_per_m', 'messages_per_m', 'mb_used_per_m', 'gb_used_per_m']\n",
    "merged_data[cols] = merged_data[cols].fillna(0)\n",
    "merged_data.info()"
   ]
  },
  {
   "cell_type": "code",
   "execution_count": 48,
   "metadata": {
    "scrolled": false
   },
   "outputs": [
    {
     "data": {
      "text/html": [
       "<div>\n",
       "<style scoped>\n",
       "    .dataframe tbody tr th:only-of-type {\n",
       "        vertical-align: middle;\n",
       "    }\n",
       "\n",
       "    .dataframe tbody tr th {\n",
       "        vertical-align: top;\n",
       "    }\n",
       "\n",
       "    .dataframe thead th {\n",
       "        text-align: right;\n",
       "    }\n",
       "</style>\n",
       "<table border=\"1\" class=\"dataframe\">\n",
       "  <thead>\n",
       "    <tr style=\"text-align: right;\">\n",
       "      <th></th>\n",
       "      <th>plan</th>\n",
       "      <th>month_year</th>\n",
       "      <th>minutes_per_m</th>\n",
       "    </tr>\n",
       "  </thead>\n",
       "  <tbody>\n",
       "    <tr>\n",
       "      <th>0</th>\n",
       "      <td>cancelled</td>\n",
       "      <td>2018-08</td>\n",
       "      <td>698.0</td>\n",
       "    </tr>\n",
       "    <tr>\n",
       "      <th>1</th>\n",
       "      <td>cancelled</td>\n",
       "      <td>2018-09</td>\n",
       "      <td>311.0</td>\n",
       "    </tr>\n",
       "    <tr>\n",
       "      <th>2</th>\n",
       "      <td>cancelled</td>\n",
       "      <td>2018-10</td>\n",
       "      <td>466.0</td>\n",
       "    </tr>\n",
       "    <tr>\n",
       "      <th>3</th>\n",
       "      <td>cancelled</td>\n",
       "      <td>2018-11</td>\n",
       "      <td>363.0</td>\n",
       "    </tr>\n",
       "    <tr>\n",
       "      <th>4</th>\n",
       "      <td>cancelled</td>\n",
       "      <td>2018-12</td>\n",
       "      <td>460.0</td>\n",
       "    </tr>\n",
       "    <tr>\n",
       "      <th>5</th>\n",
       "      <td>surf</td>\n",
       "      <td>2018-01</td>\n",
       "      <td>203.0</td>\n",
       "    </tr>\n",
       "    <tr>\n",
       "      <th>6</th>\n",
       "      <td>surf</td>\n",
       "      <td>2018-02</td>\n",
       "      <td>297.0</td>\n",
       "    </tr>\n",
       "    <tr>\n",
       "      <th>7</th>\n",
       "      <td>surf</td>\n",
       "      <td>2018-03</td>\n",
       "      <td>330.0</td>\n",
       "    </tr>\n",
       "    <tr>\n",
       "      <th>8</th>\n",
       "      <td>surf</td>\n",
       "      <td>2018-04</td>\n",
       "      <td>352.0</td>\n",
       "    </tr>\n",
       "    <tr>\n",
       "      <th>9</th>\n",
       "      <td>surf</td>\n",
       "      <td>2018-05</td>\n",
       "      <td>400.0</td>\n",
       "    </tr>\n",
       "    <tr>\n",
       "      <th>10</th>\n",
       "      <td>surf</td>\n",
       "      <td>2018-06</td>\n",
       "      <td>431.0</td>\n",
       "    </tr>\n",
       "    <tr>\n",
       "      <th>11</th>\n",
       "      <td>surf</td>\n",
       "      <td>2018-07</td>\n",
       "      <td>450.0</td>\n",
       "    </tr>\n",
       "    <tr>\n",
       "      <th>12</th>\n",
       "      <td>surf</td>\n",
       "      <td>2018-08</td>\n",
       "      <td>410.0</td>\n",
       "    </tr>\n",
       "    <tr>\n",
       "      <th>13</th>\n",
       "      <td>surf</td>\n",
       "      <td>2018-09</td>\n",
       "      <td>414.0</td>\n",
       "    </tr>\n",
       "    <tr>\n",
       "      <th>14</th>\n",
       "      <td>surf</td>\n",
       "      <td>2018-10</td>\n",
       "      <td>429.0</td>\n",
       "    </tr>\n",
       "    <tr>\n",
       "      <th>15</th>\n",
       "      <td>surf</td>\n",
       "      <td>2018-11</td>\n",
       "      <td>425.0</td>\n",
       "    </tr>\n",
       "    <tr>\n",
       "      <th>16</th>\n",
       "      <td>surf</td>\n",
       "      <td>2018-12</td>\n",
       "      <td>476.0</td>\n",
       "    </tr>\n",
       "    <tr>\n",
       "      <th>17</th>\n",
       "      <td>ultimate</td>\n",
       "      <td>2018-01</td>\n",
       "      <td>194.0</td>\n",
       "    </tr>\n",
       "    <tr>\n",
       "      <th>18</th>\n",
       "      <td>ultimate</td>\n",
       "      <td>2018-02</td>\n",
       "      <td>403.0</td>\n",
       "    </tr>\n",
       "    <tr>\n",
       "      <th>19</th>\n",
       "      <td>ultimate</td>\n",
       "      <td>2018-03</td>\n",
       "      <td>304.0</td>\n",
       "    </tr>\n",
       "    <tr>\n",
       "      <th>20</th>\n",
       "      <td>ultimate</td>\n",
       "      <td>2018-04</td>\n",
       "      <td>337.0</td>\n",
       "    </tr>\n",
       "    <tr>\n",
       "      <th>21</th>\n",
       "      <td>ultimate</td>\n",
       "      <td>2018-05</td>\n",
       "      <td>406.0</td>\n",
       "    </tr>\n",
       "    <tr>\n",
       "      <th>22</th>\n",
       "      <td>ultimate</td>\n",
       "      <td>2018-06</td>\n",
       "      <td>371.0</td>\n",
       "    </tr>\n",
       "    <tr>\n",
       "      <th>23</th>\n",
       "      <td>ultimate</td>\n",
       "      <td>2018-07</td>\n",
       "      <td>427.0</td>\n",
       "    </tr>\n",
       "    <tr>\n",
       "      <th>24</th>\n",
       "      <td>ultimate</td>\n",
       "      <td>2018-08</td>\n",
       "      <td>417.0</td>\n",
       "    </tr>\n",
       "    <tr>\n",
       "      <th>25</th>\n",
       "      <td>ultimate</td>\n",
       "      <td>2018-09</td>\n",
       "      <td>441.0</td>\n",
       "    </tr>\n",
       "    <tr>\n",
       "      <th>26</th>\n",
       "      <td>ultimate</td>\n",
       "      <td>2018-10</td>\n",
       "      <td>451.0</td>\n",
       "    </tr>\n",
       "    <tr>\n",
       "      <th>27</th>\n",
       "      <td>ultimate</td>\n",
       "      <td>2018-11</td>\n",
       "      <td>448.0</td>\n",
       "    </tr>\n",
       "    <tr>\n",
       "      <th>28</th>\n",
       "      <td>ultimate</td>\n",
       "      <td>2018-12</td>\n",
       "      <td>457.0</td>\n",
       "    </tr>\n",
       "  </tbody>\n",
       "</table>\n",
       "</div>"
      ],
      "text/plain": [
       "         plan month_year  minutes_per_m\n",
       "0   cancelled    2018-08          698.0\n",
       "1   cancelled    2018-09          311.0\n",
       "2   cancelled    2018-10          466.0\n",
       "3   cancelled    2018-11          363.0\n",
       "4   cancelled    2018-12          460.0\n",
       "5        surf    2018-01          203.0\n",
       "6        surf    2018-02          297.0\n",
       "7        surf    2018-03          330.0\n",
       "8        surf    2018-04          352.0\n",
       "9        surf    2018-05          400.0\n",
       "10       surf    2018-06          431.0\n",
       "11       surf    2018-07          450.0\n",
       "12       surf    2018-08          410.0\n",
       "13       surf    2018-09          414.0\n",
       "14       surf    2018-10          429.0\n",
       "15       surf    2018-11          425.0\n",
       "16       surf    2018-12          476.0\n",
       "17   ultimate    2018-01          194.0\n",
       "18   ultimate    2018-02          403.0\n",
       "19   ultimate    2018-03          304.0\n",
       "20   ultimate    2018-04          337.0\n",
       "21   ultimate    2018-05          406.0\n",
       "22   ultimate    2018-06          371.0\n",
       "23   ultimate    2018-07          427.0\n",
       "24   ultimate    2018-08          417.0\n",
       "25   ultimate    2018-09          441.0\n",
       "26   ultimate    2018-10          451.0\n",
       "27   ultimate    2018-11          448.0\n",
       "28   ultimate    2018-12          457.0"
      ]
     },
     "execution_count": 48,
     "metadata": {},
     "output_type": "execute_result"
    }
   ],
   "source": [
    "# Compare average duration of calls per each plan per each distinct month. Plot a bar plot to visualize it.\n",
    "avg_duration_month = merged_data.groupby(['plan', 'month_year'])['minutes_per_m'].mean().round(0).reset_index()\n",
    "avg_duration_month"
   ]
  },
  {
   "cell_type": "code",
   "execution_count": 49,
   "metadata": {},
   "outputs": [
    {
     "data": {
      "text/html": [
       "<div>\n",
       "<style scoped>\n",
       "    .dataframe tbody tr th:only-of-type {\n",
       "        vertical-align: middle;\n",
       "    }\n",
       "\n",
       "    .dataframe tbody tr th {\n",
       "        vertical-align: top;\n",
       "    }\n",
       "\n",
       "    .dataframe thead th {\n",
       "        text-align: right;\n",
       "    }\n",
       "</style>\n",
       "<table border=\"1\" class=\"dataframe\">\n",
       "  <thead>\n",
       "    <tr style=\"text-align: right;\">\n",
       "      <th></th>\n",
       "      <th>month_year</th>\n",
       "      <th>surf_minutes_per_m</th>\n",
       "      <th>ultimate_minutes_per_m</th>\n",
       "    </tr>\n",
       "  </thead>\n",
       "  <tbody>\n",
       "    <tr>\n",
       "      <th>0</th>\n",
       "      <td>2018-01</td>\n",
       "      <td>203.0</td>\n",
       "      <td>194.0</td>\n",
       "    </tr>\n",
       "    <tr>\n",
       "      <th>1</th>\n",
       "      <td>2018-02</td>\n",
       "      <td>297.0</td>\n",
       "      <td>403.0</td>\n",
       "    </tr>\n",
       "    <tr>\n",
       "      <th>2</th>\n",
       "      <td>2018-03</td>\n",
       "      <td>330.0</td>\n",
       "      <td>304.0</td>\n",
       "    </tr>\n",
       "    <tr>\n",
       "      <th>3</th>\n",
       "      <td>2018-04</td>\n",
       "      <td>352.0</td>\n",
       "      <td>337.0</td>\n",
       "    </tr>\n",
       "    <tr>\n",
       "      <th>4</th>\n",
       "      <td>2018-05</td>\n",
       "      <td>400.0</td>\n",
       "      <td>406.0</td>\n",
       "    </tr>\n",
       "    <tr>\n",
       "      <th>5</th>\n",
       "      <td>2018-06</td>\n",
       "      <td>431.0</td>\n",
       "      <td>371.0</td>\n",
       "    </tr>\n",
       "    <tr>\n",
       "      <th>6</th>\n",
       "      <td>2018-07</td>\n",
       "      <td>450.0</td>\n",
       "      <td>427.0</td>\n",
       "    </tr>\n",
       "    <tr>\n",
       "      <th>7</th>\n",
       "      <td>2018-08</td>\n",
       "      <td>410.0</td>\n",
       "      <td>417.0</td>\n",
       "    </tr>\n",
       "    <tr>\n",
       "      <th>8</th>\n",
       "      <td>2018-09</td>\n",
       "      <td>414.0</td>\n",
       "      <td>441.0</td>\n",
       "    </tr>\n",
       "    <tr>\n",
       "      <th>9</th>\n",
       "      <td>2018-10</td>\n",
       "      <td>429.0</td>\n",
       "      <td>451.0</td>\n",
       "    </tr>\n",
       "    <tr>\n",
       "      <th>10</th>\n",
       "      <td>2018-11</td>\n",
       "      <td>425.0</td>\n",
       "      <td>448.0</td>\n",
       "    </tr>\n",
       "    <tr>\n",
       "      <th>11</th>\n",
       "      <td>2018-12</td>\n",
       "      <td>476.0</td>\n",
       "      <td>457.0</td>\n",
       "    </tr>\n",
       "  </tbody>\n",
       "</table>\n",
       "</div>"
      ],
      "text/plain": [
       "   month_year  surf_minutes_per_m  ultimate_minutes_per_m\n",
       "0     2018-01               203.0                   194.0\n",
       "1     2018-02               297.0                   403.0\n",
       "2     2018-03               330.0                   304.0\n",
       "3     2018-04               352.0                   337.0\n",
       "4     2018-05               400.0                   406.0\n",
       "5     2018-06               431.0                   371.0\n",
       "6     2018-07               450.0                   427.0\n",
       "7     2018-08               410.0                   417.0\n",
       "8     2018-09               414.0                   441.0\n",
       "9     2018-10               429.0                   451.0\n",
       "10    2018-11               425.0                   448.0\n",
       "11    2018-12               476.0                   457.0"
      ]
     },
     "execution_count": 49,
     "metadata": {},
     "output_type": "execute_result"
    }
   ],
   "source": [
    "# Reformat df by month_year and plan totals\n",
    "avg_duration_month_ultimate = avg_duration_month[avg_duration_month['plan'] == 'ultimate']\n",
    "avg_duration_month_ultimate = avg_duration_month_ultimate.rename(columns={'minutes_per_m': 'ultimate_minutes_per_m'})\n",
    "\n",
    "avg_duration_month_surf = avg_duration_month[avg_duration_month['plan'] == 'surf']\n",
    "avg_duration_month_surf = avg_duration_month_surf.rename(columns={'minutes_per_m': 'surf_minutes_per_m'})\n",
    "\n",
    "\n",
    "# merge\n",
    "avg_duration_month = pd.merge(\n",
    "    avg_duration_month_surf[['month_year', 'surf_minutes_per_m']],\n",
    "    avg_duration_month_ultimate[['month_year', 'ultimate_minutes_per_m']],\n",
    "    on='month_year', \n",
    "    how='outer'\n",
    ")\n",
    "\n",
    "avg_duration_month"
   ]
  },
  {
   "cell_type": "code",
   "execution_count": 50,
   "metadata": {},
   "outputs": [
    {
     "data": {
      "image/png": "[encoded data removed]",
      "text/plain": [
       "<Figure size 640x480 with 1 Axes>"
      ]
     },
     "metadata": {},
     "output_type": "display_data"
    }
   ],
   "source": [
    "# Plot bar graph\n",
    "avg_duration_month.plot(\n",
    "    x='month_year',\n",
    "    kind='bar',\n",
    "    title='Duration of Calls per Plan per Month',\n",
    "    xlabel='Month',\n",
    "    ylabel='Minutes per Month'\n",
    ")\n",
    "\n",
    "plt.legend(['Surf', 'Ultimate'], loc='lower right')\n",
    "plt.xticks(rotation=45)\n",
    "plt.show()"
   ]
  },
  {
   "cell_type": "markdown",
   "metadata": {},
   "source": [
    "### Summary:\n",
    "This data indicates that the Surf plan experiences more fluctuation in monthly usage compared to the Ultimate plan, with overall higher usage in some months. Focusing on seasonality for Surf and consistency for Ultimate could help improve customer retention and maximize revenue."
   ]
  },
  {
   "cell_type": "code",
   "execution_count": 51,
   "metadata": {},
   "outputs": [
    {
     "data": {
      "text/plain": [
       "user_id              1499\n",
       "plan             ultimate\n",
       "month_year        2018-12\n",
       "minutes_per_m      1510.0\n",
       "dtype: object"
      ]
     },
     "execution_count": 51,
     "metadata": {},
     "output_type": "execute_result"
    }
   ],
   "source": [
    "# Compare the number of minutes users of each plan require each month. Plot a histogram.\n",
    "# Plot bar graph\n",
    "avg_minutes_user = merged_data.groupby(['user_id', 'plan', 'month_year'])['minutes_per_m'].sum().reset_index()\n",
    "avg_minutes_user.max()"
   ]
  },
  {
   "cell_type": "code",
   "execution_count": 52,
   "metadata": {},
   "outputs": [
    {
     "data": {
      "image/png": "[encoded data removed]",
      "text/plain": [
       "<Figure size 640x480 with 1 Axes>"
      ]
     },
     "metadata": {},
     "output_type": "display_data"
    }
   ],
   "source": [
    "# Split df\n",
    "ultimate_df = avg_minutes_user[avg_minutes_user['plan'] == 'ultimate']\n",
    "surf_df = avg_minutes_user[avg_minutes_user['plan'] == 'surf']\n",
    "\n",
    "# plot histogram\n",
    "ultimate_df['minutes_per_m'].plot(\n",
    "    kind='hist',\n",
    "    bins=20,\n",
    "    alpha=0.3,\n",
    "    color='blue',\n",
    "    title='Number of Minutes Required',\n",
    ")\n",
    "surf_df['minutes_per_m'].plot(\n",
    "     kind='hist',\n",
    "    bins=20,\n",
    "    alpha=0.3,\n",
    "    color='orange',\n",
    ")\n",
    "plt.xlabel('Minutes Used per Month')\n",
    "plt.ylabel('Number of Users')\n",
    "plt.legend(['Surf', 'Ultimate'])\n",
    "plt.show()"
   ]
  },
  {
   "cell_type": "markdown",
   "metadata": {},
   "source": [
    "### Summary\n",
    "The Surf plan caters primarily to low-to-moderate usage customers, with most users concentrated between 200 and 500 minutes. In contrast, the Ultimate plan attracts a broader range of users with significant usage extending beyond 600 minutes. There is overlap between the two plans in the 200–500 minute range, indicating potential opportunities for better segmentation or plan optimization. Additionally, the data shows that very few customers exceed 1000 minutes, suggesting a niche high-usage demographic. These insights highlight opportunities to tailor marketing efforts, optimize plan features, and target customers for upselling or retention based on their usage patterns."
   ]
  },
  {
   "cell_type": "code",
   "execution_count": 53,
   "metadata": {},
   "outputs": [
    {
     "name": "stdout",
     "output_type": "stream",
     "text": [
      "Ultimate Mean: 388.0\n",
      "Surf Mean: 385.0\n"
     ]
    }
   ],
   "source": [
    "# Calculate the mean and the variance of the monthly call duration\n",
    "# Ultimate Mean\n",
    "mean_ultimate = avg_duration_month_ultimate['ultimate_minutes_per_m'].mean()\n",
    "\n",
    "# Surf Mean\n",
    "mean_surf = avg_duration_month_surf['surf_minutes_per_m'].mean()\n",
    "\n",
    "print('Ultimate Mean:', mean_ultimate.round(0))\n",
    "print('Surf Mean:', mean_surf.round(0))"
   ]
  },
  {
   "cell_type": "code",
   "execution_count": 54,
   "metadata": {},
   "outputs": [
    {
     "name": "stdout",
     "output_type": "stream",
     "text": [
      "Ultimate Variance: 5967.0\n",
      "Surf Variance: 5894.0\n"
     ]
    }
   ],
   "source": [
    "# Ultimate Variance\n",
    "variance_ultimate = avg_duration_month_ultimate['ultimate_minutes_per_m'].var()\n",
    "\n",
    "# Surf Variance\n",
    "variance_surf = avg_duration_month_surf['surf_minutes_per_m'].var()\n",
    "\n",
    "print('Ultimate Variance:', variance_ultimate.round(0))\n",
    "print('Surf Variance:', variance_surf.round(0))"
   ]
  },
  {
   "cell_type": "code",
   "execution_count": 55,
   "metadata": {},
   "outputs": [
    {
     "data": {
      "image/png": "[encoded data removed]",
      "text/plain": [
       "<Figure size 640x480 with 1 Axes>"
      ]
     },
     "metadata": {},
     "output_type": "display_data"
    }
   ],
   "source": [
    "# Plot a boxplot to visualize the distribution of the monthly call duration\n",
    "# Ultimate and surf box plot \n",
    "avg_duration_month.boxplot(\n",
    "    column=['ultimate_minutes_per_m', 'surf_minutes_per_m'],\n",
    "    patch_artist=True, \n",
    "    boxprops=dict(facecolor='lightblue'),\n",
    "    flierprops=dict(markerfacecolor='red')\n",
    ")\n",
    "\n",
    "plt.show()"
   ]
  },
  {
   "cell_type": "markdown",
   "metadata": {},
   "source": [
    "### Summary:\n",
    "Both plans show similar median usage values, approximately around 400 minutes, indicating that the average customer usage does not vary significantly between plans. However, the Ultimate plan exhibits a slightly higher upper quartile, suggesting that it attracts users with greater call requirements. Both plans share similar lower and upper bounds for typical usage, but the presence of outliers at the lower end (around 200 minutes) in both plans highlights a subset of customers who may be overpaying for their plan relative to their usage. These insights suggest opportunities for more precise plan recommendations and possible introduction of a low-usage plan to better cater to these outliers."
   ]
  },
  {
   "cell_type": "markdown",
   "metadata": {},
   "source": [
    " "
   ]
  },
  {
   "cell_type": "markdown",
   "metadata": {},
   "source": [
    "## Messages"
   ]
  },
  {
   "cell_type": "code",
   "execution_count": 56,
   "metadata": {},
   "outputs": [
    {
     "data": {
      "text/html": [
       "<div>\n",
       "<style scoped>\n",
       "    .dataframe tbody tr th:only-of-type {\n",
       "        vertical-align: middle;\n",
       "    }\n",
       "\n",
       "    .dataframe tbody tr th {\n",
       "        vertical-align: top;\n",
       "    }\n",
       "\n",
       "    .dataframe thead th {\n",
       "        text-align: right;\n",
       "    }\n",
       "</style>\n",
       "<table border=\"1\" class=\"dataframe\">\n",
       "  <thead>\n",
       "    <tr style=\"text-align: right;\">\n",
       "      <th></th>\n",
       "      <th>plan</th>\n",
       "      <th>month_year</th>\n",
       "      <th>messages_per_m</th>\n",
       "    </tr>\n",
       "  </thead>\n",
       "  <tbody>\n",
       "    <tr>\n",
       "      <th>0</th>\n",
       "      <td>cancelled</td>\n",
       "      <td>2018-08</td>\n",
       "      <td>15.0</td>\n",
       "    </tr>\n",
       "    <tr>\n",
       "      <th>1</th>\n",
       "      <td>cancelled</td>\n",
       "      <td>2018-09</td>\n",
       "      <td>18.0</td>\n",
       "    </tr>\n",
       "    <tr>\n",
       "      <th>2</th>\n",
       "      <td>cancelled</td>\n",
       "      <td>2018-10</td>\n",
       "      <td>43.0</td>\n",
       "    </tr>\n",
       "    <tr>\n",
       "      <th>3</th>\n",
       "      <td>cancelled</td>\n",
       "      <td>2018-11</td>\n",
       "      <td>21.0</td>\n",
       "    </tr>\n",
       "    <tr>\n",
       "      <th>4</th>\n",
       "      <td>cancelled</td>\n",
       "      <td>2018-12</td>\n",
       "      <td>34.0</td>\n",
       "    </tr>\n",
       "    <tr>\n",
       "      <th>5</th>\n",
       "      <td>surf</td>\n",
       "      <td>2018-01</td>\n",
       "      <td>10.0</td>\n",
       "    </tr>\n",
       "    <tr>\n",
       "      <th>6</th>\n",
       "      <td>surf</td>\n",
       "      <td>2018-02</td>\n",
       "      <td>12.0</td>\n",
       "    </tr>\n",
       "    <tr>\n",
       "      <th>7</th>\n",
       "      <td>surf</td>\n",
       "      <td>2018-03</td>\n",
       "      <td>15.0</td>\n",
       "    </tr>\n",
       "    <tr>\n",
       "      <th>8</th>\n",
       "      <td>surf</td>\n",
       "      <td>2018-04</td>\n",
       "      <td>17.0</td>\n",
       "    </tr>\n",
       "    <tr>\n",
       "      <th>9</th>\n",
       "      <td>surf</td>\n",
       "      <td>2018-05</td>\n",
       "      <td>24.0</td>\n",
       "    </tr>\n",
       "    <tr>\n",
       "      <th>10</th>\n",
       "      <td>surf</td>\n",
       "      <td>2018-06</td>\n",
       "      <td>25.0</td>\n",
       "    </tr>\n",
       "    <tr>\n",
       "      <th>11</th>\n",
       "      <td>surf</td>\n",
       "      <td>2018-07</td>\n",
       "      <td>27.0</td>\n",
       "    </tr>\n",
       "    <tr>\n",
       "      <th>12</th>\n",
       "      <td>surf</td>\n",
       "      <td>2018-08</td>\n",
       "      <td>29.0</td>\n",
       "    </tr>\n",
       "    <tr>\n",
       "      <th>13</th>\n",
       "      <td>surf</td>\n",
       "      <td>2018-09</td>\n",
       "      <td>31.0</td>\n",
       "    </tr>\n",
       "    <tr>\n",
       "      <th>14</th>\n",
       "      <td>surf</td>\n",
       "      <td>2018-10</td>\n",
       "      <td>34.0</td>\n",
       "    </tr>\n",
       "    <tr>\n",
       "      <th>15</th>\n",
       "      <td>surf</td>\n",
       "      <td>2018-11</td>\n",
       "      <td>33.0</td>\n",
       "    </tr>\n",
       "    <tr>\n",
       "      <th>16</th>\n",
       "      <td>surf</td>\n",
       "      <td>2018-12</td>\n",
       "      <td>39.0</td>\n",
       "    </tr>\n",
       "    <tr>\n",
       "      <th>17</th>\n",
       "      <td>ultimate</td>\n",
       "      <td>2018-01</td>\n",
       "      <td>16.0</td>\n",
       "    </tr>\n",
       "    <tr>\n",
       "      <th>18</th>\n",
       "      <td>ultimate</td>\n",
       "      <td>2018-02</td>\n",
       "      <td>22.0</td>\n",
       "    </tr>\n",
       "    <tr>\n",
       "      <th>19</th>\n",
       "      <td>ultimate</td>\n",
       "      <td>2018-03</td>\n",
       "      <td>20.0</td>\n",
       "    </tr>\n",
       "    <tr>\n",
       "      <th>20</th>\n",
       "      <td>ultimate</td>\n",
       "      <td>2018-04</td>\n",
       "      <td>22.0</td>\n",
       "    </tr>\n",
       "    <tr>\n",
       "      <th>21</th>\n",
       "      <td>ultimate</td>\n",
       "      <td>2018-05</td>\n",
       "      <td>32.0</td>\n",
       "    </tr>\n",
       "    <tr>\n",
       "      <th>22</th>\n",
       "      <td>ultimate</td>\n",
       "      <td>2018-06</td>\n",
       "      <td>29.0</td>\n",
       "    </tr>\n",
       "    <tr>\n",
       "      <th>23</th>\n",
       "      <td>ultimate</td>\n",
       "      <td>2018-07</td>\n",
       "      <td>33.0</td>\n",
       "    </tr>\n",
       "    <tr>\n",
       "      <th>24</th>\n",
       "      <td>ultimate</td>\n",
       "      <td>2018-08</td>\n",
       "      <td>39.0</td>\n",
       "    </tr>\n",
       "    <tr>\n",
       "      <th>25</th>\n",
       "      <td>ultimate</td>\n",
       "      <td>2018-09</td>\n",
       "      <td>38.0</td>\n",
       "    </tr>\n",
       "    <tr>\n",
       "      <th>26</th>\n",
       "      <td>ultimate</td>\n",
       "      <td>2018-10</td>\n",
       "      <td>39.0</td>\n",
       "    </tr>\n",
       "    <tr>\n",
       "      <th>27</th>\n",
       "      <td>ultimate</td>\n",
       "      <td>2018-11</td>\n",
       "      <td>39.0</td>\n",
       "    </tr>\n",
       "    <tr>\n",
       "      <th>28</th>\n",
       "      <td>ultimate</td>\n",
       "      <td>2018-12</td>\n",
       "      <td>46.0</td>\n",
       "    </tr>\n",
       "  </tbody>\n",
       "</table>\n",
       "</div>"
      ],
      "text/plain": [
       "         plan month_year  messages_per_m\n",
       "0   cancelled    2018-08            15.0\n",
       "1   cancelled    2018-09            18.0\n",
       "2   cancelled    2018-10            43.0\n",
       "3   cancelled    2018-11            21.0\n",
       "4   cancelled    2018-12            34.0\n",
       "5        surf    2018-01            10.0\n",
       "6        surf    2018-02            12.0\n",
       "7        surf    2018-03            15.0\n",
       "8        surf    2018-04            17.0\n",
       "9        surf    2018-05            24.0\n",
       "10       surf    2018-06            25.0\n",
       "11       surf    2018-07            27.0\n",
       "12       surf    2018-08            29.0\n",
       "13       surf    2018-09            31.0\n",
       "14       surf    2018-10            34.0\n",
       "15       surf    2018-11            33.0\n",
       "16       surf    2018-12            39.0\n",
       "17   ultimate    2018-01            16.0\n",
       "18   ultimate    2018-02            22.0\n",
       "19   ultimate    2018-03            20.0\n",
       "20   ultimate    2018-04            22.0\n",
       "21   ultimate    2018-05            32.0\n",
       "22   ultimate    2018-06            29.0\n",
       "23   ultimate    2018-07            33.0\n",
       "24   ultimate    2018-08            39.0\n",
       "25   ultimate    2018-09            38.0\n",
       "26   ultimate    2018-10            39.0\n",
       "27   ultimate    2018-11            39.0\n",
       "28   ultimate    2018-12            46.0"
      ]
     },
     "execution_count": 56,
     "metadata": {},
     "output_type": "execute_result"
    }
   ],
   "source": [
    "# Compare the number of messages users of each plan tend to send each month\n",
    "# plan month_year messages_per_m\n",
    "avg_messages_month = merged_data.groupby(['plan', 'month_year'])['messages_per_m'].mean().round(0).reset_index()\n",
    "avg_messages_month\n"
   ]
  },
  {
   "cell_type": "code",
   "execution_count": 57,
   "metadata": {},
   "outputs": [
    {
     "data": {
      "text/html": [
       "<div>\n",
       "<style scoped>\n",
       "    .dataframe tbody tr th:only-of-type {\n",
       "        vertical-align: middle;\n",
       "    }\n",
       "\n",
       "    .dataframe tbody tr th {\n",
       "        vertical-align: top;\n",
       "    }\n",
       "\n",
       "    .dataframe thead th {\n",
       "        text-align: right;\n",
       "    }\n",
       "</style>\n",
       "<table border=\"1\" class=\"dataframe\">\n",
       "  <thead>\n",
       "    <tr style=\"text-align: right;\">\n",
       "      <th></th>\n",
       "      <th>month_year</th>\n",
       "      <th>surf_messages_per_m</th>\n",
       "      <th>ultimate_messages_per_m</th>\n",
       "    </tr>\n",
       "  </thead>\n",
       "  <tbody>\n",
       "    <tr>\n",
       "      <th>0</th>\n",
       "      <td>2018-01</td>\n",
       "      <td>10.0</td>\n",
       "      <td>16.0</td>\n",
       "    </tr>\n",
       "    <tr>\n",
       "      <th>1</th>\n",
       "      <td>2018-02</td>\n",
       "      <td>12.0</td>\n",
       "      <td>22.0</td>\n",
       "    </tr>\n",
       "    <tr>\n",
       "      <th>2</th>\n",
       "      <td>2018-03</td>\n",
       "      <td>15.0</td>\n",
       "      <td>20.0</td>\n",
       "    </tr>\n",
       "    <tr>\n",
       "      <th>3</th>\n",
       "      <td>2018-04</td>\n",
       "      <td>17.0</td>\n",
       "      <td>22.0</td>\n",
       "    </tr>\n",
       "    <tr>\n",
       "      <th>4</th>\n",
       "      <td>2018-05</td>\n",
       "      <td>24.0</td>\n",
       "      <td>32.0</td>\n",
       "    </tr>\n",
       "    <tr>\n",
       "      <th>5</th>\n",
       "      <td>2018-06</td>\n",
       "      <td>25.0</td>\n",
       "      <td>29.0</td>\n",
       "    </tr>\n",
       "    <tr>\n",
       "      <th>6</th>\n",
       "      <td>2018-07</td>\n",
       "      <td>27.0</td>\n",
       "      <td>33.0</td>\n",
       "    </tr>\n",
       "    <tr>\n",
       "      <th>7</th>\n",
       "      <td>2018-08</td>\n",
       "      <td>29.0</td>\n",
       "      <td>39.0</td>\n",
       "    </tr>\n",
       "    <tr>\n",
       "      <th>8</th>\n",
       "      <td>2018-09</td>\n",
       "      <td>31.0</td>\n",
       "      <td>38.0</td>\n",
       "    </tr>\n",
       "    <tr>\n",
       "      <th>9</th>\n",
       "      <td>2018-10</td>\n",
       "      <td>34.0</td>\n",
       "      <td>39.0</td>\n",
       "    </tr>\n",
       "    <tr>\n",
       "      <th>10</th>\n",
       "      <td>2018-11</td>\n",
       "      <td>33.0</td>\n",
       "      <td>39.0</td>\n",
       "    </tr>\n",
       "    <tr>\n",
       "      <th>11</th>\n",
       "      <td>2018-12</td>\n",
       "      <td>39.0</td>\n",
       "      <td>46.0</td>\n",
       "    </tr>\n",
       "  </tbody>\n",
       "</table>\n",
       "</div>"
      ],
      "text/plain": [
       "   month_year  surf_messages_per_m  ultimate_messages_per_m\n",
       "0     2018-01                 10.0                     16.0\n",
       "1     2018-02                 12.0                     22.0\n",
       "2     2018-03                 15.0                     20.0\n",
       "3     2018-04                 17.0                     22.0\n",
       "4     2018-05                 24.0                     32.0\n",
       "5     2018-06                 25.0                     29.0\n",
       "6     2018-07                 27.0                     33.0\n",
       "7     2018-08                 29.0                     39.0\n",
       "8     2018-09                 31.0                     38.0\n",
       "9     2018-10                 34.0                     39.0\n",
       "10    2018-11                 33.0                     39.0\n",
       "11    2018-12                 39.0                     46.0"
      ]
     },
     "execution_count": 57,
     "metadata": {},
     "output_type": "execute_result"
    }
   ],
   "source": [
    "# split\n",
    "avg_messages_surf = avg_messages_month[avg_messages_month['plan'] == 'surf']\n",
    "avg_messages_surf = avg_messages_surf.rename(columns={'messages_per_m': 'surf_messages_per_m'})\n",
    "avg_messages_surf\n",
    "\n",
    "avg_messages_ultimate = avg_messages_month[avg_messages_month['plan'] == 'ultimate']\n",
    "avg_messages_ultimate = avg_messages_ultimate.rename(columns={'messages_per_m': 'ultimate_messages_per_m'})\n",
    "avg_messages_ultimate\n",
    "\n",
    "# merge\n",
    "avg_messages_month = pd.merge(\n",
    "    avg_messages_surf[['month_year', 'surf_messages_per_m']],\n",
    "    avg_messages_ultimate[['month_year', 'ultimate_messages_per_m']],\n",
    "    on='month_year',\n",
    "    how='outer'\n",
    ")\n",
    "\n",
    "avg_messages_month"
   ]
  },
  {
   "cell_type": "code",
   "execution_count": 58,
   "metadata": {},
   "outputs": [
    {
     "data": {
      "image/png": "[encoded data removed]",
      "text/plain": [
       "<Figure size 640x480 with 1 Axes>"
      ]
     },
     "metadata": {},
     "output_type": "display_data"
    }
   ],
   "source": [
    "# Plot bar graph\n",
    "avg_messages_month.plot(\n",
    "    x='month_year',\n",
    "    kind='bar',\n",
    "    title='Messages per Plan per Month',\n",
    "    xlabel='Month',\n",
    "    ylabel='Messages per Month'\n",
    ")\n",
    "\n",
    "plt.legend(['Surf', 'Ultimate'], loc='lower right')\n",
    "plt.xticks(rotation=45)\n",
    "plt.show()"
   ]
  },
  {
   "cell_type": "markdown",
   "metadata": {},
   "source": [
    "### Summary:\n",
    "Surf users saw a 128.6% increase in messages per month, while Ultimate users experienced a 161.9% rise, with Ultimate consistently outperforming Surf in message volume. This suggests that Ultimate users are either heavier communicators or benefit from features that encourage more messaging. The growth trajectory, particularly from mid-year onwards, highlights seasonal usage patterns and potential opportunities for targeted promotions or upselling strategies. With messaging activity reaching its peak in December, the company can leverage this data to refine pricing, introduce bundled offers, or enhance customer retention efforts, ensuring continued growth and increased customer satisfaction."
   ]
  },
  {
   "cell_type": "markdown",
   "metadata": {},
   "source": [
    " "
   ]
  },
  {
   "cell_type": "markdown",
   "metadata": {},
   "source": [
    "## Internet"
   ]
  },
  {
   "cell_type": "code",
   "execution_count": 59,
   "metadata": {},
   "outputs": [
    {
     "data": {
      "text/html": [
       "<div>\n",
       "<style scoped>\n",
       "    .dataframe tbody tr th:only-of-type {\n",
       "        vertical-align: middle;\n",
       "    }\n",
       "\n",
       "    .dataframe tbody tr th {\n",
       "        vertical-align: top;\n",
       "    }\n",
       "\n",
       "    .dataframe thead th {\n",
       "        text-align: right;\n",
       "    }\n",
       "</style>\n",
       "<table border=\"1\" class=\"dataframe\">\n",
       "  <thead>\n",
       "    <tr style=\"text-align: right;\">\n",
       "      <th></th>\n",
       "      <th>plan</th>\n",
       "      <th>month_year</th>\n",
       "      <th>gb_used_per_m</th>\n",
       "    </tr>\n",
       "  </thead>\n",
       "  <tbody>\n",
       "    <tr>\n",
       "      <th>0</th>\n",
       "      <td>cancelled</td>\n",
       "      <td>2018-08</td>\n",
       "      <td>19.0</td>\n",
       "    </tr>\n",
       "    <tr>\n",
       "      <th>1</th>\n",
       "      <td>cancelled</td>\n",
       "      <td>2018-09</td>\n",
       "      <td>10.0</td>\n",
       "    </tr>\n",
       "    <tr>\n",
       "      <th>2</th>\n",
       "      <td>cancelled</td>\n",
       "      <td>2018-10</td>\n",
       "      <td>17.0</td>\n",
       "    </tr>\n",
       "    <tr>\n",
       "      <th>3</th>\n",
       "      <td>cancelled</td>\n",
       "      <td>2018-11</td>\n",
       "      <td>15.0</td>\n",
       "    </tr>\n",
       "    <tr>\n",
       "      <th>4</th>\n",
       "      <td>cancelled</td>\n",
       "      <td>2018-12</td>\n",
       "      <td>18.0</td>\n",
       "    </tr>\n",
       "    <tr>\n",
       "      <th>5</th>\n",
       "      <td>surf</td>\n",
       "      <td>2018-01</td>\n",
       "      <td>5.0</td>\n",
       "    </tr>\n",
       "    <tr>\n",
       "      <th>6</th>\n",
       "      <td>surf</td>\n",
       "      <td>2018-02</td>\n",
       "      <td>13.0</td>\n",
       "    </tr>\n",
       "    <tr>\n",
       "      <th>7</th>\n",
       "      <td>surf</td>\n",
       "      <td>2018-03</td>\n",
       "      <td>14.0</td>\n",
       "    </tr>\n",
       "    <tr>\n",
       "      <th>8</th>\n",
       "      <td>surf</td>\n",
       "      <td>2018-04</td>\n",
       "      <td>12.0</td>\n",
       "    </tr>\n",
       "    <tr>\n",
       "      <th>9</th>\n",
       "      <td>surf</td>\n",
       "      <td>2018-05</td>\n",
       "      <td>14.0</td>\n",
       "    </tr>\n",
       "    <tr>\n",
       "      <th>10</th>\n",
       "      <td>surf</td>\n",
       "      <td>2018-06</td>\n",
       "      <td>16.0</td>\n",
       "    </tr>\n",
       "    <tr>\n",
       "      <th>11</th>\n",
       "      <td>surf</td>\n",
       "      <td>2018-07</td>\n",
       "      <td>17.0</td>\n",
       "    </tr>\n",
       "    <tr>\n",
       "      <th>12</th>\n",
       "      <td>surf</td>\n",
       "      <td>2018-08</td>\n",
       "      <td>17.0</td>\n",
       "    </tr>\n",
       "    <tr>\n",
       "      <th>13</th>\n",
       "      <td>surf</td>\n",
       "      <td>2018-09</td>\n",
       "      <td>17.0</td>\n",
       "    </tr>\n",
       "    <tr>\n",
       "      <th>14</th>\n",
       "      <td>surf</td>\n",
       "      <td>2018-10</td>\n",
       "      <td>18.0</td>\n",
       "    </tr>\n",
       "    <tr>\n",
       "      <th>15</th>\n",
       "      <td>surf</td>\n",
       "      <td>2018-11</td>\n",
       "      <td>17.0</td>\n",
       "    </tr>\n",
       "    <tr>\n",
       "      <th>16</th>\n",
       "      <td>surf</td>\n",
       "      <td>2018-12</td>\n",
       "      <td>19.0</td>\n",
       "    </tr>\n",
       "    <tr>\n",
       "      <th>17</th>\n",
       "      <td>ultimate</td>\n",
       "      <td>2018-01</td>\n",
       "      <td>7.0</td>\n",
       "    </tr>\n",
       "    <tr>\n",
       "      <th>18</th>\n",
       "      <td>ultimate</td>\n",
       "      <td>2018-02</td>\n",
       "      <td>18.0</td>\n",
       "    </tr>\n",
       "    <tr>\n",
       "      <th>19</th>\n",
       "      <td>ultimate</td>\n",
       "      <td>2018-03</td>\n",
       "      <td>19.0</td>\n",
       "    </tr>\n",
       "    <tr>\n",
       "      <th>20</th>\n",
       "      <td>ultimate</td>\n",
       "      <td>2018-04</td>\n",
       "      <td>16.0</td>\n",
       "    </tr>\n",
       "    <tr>\n",
       "      <th>21</th>\n",
       "      <td>ultimate</td>\n",
       "      <td>2018-05</td>\n",
       "      <td>17.0</td>\n",
       "    </tr>\n",
       "    <tr>\n",
       "      <th>22</th>\n",
       "      <td>ultimate</td>\n",
       "      <td>2018-06</td>\n",
       "      <td>16.0</td>\n",
       "    </tr>\n",
       "    <tr>\n",
       "      <th>23</th>\n",
       "      <td>ultimate</td>\n",
       "      <td>2018-07</td>\n",
       "      <td>17.0</td>\n",
       "    </tr>\n",
       "    <tr>\n",
       "      <th>24</th>\n",
       "      <td>ultimate</td>\n",
       "      <td>2018-08</td>\n",
       "      <td>18.0</td>\n",
       "    </tr>\n",
       "    <tr>\n",
       "      <th>25</th>\n",
       "      <td>ultimate</td>\n",
       "      <td>2018-09</td>\n",
       "      <td>18.0</td>\n",
       "    </tr>\n",
       "    <tr>\n",
       "      <th>26</th>\n",
       "      <td>ultimate</td>\n",
       "      <td>2018-10</td>\n",
       "      <td>18.0</td>\n",
       "    </tr>\n",
       "    <tr>\n",
       "      <th>27</th>\n",
       "      <td>ultimate</td>\n",
       "      <td>2018-11</td>\n",
       "      <td>18.0</td>\n",
       "    </tr>\n",
       "    <tr>\n",
       "      <th>28</th>\n",
       "      <td>ultimate</td>\n",
       "      <td>2018-12</td>\n",
       "      <td>19.0</td>\n",
       "    </tr>\n",
       "  </tbody>\n",
       "</table>\n",
       "</div>"
      ],
      "text/plain": [
       "         plan month_year  gb_used_per_m\n",
       "0   cancelled    2018-08           19.0\n",
       "1   cancelled    2018-09           10.0\n",
       "2   cancelled    2018-10           17.0\n",
       "3   cancelled    2018-11           15.0\n",
       "4   cancelled    2018-12           18.0\n",
       "5        surf    2018-01            5.0\n",
       "6        surf    2018-02           13.0\n",
       "7        surf    2018-03           14.0\n",
       "8        surf    2018-04           12.0\n",
       "9        surf    2018-05           14.0\n",
       "10       surf    2018-06           16.0\n",
       "11       surf    2018-07           17.0\n",
       "12       surf    2018-08           17.0\n",
       "13       surf    2018-09           17.0\n",
       "14       surf    2018-10           18.0\n",
       "15       surf    2018-11           17.0\n",
       "16       surf    2018-12           19.0\n",
       "17   ultimate    2018-01            7.0\n",
       "18   ultimate    2018-02           18.0\n",
       "19   ultimate    2018-03           19.0\n",
       "20   ultimate    2018-04           16.0\n",
       "21   ultimate    2018-05           17.0\n",
       "22   ultimate    2018-06           16.0\n",
       "23   ultimate    2018-07           17.0\n",
       "24   ultimate    2018-08           18.0\n",
       "25   ultimate    2018-09           18.0\n",
       "26   ultimate    2018-10           18.0\n",
       "27   ultimate    2018-11           18.0\n",
       "28   ultimate    2018-12           19.0"
      ]
     },
     "execution_count": 59,
     "metadata": {},
     "output_type": "execute_result"
    }
   ],
   "source": [
    "# Compare the amount of internet traffic consumed by users per plan\n",
    "avg_internet_month = merged_data.groupby(['plan', 'month_year'])['gb_used_per_m'].mean().round(0).reset_index()\n",
    "avg_internet_month"
   ]
  },
  {
   "cell_type": "code",
   "execution_count": 60,
   "metadata": {},
   "outputs": [
    {
     "data": {
      "text/html": [
       "<div>\n",
       "<style scoped>\n",
       "    .dataframe tbody tr th:only-of-type {\n",
       "        vertical-align: middle;\n",
       "    }\n",
       "\n",
       "    .dataframe tbody tr th {\n",
       "        vertical-align: top;\n",
       "    }\n",
       "\n",
       "    .dataframe thead th {\n",
       "        text-align: right;\n",
       "    }\n",
       "</style>\n",
       "<table border=\"1\" class=\"dataframe\">\n",
       "  <thead>\n",
       "    <tr style=\"text-align: right;\">\n",
       "      <th></th>\n",
       "      <th>month_year</th>\n",
       "      <th>surf_gb_per_m</th>\n",
       "      <th>ultimate_gb_per_m</th>\n",
       "    </tr>\n",
       "  </thead>\n",
       "  <tbody>\n",
       "    <tr>\n",
       "      <th>0</th>\n",
       "      <td>2018-01</td>\n",
       "      <td>5.0</td>\n",
       "      <td>7.0</td>\n",
       "    </tr>\n",
       "    <tr>\n",
       "      <th>1</th>\n",
       "      <td>2018-02</td>\n",
       "      <td>13.0</td>\n",
       "      <td>18.0</td>\n",
       "    </tr>\n",
       "    <tr>\n",
       "      <th>2</th>\n",
       "      <td>2018-03</td>\n",
       "      <td>14.0</td>\n",
       "      <td>19.0</td>\n",
       "    </tr>\n",
       "    <tr>\n",
       "      <th>3</th>\n",
       "      <td>2018-04</td>\n",
       "      <td>12.0</td>\n",
       "      <td>16.0</td>\n",
       "    </tr>\n",
       "    <tr>\n",
       "      <th>4</th>\n",
       "      <td>2018-05</td>\n",
       "      <td>14.0</td>\n",
       "      <td>17.0</td>\n",
       "    </tr>\n",
       "    <tr>\n",
       "      <th>5</th>\n",
       "      <td>2018-06</td>\n",
       "      <td>16.0</td>\n",
       "      <td>16.0</td>\n",
       "    </tr>\n",
       "    <tr>\n",
       "      <th>6</th>\n",
       "      <td>2018-07</td>\n",
       "      <td>17.0</td>\n",
       "      <td>17.0</td>\n",
       "    </tr>\n",
       "    <tr>\n",
       "      <th>7</th>\n",
       "      <td>2018-08</td>\n",
       "      <td>17.0</td>\n",
       "      <td>18.0</td>\n",
       "    </tr>\n",
       "    <tr>\n",
       "      <th>8</th>\n",
       "      <td>2018-09</td>\n",
       "      <td>17.0</td>\n",
       "      <td>18.0</td>\n",
       "    </tr>\n",
       "    <tr>\n",
       "      <th>9</th>\n",
       "      <td>2018-10</td>\n",
       "      <td>18.0</td>\n",
       "      <td>18.0</td>\n",
       "    </tr>\n",
       "    <tr>\n",
       "      <th>10</th>\n",
       "      <td>2018-11</td>\n",
       "      <td>17.0</td>\n",
       "      <td>18.0</td>\n",
       "    </tr>\n",
       "    <tr>\n",
       "      <th>11</th>\n",
       "      <td>2018-12</td>\n",
       "      <td>19.0</td>\n",
       "      <td>19.0</td>\n",
       "    </tr>\n",
       "  </tbody>\n",
       "</table>\n",
       "</div>"
      ],
      "text/plain": [
       "   month_year  surf_gb_per_m  ultimate_gb_per_m\n",
       "0     2018-01            5.0                7.0\n",
       "1     2018-02           13.0               18.0\n",
       "2     2018-03           14.0               19.0\n",
       "3     2018-04           12.0               16.0\n",
       "4     2018-05           14.0               17.0\n",
       "5     2018-06           16.0               16.0\n",
       "6     2018-07           17.0               17.0\n",
       "7     2018-08           17.0               18.0\n",
       "8     2018-09           17.0               18.0\n",
       "9     2018-10           18.0               18.0\n",
       "10    2018-11           17.0               18.0\n",
       "11    2018-12           19.0               19.0"
      ]
     },
     "execution_count": 60,
     "metadata": {},
     "output_type": "execute_result"
    }
   ],
   "source": [
    "# split\n",
    "avg_internet_ultimate = avg_internet_month[avg_internet_month['plan'] == 'ultimate']\n",
    "avg_internet_ultimate = avg_internet_ultimate.rename(columns={'gb_used_per_m': 'ultimate_gb_per_m'})\n",
    "avg_internet_ultimate\n",
    "\n",
    "avg_internet_surf = avg_internet_month[avg_internet_month['plan'] == 'surf']\n",
    "avg_internet_surf = avg_internet_surf.rename(columns={'gb_used_per_m': 'surf_gb_per_m'})\n",
    "avg_internet_surf\n",
    "\n",
    "# merge\n",
    "avg_internet_month = pd.merge(\n",
    "    avg_internet_surf[['month_year', 'surf_gb_per_m']],\n",
    "    avg_internet_ultimate[['month_year', 'ultimate_gb_per_m']],\n",
    "    on='month_year',\n",
    "    how='outer'\n",
    ")\n",
    "avg_internet_month"
   ]
  },
  {
   "cell_type": "code",
   "execution_count": 61,
   "metadata": {},
   "outputs": [
    {
     "data": {
      "image/png": "[encoded data removed]",
      "text/plain": [
       "<Figure size 640x480 with 1 Axes>"
      ]
     },
     "metadata": {},
     "output_type": "display_data"
    }
   ],
   "source": [
    "# Plot\n",
    "avg_internet_month.plot(\n",
    "    x='month_year',\n",
    "    kind='bar',\n",
    "    title='Internet Consumed per Plan per Month',\n",
    "    xlabel='Month',\n",
    "    ylabel='Internet Consumed'  \n",
    ")\n",
    "plt.legend(['Surf', 'Ultimate'], loc='lower right')\n",
    "plt.xticks(rotation=45)\n",
    "plt.show()"
   ]
  },
  {
   "cell_type": "markdown",
   "metadata": {},
   "source": [
    "### Summary:\n",
    "Surf users started the year with 5GB per month, growing to 19GB per month in December, while Ultimate users increased from 7GB to 19GB over the same period. The most notable growth occurred in the first quarter, indicating a shift in user behavior or increased reliance on mobile data. By mid-year, usage stabilized, with both plans reaching similar levels. This suggests that data consumption is becoming a primary driver of engagement, presenting opportunities for introducing higher-tier data plans, optimizing pricing strategies, or bundling data-centric services to maximize customer retention and revenue growth."
   ]
  },
  {
   "cell_type": "markdown",
   "metadata": {},
   "source": [
    " "
   ]
  },
  {
   "cell_type": "markdown",
   "metadata": {},
   "source": [
    "## Revenue"
   ]
  },
  {
   "cell_type": "code",
   "execution_count": 62,
   "metadata": {},
   "outputs": [
    {
     "data": {
      "text/html": [
       "<div>\n",
       "<style scoped>\n",
       "    .dataframe tbody tr th:only-of-type {\n",
       "        vertical-align: middle;\n",
       "    }\n",
       "\n",
       "    .dataframe tbody tr th {\n",
       "        vertical-align: top;\n",
       "    }\n",
       "\n",
       "    .dataframe thead th {\n",
       "        text-align: right;\n",
       "    }\n",
       "</style>\n",
       "<table border=\"1\" class=\"dataframe\">\n",
       "  <thead>\n",
       "    <tr style=\"text-align: right;\">\n",
       "      <th></th>\n",
       "      <th>plan</th>\n",
       "      <th>month_year</th>\n",
       "      <th>monthly_revenue</th>\n",
       "    </tr>\n",
       "  </thead>\n",
       "  <tbody>\n",
       "    <tr>\n",
       "      <th>0</th>\n",
       "      <td>cancelled</td>\n",
       "      <td>2018-08</td>\n",
       "      <td>211.39</td>\n",
       "    </tr>\n",
       "    <tr>\n",
       "      <th>1</th>\n",
       "      <td>cancelled</td>\n",
       "      <td>2018-09</td>\n",
       "      <td>104.86</td>\n",
       "    </tr>\n",
       "    <tr>\n",
       "      <th>2</th>\n",
       "      <td>cancelled</td>\n",
       "      <td>2018-10</td>\n",
       "      <td>187.25</td>\n",
       "    </tr>\n",
       "    <tr>\n",
       "      <th>3</th>\n",
       "      <td>cancelled</td>\n",
       "      <td>2018-11</td>\n",
       "      <td>160.52</td>\n",
       "    </tr>\n",
       "    <tr>\n",
       "      <th>4</th>\n",
       "      <td>cancelled</td>\n",
       "      <td>2018-12</td>\n",
       "      <td>195.35</td>\n",
       "    </tr>\n",
       "    <tr>\n",
       "      <th>5</th>\n",
       "      <td>surf</td>\n",
       "      <td>2018-01</td>\n",
       "      <td>20.00</td>\n",
       "    </tr>\n",
       "    <tr>\n",
       "      <th>6</th>\n",
       "      <td>surf</td>\n",
       "      <td>2018-02</td>\n",
       "      <td>37.73</td>\n",
       "    </tr>\n",
       "    <tr>\n",
       "      <th>7</th>\n",
       "      <td>surf</td>\n",
       "      <td>2018-03</td>\n",
       "      <td>48.12</td>\n",
       "    </tr>\n",
       "    <tr>\n",
       "      <th>8</th>\n",
       "      <td>surf</td>\n",
       "      <td>2018-04</td>\n",
       "      <td>42.11</td>\n",
       "    </tr>\n",
       "    <tr>\n",
       "      <th>9</th>\n",
       "      <td>surf</td>\n",
       "      <td>2018-05</td>\n",
       "      <td>50.10</td>\n",
       "    </tr>\n",
       "    <tr>\n",
       "      <th>10</th>\n",
       "      <td>surf</td>\n",
       "      <td>2018-06</td>\n",
       "      <td>51.34</td>\n",
       "    </tr>\n",
       "    <tr>\n",
       "      <th>11</th>\n",
       "      <td>surf</td>\n",
       "      <td>2018-07</td>\n",
       "      <td>66.23</td>\n",
       "    </tr>\n",
       "    <tr>\n",
       "      <th>12</th>\n",
       "      <td>surf</td>\n",
       "      <td>2018-08</td>\n",
       "      <td>67.14</td>\n",
       "    </tr>\n",
       "    <tr>\n",
       "      <th>13</th>\n",
       "      <td>surf</td>\n",
       "      <td>2018-09</td>\n",
       "      <td>61.11</td>\n",
       "    </tr>\n",
       "    <tr>\n",
       "      <th>14</th>\n",
       "      <td>surf</td>\n",
       "      <td>2018-10</td>\n",
       "      <td>68.32</td>\n",
       "    </tr>\n",
       "    <tr>\n",
       "      <th>15</th>\n",
       "      <td>surf</td>\n",
       "      <td>2018-11</td>\n",
       "      <td>61.40</td>\n",
       "    </tr>\n",
       "    <tr>\n",
       "      <th>16</th>\n",
       "      <td>surf</td>\n",
       "      <td>2018-12</td>\n",
       "      <td>73.55</td>\n",
       "    </tr>\n",
       "    <tr>\n",
       "      <th>17</th>\n",
       "      <td>ultimate</td>\n",
       "      <td>2018-01</td>\n",
       "      <td>70.00</td>\n",
       "    </tr>\n",
       "    <tr>\n",
       "      <th>18</th>\n",
       "      <td>ultimate</td>\n",
       "      <td>2018-02</td>\n",
       "      <td>70.00</td>\n",
       "    </tr>\n",
       "    <tr>\n",
       "      <th>19</th>\n",
       "      <td>ultimate</td>\n",
       "      <td>2018-03</td>\n",
       "      <td>75.83</td>\n",
       "    </tr>\n",
       "    <tr>\n",
       "      <th>20</th>\n",
       "      <td>ultimate</td>\n",
       "      <td>2018-04</td>\n",
       "      <td>73.67</td>\n",
       "    </tr>\n",
       "    <tr>\n",
       "      <th>21</th>\n",
       "      <td>ultimate</td>\n",
       "      <td>2018-05</td>\n",
       "      <td>70.97</td>\n",
       "    </tr>\n",
       "    <tr>\n",
       "      <th>22</th>\n",
       "      <td>ultimate</td>\n",
       "      <td>2018-06</td>\n",
       "      <td>71.79</td>\n",
       "    </tr>\n",
       "    <tr>\n",
       "      <th>23</th>\n",
       "      <td>ultimate</td>\n",
       "      <td>2018-07</td>\n",
       "      <td>72.14</td>\n",
       "    </tr>\n",
       "    <tr>\n",
       "      <th>24</th>\n",
       "      <td>ultimate</td>\n",
       "      <td>2018-08</td>\n",
       "      <td>73.50</td>\n",
       "    </tr>\n",
       "    <tr>\n",
       "      <th>25</th>\n",
       "      <td>ultimate</td>\n",
       "      <td>2018-09</td>\n",
       "      <td>72.42</td>\n",
       "    </tr>\n",
       "    <tr>\n",
       "      <th>26</th>\n",
       "      <td>ultimate</td>\n",
       "      <td>2018-10</td>\n",
       "      <td>72.67</td>\n",
       "    </tr>\n",
       "    <tr>\n",
       "      <th>27</th>\n",
       "      <td>ultimate</td>\n",
       "      <td>2018-11</td>\n",
       "      <td>72.03</td>\n",
       "    </tr>\n",
       "    <tr>\n",
       "      <th>28</th>\n",
       "      <td>ultimate</td>\n",
       "      <td>2018-12</td>\n",
       "      <td>73.98</td>\n",
       "    </tr>\n",
       "  </tbody>\n",
       "</table>\n",
       "</div>"
      ],
      "text/plain": [
       "         plan month_year  monthly_revenue\n",
       "0   cancelled    2018-08           211.39\n",
       "1   cancelled    2018-09           104.86\n",
       "2   cancelled    2018-10           187.25\n",
       "3   cancelled    2018-11           160.52\n",
       "4   cancelled    2018-12           195.35\n",
       "5        surf    2018-01            20.00\n",
       "6        surf    2018-02            37.73\n",
       "7        surf    2018-03            48.12\n",
       "8        surf    2018-04            42.11\n",
       "9        surf    2018-05            50.10\n",
       "10       surf    2018-06            51.34\n",
       "11       surf    2018-07            66.23\n",
       "12       surf    2018-08            67.14\n",
       "13       surf    2018-09            61.11\n",
       "14       surf    2018-10            68.32\n",
       "15       surf    2018-11            61.40\n",
       "16       surf    2018-12            73.55\n",
       "17   ultimate    2018-01            70.00\n",
       "18   ultimate    2018-02            70.00\n",
       "19   ultimate    2018-03            75.83\n",
       "20   ultimate    2018-04            73.67\n",
       "21   ultimate    2018-05            70.97\n",
       "22   ultimate    2018-06            71.79\n",
       "23   ultimate    2018-07            72.14\n",
       "24   ultimate    2018-08            73.50\n",
       "25   ultimate    2018-09            72.42\n",
       "26   ultimate    2018-10            72.67\n",
       "27   ultimate    2018-11            72.03\n",
       "28   ultimate    2018-12            73.98"
      ]
     },
     "execution_count": 62,
     "metadata": {},
     "output_type": "execute_result"
    }
   ],
   "source": [
    "avg_revenue_month = merged_data.groupby(['plan', 'month_year'])['monthly_revenue'].mean().round(2).reset_index()\n",
    "avg_revenue_month"
   ]
  },
  {
   "cell_type": "code",
   "execution_count": 63,
   "metadata": {},
   "outputs": [
    {
     "data": {
      "text/html": [
       "<div>\n",
       "<style scoped>\n",
       "    .dataframe tbody tr th:only-of-type {\n",
       "        vertical-align: middle;\n",
       "    }\n",
       "\n",
       "    .dataframe tbody tr th {\n",
       "        vertical-align: top;\n",
       "    }\n",
       "\n",
       "    .dataframe thead th {\n",
       "        text-align: right;\n",
       "    }\n",
       "</style>\n",
       "<table border=\"1\" class=\"dataframe\">\n",
       "  <thead>\n",
       "    <tr style=\"text-align: right;\">\n",
       "      <th></th>\n",
       "      <th>month_year</th>\n",
       "      <th>surf_revenue_per_m</th>\n",
       "      <th>ultimate_revenue_per_m</th>\n",
       "    </tr>\n",
       "  </thead>\n",
       "  <tbody>\n",
       "    <tr>\n",
       "      <th>0</th>\n",
       "      <td>2018-01</td>\n",
       "      <td>20.00</td>\n",
       "      <td>70.00</td>\n",
       "    </tr>\n",
       "    <tr>\n",
       "      <th>1</th>\n",
       "      <td>2018-02</td>\n",
       "      <td>37.73</td>\n",
       "      <td>70.00</td>\n",
       "    </tr>\n",
       "    <tr>\n",
       "      <th>2</th>\n",
       "      <td>2018-03</td>\n",
       "      <td>48.12</td>\n",
       "      <td>75.83</td>\n",
       "    </tr>\n",
       "    <tr>\n",
       "      <th>3</th>\n",
       "      <td>2018-04</td>\n",
       "      <td>42.11</td>\n",
       "      <td>73.67</td>\n",
       "    </tr>\n",
       "    <tr>\n",
       "      <th>4</th>\n",
       "      <td>2018-05</td>\n",
       "      <td>50.10</td>\n",
       "      <td>70.97</td>\n",
       "    </tr>\n",
       "    <tr>\n",
       "      <th>5</th>\n",
       "      <td>2018-06</td>\n",
       "      <td>51.34</td>\n",
       "      <td>71.79</td>\n",
       "    </tr>\n",
       "    <tr>\n",
       "      <th>6</th>\n",
       "      <td>2018-07</td>\n",
       "      <td>66.23</td>\n",
       "      <td>72.14</td>\n",
       "    </tr>\n",
       "    <tr>\n",
       "      <th>7</th>\n",
       "      <td>2018-08</td>\n",
       "      <td>67.14</td>\n",
       "      <td>73.50</td>\n",
       "    </tr>\n",
       "    <tr>\n",
       "      <th>8</th>\n",
       "      <td>2018-09</td>\n",
       "      <td>61.11</td>\n",
       "      <td>72.42</td>\n",
       "    </tr>\n",
       "    <tr>\n",
       "      <th>9</th>\n",
       "      <td>2018-10</td>\n",
       "      <td>68.32</td>\n",
       "      <td>72.67</td>\n",
       "    </tr>\n",
       "    <tr>\n",
       "      <th>10</th>\n",
       "      <td>2018-11</td>\n",
       "      <td>61.40</td>\n",
       "      <td>72.03</td>\n",
       "    </tr>\n",
       "    <tr>\n",
       "      <th>11</th>\n",
       "      <td>2018-12</td>\n",
       "      <td>73.55</td>\n",
       "      <td>73.98</td>\n",
       "    </tr>\n",
       "  </tbody>\n",
       "</table>\n",
       "</div>"
      ],
      "text/plain": [
       "   month_year  surf_revenue_per_m  ultimate_revenue_per_m\n",
       "0     2018-01               20.00                   70.00\n",
       "1     2018-02               37.73                   70.00\n",
       "2     2018-03               48.12                   75.83\n",
       "3     2018-04               42.11                   73.67\n",
       "4     2018-05               50.10                   70.97\n",
       "5     2018-06               51.34                   71.79\n",
       "6     2018-07               66.23                   72.14\n",
       "7     2018-08               67.14                   73.50\n",
       "8     2018-09               61.11                   72.42\n",
       "9     2018-10               68.32                   72.67\n",
       "10    2018-11               61.40                   72.03\n",
       "11    2018-12               73.55                   73.98"
      ]
     },
     "execution_count": 63,
     "metadata": {},
     "output_type": "execute_result"
    }
   ],
   "source": [
    "# split\n",
    "avg_revenue_surf = avg_revenue_month[avg_revenue_month['plan'] == 'surf']\n",
    "avg_revenue_surf = avg_revenue_surf.rename(columns={'monthly_revenue': 'surf_revenue_per_m'})\n",
    "\n",
    "avg_revenue_ultimate = avg_revenue_month[avg_revenue_month['plan'] == 'ultimate']\n",
    "avg_revenue_ultimate = avg_revenue_ultimate.rename(columns={'monthly_revenue': 'ultimate_revenue_per_m'})\n",
    "\n",
    "# merge\n",
    "avg_revenue_month = pd.merge(\n",
    "    avg_revenue_surf[['month_year', 'surf_revenue_per_m']],\n",
    "    avg_revenue_ultimate[['month_year', 'ultimate_revenue_per_m']],\n",
    "    on='month_year',\n",
    "    how='outer'\n",
    ")\n",
    "\n",
    "avg_revenue_month"
   ]
  },
  {
   "cell_type": "code",
   "execution_count": 64,
   "metadata": {},
   "outputs": [
    {
     "data": {
      "image/png": "[encoded data removed]",
      "text/plain": [
       "<Figure size 640x480 with 1 Axes>"
      ]
     },
     "metadata": {},
     "output_type": "display_data"
    }
   ],
   "source": [
    "# plot\n",
    "avg_revenue_month.plot(\n",
    "    x='month_year',\n",
    "    kind='bar',\n",
    "    title='Revenue per Plan per Month',\n",
    "    xlabel='Month',\n",
    "    ylabel='Revenue'\n",
    ")\n",
    "plt.legend(['Surf', 'Ultimate'], loc='lower right')\n",
    "plt.xticks(rotation=45)\n",
    "plt.show()"
   ]
  },
  {
   "cell_type": "markdown",
   "metadata": {},
   "source": [
    "### Summary:\n",
    "Surf revenue increased from 20.00 in January to 73.55 in December, reflecting a significant rise in customer spending and potential upselling of additional services. Ultimate revenue remained relatively consistent, starting at 70.00 and ending at 73.98, suggesting a loyal user base with predictable spending patterns. The steady growth in Surf revenue highlights an opportunity to transition high-usage Surf customers to the Ultimate plan for increased long-term value. Additionally, the mid-year surge in Surf revenue aligns with rising data and messaging usage, indicating a strong correlation between engagement and revenue generation. These insights can inform pricing strategies, targeted promotions, and service enhancements to further optimize revenue potential."
   ]
  },
  {
   "cell_type": "code",
   "execution_count": 65,
   "metadata": {},
   "outputs": [
    {
     "name": "stdout",
     "output_type": "stream",
     "text": [
      "Ultimate Revenue Mean: 72.42\n",
      "Surf Revenue Mean: 53.93\n",
      "Ultimate Revenue Variance: 2.85\n",
      "Surf Revenue Variance: 239.43\n"
     ]
    }
   ],
   "source": [
    "# Means per plan\n",
    "# Ultimate\n",
    "mean_revenue_ultimate = avg_revenue_month['ultimate_revenue_per_m'].mean()\n",
    "print('Ultimate Revenue Mean:', mean_revenue_ultimate.round(2))\n",
    "\n",
    "# Surf\n",
    "mean_revenue_surf = avg_revenue_month['surf_revenue_per_m'].mean()\n",
    "print('Surf Revenue Mean:', mean_revenue_surf.round(2))\n",
    "\n",
    "# Variance per plan\n",
    "# Ultimate\n",
    "variance_revenue_ultimate = avg_revenue_month['ultimate_revenue_per_m'].var()\n",
    "print('Ultimate Revenue Variance:', variance_revenue_ultimate.round(2))\n",
    "\n",
    "# Surf\n",
    "variance_revenue_surf = avg_revenue_month['surf_revenue_per_m'].var()\n",
    "print('Surf Revenue Variance:', variance_revenue_surf.round(2))"
   ]
  },
  {
   "cell_type": "markdown",
   "metadata": {},
   "source": [
    "### Summary:\n",
    "The Ultimate plan had a higher average monthly revenue of 72.42 with low variance (2.85), indicating a stable and predictable revenue stream from a consistent user base. In contrast, the Surf plan had a lower average revenue of 53.93 but exhibited high variance (239.43), suggesting significant fluctuations in user spending. This variability indicates that Surf users may be more price-sensitive or influenced by seasonal promotions and upselling opportunities. The Ultimate plan’s stability makes it a reliable revenue driver, while the Surf plan’s potential for high revenue growth suggests opportunities for targeted upgrades and retention strategies. Leveraging these insights, the company can focus on maximizing revenue from Surf’s high-spending users while maintaining Ultimate’s strong customer loyalty."
   ]
  },
  {
   "cell_type": "markdown",
   "metadata": {},
   "source": [
    " "
   ]
  },
  {
   "cell_type": "markdown",
   "metadata": {},
   "source": [
    "# Test statistical hypotheses"
   ]
  },
  {
   "cell_type": "markdown",
   "metadata": {},
   "source": [
    "H0: The average monthly revenue of Ultimate and Surf plan users is equal.  \n",
    "H1: The average monthly revenue of Ultimate and Surf plan users is different.  "
   ]
  },
  {
   "cell_type": "code",
   "execution_count": 66,
   "metadata": {},
   "outputs": [
    {
     "name": "stdout",
     "output_type": "stream",
     "text": [
      "pvalue: 2.6283451476588284e-05\n",
      "We reject the null hypothesis.\n"
     ]
    }
   ],
   "source": [
    "# Test the hypotheses\n",
    "\n",
    "# ultimate revenue\n",
    "## Extracted individual user revenue per month for ultimate\n",
    "ultimate_revenue = merged_data.loc[merged_data['plan'] == 'ultimate', 'monthly_revenue']\n",
    "\n",
    "# surf revenue\n",
    "## Extracted individual user revenue per month for surf\n",
    "surf_revenue = merged_data.loc[merged_data['plan'] == 'surf', 'monthly_revenue']\n",
    "\n",
    "alpha = 0.05\n",
    "\n",
    "results = st.ttest_ind(ultimate_revenue, surf_revenue)\n",
    "\n",
    "print('pvalue:', results.pvalue)\n",
    "\n",
    "if results.pvalue < alpha:\n",
    "    print('We reject the null hypothesis.')\n",
    "else:\n",
    "    print(\"We can't reject the null hypothese.\")\n"
   ]
  },
  {
   "cell_type": "code",
   "execution_count": 67,
   "metadata": {},
   "outputs": [
    {
     "data": {
      "text/html": [
       "<div>\n",
       "<style scoped>\n",
       "    .dataframe tbody tr th:only-of-type {\n",
       "        vertical-align: middle;\n",
       "    }\n",
       "\n",
       "    .dataframe tbody tr th {\n",
       "        vertical-align: top;\n",
       "    }\n",
       "\n",
       "    .dataframe thead th {\n",
       "        text-align: right;\n",
       "    }\n",
       "</style>\n",
       "<table border=\"1\" class=\"dataframe\">\n",
       "  <thead>\n",
       "    <tr style=\"text-align: right;\">\n",
       "      <th></th>\n",
       "      <th>month_year</th>\n",
       "      <th>city</th>\n",
       "      <th>ny_monthly_revenue</th>\n",
       "    </tr>\n",
       "  </thead>\n",
       "  <tbody>\n",
       "    <tr>\n",
       "      <th>15</th>\n",
       "      <td>2018-02</td>\n",
       "      <td>new york-newark-jersey city, ny-nj-pa msa</td>\n",
       "      <td>45.00</td>\n",
       "    </tr>\n",
       "    <tr>\n",
       "      <th>32</th>\n",
       "      <td>2018-03</td>\n",
       "      <td>new york-newark-jersey city, ny-nj-pa msa</td>\n",
       "      <td>42.81</td>\n",
       "    </tr>\n",
       "    <tr>\n",
       "      <th>63</th>\n",
       "      <td>2018-04</td>\n",
       "      <td>new york-newark-jersey city, ny-nj-pa msa</td>\n",
       "      <td>41.83</td>\n",
       "    </tr>\n",
       "    <tr>\n",
       "      <th>101</th>\n",
       "      <td>2018-05</td>\n",
       "      <td>new york-newark-jersey city, ny-nj-pa msa</td>\n",
       "      <td>50.74</td>\n",
       "    </tr>\n",
       "    <tr>\n",
       "      <th>149</th>\n",
       "      <td>2018-06</td>\n",
       "      <td>new york-newark-jersey city, ny-nj-pa msa</td>\n",
       "      <td>47.54</td>\n",
       "    </tr>\n",
       "    <tr>\n",
       "      <th>202</th>\n",
       "      <td>2018-07</td>\n",
       "      <td>new york-newark-jersey city, ny-nj-pa msa</td>\n",
       "      <td>55.48</td>\n",
       "    </tr>\n",
       "    <tr>\n",
       "      <th>263</th>\n",
       "      <td>2018-08</td>\n",
       "      <td>new york-newark-jersey city, ny-nj-pa msa</td>\n",
       "      <td>62.30</td>\n",
       "    </tr>\n",
       "    <tr>\n",
       "      <th>328</th>\n",
       "      <td>2018-09</td>\n",
       "      <td>new york-newark-jersey city, ny-nj-pa msa</td>\n",
       "      <td>64.03</td>\n",
       "    </tr>\n",
       "    <tr>\n",
       "      <th>395</th>\n",
       "      <td>2018-10</td>\n",
       "      <td>new york-newark-jersey city, ny-nj-pa msa</td>\n",
       "      <td>74.75</td>\n",
       "    </tr>\n",
       "    <tr>\n",
       "      <th>464</th>\n",
       "      <td>2018-11</td>\n",
       "      <td>new york-newark-jersey city, ny-nj-pa msa</td>\n",
       "      <td>74.18</td>\n",
       "    </tr>\n",
       "    <tr>\n",
       "      <th>536</th>\n",
       "      <td>2018-12</td>\n",
       "      <td>new york-newark-jersey city, ny-nj-pa msa</td>\n",
       "      <td>71.07</td>\n",
       "    </tr>\n",
       "  </tbody>\n",
       "</table>\n",
       "</div>"
      ],
      "text/plain": [
       "    month_year                                       city  ny_monthly_revenue\n",
       "15     2018-02  new york-newark-jersey city, ny-nj-pa msa               45.00\n",
       "32     2018-03  new york-newark-jersey city, ny-nj-pa msa               42.81\n",
       "63     2018-04  new york-newark-jersey city, ny-nj-pa msa               41.83\n",
       "101    2018-05  new york-newark-jersey city, ny-nj-pa msa               50.74\n",
       "149    2018-06  new york-newark-jersey city, ny-nj-pa msa               47.54\n",
       "202    2018-07  new york-newark-jersey city, ny-nj-pa msa               55.48\n",
       "263    2018-08  new york-newark-jersey city, ny-nj-pa msa               62.30\n",
       "328    2018-09  new york-newark-jersey city, ny-nj-pa msa               64.03\n",
       "395    2018-10  new york-newark-jersey city, ny-nj-pa msa               74.75\n",
       "464    2018-11  new york-newark-jersey city, ny-nj-pa msa               74.18\n",
       "536    2018-12  new york-newark-jersey city, ny-nj-pa msa               71.07"
      ]
     },
     "execution_count": 67,
     "metadata": {},
     "output_type": "execute_result"
    }
   ],
   "source": [
    "# Test the hypotheses\n",
    "avg_revenue_city = merged_data.groupby(['month_year', 'city'])['monthly_revenue'].mean().round(2).reset_index()\n",
    "avg_revenue_city\n",
    "\n",
    "# ny split\n",
    "avg_revenue_ny = avg_revenue_city[avg_revenue_city['city'] == 'new york-newark-jersey city, ny-nj-pa msa']\n",
    "avg_revenue_ny = avg_revenue_ny.rename(columns={'monthly_revenue': 'ny_monthly_revenue'})\n",
    "avg_revenue_ny"
   ]
  },
  {
   "cell_type": "code",
   "execution_count": 68,
   "metadata": {},
   "outputs": [
    {
     "name": "stderr",
     "output_type": "stream",
     "text": [
      "/tmp/ipykernel_141/1771447616.py:3: SettingWithCopyWarning: \n",
      "A value is trying to be set on a copy of a slice from a DataFrame.\n",
      "Try using .loc[row_indexer,col_indexer] = value instead\n",
      "\n",
      "See the caveats in the documentation: https://pandas.pydata.org/pandas-docs/stable/user_guide/indexing.html#returning-a-view-versus-a-copy\n",
      "  avg_revenue_other['city'] = 'other'\n"
     ]
    },
    {
     "data": {
      "text/html": [
       "<div>\n",
       "<style scoped>\n",
       "    .dataframe tbody tr th:only-of-type {\n",
       "        vertical-align: middle;\n",
       "    }\n",
       "\n",
       "    .dataframe tbody tr th {\n",
       "        vertical-align: top;\n",
       "    }\n",
       "\n",
       "    .dataframe thead th {\n",
       "        text-align: right;\n",
       "    }\n",
       "</style>\n",
       "<table border=\"1\" class=\"dataframe\">\n",
       "  <thead>\n",
       "    <tr style=\"text-align: right;\">\n",
       "      <th></th>\n",
       "      <th>month_year</th>\n",
       "      <th>city</th>\n",
       "      <th>other_monthly_revenue</th>\n",
       "    </tr>\n",
       "  </thead>\n",
       "  <tbody>\n",
       "    <tr>\n",
       "      <th>0</th>\n",
       "      <td>2018-01</td>\n",
       "      <td>other</td>\n",
       "      <td>53.33</td>\n",
       "    </tr>\n",
       "    <tr>\n",
       "      <th>1</th>\n",
       "      <td>2018-02</td>\n",
       "      <td>other</td>\n",
       "      <td>53.43</td>\n",
       "    </tr>\n",
       "    <tr>\n",
       "      <th>2</th>\n",
       "      <td>2018-03</td>\n",
       "      <td>other</td>\n",
       "      <td>64.32</td>\n",
       "    </tr>\n",
       "    <tr>\n",
       "      <th>3</th>\n",
       "      <td>2018-04</td>\n",
       "      <td>other</td>\n",
       "      <td>53.32</td>\n",
       "    </tr>\n",
       "    <tr>\n",
       "      <th>4</th>\n",
       "      <td>2018-05</td>\n",
       "      <td>other</td>\n",
       "      <td>58.57</td>\n",
       "    </tr>\n",
       "    <tr>\n",
       "      <th>5</th>\n",
       "      <td>2018-06</td>\n",
       "      <td>other</td>\n",
       "      <td>64.42</td>\n",
       "    </tr>\n",
       "    <tr>\n",
       "      <th>6</th>\n",
       "      <td>2018-07</td>\n",
       "      <td>other</td>\n",
       "      <td>72.46</td>\n",
       "    </tr>\n",
       "    <tr>\n",
       "      <th>7</th>\n",
       "      <td>2018-08</td>\n",
       "      <td>other</td>\n",
       "      <td>74.48</td>\n",
       "    </tr>\n",
       "    <tr>\n",
       "      <th>8</th>\n",
       "      <td>2018-09</td>\n",
       "      <td>other</td>\n",
       "      <td>69.13</td>\n",
       "    </tr>\n",
       "    <tr>\n",
       "      <th>9</th>\n",
       "      <td>2018-10</td>\n",
       "      <td>other</td>\n",
       "      <td>73.02</td>\n",
       "    </tr>\n",
       "    <tr>\n",
       "      <th>10</th>\n",
       "      <td>2018-11</td>\n",
       "      <td>other</td>\n",
       "      <td>66.52</td>\n",
       "    </tr>\n",
       "    <tr>\n",
       "      <th>11</th>\n",
       "      <td>2018-12</td>\n",
       "      <td>other</td>\n",
       "      <td>81.11</td>\n",
       "    </tr>\n",
       "  </tbody>\n",
       "</table>\n",
       "</div>"
      ],
      "text/plain": [
       "   month_year   city  other_monthly_revenue\n",
       "0     2018-01  other                  53.33\n",
       "1     2018-02  other                  53.43\n",
       "2     2018-03  other                  64.32\n",
       "3     2018-04  other                  53.32\n",
       "4     2018-05  other                  58.57\n",
       "5     2018-06  other                  64.42\n",
       "6     2018-07  other                  72.46\n",
       "7     2018-08  other                  74.48\n",
       "8     2018-09  other                  69.13\n",
       "9     2018-10  other                  73.02\n",
       "10    2018-11  other                  66.52\n",
       "11    2018-12  other                  81.11"
      ]
     },
     "execution_count": 68,
     "metadata": {},
     "output_type": "execute_result"
    }
   ],
   "source": [
    "# other split\n",
    "avg_revenue_other = avg_revenue_city[avg_revenue_city['city'] != 'new york-newark-jersey city, ny-nj-pa msa']\n",
    "avg_revenue_other['city'] = 'other'\n",
    "avg_revenue_other = avg_revenue_other.groupby(['month_year', 'city'])['monthly_revenue'].mean().round(2).reset_index()\n",
    "avg_revenue_other = avg_revenue_other.rename(columns={'monthly_revenue': 'other_monthly_revenue'})\n",
    "avg_revenue_other"
   ]
  },
  {
   "cell_type": "code",
   "execution_count": 69,
   "metadata": {
    "scrolled": true
   },
   "outputs": [
    {
     "data": {
      "text/html": [
       "<div>\n",
       "<style scoped>\n",
       "    .dataframe tbody tr th:only-of-type {\n",
       "        vertical-align: middle;\n",
       "    }\n",
       "\n",
       "    .dataframe tbody tr th {\n",
       "        vertical-align: top;\n",
       "    }\n",
       "\n",
       "    .dataframe thead th {\n",
       "        text-align: right;\n",
       "    }\n",
       "</style>\n",
       "<table border=\"1\" class=\"dataframe\">\n",
       "  <thead>\n",
       "    <tr style=\"text-align: right;\">\n",
       "      <th></th>\n",
       "      <th>month_year</th>\n",
       "      <th>ny_monthly_revenue</th>\n",
       "      <th>other_monthly_revenue</th>\n",
       "    </tr>\n",
       "  </thead>\n",
       "  <tbody>\n",
       "    <tr>\n",
       "      <th>0</th>\n",
       "      <td>2018-01</td>\n",
       "      <td>0.00</td>\n",
       "      <td>53.33</td>\n",
       "    </tr>\n",
       "    <tr>\n",
       "      <th>1</th>\n",
       "      <td>2018-02</td>\n",
       "      <td>45.00</td>\n",
       "      <td>53.43</td>\n",
       "    </tr>\n",
       "    <tr>\n",
       "      <th>2</th>\n",
       "      <td>2018-03</td>\n",
       "      <td>42.81</td>\n",
       "      <td>64.32</td>\n",
       "    </tr>\n",
       "    <tr>\n",
       "      <th>3</th>\n",
       "      <td>2018-04</td>\n",
       "      <td>41.83</td>\n",
       "      <td>53.32</td>\n",
       "    </tr>\n",
       "    <tr>\n",
       "      <th>4</th>\n",
       "      <td>2018-05</td>\n",
       "      <td>50.74</td>\n",
       "      <td>58.57</td>\n",
       "    </tr>\n",
       "    <tr>\n",
       "      <th>5</th>\n",
       "      <td>2018-06</td>\n",
       "      <td>47.54</td>\n",
       "      <td>64.42</td>\n",
       "    </tr>\n",
       "    <tr>\n",
       "      <th>6</th>\n",
       "      <td>2018-07</td>\n",
       "      <td>55.48</td>\n",
       "      <td>72.46</td>\n",
       "    </tr>\n",
       "    <tr>\n",
       "      <th>7</th>\n",
       "      <td>2018-08</td>\n",
       "      <td>62.30</td>\n",
       "      <td>74.48</td>\n",
       "    </tr>\n",
       "    <tr>\n",
       "      <th>8</th>\n",
       "      <td>2018-09</td>\n",
       "      <td>64.03</td>\n",
       "      <td>69.13</td>\n",
       "    </tr>\n",
       "    <tr>\n",
       "      <th>9</th>\n",
       "      <td>2018-10</td>\n",
       "      <td>74.75</td>\n",
       "      <td>73.02</td>\n",
       "    </tr>\n",
       "    <tr>\n",
       "      <th>10</th>\n",
       "      <td>2018-11</td>\n",
       "      <td>74.18</td>\n",
       "      <td>66.52</td>\n",
       "    </tr>\n",
       "    <tr>\n",
       "      <th>11</th>\n",
       "      <td>2018-12</td>\n",
       "      <td>71.07</td>\n",
       "      <td>81.11</td>\n",
       "    </tr>\n",
       "  </tbody>\n",
       "</table>\n",
       "</div>"
      ],
      "text/plain": [
       "   month_year  ny_monthly_revenue  other_monthly_revenue\n",
       "0     2018-01                0.00                  53.33\n",
       "1     2018-02               45.00                  53.43\n",
       "2     2018-03               42.81                  64.32\n",
       "3     2018-04               41.83                  53.32\n",
       "4     2018-05               50.74                  58.57\n",
       "5     2018-06               47.54                  64.42\n",
       "6     2018-07               55.48                  72.46\n",
       "7     2018-08               62.30                  74.48\n",
       "8     2018-09               64.03                  69.13\n",
       "9     2018-10               74.75                  73.02\n",
       "10    2018-11               74.18                  66.52\n",
       "11    2018-12               71.07                  81.11"
      ]
     },
     "execution_count": 69,
     "metadata": {},
     "output_type": "execute_result"
    }
   ],
   "source": [
    "# merge\n",
    "avg_revenue_city = pd.merge(\n",
    "    avg_revenue_ny[['month_year', 'ny_monthly_revenue']],\n",
    "    avg_revenue_other[['month_year', 'other_monthly_revenue']],\n",
    "    on='month_year',\n",
    "    how='outer'\n",
    ")\n",
    "avg_revenue_city = avg_revenue_city.fillna(0).reset_index()\n",
    "first_row = avg_revenue_city[avg_revenue_city['month_year'] == '2018-01']\n",
    "other_rows = avg_revenue_city[avg_revenue_city['month_year'] != '2018-01']\n",
    "avg_revenue_city = pd.concat([first_row, other_rows]).reset_index()\n",
    "avg_revenue_city = avg_revenue_city[['month_year', 'ny_monthly_revenue', 'other_monthly_revenue']]\n",
    "avg_revenue_city"
   ]
  },
  {
   "cell_type": "code",
   "execution_count": 70,
   "metadata": {},
   "outputs": [
    {
     "data": {
      "image/png": "[encoded data removed]",
      "text/plain": [
       "<Figure size 640x480 with 1 Axes>"
      ]
     },
     "metadata": {},
     "output_type": "display_data"
    }
   ],
   "source": [
    "# quick plot\n",
    "avg_revenue_city.plot(\n",
    "    x='month_year',\n",
    "    kind='bar',\n",
    "    title='Monthly Revenue of NY-NJ vs Other Regions',\n",
    "    xlabel='Month',\n",
    "    ylabel='Monthly Revenue'\n",
    ")\n",
    "plt.xticks(rotation=45)\n",
    "plt.legend(['NY-NJ', 'Other'])\n",
    "plt.show()"
   ]
  },
  {
   "cell_type": "markdown",
   "metadata": {},
   "source": [
    "### Summary:\n",
    "The revenue data for 2018 indicates a significant upward trend in both NY-NJ monthly revenue and other monthly revenue over the course of the year. Starting with 0.00 in January for NY-NJ monthly revenue, the figures quickly rose and stabilized, peaking at 74.75 in October before slightly declining to 71.07 in December. The other monthly revenue followed a similar growth trajectory, starting at 53.33 in January and gradually increasing to 81.11 by December. These figures suggest a strong growth pattern. The overall stability in revenue growth presents an opportunity for strategic focus on retaining customers and exploring upselling opportunities in both revenue streams. It could also be beneficial to investigate factors contributing to the slight fluctuations, particularly in NY-NJ monthly revenue, to optimize future growth."
   ]
  },
  {
   "cell_type": "code",
   "execution_count": 71,
   "metadata": {},
   "outputs": [
    {
     "name": "stdout",
     "output_type": "stream",
     "text": [
      "pvalue:  0.6723946050548641\n",
      "We can't reject the null hypothese: The average revenue from users in the NY-NJ area is different from that of the users from the other regions.\n"
     ]
    }
   ],
   "source": [
    "# Test the hypotheses\n",
    "#Test the hypothesis that the average revenue from users in the NY-NJ area is different from that of the users from the other regions.\n",
    "\n",
    "## Extract individual user revenue per month for NY-NJ\n",
    "ny_revenue = merged_data.loc[merged_data['city'].str.contains('ny|nj', regex=True), 'monthly_revenue']\n",
    "\n",
    "## Extract individual user revenue per month for other\n",
    "other_revenue = merged_data.loc[~merged_data['city'].str.contains('ny|nj', regex=True), 'monthly_revenue']\n",
    "\n",
    "alpha = 0.05\n",
    "\n",
    "results = st.ttest_ind(ny_revenue, other_revenue)\n",
    "\n",
    "print('pvalue: ', results.pvalue)\n",
    "\n",
    "if results.pvalue < alpha:\n",
    "    print('We reject the null hypothesis: The average revenue from users in the NY-NJ area is different from that of the users from the other regions.')\n",
    "else:\n",
    "    print(\"We can't reject the null hypothese: The average revenue from users in the NY-NJ area is different from that of the users from the other regions.\")\n"
   ]
  },
  {
   "cell_type": "markdown",
   "metadata": {},
   "source": [
    "# Conclusion\n",
    "\n",
    "The analysis of the Surf and Ultimate plans highlights key differences in usage patterns, customer behavior, and revenue trends. Surf experienced significant growth in data and messaging usage, but with considerable monthly fluctuations, while Ultimate showed more consistent usage and revenue, indicating a stable customer base. The comparison of revenue between the NY-NJ region and other regions revealed no significant difference, as the p-value was 0.672, suggesting regional strategies may not need major adjustments.\n",
    "\n",
    "Surf predominantly caters to low-to-moderate usage customers, with most users in the 200-500 minute range, while Ultimate appeals to a broader customer base, with some exceeding 600 minutes. This overlap suggests opportunities for better segmentation or introducing a low-usage plan. Surf’s higher revenue variance indicates greater fluctuations in spending, while Ultimate’s low variance points to more predictable revenue. The statistical test confirmed a significant difference in revenue between the two plans, with a p-value of 2.63.\n",
    "\n",
    "Focusing on seasonality for Surf through targeted promotions and consistency for Ultimate with customer loyalty programs could improve retention and revenue. Transitioning high-usage Surf customers to the Ultimate plan could also drive long-term value. Additionally, both plans' growing reliance on data usage presents an opportunity for data-centric plans or bundles. The general conclusion suggests refining segmentation, optimizing plan features, and targeting specific customer behaviors to maximize growth and retention."
   ]
  },
  {
   "cell_type": "code",
   "execution_count": null,
   "metadata": {},
   "outputs": [],
   "source": []
  }
 ],
 "metadata": {
  "ExecuteTimeLog": [
   {
    "duration": 828,
    "start_time": "2021-11-16T09:21:11.304Z"
   },
   {
    "duration": 893,
    "start_time": "2021-11-16T09:21:17.728Z"
   },
   {
    "duration": 1150,
    "start_time": "2021-11-16T09:21:29.568Z"
   },
   {
    "duration": 3,
    "start_time": "2021-11-16T09:24:14.495Z"
   },
   {
    "duration": 120,
    "start_time": "2021-11-16T09:24:46.630Z"
   },
   {
    "duration": 3,
    "start_time": "2021-11-16T09:28:27.882Z"
   },
   {
    "duration": 4,
    "start_time": "2021-11-16T09:29:54.281Z"
   },
   {
    "duration": 3,
    "start_time": "2021-11-16T09:30:45.936Z"
   },
   {
    "duration": 4,
    "start_time": "2021-11-16T09:31:06.300Z"
   },
   {
    "duration": 113,
    "start_time": "2021-11-16T09:31:37.208Z"
   },
   {
    "duration": 143,
    "start_time": "2021-11-16T09:31:48.656Z"
   },
   {
    "duration": 98,
    "start_time": "2021-11-16T09:31:55.678Z"
   },
   {
    "duration": 3,
    "start_time": "2021-11-16T09:32:08.535Z"
   },
   {
    "duration": 111,
    "start_time": "2021-11-16T09:32:10.120Z"
   },
   {
    "duration": 3,
    "start_time": "2021-11-16T09:32:15.732Z"
   },
   {
    "duration": 4,
    "start_time": "2021-11-16T09:32:29.423Z"
   },
   {
    "duration": 3,
    "start_time": "2021-11-16T10:03:03.074Z"
   },
   {
    "duration": 3,
    "start_time": "2021-11-16T10:10:01.288Z"
   },
   {
    "duration": 3,
    "start_time": "2021-11-16T10:10:46.923Z"
   },
   {
    "duration": 121,
    "start_time": "2021-11-16T10:37:46.494Z"
   },
   {
    "duration": 125,
    "start_time": "2021-11-16T10:38:20.632Z"
   },
   {
    "duration": 112,
    "start_time": "2021-11-16T10:46:53.001Z"
   },
   {
    "duration": 110,
    "start_time": "2021-11-16T10:48:25.775Z"
   },
   {
    "duration": 3,
    "start_time": "2021-11-16T10:50:18.720Z"
   },
   {
    "duration": 4,
    "start_time": "2021-11-16T10:50:37.649Z"
   },
   {
    "duration": 2,
    "start_time": "2021-11-16T10:50:51.884Z"
   },
   {
    "duration": 3,
    "start_time": "2021-11-16T10:51:56.237Z"
   },
   {
    "duration": 101,
    "start_time": "2021-11-16T10:53:13.791Z"
   },
   {
    "duration": 3,
    "start_time": "2021-11-16T10:55:59.186Z"
   },
   {
    "duration": 3,
    "start_time": "2021-11-16T10:56:10.751Z"
   },
   {
    "duration": 3,
    "start_time": "2021-11-16T10:56:49.038Z"
   },
   {
    "duration": 3,
    "start_time": "2021-11-16T10:56:49.174Z"
   },
   {
    "duration": 4,
    "start_time": "2021-11-16T10:56:49.414Z"
   },
   {
    "duration": 3,
    "start_time": "2021-11-16T10:56:49.680Z"
   },
   {
    "duration": 3,
    "start_time": "2021-11-16T10:56:50.370Z"
   },
   {
    "duration": 114,
    "start_time": "2021-11-16T10:59:34.518Z"
   },
   {
    "duration": 3,
    "start_time": "2021-11-16T11:01:41.201Z"
   },
   {
    "duration": 116,
    "start_time": "2021-11-16T11:01:48.754Z"
   },
   {
    "duration": 3,
    "start_time": "2021-11-16T11:02:16.685Z"
   },
   {
    "duration": 3,
    "start_time": "2021-11-16T11:02:19.479Z"
   },
   {
    "duration": 3,
    "start_time": "2021-11-16T11:02:47.067Z"
   },
   {
    "duration": 3,
    "start_time": "2021-11-16T11:02:49.353Z"
   },
   {
    "duration": 3,
    "start_time": "2021-11-16T11:03:07.835Z"
   },
   {
    "duration": 3,
    "start_time": "2021-11-16T11:03:07.953Z"
   },
   {
    "duration": 112,
    "start_time": "2021-11-16T11:07:52.072Z"
   },
   {
    "duration": 187,
    "start_time": "2021-11-16T11:09:23.468Z"
   },
   {
    "duration": 4,
    "start_time": "2021-11-16T11:10:01.455Z"
   },
   {
    "duration": 3,
    "start_time": "2021-11-16T11:10:05.069Z"
   },
   {
    "duration": 4,
    "start_time": "2021-11-16T11:10:13.376Z"
   },
   {
    "duration": 3,
    "start_time": "2021-11-16T11:10:14.434Z"
   },
   {
    "duration": 3,
    "start_time": "2021-11-16T11:10:22.853Z"
   },
   {
    "duration": 4,
    "start_time": "2021-11-16T11:27:29.279Z"
   },
   {
    "duration": 4,
    "start_time": "2021-11-16T11:29:08.919Z"
   },
   {
    "duration": 118,
    "start_time": "2021-11-16T11:29:46.703Z"
   },
   {
    "duration": 437,
    "start_time": "2021-11-16T11:36:02.181Z"
   },
   {
    "duration": 157,
    "start_time": "2021-11-16T11:36:14.388Z"
   },
   {
    "duration": 207,
    "start_time": "2021-11-16T11:47:15.898Z"
   },
   {
    "duration": 3,
    "start_time": "2021-11-16T11:53:52.092Z"
   },
   {
    "duration": 3,
    "start_time": "2021-11-16T11:53:52.236Z"
   },
   {
    "duration": 3,
    "start_time": "2021-11-16T11:59:12.005Z"
   },
   {
    "duration": 112,
    "start_time": "2021-11-16T12:00:33.446Z"
   },
   {
    "duration": 3,
    "start_time": "2021-11-16T12:02:14.453Z"
   },
   {
    "duration": 3,
    "start_time": "2021-11-16T12:02:39.512Z"
   },
   {
    "duration": 106,
    "start_time": "2021-11-16T12:03:03.460Z"
   },
   {
    "duration": 3,
    "start_time": "2021-11-17T20:37:21.139Z"
   },
   {
    "duration": 3,
    "start_time": "2021-11-17T20:37:22.229Z"
   },
   {
    "duration": 3,
    "start_time": "2021-11-17T20:38:38.806Z"
   },
   {
    "duration": 3,
    "start_time": "2021-11-17T20:38:41.958Z"
   },
   {
    "duration": 3,
    "start_time": "2021-11-17T20:43:46.551Z"
   },
   {
    "duration": 4,
    "start_time": "2021-11-17T20:58:21.835Z"
   },
   {
    "duration": 3,
    "start_time": "2021-11-17T20:59:21.872Z"
   },
   {
    "duration": 4,
    "start_time": "2021-11-17T20:59:45.352Z"
   },
   {
    "duration": 4,
    "start_time": "2021-11-17T20:59:49.646Z"
   },
   {
    "duration": 159,
    "start_time": "2021-11-17T21:02:26.949Z"
   },
   {
    "duration": 3,
    "start_time": "2021-11-17T21:03:53.461Z"
   },
   {
    "duration": 3,
    "start_time": "2021-11-17T21:03:53.694Z"
   },
   {
    "duration": 3,
    "start_time": "2021-11-17T21:05:28.145Z"
   },
   {
    "duration": 116,
    "start_time": "2021-11-17T21:05:57.787Z"
   },
   {
    "duration": 3,
    "start_time": "2021-11-17T21:06:37.993Z"
   },
   {
    "duration": 3,
    "start_time": "2021-11-17T21:06:38.261Z"
   },
   {
    "duration": 3,
    "start_time": "2021-11-17T21:11:54.358Z"
   },
   {
    "duration": 3,
    "start_time": "2021-11-17T21:12:43.846Z"
   },
   {
    "duration": 4,
    "start_time": "2021-11-17T21:13:08.773Z"
   },
   {
    "duration": 3,
    "start_time": "2021-11-17T21:14:44.441Z"
   },
   {
    "duration": 3,
    "start_time": "2021-11-17T21:15:42.059Z"
   },
   {
    "duration": 4,
    "start_time": "2021-11-17T21:15:51.995Z"
   },
   {
    "duration": 3,
    "start_time": "2021-11-17T21:15:53.923Z"
   },
   {
    "duration": 3,
    "start_time": "2021-11-17T21:15:55.282Z"
   },
   {
    "duration": 3,
    "start_time": "2021-11-17T21:16:28.492Z"
   },
   {
    "duration": 3,
    "start_time": "2021-11-17T21:16:32.603Z"
   },
   {
    "duration": 3,
    "start_time": "2021-11-17T21:17:06.941Z"
   },
   {
    "duration": 98,
    "start_time": "2021-11-17T21:18:05.733Z"
   },
   {
    "duration": 4,
    "start_time": "2021-11-17T21:21:35.255Z"
   },
   {
    "duration": 3,
    "start_time": "2021-11-17T21:21:37.804Z"
   },
   {
    "duration": 4,
    "start_time": "2021-11-17T21:23:06.071Z"
   },
   {
    "duration": 3,
    "start_time": "2021-11-17T21:23:24.799Z"
   },
   {
    "duration": 3,
    "start_time": "2021-11-17T21:23:32.591Z"
   },
   {
    "duration": 98,
    "start_time": "2021-11-17T21:28:31.559Z"
   },
   {
    "duration": 3,
    "start_time": "2021-11-17T21:28:45.448Z"
   },
   {
    "duration": 3,
    "start_time": "2021-11-17T21:29:17.303Z"
   },
   {
    "duration": 3,
    "start_time": "2021-11-17T21:29:29.617Z"
   },
   {
    "duration": 3,
    "start_time": "2021-11-17T21:29:32.681Z"
   },
   {
    "duration": 3,
    "start_time": "2021-11-17T21:36:11.474Z"
   },
   {
    "duration": 3,
    "start_time": "2021-11-17T21:36:14.791Z"
   },
   {
    "duration": 3,
    "start_time": "2021-11-17T21:36:53.943Z"
   },
   {
    "duration": 3,
    "start_time": "2021-11-17T21:36:56.165Z"
   },
   {
    "duration": 4,
    "start_time": "2021-11-17T21:37:16.590Z"
   },
   {
    "duration": 3,
    "start_time": "2021-11-17T21:37:22.702Z"
   },
   {
    "duration": 4,
    "start_time": "2021-11-17T21:38:03.479Z"
   },
   {
    "duration": 3,
    "start_time": "2021-11-17T21:38:08.601Z"
   },
   {
    "duration": 3,
    "start_time": "2021-11-17T21:38:12.928Z"
   },
   {
    "duration": 3,
    "start_time": "2021-11-17T21:38:48.896Z"
   },
   {
    "duration": 2,
    "start_time": "2021-11-17T21:38:49.171Z"
   },
   {
    "duration": 4,
    "start_time": "2021-11-17T21:39:57.889Z"
   },
   {
    "duration": 3,
    "start_time": "2021-11-17T21:39:58.057Z"
   },
   {
    "duration": 3,
    "start_time": "2021-11-17T21:41:20.108Z"
   },
   {
    "duration": 3,
    "start_time": "2021-11-17T21:41:20.629Z"
   },
   {
    "duration": 3,
    "start_time": "2021-11-17T21:42:49.136Z"
   },
   {
    "duration": 3,
    "start_time": "2021-11-17T21:43:15.137Z"
   },
   {
    "duration": 4,
    "start_time": "2021-11-17T21:43:16.766Z"
   },
   {
    "duration": 4,
    "start_time": "2021-11-17T21:43:31.711Z"
   },
   {
    "duration": 3,
    "start_time": "2021-11-17T21:43:36.312Z"
   },
   {
    "duration": 4,
    "start_time": "2021-11-17T21:45:08.825Z"
   },
   {
    "duration": 4,
    "start_time": "2021-11-17T21:45:10.119Z"
   },
   {
    "duration": 4,
    "start_time": "2021-11-17T21:45:13.748Z"
   },
   {
    "duration": 3,
    "start_time": "2021-11-17T21:45:22.219Z"
   },
   {
    "duration": 3,
    "start_time": "2021-11-17T21:45:33.412Z"
   },
   {
    "duration": 2,
    "start_time": "2021-11-17T21:46:01.885Z"
   },
   {
    "duration": 3,
    "start_time": "2021-11-17T21:46:03.628Z"
   },
   {
    "duration": 107,
    "start_time": "2021-11-17T21:47:32.512Z"
   },
   {
    "duration": 103,
    "start_time": "2021-11-17T21:50:36.243Z"
   },
   {
    "duration": 3,
    "start_time": "2021-11-18T06:28:31.440Z"
   },
   {
    "duration": 3,
    "start_time": "2021-11-18T06:29:00.168Z"
   },
   {
    "duration": 3,
    "start_time": "2021-11-18T06:31:27.008Z"
   },
   {
    "duration": 2,
    "start_time": "2021-11-18T06:35:34.288Z"
   },
   {
    "duration": 2,
    "start_time": "2021-11-18T06:38:04.527Z"
   },
   {
    "duration": 168,
    "start_time": "2025-01-27T15:17:10.631Z"
   },
   {
    "duration": 16,
    "start_time": "2025-01-27T15:17:19.691Z"
   },
   {
    "duration": 6,
    "start_time": "2025-01-27T15:17:23.914Z"
   },
   {
    "duration": 2568,
    "start_time": "2025-01-27T15:17:30.015Z"
   },
   {
    "duration": 248,
    "start_time": "2025-01-27T15:17:35.943Z"
   },
   {
    "duration": 214,
    "start_time": "2025-01-27T15:18:19.624Z"
   },
   {
    "duration": 207,
    "start_time": "2025-01-27T15:18:35.778Z"
   },
   {
    "duration": 9,
    "start_time": "2025-01-27T15:20:42.676Z"
   },
   {
    "duration": 12,
    "start_time": "2025-01-27T15:20:54.090Z"
   },
   {
    "duration": 404,
    "start_time": "2025-01-27T15:21:01.001Z"
   },
   {
    "duration": 29,
    "start_time": "2025-01-27T15:21:12.012Z"
   },
   {
    "duration": 7,
    "start_time": "2025-01-27T15:21:47.783Z"
   },
   {
    "duration": 10,
    "start_time": "2025-01-27T15:23:39.373Z"
   },
   {
    "duration": 14,
    "start_time": "2025-01-27T15:33:54.635Z"
   },
   {
    "duration": 13,
    "start_time": "2025-01-27T15:34:03.539Z"
   },
   {
    "duration": 10,
    "start_time": "2025-01-27T15:34:10.521Z"
   },
   {
    "duration": 8,
    "start_time": "2025-01-27T15:34:36.039Z"
   },
   {
    "duration": 748,
    "start_time": "2025-01-27T15:35:01.938Z"
   },
   {
    "duration": 197,
    "start_time": "2025-01-27T15:35:02.689Z"
   },
   {
    "duration": 7,
    "start_time": "2025-01-27T15:35:02.888Z"
   },
   {
    "duration": 10,
    "start_time": "2025-01-27T15:35:02.897Z"
   },
   {
    "duration": 9,
    "start_time": "2025-01-27T15:35:02.908Z"
   },
   {
    "duration": 16,
    "start_time": "2025-01-27T15:35:02.918Z"
   },
   {
    "duration": 2,
    "start_time": "2025-01-27T15:35:02.936Z"
   },
   {
    "duration": 3,
    "start_time": "2025-01-27T15:35:02.940Z"
   },
   {
    "duration": 3,
    "start_time": "2025-01-27T15:35:02.944Z"
   },
   {
    "duration": 1,
    "start_time": "2025-01-27T15:35:02.951Z"
   },
   {
    "duration": 3,
    "start_time": "2025-01-27T15:35:02.954Z"
   },
   {
    "duration": 4,
    "start_time": "2025-01-27T15:35:02.958Z"
   },
   {
    "duration": 3,
    "start_time": "2025-01-27T15:35:02.963Z"
   },
   {
    "duration": 3,
    "start_time": "2025-01-27T15:35:02.968Z"
   },
   {
    "duration": 3,
    "start_time": "2025-01-27T15:35:02.973Z"
   },
   {
    "duration": 3,
    "start_time": "2025-01-27T15:35:02.977Z"
   },
   {
    "duration": 3,
    "start_time": "2025-01-27T15:35:02.981Z"
   },
   {
    "duration": 47,
    "start_time": "2025-01-27T15:35:02.986Z"
   },
   {
    "duration": 3,
    "start_time": "2025-01-27T15:35:03.035Z"
   },
   {
    "duration": 3,
    "start_time": "2025-01-27T15:35:03.039Z"
   },
   {
    "duration": 3,
    "start_time": "2025-01-27T15:35:03.044Z"
   },
   {
    "duration": 3,
    "start_time": "2025-01-27T15:35:03.048Z"
   },
   {
    "duration": 3,
    "start_time": "2025-01-27T15:35:03.053Z"
   },
   {
    "duration": 3,
    "start_time": "2025-01-27T15:35:03.057Z"
   },
   {
    "duration": 3,
    "start_time": "2025-01-27T15:35:03.062Z"
   },
   {
    "duration": 2,
    "start_time": "2025-01-27T15:35:03.067Z"
   },
   {
    "duration": 2,
    "start_time": "2025-01-27T15:35:03.071Z"
   },
   {
    "duration": 2,
    "start_time": "2025-01-27T15:35:03.077Z"
   },
   {
    "duration": 3,
    "start_time": "2025-01-27T15:35:03.080Z"
   },
   {
    "duration": 19,
    "start_time": "2025-01-27T15:38:07.659Z"
   },
   {
    "duration": 816,
    "start_time": "2025-01-27T19:26:36.552Z"
   },
   {
    "duration": 201,
    "start_time": "2025-01-27T19:26:37.371Z"
   },
   {
    "duration": 8,
    "start_time": "2025-01-27T19:26:37.574Z"
   },
   {
    "duration": 10,
    "start_time": "2025-01-27T19:26:37.584Z"
   },
   {
    "duration": 3,
    "start_time": "2025-01-27T19:26:37.597Z"
   },
   {
    "duration": 9,
    "start_time": "2025-01-27T19:26:37.601Z"
   },
   {
    "duration": 21,
    "start_time": "2025-01-27T19:26:37.611Z"
   },
   {
    "duration": 3,
    "start_time": "2025-01-27T19:26:37.634Z"
   },
   {
    "duration": 3,
    "start_time": "2025-01-27T19:26:37.638Z"
   },
   {
    "duration": 4,
    "start_time": "2025-01-27T19:26:37.643Z"
   },
   {
    "duration": 3,
    "start_time": "2025-01-27T19:26:37.650Z"
   },
   {
    "duration": 3,
    "start_time": "2025-01-27T19:26:37.655Z"
   },
   {
    "duration": 3,
    "start_time": "2025-01-27T19:26:37.660Z"
   },
   {
    "duration": 2,
    "start_time": "2025-01-27T19:26:37.667Z"
   },
   {
    "duration": 3,
    "start_time": "2025-01-27T19:26:37.671Z"
   },
   {
    "duration": 6,
    "start_time": "2025-01-27T19:26:37.675Z"
   },
   {
    "duration": 3,
    "start_time": "2025-01-27T19:26:37.683Z"
   },
   {
    "duration": 2,
    "start_time": "2025-01-27T19:26:37.688Z"
   },
   {
    "duration": 2,
    "start_time": "2025-01-27T19:26:37.692Z"
   },
   {
    "duration": 4,
    "start_time": "2025-01-27T19:26:37.733Z"
   },
   {
    "duration": 2,
    "start_time": "2025-01-27T19:26:37.740Z"
   },
   {
    "duration": 3,
    "start_time": "2025-01-27T19:26:37.743Z"
   },
   {
    "duration": 3,
    "start_time": "2025-01-27T19:26:37.748Z"
   },
   {
    "duration": 3,
    "start_time": "2025-01-27T19:26:37.753Z"
   },
   {
    "duration": 3,
    "start_time": "2025-01-27T19:26:37.757Z"
   },
   {
    "duration": 3,
    "start_time": "2025-01-27T19:26:37.762Z"
   },
   {
    "duration": 3,
    "start_time": "2025-01-27T19:26:37.766Z"
   },
   {
    "duration": 3,
    "start_time": "2025-01-27T19:26:37.771Z"
   },
   {
    "duration": 4,
    "start_time": "2025-01-27T19:26:37.775Z"
   },
   {
    "duration": 3,
    "start_time": "2025-01-27T19:26:37.780Z"
   },
   {
    "duration": 158,
    "start_time": "2025-01-27T19:27:11.970Z"
   },
   {
    "duration": 772,
    "start_time": "2025-01-27T19:28:20.877Z"
   },
   {
    "duration": 166,
    "start_time": "2025-01-27T19:28:21.652Z"
   },
   {
    "duration": 13,
    "start_time": "2025-01-27T19:28:21.820Z"
   },
   {
    "duration": 10,
    "start_time": "2025-01-27T19:28:21.835Z"
   },
   {
    "duration": 2,
    "start_time": "2025-01-27T19:28:21.848Z"
   },
   {
    "duration": 9,
    "start_time": "2025-01-27T19:28:21.852Z"
   },
   {
    "duration": 238,
    "start_time": "2025-01-27T19:28:21.862Z"
   },
   {
    "duration": 0,
    "start_time": "2025-01-27T19:28:22.102Z"
   },
   {
    "duration": 0,
    "start_time": "2025-01-27T19:28:22.104Z"
   },
   {
    "duration": 0,
    "start_time": "2025-01-27T19:28:22.105Z"
   },
   {
    "duration": 0,
    "start_time": "2025-01-27T19:28:22.106Z"
   },
   {
    "duration": 0,
    "start_time": "2025-01-27T19:28:22.107Z"
   },
   {
    "duration": 0,
    "start_time": "2025-01-27T19:28:22.108Z"
   },
   {
    "duration": 0,
    "start_time": "2025-01-27T19:28:22.109Z"
   },
   {
    "duration": 0,
    "start_time": "2025-01-27T19:28:22.110Z"
   },
   {
    "duration": 0,
    "start_time": "2025-01-27T19:28:22.112Z"
   },
   {
    "duration": 0,
    "start_time": "2025-01-27T19:28:22.113Z"
   },
   {
    "duration": 0,
    "start_time": "2025-01-27T19:28:22.113Z"
   },
   {
    "duration": 0,
    "start_time": "2025-01-27T19:28:22.114Z"
   },
   {
    "duration": 0,
    "start_time": "2025-01-27T19:28:22.131Z"
   },
   {
    "duration": 0,
    "start_time": "2025-01-27T19:28:22.132Z"
   },
   {
    "duration": 0,
    "start_time": "2025-01-27T19:28:22.134Z"
   },
   {
    "duration": 0,
    "start_time": "2025-01-27T19:28:22.135Z"
   },
   {
    "duration": 0,
    "start_time": "2025-01-27T19:28:22.136Z"
   },
   {
    "duration": 0,
    "start_time": "2025-01-27T19:28:22.137Z"
   },
   {
    "duration": 0,
    "start_time": "2025-01-27T19:28:22.138Z"
   },
   {
    "duration": 0,
    "start_time": "2025-01-27T19:28:22.140Z"
   },
   {
    "duration": 0,
    "start_time": "2025-01-27T19:28:22.141Z"
   },
   {
    "duration": 0,
    "start_time": "2025-01-27T19:28:22.142Z"
   },
   {
    "duration": 0,
    "start_time": "2025-01-27T19:28:22.144Z"
   },
   {
    "duration": 804,
    "start_time": "2025-01-27T19:28:41.360Z"
   },
   {
    "duration": 153,
    "start_time": "2025-01-27T19:28:42.167Z"
   },
   {
    "duration": 9,
    "start_time": "2025-01-27T19:28:42.322Z"
   },
   {
    "duration": 9,
    "start_time": "2025-01-27T19:28:42.333Z"
   },
   {
    "duration": 4,
    "start_time": "2025-01-27T19:28:42.343Z"
   },
   {
    "duration": 9,
    "start_time": "2025-01-27T19:28:42.349Z"
   },
   {
    "duration": 231,
    "start_time": "2025-01-27T19:28:42.359Z"
   },
   {
    "duration": 0,
    "start_time": "2025-01-27T19:28:42.593Z"
   },
   {
    "duration": 0,
    "start_time": "2025-01-27T19:28:42.594Z"
   },
   {
    "duration": 0,
    "start_time": "2025-01-27T19:28:42.595Z"
   },
   {
    "duration": 0,
    "start_time": "2025-01-27T19:28:42.595Z"
   },
   {
    "duration": 0,
    "start_time": "2025-01-27T19:28:42.596Z"
   },
   {
    "duration": 0,
    "start_time": "2025-01-27T19:28:42.597Z"
   },
   {
    "duration": 0,
    "start_time": "2025-01-27T19:28:42.599Z"
   },
   {
    "duration": 0,
    "start_time": "2025-01-27T19:28:42.600Z"
   },
   {
    "duration": 0,
    "start_time": "2025-01-27T19:28:42.601Z"
   },
   {
    "duration": 0,
    "start_time": "2025-01-27T19:28:42.603Z"
   },
   {
    "duration": 0,
    "start_time": "2025-01-27T19:28:42.604Z"
   },
   {
    "duration": 0,
    "start_time": "2025-01-27T19:28:42.606Z"
   },
   {
    "duration": 0,
    "start_time": "2025-01-27T19:28:42.632Z"
   },
   {
    "duration": 0,
    "start_time": "2025-01-27T19:28:42.633Z"
   },
   {
    "duration": 0,
    "start_time": "2025-01-27T19:28:42.634Z"
   },
   {
    "duration": 0,
    "start_time": "2025-01-27T19:28:42.635Z"
   },
   {
    "duration": 0,
    "start_time": "2025-01-27T19:28:42.636Z"
   },
   {
    "duration": 0,
    "start_time": "2025-01-27T19:28:42.637Z"
   },
   {
    "duration": 0,
    "start_time": "2025-01-27T19:28:42.638Z"
   },
   {
    "duration": 0,
    "start_time": "2025-01-27T19:28:42.639Z"
   },
   {
    "duration": 0,
    "start_time": "2025-01-27T19:28:42.641Z"
   },
   {
    "duration": 0,
    "start_time": "2025-01-27T19:28:42.642Z"
   },
   {
    "duration": 0,
    "start_time": "2025-01-27T19:28:42.643Z"
   },
   {
    "duration": 8,
    "start_time": "2025-01-27T19:28:59.025Z"
   },
   {
    "duration": 9,
    "start_time": "2025-01-27T19:29:12.861Z"
   },
   {
    "duration": 8,
    "start_time": "2025-01-27T19:29:20.271Z"
   },
   {
    "duration": 5,
    "start_time": "2025-01-27T19:32:34.020Z"
   },
   {
    "duration": 3,
    "start_time": "2025-01-27T19:33:03.397Z"
   },
   {
    "duration": 5,
    "start_time": "2025-01-27T19:33:33.342Z"
   },
   {
    "duration": 4,
    "start_time": "2025-01-27T19:33:41.302Z"
   },
   {
    "duration": 6,
    "start_time": "2025-01-27T19:35:29.752Z"
   },
   {
    "duration": 4,
    "start_time": "2025-01-27T19:37:28.583Z"
   },
   {
    "duration": 13,
    "start_time": "2025-01-27T19:39:43.077Z"
   },
   {
    "duration": 540,
    "start_time": "2025-01-27T19:39:49.463Z"
   },
   {
    "duration": 7,
    "start_time": "2025-01-27T19:40:01.056Z"
   },
   {
    "duration": 12,
    "start_time": "2025-01-27T19:40:19.269Z"
   },
   {
    "duration": 8,
    "start_time": "2025-01-27T19:40:39.593Z"
   },
   {
    "duration": 8,
    "start_time": "2025-01-27T19:41:06.349Z"
   },
   {
    "duration": 575,
    "start_time": "2025-01-27T19:41:15.458Z"
   },
   {
    "duration": 3,
    "start_time": "2025-01-27T19:41:22.981Z"
   },
   {
    "duration": 8,
    "start_time": "2025-01-27T19:41:29.541Z"
   },
   {
    "duration": 8,
    "start_time": "2025-01-27T19:41:48.355Z"
   },
   {
    "duration": 12,
    "start_time": "2025-01-27T19:42:36.685Z"
   },
   {
    "duration": 11,
    "start_time": "2025-01-27T19:42:41.461Z"
   },
   {
    "duration": 5,
    "start_time": "2025-01-27T19:45:29.464Z"
   },
   {
    "duration": 141,
    "start_time": "2025-01-27T19:45:45.498Z"
   },
   {
    "duration": 746,
    "start_time": "2025-01-27T19:45:59.522Z"
   },
   {
    "duration": 154,
    "start_time": "2025-01-27T19:46:00.271Z"
   },
   {
    "duration": 11,
    "start_time": "2025-01-27T19:46:00.426Z"
   },
   {
    "duration": 10,
    "start_time": "2025-01-27T19:46:00.439Z"
   },
   {
    "duration": 2,
    "start_time": "2025-01-27T19:46:00.451Z"
   },
   {
    "duration": 10,
    "start_time": "2025-01-27T19:46:00.454Z"
   },
   {
    "duration": 8,
    "start_time": "2025-01-27T19:46:00.465Z"
   },
   {
    "duration": 9,
    "start_time": "2025-01-27T19:46:00.474Z"
   },
   {
    "duration": 10,
    "start_time": "2025-01-27T19:46:00.484Z"
   },
   {
    "duration": 562,
    "start_time": "2025-01-27T19:46:00.497Z"
   },
   {
    "duration": 0,
    "start_time": "2025-01-27T19:46:01.061Z"
   },
   {
    "duration": 0,
    "start_time": "2025-01-27T19:46:01.063Z"
   },
   {
    "duration": 0,
    "start_time": "2025-01-27T19:46:01.064Z"
   },
   {
    "duration": 0,
    "start_time": "2025-01-27T19:46:01.065Z"
   },
   {
    "duration": 0,
    "start_time": "2025-01-27T19:46:01.067Z"
   },
   {
    "duration": 0,
    "start_time": "2025-01-27T19:46:01.067Z"
   },
   {
    "duration": 0,
    "start_time": "2025-01-27T19:46:01.068Z"
   },
   {
    "duration": 0,
    "start_time": "2025-01-27T19:46:01.069Z"
   },
   {
    "duration": 0,
    "start_time": "2025-01-27T19:46:01.071Z"
   },
   {
    "duration": 0,
    "start_time": "2025-01-27T19:46:01.072Z"
   },
   {
    "duration": 0,
    "start_time": "2025-01-27T19:46:01.073Z"
   },
   {
    "duration": 0,
    "start_time": "2025-01-27T19:46:01.074Z"
   },
   {
    "duration": 0,
    "start_time": "2025-01-27T19:46:01.075Z"
   },
   {
    "duration": 0,
    "start_time": "2025-01-27T19:46:01.077Z"
   },
   {
    "duration": 0,
    "start_time": "2025-01-27T19:46:01.078Z"
   },
   {
    "duration": 0,
    "start_time": "2025-01-27T19:46:01.079Z"
   },
   {
    "duration": 0,
    "start_time": "2025-01-27T19:46:01.080Z"
   },
   {
    "duration": 0,
    "start_time": "2025-01-27T19:46:01.081Z"
   },
   {
    "duration": 0,
    "start_time": "2025-01-27T19:46:01.082Z"
   },
   {
    "duration": 0,
    "start_time": "2025-01-27T19:46:01.083Z"
   },
   {
    "duration": 0,
    "start_time": "2025-01-27T19:46:01.084Z"
   },
   {
    "duration": 0,
    "start_time": "2025-01-27T19:46:01.085Z"
   },
   {
    "duration": 9,
    "start_time": "2025-01-27T19:46:49.634Z"
   },
   {
    "duration": 9,
    "start_time": "2025-01-27T19:47:40.189Z"
   },
   {
    "duration": 10,
    "start_time": "2025-01-27T19:48:39.217Z"
   },
   {
    "duration": 16,
    "start_time": "2025-01-27T19:50:07.706Z"
   },
   {
    "duration": 8,
    "start_time": "2025-01-27T19:50:20.907Z"
   },
   {
    "duration": 18,
    "start_time": "2025-01-27T19:54:07.756Z"
   },
   {
    "duration": 12,
    "start_time": "2025-01-27T19:54:17.311Z"
   },
   {
    "duration": 14,
    "start_time": "2025-01-27T19:54:27.484Z"
   },
   {
    "duration": 17,
    "start_time": "2025-01-27T19:55:12.545Z"
   },
   {
    "duration": 16,
    "start_time": "2025-01-27T19:55:23.673Z"
   },
   {
    "duration": 809,
    "start_time": "2025-01-27T19:56:29.253Z"
   },
   {
    "duration": 203,
    "start_time": "2025-01-27T19:56:30.065Z"
   },
   {
    "duration": 10,
    "start_time": "2025-01-27T19:56:30.269Z"
   },
   {
    "duration": 10,
    "start_time": "2025-01-27T19:56:30.281Z"
   },
   {
    "duration": 3,
    "start_time": "2025-01-27T19:56:30.292Z"
   },
   {
    "duration": 10,
    "start_time": "2025-01-27T19:56:30.297Z"
   },
   {
    "duration": 25,
    "start_time": "2025-01-27T19:56:30.311Z"
   },
   {
    "duration": 9,
    "start_time": "2025-01-27T19:56:30.339Z"
   },
   {
    "duration": 15,
    "start_time": "2025-01-27T19:56:30.350Z"
   },
   {
    "duration": 22,
    "start_time": "2025-01-27T19:56:30.370Z"
   },
   {
    "duration": 2,
    "start_time": "2025-01-27T19:56:30.394Z"
   },
   {
    "duration": 51,
    "start_time": "2025-01-27T19:56:30.399Z"
   },
   {
    "duration": 12,
    "start_time": "2025-01-27T19:56:30.452Z"
   },
   {
    "duration": 2,
    "start_time": "2025-01-27T19:56:30.466Z"
   },
   {
    "duration": 4,
    "start_time": "2025-01-27T19:56:30.469Z"
   },
   {
    "duration": 4,
    "start_time": "2025-01-27T19:56:30.475Z"
   },
   {
    "duration": 4,
    "start_time": "2025-01-27T19:56:30.480Z"
   },
   {
    "duration": 3,
    "start_time": "2025-01-27T19:56:30.485Z"
   },
   {
    "duration": 2,
    "start_time": "2025-01-27T19:56:30.490Z"
   },
   {
    "duration": 3,
    "start_time": "2025-01-27T19:56:30.494Z"
   },
   {
    "duration": 33,
    "start_time": "2025-01-27T19:56:30.499Z"
   },
   {
    "duration": 3,
    "start_time": "2025-01-27T19:56:30.535Z"
   },
   {
    "duration": 4,
    "start_time": "2025-01-27T19:56:30.539Z"
   },
   {
    "duration": 3,
    "start_time": "2025-01-27T19:56:30.545Z"
   },
   {
    "duration": 4,
    "start_time": "2025-01-27T19:56:30.549Z"
   },
   {
    "duration": 4,
    "start_time": "2025-01-27T19:56:30.555Z"
   },
   {
    "duration": 3,
    "start_time": "2025-01-27T19:56:30.560Z"
   },
   {
    "duration": 2,
    "start_time": "2025-01-27T19:56:30.566Z"
   },
   {
    "duration": 3,
    "start_time": "2025-01-27T19:56:30.570Z"
   },
   {
    "duration": 3,
    "start_time": "2025-01-27T19:56:30.574Z"
   },
   {
    "duration": 2,
    "start_time": "2025-01-27T19:56:30.579Z"
   },
   {
    "duration": 3,
    "start_time": "2025-01-27T19:56:30.583Z"
   },
   {
    "duration": 46,
    "start_time": "2025-01-27T19:56:30.587Z"
   },
   {
    "duration": 26,
    "start_time": "2025-01-27T20:01:58.291Z"
   },
   {
    "duration": 12,
    "start_time": "2025-01-27T20:04:00.093Z"
   },
   {
    "duration": 12,
    "start_time": "2025-01-27T20:06:18.808Z"
   },
   {
    "duration": 12,
    "start_time": "2025-01-27T20:06:38.556Z"
   },
   {
    "duration": 8,
    "start_time": "2025-01-27T20:06:50.309Z"
   },
   {
    "duration": 18,
    "start_time": "2025-01-27T20:08:27.135Z"
   },
   {
    "duration": 14,
    "start_time": "2025-01-27T20:09:47.340Z"
   },
   {
    "duration": 9,
    "start_time": "2025-01-27T20:09:56.317Z"
   },
   {
    "duration": 26,
    "start_time": "2025-01-27T20:11:57.157Z"
   },
   {
    "duration": 942,
    "start_time": "2025-01-27T20:14:30.535Z"
   },
   {
    "duration": 176,
    "start_time": "2025-01-27T20:14:31.480Z"
   },
   {
    "duration": 10,
    "start_time": "2025-01-27T20:14:31.657Z"
   },
   {
    "duration": 16,
    "start_time": "2025-01-27T20:14:31.670Z"
   },
   {
    "duration": 3,
    "start_time": "2025-01-27T20:14:31.691Z"
   },
   {
    "duration": 10,
    "start_time": "2025-01-27T20:14:31.696Z"
   },
   {
    "duration": 29,
    "start_time": "2025-01-27T20:14:31.708Z"
   },
   {
    "duration": 10,
    "start_time": "2025-01-27T20:14:31.739Z"
   },
   {
    "duration": 11,
    "start_time": "2025-01-27T20:14:31.750Z"
   },
   {
    "duration": 23,
    "start_time": "2025-01-27T20:14:31.764Z"
   },
   {
    "duration": 4,
    "start_time": "2025-01-27T20:14:31.789Z"
   },
   {
    "duration": 44,
    "start_time": "2025-01-27T20:14:31.794Z"
   },
   {
    "duration": 8,
    "start_time": "2025-01-27T20:14:31.840Z"
   },
   {
    "duration": 30,
    "start_time": "2025-01-27T20:14:31.850Z"
   },
   {
    "duration": 16,
    "start_time": "2025-01-27T20:14:31.882Z"
   },
   {
    "duration": 37,
    "start_time": "2025-01-27T20:14:31.901Z"
   },
   {
    "duration": 8,
    "start_time": "2025-01-27T20:14:31.940Z"
   },
   {
    "duration": 21,
    "start_time": "2025-01-27T20:14:31.950Z"
   },
   {
    "duration": 2,
    "start_time": "2025-01-27T20:14:31.972Z"
   },
   {
    "duration": 14,
    "start_time": "2025-01-27T20:14:31.976Z"
   },
   {
    "duration": 8,
    "start_time": "2025-01-27T20:14:31.991Z"
   },
   {
    "duration": 21,
    "start_time": "2025-01-27T20:14:32.031Z"
   },
   {
    "duration": 3,
    "start_time": "2025-01-27T20:14:32.053Z"
   },
   {
    "duration": 3,
    "start_time": "2025-01-27T20:14:32.057Z"
   },
   {
    "duration": 4,
    "start_time": "2025-01-27T20:14:32.062Z"
   },
   {
    "duration": 4,
    "start_time": "2025-01-27T20:14:32.067Z"
   },
   {
    "duration": 3,
    "start_time": "2025-01-27T20:14:32.072Z"
   },
   {
    "duration": 2,
    "start_time": "2025-01-27T20:14:32.079Z"
   },
   {
    "duration": 4,
    "start_time": "2025-01-27T20:14:32.082Z"
   },
   {
    "duration": 3,
    "start_time": "2025-01-27T20:14:32.087Z"
   },
   {
    "duration": 3,
    "start_time": "2025-01-27T20:14:32.091Z"
   },
   {
    "duration": 4,
    "start_time": "2025-01-27T20:14:32.132Z"
   },
   {
    "duration": 4,
    "start_time": "2025-01-27T20:14:32.137Z"
   },
   {
    "duration": 4,
    "start_time": "2025-01-27T20:14:32.142Z"
   },
   {
    "duration": 2,
    "start_time": "2025-01-27T20:14:32.148Z"
   },
   {
    "duration": 3,
    "start_time": "2025-01-27T20:14:32.152Z"
   },
   {
    "duration": 4,
    "start_time": "2025-01-27T20:14:32.156Z"
   },
   {
    "duration": 3,
    "start_time": "2025-01-27T20:14:32.162Z"
   },
   {
    "duration": 3,
    "start_time": "2025-01-27T20:14:32.166Z"
   },
   {
    "duration": 176,
    "start_time": "2025-01-28T00:48:18.170Z"
   },
   {
    "duration": 2541,
    "start_time": "2025-01-28T00:48:23.853Z"
   },
   {
    "duration": 213,
    "start_time": "2025-01-28T00:48:26.397Z"
   },
   {
    "duration": 9,
    "start_time": "2025-01-28T00:48:26.612Z"
   },
   {
    "duration": 9,
    "start_time": "2025-01-28T00:48:26.623Z"
   },
   {
    "duration": 3,
    "start_time": "2025-01-28T00:48:26.634Z"
   },
   {
    "duration": 9,
    "start_time": "2025-01-28T00:48:26.639Z"
   },
   {
    "duration": 8,
    "start_time": "2025-01-28T00:48:26.649Z"
   },
   {
    "duration": 9,
    "start_time": "2025-01-28T00:48:26.658Z"
   },
   {
    "duration": 9,
    "start_time": "2025-01-28T00:48:26.669Z"
   },
   {
    "duration": 50,
    "start_time": "2025-01-28T00:48:26.683Z"
   },
   {
    "duration": 4,
    "start_time": "2025-01-28T00:48:26.734Z"
   },
   {
    "duration": 16,
    "start_time": "2025-01-28T00:48:26.739Z"
   },
   {
    "duration": 9,
    "start_time": "2025-01-28T00:48:26.756Z"
   },
   {
    "duration": 28,
    "start_time": "2025-01-28T00:48:26.766Z"
   },
   {
    "duration": 43,
    "start_time": "2025-01-28T00:48:26.796Z"
   },
   {
    "duration": 14,
    "start_time": "2025-01-28T00:48:26.840Z"
   },
   {
    "duration": 8,
    "start_time": "2025-01-28T00:48:26.855Z"
   },
   {
    "duration": 23,
    "start_time": "2025-01-28T00:48:26.865Z"
   },
   {
    "duration": 3,
    "start_time": "2025-01-28T00:48:26.890Z"
   },
   {
    "duration": 42,
    "start_time": "2025-01-28T00:48:26.895Z"
   },
   {
    "duration": 8,
    "start_time": "2025-01-28T00:48:26.939Z"
   },
   {
    "duration": 20,
    "start_time": "2025-01-28T00:48:26.949Z"
   },
   {
    "duration": 3,
    "start_time": "2025-01-28T00:48:26.970Z"
   },
   {
    "duration": 4,
    "start_time": "2025-01-28T00:48:26.974Z"
   },
   {
    "duration": 585,
    "start_time": "2025-01-28T00:48:26.979Z"
   },
   {
    "duration": 0,
    "start_time": "2025-01-28T00:48:27.566Z"
   },
   {
    "duration": 0,
    "start_time": "2025-01-28T00:48:27.567Z"
   },
   {
    "duration": 0,
    "start_time": "2025-01-28T00:48:27.568Z"
   },
   {
    "duration": 0,
    "start_time": "2025-01-28T00:48:27.569Z"
   },
   {
    "duration": 0,
    "start_time": "2025-01-28T00:48:27.570Z"
   },
   {
    "duration": 0,
    "start_time": "2025-01-28T00:48:27.571Z"
   },
   {
    "duration": 0,
    "start_time": "2025-01-28T00:48:27.572Z"
   },
   {
    "duration": 0,
    "start_time": "2025-01-28T00:48:27.573Z"
   },
   {
    "duration": 0,
    "start_time": "2025-01-28T00:48:27.575Z"
   },
   {
    "duration": 0,
    "start_time": "2025-01-28T00:48:27.575Z"
   },
   {
    "duration": 0,
    "start_time": "2025-01-28T00:48:27.577Z"
   },
   {
    "duration": 0,
    "start_time": "2025-01-28T00:48:27.578Z"
   },
   {
    "duration": 0,
    "start_time": "2025-01-28T00:48:27.579Z"
   },
   {
    "duration": 0,
    "start_time": "2025-01-28T00:48:27.580Z"
   },
   {
    "duration": 18,
    "start_time": "2025-01-28T00:49:35.656Z"
   },
   {
    "duration": 14,
    "start_time": "2025-01-28T00:51:54.539Z"
   },
   {
    "duration": 2,
    "start_time": "2025-01-28T00:51:56.196Z"
   },
   {
    "duration": 12,
    "start_time": "2025-01-28T00:53:49.978Z"
   },
   {
    "duration": 816,
    "start_time": "2025-01-28T00:54:18.850Z"
   },
   {
    "duration": 173,
    "start_time": "2025-01-28T00:54:19.668Z"
   },
   {
    "duration": 10,
    "start_time": "2025-01-28T00:54:19.843Z"
   },
   {
    "duration": 10,
    "start_time": "2025-01-28T00:54:19.856Z"
   },
   {
    "duration": 3,
    "start_time": "2025-01-28T00:54:19.867Z"
   },
   {
    "duration": 9,
    "start_time": "2025-01-28T00:54:19.871Z"
   },
   {
    "duration": 8,
    "start_time": "2025-01-28T00:54:19.881Z"
   },
   {
    "duration": 7,
    "start_time": "2025-01-28T00:54:19.891Z"
   },
   {
    "duration": 40,
    "start_time": "2025-01-28T00:54:19.899Z"
   },
   {
    "duration": 20,
    "start_time": "2025-01-28T00:54:19.942Z"
   },
   {
    "duration": 3,
    "start_time": "2025-01-28T00:54:19.964Z"
   },
   {
    "duration": 16,
    "start_time": "2025-01-28T00:54:19.968Z"
   },
   {
    "duration": 9,
    "start_time": "2025-01-28T00:54:19.986Z"
   },
   {
    "duration": 51,
    "start_time": "2025-01-28T00:54:19.996Z"
   },
   {
    "duration": 15,
    "start_time": "2025-01-28T00:54:20.048Z"
   },
   {
    "duration": 20,
    "start_time": "2025-01-28T00:54:20.064Z"
   },
   {
    "duration": 7,
    "start_time": "2025-01-28T00:54:20.086Z"
   },
   {
    "duration": 43,
    "start_time": "2025-01-28T00:54:20.094Z"
   },
   {
    "duration": 2,
    "start_time": "2025-01-28T00:54:20.139Z"
   },
   {
    "duration": 14,
    "start_time": "2025-01-28T00:54:20.143Z"
   },
   {
    "duration": 8,
    "start_time": "2025-01-28T00:54:20.159Z"
   },
   {
    "duration": 21,
    "start_time": "2025-01-28T00:54:20.169Z"
   },
   {
    "duration": 2,
    "start_time": "2025-01-28T00:54:20.192Z"
   },
   {
    "duration": 4,
    "start_time": "2025-01-28T00:54:20.195Z"
   },
   {
    "duration": 3,
    "start_time": "2025-01-28T00:54:20.231Z"
   },
   {
    "duration": 3,
    "start_time": "2025-01-28T00:54:20.236Z"
   },
   {
    "duration": 3,
    "start_time": "2025-01-28T00:54:20.240Z"
   },
   {
    "duration": 3,
    "start_time": "2025-01-28T00:54:20.246Z"
   },
   {
    "duration": 3,
    "start_time": "2025-01-28T00:54:20.250Z"
   },
   {
    "duration": 3,
    "start_time": "2025-01-28T00:54:20.255Z"
   },
   {
    "duration": 3,
    "start_time": "2025-01-28T00:54:20.260Z"
   },
   {
    "duration": 3,
    "start_time": "2025-01-28T00:54:20.265Z"
   },
   {
    "duration": 3,
    "start_time": "2025-01-28T00:54:20.270Z"
   },
   {
    "duration": 3,
    "start_time": "2025-01-28T00:54:20.274Z"
   },
   {
    "duration": 2,
    "start_time": "2025-01-28T00:54:20.280Z"
   },
   {
    "duration": 4,
    "start_time": "2025-01-28T00:54:20.283Z"
   },
   {
    "duration": 44,
    "start_time": "2025-01-28T00:54:20.288Z"
   },
   {
    "duration": 3,
    "start_time": "2025-01-28T00:54:20.334Z"
   },
   {
    "duration": 3,
    "start_time": "2025-01-28T00:54:20.339Z"
   },
   {
    "duration": 12,
    "start_time": "2025-01-28T00:54:38.269Z"
   },
   {
    "duration": 34,
    "start_time": "2025-01-28T00:56:00.130Z"
   },
   {
    "duration": 26,
    "start_time": "2025-01-28T00:56:31.838Z"
   },
   {
    "duration": 24,
    "start_time": "2025-01-28T00:56:44.849Z"
   },
   {
    "duration": 27,
    "start_time": "2025-01-28T00:58:27.057Z"
   },
   {
    "duration": 483,
    "start_time": "2025-01-28T01:01:28.783Z"
   },
   {
    "duration": 41,
    "start_time": "2025-01-28T01:03:19.259Z"
   },
   {
    "duration": 21,
    "start_time": "2025-01-28T01:03:52.495Z"
   },
   {
    "duration": 29,
    "start_time": "2025-01-28T01:04:49.720Z"
   },
   {
    "duration": 20,
    "start_time": "2025-01-28T01:04:55.034Z"
   },
   {
    "duration": 21,
    "start_time": "2025-01-28T01:08:07.083Z"
   },
   {
    "duration": 29,
    "start_time": "2025-01-28T01:10:41.479Z"
   },
   {
    "duration": 805,
    "start_time": "2025-01-28T01:11:13.146Z"
   },
   {
    "duration": 159,
    "start_time": "2025-01-28T01:11:13.953Z"
   },
   {
    "duration": 9,
    "start_time": "2025-01-28T01:11:14.113Z"
   },
   {
    "duration": 10,
    "start_time": "2025-01-28T01:11:14.125Z"
   },
   {
    "duration": 2,
    "start_time": "2025-01-28T01:11:14.138Z"
   },
   {
    "duration": 9,
    "start_time": "2025-01-28T01:11:14.142Z"
   },
   {
    "duration": 8,
    "start_time": "2025-01-28T01:11:14.152Z"
   },
   {
    "duration": 8,
    "start_time": "2025-01-28T01:11:14.162Z"
   },
   {
    "duration": 11,
    "start_time": "2025-01-28T01:11:14.171Z"
   },
   {
    "duration": 58,
    "start_time": "2025-01-28T01:11:14.185Z"
   },
   {
    "duration": 3,
    "start_time": "2025-01-28T01:11:14.245Z"
   },
   {
    "duration": 16,
    "start_time": "2025-01-28T01:11:14.249Z"
   },
   {
    "duration": 9,
    "start_time": "2025-01-28T01:11:14.266Z"
   },
   {
    "duration": 26,
    "start_time": "2025-01-28T01:11:14.277Z"
   },
   {
    "duration": 22,
    "start_time": "2025-01-28T01:11:14.332Z"
   },
   {
    "duration": 12,
    "start_time": "2025-01-28T01:11:14.355Z"
   },
   {
    "duration": 8,
    "start_time": "2025-01-28T01:11:14.369Z"
   },
   {
    "duration": 168,
    "start_time": "2025-01-28T01:11:14.379Z"
   },
   {
    "duration": 0,
    "start_time": "2025-01-28T01:11:14.550Z"
   },
   {
    "duration": 0,
    "start_time": "2025-01-28T01:11:14.551Z"
   },
   {
    "duration": 0,
    "start_time": "2025-01-28T01:11:14.552Z"
   },
   {
    "duration": 0,
    "start_time": "2025-01-28T01:11:14.554Z"
   },
   {
    "duration": 0,
    "start_time": "2025-01-28T01:11:14.555Z"
   },
   {
    "duration": 0,
    "start_time": "2025-01-28T01:11:14.556Z"
   },
   {
    "duration": 0,
    "start_time": "2025-01-28T01:11:14.558Z"
   },
   {
    "duration": 0,
    "start_time": "2025-01-28T01:11:14.559Z"
   },
   {
    "duration": 0,
    "start_time": "2025-01-28T01:11:14.560Z"
   },
   {
    "duration": 0,
    "start_time": "2025-01-28T01:11:14.561Z"
   },
   {
    "duration": 0,
    "start_time": "2025-01-28T01:11:14.563Z"
   },
   {
    "duration": 0,
    "start_time": "2025-01-28T01:11:14.564Z"
   },
   {
    "duration": 0,
    "start_time": "2025-01-28T01:11:14.565Z"
   },
   {
    "duration": 0,
    "start_time": "2025-01-28T01:11:14.566Z"
   },
   {
    "duration": 0,
    "start_time": "2025-01-28T01:11:14.568Z"
   },
   {
    "duration": 0,
    "start_time": "2025-01-28T01:11:14.569Z"
   },
   {
    "duration": 0,
    "start_time": "2025-01-28T01:11:14.571Z"
   },
   {
    "duration": 0,
    "start_time": "2025-01-28T01:11:14.572Z"
   },
   {
    "duration": 0,
    "start_time": "2025-01-28T01:11:14.573Z"
   },
   {
    "duration": 0,
    "start_time": "2025-01-28T01:11:14.574Z"
   },
   {
    "duration": 0,
    "start_time": "2025-01-28T01:11:14.579Z"
   },
   {
    "duration": 27,
    "start_time": "2025-01-28T01:12:40.167Z"
   },
   {
    "duration": 162,
    "start_time": "2025-01-28T01:14:46.953Z"
   },
   {
    "duration": 25,
    "start_time": "2025-01-28T01:16:46.752Z"
   },
   {
    "duration": 11,
    "start_time": "2025-01-28T01:17:58.556Z"
   },
   {
    "duration": 772,
    "start_time": "2025-01-28T01:18:10.308Z"
   },
   {
    "duration": 156,
    "start_time": "2025-01-28T01:18:11.084Z"
   },
   {
    "duration": 9,
    "start_time": "2025-01-28T01:18:11.242Z"
   },
   {
    "duration": 10,
    "start_time": "2025-01-28T01:18:11.252Z"
   },
   {
    "duration": 2,
    "start_time": "2025-01-28T01:18:11.265Z"
   },
   {
    "duration": 12,
    "start_time": "2025-01-28T01:18:11.269Z"
   },
   {
    "duration": 8,
    "start_time": "2025-01-28T01:18:11.283Z"
   },
   {
    "duration": 39,
    "start_time": "2025-01-28T01:18:11.292Z"
   },
   {
    "duration": 9,
    "start_time": "2025-01-28T01:18:11.333Z"
   },
   {
    "duration": 23,
    "start_time": "2025-01-28T01:18:11.344Z"
   },
   {
    "duration": 3,
    "start_time": "2025-01-28T01:18:11.369Z"
   },
   {
    "duration": 17,
    "start_time": "2025-01-28T01:18:11.373Z"
   },
   {
    "duration": 9,
    "start_time": "2025-01-28T01:18:11.391Z"
   },
   {
    "duration": 61,
    "start_time": "2025-01-28T01:18:11.405Z"
   },
   {
    "duration": 25,
    "start_time": "2025-01-28T01:18:11.467Z"
   },
   {
    "duration": 14,
    "start_time": "2025-01-28T01:18:11.494Z"
   },
   {
    "duration": 27,
    "start_time": "2025-01-28T01:18:11.510Z"
   },
   {
    "duration": 17,
    "start_time": "2025-01-28T01:18:11.538Z"
   },
   {
    "duration": 12,
    "start_time": "2025-01-28T01:18:11.557Z"
   },
   {
    "duration": 15,
    "start_time": "2025-01-28T01:18:11.571Z"
   },
   {
    "duration": 10,
    "start_time": "2025-01-28T01:18:11.588Z"
   },
   {
    "duration": 48,
    "start_time": "2025-01-28T01:18:11.599Z"
   },
   {
    "duration": 2,
    "start_time": "2025-01-28T01:18:11.649Z"
   },
   {
    "duration": 3,
    "start_time": "2025-01-28T01:18:11.653Z"
   },
   {
    "duration": 36,
    "start_time": "2025-01-28T01:18:11.658Z"
   },
   {
    "duration": 45,
    "start_time": "2025-01-28T01:18:11.697Z"
   },
   {
    "duration": 7,
    "start_time": "2025-01-28T01:18:11.744Z"
   },
   {
    "duration": 0,
    "start_time": "2025-01-28T01:18:11.752Z"
   },
   {
    "duration": 0,
    "start_time": "2025-01-28T01:18:11.754Z"
   },
   {
    "duration": 0,
    "start_time": "2025-01-28T01:18:11.755Z"
   },
   {
    "duration": 0,
    "start_time": "2025-01-28T01:18:11.757Z"
   },
   {
    "duration": 0,
    "start_time": "2025-01-28T01:18:11.758Z"
   },
   {
    "duration": 1,
    "start_time": "2025-01-28T01:18:11.759Z"
   },
   {
    "duration": 0,
    "start_time": "2025-01-28T01:18:11.761Z"
   },
   {
    "duration": 0,
    "start_time": "2025-01-28T01:18:11.762Z"
   },
   {
    "duration": 0,
    "start_time": "2025-01-28T01:18:11.764Z"
   },
   {
    "duration": 0,
    "start_time": "2025-01-28T01:18:11.765Z"
   },
   {
    "duration": 0,
    "start_time": "2025-01-28T01:18:11.766Z"
   },
   {
    "duration": 0,
    "start_time": "2025-01-28T01:18:11.768Z"
   },
   {
    "duration": 1244,
    "start_time": "2025-01-28T01:24:25.943Z"
   },
   {
    "duration": 747,
    "start_time": "2025-01-28T01:24:33.719Z"
   },
   {
    "duration": 160,
    "start_time": "2025-01-28T01:24:34.469Z"
   },
   {
    "duration": 9,
    "start_time": "2025-01-28T01:24:34.631Z"
   },
   {
    "duration": 10,
    "start_time": "2025-01-28T01:24:34.642Z"
   },
   {
    "duration": 2,
    "start_time": "2025-01-28T01:24:34.654Z"
   },
   {
    "duration": 9,
    "start_time": "2025-01-28T01:24:34.658Z"
   },
   {
    "duration": 9,
    "start_time": "2025-01-28T01:24:34.669Z"
   },
   {
    "duration": 9,
    "start_time": "2025-01-28T01:24:34.679Z"
   },
   {
    "duration": 48,
    "start_time": "2025-01-28T01:24:34.689Z"
   },
   {
    "duration": 21,
    "start_time": "2025-01-28T01:24:34.741Z"
   },
   {
    "duration": 2,
    "start_time": "2025-01-28T01:24:34.764Z"
   },
   {
    "duration": 15,
    "start_time": "2025-01-28T01:24:34.768Z"
   },
   {
    "duration": 9,
    "start_time": "2025-01-28T01:24:34.785Z"
   },
   {
    "duration": 62,
    "start_time": "2025-01-28T01:24:34.795Z"
   },
   {
    "duration": 24,
    "start_time": "2025-01-28T01:24:34.859Z"
   },
   {
    "duration": 11,
    "start_time": "2025-01-28T01:24:34.886Z"
   },
   {
    "duration": 7,
    "start_time": "2025-01-28T01:24:34.900Z"
   },
   {
    "duration": 16,
    "start_time": "2025-01-28T01:24:34.932Z"
   },
   {
    "duration": 12,
    "start_time": "2025-01-28T01:24:34.950Z"
   },
   {
    "duration": 14,
    "start_time": "2025-01-28T01:24:34.964Z"
   },
   {
    "duration": 8,
    "start_time": "2025-01-28T01:24:34.980Z"
   },
   {
    "duration": 49,
    "start_time": "2025-01-28T01:24:34.989Z"
   },
   {
    "duration": 13,
    "start_time": "2025-01-28T01:24:35.040Z"
   },
   {
    "duration": 3,
    "start_time": "2025-01-28T01:24:35.055Z"
   },
   {
    "duration": 581,
    "start_time": "2025-01-28T01:24:35.060Z"
   },
   {
    "duration": 0,
    "start_time": "2025-01-28T01:24:35.643Z"
   },
   {
    "duration": 0,
    "start_time": "2025-01-28T01:24:35.644Z"
   },
   {
    "duration": 0,
    "start_time": "2025-01-28T01:24:35.647Z"
   },
   {
    "duration": 0,
    "start_time": "2025-01-28T01:24:35.649Z"
   },
   {
    "duration": 0,
    "start_time": "2025-01-28T01:24:35.649Z"
   },
   {
    "duration": 0,
    "start_time": "2025-01-28T01:24:35.650Z"
   },
   {
    "duration": 0,
    "start_time": "2025-01-28T01:24:35.651Z"
   },
   {
    "duration": 0,
    "start_time": "2025-01-28T01:24:35.652Z"
   },
   {
    "duration": 0,
    "start_time": "2025-01-28T01:24:35.653Z"
   },
   {
    "duration": 0,
    "start_time": "2025-01-28T01:24:35.654Z"
   },
   {
    "duration": 0,
    "start_time": "2025-01-28T01:24:35.655Z"
   },
   {
    "duration": 0,
    "start_time": "2025-01-28T01:24:35.656Z"
   },
   {
    "duration": 0,
    "start_time": "2025-01-28T01:24:35.657Z"
   },
   {
    "duration": 0,
    "start_time": "2025-01-28T01:24:35.659Z"
   },
   {
    "duration": 23,
    "start_time": "2025-01-28T01:24:47.317Z"
   },
   {
    "duration": 25,
    "start_time": "2025-01-28T01:25:07.111Z"
   },
   {
    "duration": 40,
    "start_time": "2025-01-28T01:25:10.720Z"
   },
   {
    "duration": 22,
    "start_time": "2025-01-28T01:25:18.483Z"
   },
   {
    "duration": 962,
    "start_time": "2025-01-28T01:25:21.555Z"
   },
   {
    "duration": 5,
    "start_time": "2025-01-28T01:27:01.058Z"
   },
   {
    "duration": 20,
    "start_time": "2025-01-28T01:27:07.436Z"
   },
   {
    "duration": 23,
    "start_time": "2025-01-28T01:27:18.460Z"
   },
   {
    "duration": 292,
    "start_time": "2025-01-28T01:30:36.454Z"
   },
   {
    "duration": 906,
    "start_time": "2025-01-28T01:32:02.354Z"
   },
   {
    "duration": 164,
    "start_time": "2025-01-28T01:32:03.263Z"
   },
   {
    "duration": 8,
    "start_time": "2025-01-28T01:32:03.429Z"
   },
   {
    "duration": 12,
    "start_time": "2025-01-28T01:32:03.440Z"
   },
   {
    "duration": 3,
    "start_time": "2025-01-28T01:32:03.453Z"
   },
   {
    "duration": 9,
    "start_time": "2025-01-28T01:32:03.458Z"
   },
   {
    "duration": 8,
    "start_time": "2025-01-28T01:32:03.469Z"
   },
   {
    "duration": 10,
    "start_time": "2025-01-28T01:32:03.479Z"
   },
   {
    "duration": 12,
    "start_time": "2025-01-28T01:32:03.491Z"
   },
   {
    "duration": 22,
    "start_time": "2025-01-28T01:32:03.534Z"
   },
   {
    "duration": 3,
    "start_time": "2025-01-28T01:32:03.558Z"
   },
   {
    "duration": 18,
    "start_time": "2025-01-28T01:32:03.563Z"
   },
   {
    "duration": 10,
    "start_time": "2025-01-28T01:32:03.584Z"
   },
   {
    "duration": 65,
    "start_time": "2025-01-28T01:32:03.596Z"
   },
   {
    "duration": 32,
    "start_time": "2025-01-28T01:32:03.665Z"
   },
   {
    "duration": 15,
    "start_time": "2025-01-28T01:32:03.699Z"
   },
   {
    "duration": 16,
    "start_time": "2025-01-28T01:32:03.716Z"
   },
   {
    "duration": 20,
    "start_time": "2025-01-28T01:32:03.734Z"
   },
   {
    "duration": 12,
    "start_time": "2025-01-28T01:32:03.757Z"
   },
   {
    "duration": 15,
    "start_time": "2025-01-28T01:32:03.771Z"
   },
   {
    "duration": 9,
    "start_time": "2025-01-28T01:32:03.787Z"
   },
   {
    "duration": 46,
    "start_time": "2025-01-28T01:32:03.798Z"
   },
   {
    "duration": 16,
    "start_time": "2025-01-28T01:32:03.845Z"
   },
   {
    "duration": 2,
    "start_time": "2025-01-28T01:32:03.863Z"
   },
   {
    "duration": 30,
    "start_time": "2025-01-28T01:32:03.867Z"
   },
   {
    "duration": 46,
    "start_time": "2025-01-28T01:32:03.899Z"
   },
   {
    "duration": 18,
    "start_time": "2025-01-28T01:32:03.947Z"
   },
   {
    "duration": 1225,
    "start_time": "2025-01-28T01:32:03.969Z"
   },
   {
    "duration": 0,
    "start_time": "2025-01-28T01:32:05.196Z"
   },
   {
    "duration": 0,
    "start_time": "2025-01-28T01:32:05.198Z"
   },
   {
    "duration": 0,
    "start_time": "2025-01-28T01:32:05.199Z"
   },
   {
    "duration": 0,
    "start_time": "2025-01-28T01:32:05.200Z"
   },
   {
    "duration": 0,
    "start_time": "2025-01-28T01:32:05.201Z"
   },
   {
    "duration": 0,
    "start_time": "2025-01-28T01:32:05.202Z"
   },
   {
    "duration": 0,
    "start_time": "2025-01-28T01:32:05.203Z"
   },
   {
    "duration": 0,
    "start_time": "2025-01-28T01:32:05.204Z"
   },
   {
    "duration": 0,
    "start_time": "2025-01-28T01:32:05.205Z"
   },
   {
    "duration": 0,
    "start_time": "2025-01-28T01:32:05.206Z"
   },
   {
    "duration": 0,
    "start_time": "2025-01-28T01:32:05.208Z"
   },
   {
    "duration": 180,
    "start_time": "2025-01-28T01:33:51.284Z"
   },
   {
    "duration": 28,
    "start_time": "2025-01-28T01:34:54.391Z"
   },
   {
    "duration": 10,
    "start_time": "2025-01-28T01:37:20.244Z"
   },
   {
    "duration": 172,
    "start_time": "2025-01-28T01:38:08.553Z"
   },
   {
    "duration": 11,
    "start_time": "2025-01-28T01:39:04.041Z"
   },
   {
    "duration": 11,
    "start_time": "2025-01-28T01:39:20.091Z"
   },
   {
    "duration": 28,
    "start_time": "2025-01-28T01:39:41.666Z"
   },
   {
    "duration": 667,
    "start_time": "2025-01-28T01:41:06.152Z"
   },
   {
    "duration": 75,
    "start_time": "2025-01-28T01:41:41.710Z"
   },
   {
    "duration": 27,
    "start_time": "2025-01-28T01:43:13.661Z"
   },
   {
    "duration": 18,
    "start_time": "2025-01-28T01:43:45.860Z"
   },
   {
    "duration": 756,
    "start_time": "2025-01-28T01:44:28.710Z"
   },
   {
    "duration": 162,
    "start_time": "2025-01-28T01:44:29.468Z"
   },
   {
    "duration": 10,
    "start_time": "2025-01-28T01:44:29.631Z"
   },
   {
    "duration": 11,
    "start_time": "2025-01-28T01:44:29.643Z"
   },
   {
    "duration": 3,
    "start_time": "2025-01-28T01:44:29.655Z"
   },
   {
    "duration": 10,
    "start_time": "2025-01-28T01:44:29.659Z"
   },
   {
    "duration": 9,
    "start_time": "2025-01-28T01:44:29.671Z"
   },
   {
    "duration": 8,
    "start_time": "2025-01-28T01:44:29.682Z"
   },
   {
    "duration": 44,
    "start_time": "2025-01-28T01:44:29.691Z"
   },
   {
    "duration": 19,
    "start_time": "2025-01-28T01:44:29.739Z"
   },
   {
    "duration": 9,
    "start_time": "2025-01-28T01:44:29.760Z"
   },
   {
    "duration": 15,
    "start_time": "2025-01-28T01:44:29.770Z"
   },
   {
    "duration": 9,
    "start_time": "2025-01-28T01:44:29.787Z"
   },
   {
    "duration": 58,
    "start_time": "2025-01-28T01:44:29.797Z"
   },
   {
    "duration": 20,
    "start_time": "2025-01-28T01:44:29.857Z"
   },
   {
    "duration": 12,
    "start_time": "2025-01-28T01:44:29.879Z"
   },
   {
    "duration": 7,
    "start_time": "2025-01-28T01:44:29.893Z"
   },
   {
    "duration": 41,
    "start_time": "2025-01-28T01:44:29.901Z"
   },
   {
    "duration": 12,
    "start_time": "2025-01-28T01:44:29.943Z"
   },
   {
    "duration": 13,
    "start_time": "2025-01-28T01:44:29.956Z"
   },
   {
    "duration": 9,
    "start_time": "2025-01-28T01:44:29.970Z"
   },
   {
    "duration": 21,
    "start_time": "2025-01-28T01:44:29.980Z"
   },
   {
    "duration": 37,
    "start_time": "2025-01-28T01:44:30.003Z"
   },
   {
    "duration": 2,
    "start_time": "2025-01-28T01:44:30.041Z"
   },
   {
    "duration": 29,
    "start_time": "2025-01-28T01:44:30.045Z"
   },
   {
    "duration": 21,
    "start_time": "2025-01-28T01:44:30.077Z"
   },
   {
    "duration": 44,
    "start_time": "2025-01-28T01:44:30.100Z"
   },
   {
    "duration": 20,
    "start_time": "2025-01-28T01:44:30.148Z"
   },
   {
    "duration": 3,
    "start_time": "2025-01-28T01:44:30.169Z"
   },
   {
    "duration": 2,
    "start_time": "2025-01-28T01:44:30.174Z"
   },
   {
    "duration": 5,
    "start_time": "2025-01-28T01:44:30.177Z"
   },
   {
    "duration": 3,
    "start_time": "2025-01-28T01:44:30.183Z"
   },
   {
    "duration": 3,
    "start_time": "2025-01-28T01:44:30.188Z"
   },
   {
    "duration": 3,
    "start_time": "2025-01-28T01:44:30.192Z"
   },
   {
    "duration": 35,
    "start_time": "2025-01-28T01:44:30.196Z"
   },
   {
    "duration": 2,
    "start_time": "2025-01-28T01:44:30.233Z"
   },
   {
    "duration": 3,
    "start_time": "2025-01-28T01:44:30.236Z"
   },
   {
    "duration": 4,
    "start_time": "2025-01-28T01:44:30.240Z"
   },
   {
    "duration": 3,
    "start_time": "2025-01-28T01:44:30.246Z"
   },
   {
    "duration": 183,
    "start_time": "2025-01-28T15:00:32.104Z"
   },
   {
    "duration": 2445,
    "start_time": "2025-01-28T15:00:38.302Z"
   },
   {
    "duration": 217,
    "start_time": "2025-01-28T15:00:40.749Z"
   },
   {
    "duration": 11,
    "start_time": "2025-01-28T15:00:40.968Z"
   },
   {
    "duration": 9,
    "start_time": "2025-01-28T15:00:40.982Z"
   },
   {
    "duration": 3,
    "start_time": "2025-01-28T15:00:40.992Z"
   },
   {
    "duration": 10,
    "start_time": "2025-01-28T15:00:40.996Z"
   },
   {
    "duration": 24,
    "start_time": "2025-01-28T15:00:41.008Z"
   },
   {
    "duration": 9,
    "start_time": "2025-01-28T15:00:41.033Z"
   },
   {
    "duration": 11,
    "start_time": "2025-01-28T15:00:41.044Z"
   },
   {
    "duration": 19,
    "start_time": "2025-01-28T15:00:41.060Z"
   },
   {
    "duration": 9,
    "start_time": "2025-01-28T15:00:41.080Z"
   },
   {
    "duration": 44,
    "start_time": "2025-01-28T15:00:41.091Z"
   },
   {
    "duration": 8,
    "start_time": "2025-01-28T15:00:41.136Z"
   },
   {
    "duration": 24,
    "start_time": "2025-01-28T15:00:41.146Z"
   },
   {
    "duration": 21,
    "start_time": "2025-01-28T15:00:41.171Z"
   },
   {
    "duration": 11,
    "start_time": "2025-01-28T15:00:41.194Z"
   },
   {
    "duration": 30,
    "start_time": "2025-01-28T15:00:41.206Z"
   },
   {
    "duration": 18,
    "start_time": "2025-01-28T15:00:41.238Z"
   },
   {
    "duration": 12,
    "start_time": "2025-01-28T15:00:41.258Z"
   },
   {
    "duration": 13,
    "start_time": "2025-01-28T15:00:41.272Z"
   },
   {
    "duration": 8,
    "start_time": "2025-01-28T15:00:41.287Z"
   },
   {
    "duration": 54,
    "start_time": "2025-01-28T15:00:41.297Z"
   },
   {
    "duration": 16,
    "start_time": "2025-01-28T15:00:41.352Z"
   },
   {
    "duration": 2,
    "start_time": "2025-01-28T15:00:41.370Z"
   },
   {
    "duration": 26,
    "start_time": "2025-01-28T15:00:41.374Z"
   },
   {
    "duration": 47,
    "start_time": "2025-01-28T15:00:41.402Z"
   },
   {
    "duration": 16,
    "start_time": "2025-01-28T15:00:41.451Z"
   },
   {
    "duration": 22,
    "start_time": "2025-01-28T15:00:41.472Z"
   },
   {
    "duration": 36,
    "start_time": "2025-01-28T15:00:41.495Z"
   },
   {
    "duration": 3,
    "start_time": "2025-01-28T15:00:41.532Z"
   },
   {
    "duration": 3,
    "start_time": "2025-01-28T15:00:41.536Z"
   },
   {
    "duration": 3,
    "start_time": "2025-01-28T15:00:41.541Z"
   },
   {
    "duration": 4,
    "start_time": "2025-01-28T15:00:41.545Z"
   },
   {
    "duration": 3,
    "start_time": "2025-01-28T15:00:41.551Z"
   },
   {
    "duration": 3,
    "start_time": "2025-01-28T15:00:41.555Z"
   },
   {
    "duration": 3,
    "start_time": "2025-01-28T15:00:41.560Z"
   },
   {
    "duration": 3,
    "start_time": "2025-01-28T15:00:41.565Z"
   },
   {
    "duration": 3,
    "start_time": "2025-01-28T15:00:41.569Z"
   },
   {
    "duration": 3,
    "start_time": "2025-01-28T15:00:41.574Z"
   },
   {
    "duration": 28,
    "start_time": "2025-01-28T15:02:39.263Z"
   },
   {
    "duration": 136,
    "start_time": "2025-01-28T15:53:12.885Z"
   },
   {
    "duration": 26,
    "start_time": "2025-01-28T15:54:19.982Z"
   },
   {
    "duration": 4,
    "start_time": "2025-01-28T15:59:35.972Z"
   },
   {
    "duration": 4,
    "start_time": "2025-01-28T15:59:41.373Z"
   },
   {
    "duration": 325,
    "start_time": "2025-01-28T15:59:44.521Z"
   },
   {
    "duration": 3,
    "start_time": "2025-01-28T16:00:02.577Z"
   },
   {
    "duration": 143,
    "start_time": "2025-01-28T16:00:05.269Z"
   },
   {
    "duration": 4,
    "start_time": "2025-01-28T16:01:49.001Z"
   },
   {
    "duration": 40,
    "start_time": "2025-01-28T16:01:50.623Z"
   },
   {
    "duration": 41,
    "start_time": "2025-01-28T16:02:23.626Z"
   },
   {
    "duration": 11,
    "start_time": "2025-01-28T16:04:21.732Z"
   },
   {
    "duration": 782,
    "start_time": "2025-01-28T16:10:00.437Z"
   },
   {
    "duration": 154,
    "start_time": "2025-01-28T16:10:01.221Z"
   },
   {
    "duration": 8,
    "start_time": "2025-01-28T16:10:01.378Z"
   },
   {
    "duration": 9,
    "start_time": "2025-01-28T16:10:01.389Z"
   },
   {
    "duration": 2,
    "start_time": "2025-01-28T16:10:01.400Z"
   },
   {
    "duration": 8,
    "start_time": "2025-01-28T16:10:01.404Z"
   },
   {
    "duration": 9,
    "start_time": "2025-01-28T16:10:01.431Z"
   },
   {
    "duration": 9,
    "start_time": "2025-01-28T16:10:01.441Z"
   },
   {
    "duration": 11,
    "start_time": "2025-01-28T16:10:01.451Z"
   },
   {
    "duration": 22,
    "start_time": "2025-01-28T16:10:01.465Z"
   },
   {
    "duration": 10,
    "start_time": "2025-01-28T16:10:01.489Z"
   },
   {
    "duration": 15,
    "start_time": "2025-01-28T16:10:01.532Z"
   },
   {
    "duration": 8,
    "start_time": "2025-01-28T16:10:01.549Z"
   },
   {
    "duration": 26,
    "start_time": "2025-01-28T16:10:01.558Z"
   },
   {
    "duration": 46,
    "start_time": "2025-01-28T16:10:01.586Z"
   },
   {
    "duration": 11,
    "start_time": "2025-01-28T16:10:01.634Z"
   },
   {
    "duration": 7,
    "start_time": "2025-01-28T16:10:01.647Z"
   },
   {
    "duration": 16,
    "start_time": "2025-01-28T16:10:01.655Z"
   },
   {
    "duration": 11,
    "start_time": "2025-01-28T16:10:01.673Z"
   },
   {
    "duration": 13,
    "start_time": "2025-01-28T16:10:01.686Z"
   },
   {
    "duration": 9,
    "start_time": "2025-01-28T16:10:01.731Z"
   },
   {
    "duration": 24,
    "start_time": "2025-01-28T16:10:01.742Z"
   },
   {
    "duration": 16,
    "start_time": "2025-01-28T16:10:01.769Z"
   },
   {
    "duration": 3,
    "start_time": "2025-01-28T16:10:01.787Z"
   },
   {
    "duration": 55,
    "start_time": "2025-01-28T16:10:01.791Z"
   },
   {
    "duration": 19,
    "start_time": "2025-01-28T16:10:01.848Z"
   },
   {
    "duration": 17,
    "start_time": "2025-01-28T16:10:01.869Z"
   },
   {
    "duration": 18,
    "start_time": "2025-01-28T16:10:01.890Z"
   },
   {
    "duration": 42,
    "start_time": "2025-01-28T16:10:01.910Z"
   },
   {
    "duration": 6,
    "start_time": "2025-01-28T16:10:01.956Z"
   },
   {
    "duration": 45,
    "start_time": "2025-01-28T16:10:01.965Z"
   },
   {
    "duration": 20,
    "start_time": "2025-01-28T16:10:02.012Z"
   },
   {
    "duration": 3,
    "start_time": "2025-01-28T16:10:02.033Z"
   },
   {
    "duration": 3,
    "start_time": "2025-01-28T16:10:02.038Z"
   },
   {
    "duration": 4,
    "start_time": "2025-01-28T16:10:02.042Z"
   },
   {
    "duration": 3,
    "start_time": "2025-01-28T16:10:02.047Z"
   },
   {
    "duration": 3,
    "start_time": "2025-01-28T16:10:02.052Z"
   },
   {
    "duration": 4,
    "start_time": "2025-01-28T16:10:02.056Z"
   },
   {
    "duration": 4,
    "start_time": "2025-01-28T16:10:02.061Z"
   },
   {
    "duration": 18,
    "start_time": "2025-01-28T16:10:23.967Z"
   },
   {
    "duration": 11,
    "start_time": "2025-01-28T16:11:07.011Z"
   },
   {
    "duration": 17,
    "start_time": "2025-01-28T16:11:30.551Z"
   },
   {
    "duration": 11,
    "start_time": "2025-01-28T16:12:04.427Z"
   },
   {
    "duration": 793,
    "start_time": "2025-01-28T16:12:13.645Z"
   },
   {
    "duration": 153,
    "start_time": "2025-01-28T16:12:14.440Z"
   },
   {
    "duration": 9,
    "start_time": "2025-01-28T16:12:14.595Z"
   },
   {
    "duration": 10,
    "start_time": "2025-01-28T16:12:14.605Z"
   },
   {
    "duration": 13,
    "start_time": "2025-01-28T16:12:14.618Z"
   },
   {
    "duration": 10,
    "start_time": "2025-01-28T16:12:14.632Z"
   },
   {
    "duration": 8,
    "start_time": "2025-01-28T16:12:14.644Z"
   },
   {
    "duration": 9,
    "start_time": "2025-01-28T16:12:14.654Z"
   },
   {
    "duration": 10,
    "start_time": "2025-01-28T16:12:14.665Z"
   },
   {
    "duration": 19,
    "start_time": "2025-01-28T16:12:14.677Z"
   },
   {
    "duration": 17,
    "start_time": "2025-01-28T16:12:14.731Z"
   },
   {
    "duration": 10,
    "start_time": "2025-01-28T16:12:14.749Z"
   },
   {
    "duration": 15,
    "start_time": "2025-01-28T16:12:14.760Z"
   },
   {
    "duration": 10,
    "start_time": "2025-01-28T16:12:14.779Z"
   },
   {
    "duration": 59,
    "start_time": "2025-01-28T16:12:14.791Z"
   },
   {
    "duration": 20,
    "start_time": "2025-01-28T16:12:14.852Z"
   },
   {
    "duration": 11,
    "start_time": "2025-01-28T16:12:14.874Z"
   },
   {
    "duration": 6,
    "start_time": "2025-01-28T16:12:14.887Z"
   },
   {
    "duration": 41,
    "start_time": "2025-01-28T16:12:14.895Z"
   },
   {
    "duration": 11,
    "start_time": "2025-01-28T16:12:14.938Z"
   },
   {
    "duration": 12,
    "start_time": "2025-01-28T16:12:14.951Z"
   },
   {
    "duration": 8,
    "start_time": "2025-01-28T16:12:14.965Z"
   },
   {
    "duration": 22,
    "start_time": "2025-01-28T16:12:14.974Z"
   },
   {
    "duration": 40,
    "start_time": "2025-01-28T16:12:14.998Z"
   },
   {
    "duration": 4,
    "start_time": "2025-01-28T16:12:15.040Z"
   },
   {
    "duration": 25,
    "start_time": "2025-01-28T16:12:15.045Z"
   },
   {
    "duration": 21,
    "start_time": "2025-01-28T16:12:15.072Z"
   },
   {
    "duration": 44,
    "start_time": "2025-01-28T16:12:15.095Z"
   },
   {
    "duration": 19,
    "start_time": "2025-01-28T16:12:15.140Z"
   },
   {
    "duration": 25,
    "start_time": "2025-01-28T16:12:15.160Z"
   },
   {
    "duration": 4,
    "start_time": "2025-01-28T16:12:15.186Z"
   },
   {
    "duration": 62,
    "start_time": "2025-01-28T16:12:15.192Z"
   },
   {
    "duration": 2,
    "start_time": "2025-01-28T16:12:15.256Z"
   },
   {
    "duration": 3,
    "start_time": "2025-01-28T16:12:15.260Z"
   },
   {
    "duration": 3,
    "start_time": "2025-01-28T16:12:15.264Z"
   },
   {
    "duration": 3,
    "start_time": "2025-01-28T16:12:15.269Z"
   },
   {
    "duration": 4,
    "start_time": "2025-01-28T16:12:15.273Z"
   },
   {
    "duration": 4,
    "start_time": "2025-01-28T16:12:15.278Z"
   },
   {
    "duration": 3,
    "start_time": "2025-01-28T16:12:15.283Z"
   },
   {
    "duration": 2,
    "start_time": "2025-01-28T16:12:15.288Z"
   },
   {
    "duration": 28,
    "start_time": "2025-01-28T16:15:15.408Z"
   },
   {
    "duration": 816,
    "start_time": "2025-01-28T16:15:30.649Z"
   },
   {
    "duration": 154,
    "start_time": "2025-01-28T16:15:31.468Z"
   },
   {
    "duration": 10,
    "start_time": "2025-01-28T16:15:31.624Z"
   },
   {
    "duration": 9,
    "start_time": "2025-01-28T16:15:31.636Z"
   },
   {
    "duration": 2,
    "start_time": "2025-01-28T16:15:31.647Z"
   },
   {
    "duration": 9,
    "start_time": "2025-01-28T16:15:31.650Z"
   },
   {
    "duration": 8,
    "start_time": "2025-01-28T16:15:31.660Z"
   },
   {
    "duration": 8,
    "start_time": "2025-01-28T16:15:31.670Z"
   },
   {
    "duration": 10,
    "start_time": "2025-01-28T16:15:31.680Z"
   },
   {
    "duration": 56,
    "start_time": "2025-01-28T16:15:31.693Z"
   },
   {
    "duration": 19,
    "start_time": "2025-01-28T16:15:31.751Z"
   },
   {
    "duration": 10,
    "start_time": "2025-01-28T16:15:31.771Z"
   },
   {
    "duration": 14,
    "start_time": "2025-01-28T16:15:31.783Z"
   },
   {
    "duration": 34,
    "start_time": "2025-01-28T16:15:31.798Z"
   },
   {
    "duration": 26,
    "start_time": "2025-01-28T16:15:31.833Z"
   },
   {
    "duration": 20,
    "start_time": "2025-01-28T16:15:31.861Z"
   },
   {
    "duration": 11,
    "start_time": "2025-01-28T16:15:31.883Z"
   },
   {
    "duration": 36,
    "start_time": "2025-01-28T16:15:31.895Z"
   },
   {
    "duration": 20,
    "start_time": "2025-01-28T16:15:31.932Z"
   },
   {
    "duration": 14,
    "start_time": "2025-01-28T16:15:31.954Z"
   },
   {
    "duration": 14,
    "start_time": "2025-01-28T16:15:31.970Z"
   },
   {
    "duration": 9,
    "start_time": "2025-01-28T16:15:31.985Z"
   },
   {
    "duration": 49,
    "start_time": "2025-01-28T16:15:31.996Z"
   },
   {
    "duration": 13,
    "start_time": "2025-01-28T16:15:32.047Z"
   },
   {
    "duration": 2,
    "start_time": "2025-01-28T16:15:32.062Z"
   },
   {
    "duration": 27,
    "start_time": "2025-01-28T16:15:32.066Z"
   },
   {
    "duration": 41,
    "start_time": "2025-01-28T16:15:32.094Z"
   },
   {
    "duration": 17,
    "start_time": "2025-01-28T16:15:32.139Z"
   },
   {
    "duration": 19,
    "start_time": "2025-01-28T16:15:32.158Z"
   },
   {
    "duration": 28,
    "start_time": "2025-01-28T16:15:32.179Z"
   },
   {
    "duration": 4,
    "start_time": "2025-01-28T16:15:32.231Z"
   },
   {
    "duration": 43,
    "start_time": "2025-01-28T16:15:32.236Z"
   },
   {
    "duration": 2,
    "start_time": "2025-01-28T16:15:32.281Z"
   },
   {
    "duration": 3,
    "start_time": "2025-01-28T16:15:32.284Z"
   },
   {
    "duration": 5,
    "start_time": "2025-01-28T16:15:32.288Z"
   },
   {
    "duration": 2,
    "start_time": "2025-01-28T16:15:32.295Z"
   },
   {
    "duration": 3,
    "start_time": "2025-01-28T16:15:32.299Z"
   },
   {
    "duration": 4,
    "start_time": "2025-01-28T16:15:32.303Z"
   },
   {
    "duration": 2,
    "start_time": "2025-01-28T16:15:32.331Z"
   },
   {
    "duration": 3,
    "start_time": "2025-01-28T16:15:32.335Z"
   },
   {
    "duration": 27,
    "start_time": "2025-01-28T16:16:14.502Z"
   },
   {
    "duration": 755,
    "start_time": "2025-01-28T16:16:36.404Z"
   },
   {
    "duration": 156,
    "start_time": "2025-01-28T16:16:37.162Z"
   },
   {
    "duration": 9,
    "start_time": "2025-01-28T16:16:37.319Z"
   },
   {
    "duration": 9,
    "start_time": "2025-01-28T16:16:37.331Z"
   },
   {
    "duration": 2,
    "start_time": "2025-01-28T16:16:37.342Z"
   },
   {
    "duration": 9,
    "start_time": "2025-01-28T16:16:37.346Z"
   },
   {
    "duration": 8,
    "start_time": "2025-01-28T16:16:37.357Z"
   },
   {
    "duration": 8,
    "start_time": "2025-01-28T16:16:37.366Z"
   },
   {
    "duration": 11,
    "start_time": "2025-01-28T16:16:37.376Z"
   },
   {
    "duration": 57,
    "start_time": "2025-01-28T16:16:37.390Z"
   },
   {
    "duration": 17,
    "start_time": "2025-01-28T16:16:37.449Z"
   },
   {
    "duration": 10,
    "start_time": "2025-01-28T16:16:37.468Z"
   },
   {
    "duration": 15,
    "start_time": "2025-01-28T16:16:37.479Z"
   },
   {
    "duration": 9,
    "start_time": "2025-01-28T16:16:37.495Z"
   },
   {
    "duration": 27,
    "start_time": "2025-01-28T16:16:37.532Z"
   },
   {
    "duration": 21,
    "start_time": "2025-01-28T16:16:37.561Z"
   },
   {
    "duration": 13,
    "start_time": "2025-01-28T16:16:37.584Z"
   },
   {
    "duration": 7,
    "start_time": "2025-01-28T16:16:37.598Z"
   },
   {
    "duration": 17,
    "start_time": "2025-01-28T16:16:37.631Z"
   },
   {
    "duration": 17,
    "start_time": "2025-01-28T16:16:37.650Z"
   },
   {
    "duration": 18,
    "start_time": "2025-01-28T16:16:37.671Z"
   },
   {
    "duration": 8,
    "start_time": "2025-01-28T16:16:37.691Z"
   },
   {
    "duration": 42,
    "start_time": "2025-01-28T16:16:37.701Z"
   },
   {
    "duration": 13,
    "start_time": "2025-01-28T16:16:37.746Z"
   },
   {
    "duration": 2,
    "start_time": "2025-01-28T16:16:37.761Z"
   },
   {
    "duration": 25,
    "start_time": "2025-01-28T16:16:37.765Z"
   },
   {
    "duration": 40,
    "start_time": "2025-01-28T16:16:37.792Z"
   },
   {
    "duration": 19,
    "start_time": "2025-01-28T16:16:37.836Z"
   },
   {
    "duration": 19,
    "start_time": "2025-01-28T16:16:37.857Z"
   },
   {
    "duration": 29,
    "start_time": "2025-01-28T16:16:37.878Z"
   },
   {
    "duration": 5,
    "start_time": "2025-01-28T16:16:37.931Z"
   },
   {
    "duration": 44,
    "start_time": "2025-01-28T16:16:37.938Z"
   },
   {
    "duration": 2,
    "start_time": "2025-01-28T16:16:37.984Z"
   },
   {
    "duration": 3,
    "start_time": "2025-01-28T16:16:37.988Z"
   },
   {
    "duration": 3,
    "start_time": "2025-01-28T16:16:37.993Z"
   },
   {
    "duration": 3,
    "start_time": "2025-01-28T16:16:37.998Z"
   },
   {
    "duration": 4,
    "start_time": "2025-01-28T16:16:38.002Z"
   },
   {
    "duration": 2,
    "start_time": "2025-01-28T16:16:38.031Z"
   },
   {
    "duration": 3,
    "start_time": "2025-01-28T16:16:38.035Z"
   },
   {
    "duration": 3,
    "start_time": "2025-01-28T16:16:38.040Z"
   },
   {
    "duration": 25,
    "start_time": "2025-01-28T16:17:01.514Z"
   },
   {
    "duration": 27,
    "start_time": "2025-01-28T16:17:06.996Z"
   },
   {
    "duration": 33,
    "start_time": "2025-01-28T16:17:26.538Z"
   },
   {
    "duration": 29,
    "start_time": "2025-01-28T16:19:39.700Z"
   },
   {
    "duration": 36,
    "start_time": "2025-01-28T16:21:00.226Z"
   },
   {
    "duration": 19,
    "start_time": "2025-01-28T16:22:05.821Z"
   },
   {
    "duration": 11,
    "start_time": "2025-01-28T16:22:20.311Z"
   },
   {
    "duration": 12,
    "start_time": "2025-01-28T16:22:29.325Z"
   },
   {
    "duration": 11,
    "start_time": "2025-01-28T16:22:35.392Z"
   },
   {
    "duration": 8,
    "start_time": "2025-01-28T16:22:58.989Z"
   },
   {
    "duration": 768,
    "start_time": "2025-01-28T16:25:19.004Z"
   },
   {
    "duration": 159,
    "start_time": "2025-01-28T16:25:19.777Z"
   },
   {
    "duration": 9,
    "start_time": "2025-01-28T16:25:19.938Z"
   },
   {
    "duration": 10,
    "start_time": "2025-01-28T16:25:19.948Z"
   },
   {
    "duration": 2,
    "start_time": "2025-01-28T16:25:19.960Z"
   },
   {
    "duration": 9,
    "start_time": "2025-01-28T16:25:19.964Z"
   },
   {
    "duration": 9,
    "start_time": "2025-01-28T16:25:19.975Z"
   },
   {
    "duration": 8,
    "start_time": "2025-01-28T16:25:19.986Z"
   },
   {
    "duration": 40,
    "start_time": "2025-01-28T16:25:19.995Z"
   },
   {
    "duration": 22,
    "start_time": "2025-01-28T16:25:20.036Z"
   },
   {
    "duration": 17,
    "start_time": "2025-01-28T16:25:20.059Z"
   },
   {
    "duration": 10,
    "start_time": "2025-01-28T16:25:20.078Z"
   },
   {
    "duration": 44,
    "start_time": "2025-01-28T16:25:20.090Z"
   },
   {
    "duration": 8,
    "start_time": "2025-01-28T16:25:20.139Z"
   },
   {
    "duration": 26,
    "start_time": "2025-01-28T16:25:20.149Z"
   },
   {
    "duration": 23,
    "start_time": "2025-01-28T16:25:20.177Z"
   },
   {
    "duration": 37,
    "start_time": "2025-01-28T16:25:20.202Z"
   },
   {
    "duration": 7,
    "start_time": "2025-01-28T16:25:20.240Z"
   },
   {
    "duration": 17,
    "start_time": "2025-01-28T16:25:20.248Z"
   },
   {
    "duration": 12,
    "start_time": "2025-01-28T16:25:20.267Z"
   },
   {
    "duration": 13,
    "start_time": "2025-01-28T16:25:20.281Z"
   },
   {
    "duration": 40,
    "start_time": "2025-01-28T16:25:20.296Z"
   },
   {
    "duration": 20,
    "start_time": "2025-01-28T16:25:20.338Z"
   },
   {
    "duration": 14,
    "start_time": "2025-01-28T16:25:20.359Z"
   },
   {
    "duration": 2,
    "start_time": "2025-01-28T16:25:20.375Z"
   },
   {
    "duration": 52,
    "start_time": "2025-01-28T16:25:20.379Z"
   },
   {
    "duration": 22,
    "start_time": "2025-01-28T16:25:20.433Z"
   },
   {
    "duration": 17,
    "start_time": "2025-01-28T16:25:20.456Z"
   },
   {
    "duration": 21,
    "start_time": "2025-01-28T16:25:20.475Z"
   },
   {
    "duration": 54,
    "start_time": "2025-01-28T16:25:20.497Z"
   },
   {
    "duration": 12,
    "start_time": "2025-01-28T16:25:20.553Z"
   },
   {
    "duration": 8,
    "start_time": "2025-01-28T16:25:20.567Z"
   },
   {
    "duration": 6,
    "start_time": "2025-01-28T16:25:20.577Z"
   },
   {
    "duration": 534,
    "start_time": "2025-01-28T16:25:20.584Z"
   },
   {
    "duration": 0,
    "start_time": "2025-01-28T16:25:21.120Z"
   },
   {
    "duration": 0,
    "start_time": "2025-01-28T16:25:21.121Z"
   },
   {
    "duration": 0,
    "start_time": "2025-01-28T16:25:21.123Z"
   },
   {
    "duration": 0,
    "start_time": "2025-01-28T16:25:21.131Z"
   },
   {
    "duration": 0,
    "start_time": "2025-01-28T16:25:21.133Z"
   },
   {
    "duration": 0,
    "start_time": "2025-01-28T16:25:21.133Z"
   },
   {
    "duration": 0,
    "start_time": "2025-01-28T16:25:21.135Z"
   },
   {
    "duration": 0,
    "start_time": "2025-01-28T16:25:21.136Z"
   },
   {
    "duration": 4,
    "start_time": "2025-01-28T16:26:11.595Z"
   },
   {
    "duration": 54,
    "start_time": "2025-01-28T16:26:13.841Z"
   },
   {
    "duration": 56,
    "start_time": "2025-01-28T16:26:51.238Z"
   },
   {
    "duration": 57,
    "start_time": "2025-01-28T16:27:42.776Z"
   },
   {
    "duration": 737,
    "start_time": "2025-01-28T16:28:26.234Z"
   },
   {
    "duration": 158,
    "start_time": "2025-01-28T16:28:26.974Z"
   },
   {
    "duration": 9,
    "start_time": "2025-01-28T16:28:27.133Z"
   },
   {
    "duration": 10,
    "start_time": "2025-01-28T16:28:27.145Z"
   },
   {
    "duration": 2,
    "start_time": "2025-01-28T16:28:27.157Z"
   },
   {
    "duration": 10,
    "start_time": "2025-01-28T16:28:27.160Z"
   },
   {
    "duration": 8,
    "start_time": "2025-01-28T16:28:27.171Z"
   },
   {
    "duration": 9,
    "start_time": "2025-01-28T16:28:27.181Z"
   },
   {
    "duration": 44,
    "start_time": "2025-01-28T16:28:27.192Z"
   },
   {
    "duration": 21,
    "start_time": "2025-01-28T16:28:27.239Z"
   },
   {
    "duration": 16,
    "start_time": "2025-01-28T16:28:27.263Z"
   },
   {
    "duration": 9,
    "start_time": "2025-01-28T16:28:27.282Z"
   },
   {
    "duration": 38,
    "start_time": "2025-01-28T16:28:27.293Z"
   },
   {
    "duration": 9,
    "start_time": "2025-01-28T16:28:27.332Z"
   },
   {
    "duration": 29,
    "start_time": "2025-01-28T16:28:27.342Z"
   },
   {
    "duration": 27,
    "start_time": "2025-01-28T16:28:27.373Z"
   },
   {
    "duration": 33,
    "start_time": "2025-01-28T16:28:27.401Z"
   },
   {
    "duration": 7,
    "start_time": "2025-01-28T16:28:27.436Z"
   },
   {
    "duration": 17,
    "start_time": "2025-01-28T16:28:27.444Z"
   },
   {
    "duration": 11,
    "start_time": "2025-01-28T16:28:27.463Z"
   },
   {
    "duration": 13,
    "start_time": "2025-01-28T16:28:27.476Z"
   },
   {
    "duration": 8,
    "start_time": "2025-01-28T16:28:27.490Z"
   },
   {
    "duration": 53,
    "start_time": "2025-01-28T16:28:27.499Z"
   },
   {
    "duration": 13,
    "start_time": "2025-01-28T16:28:27.554Z"
   },
   {
    "duration": 3,
    "start_time": "2025-01-28T16:28:27.569Z"
   },
   {
    "duration": 26,
    "start_time": "2025-01-28T16:28:27.574Z"
   },
   {
    "duration": 42,
    "start_time": "2025-01-28T16:28:27.602Z"
   },
   {
    "duration": 25,
    "start_time": "2025-01-28T16:28:27.650Z"
   },
   {
    "duration": 24,
    "start_time": "2025-01-28T16:28:27.677Z"
   },
   {
    "duration": 51,
    "start_time": "2025-01-28T16:28:27.703Z"
   },
   {
    "duration": 12,
    "start_time": "2025-01-28T16:28:27.755Z"
   },
   {
    "duration": 8,
    "start_time": "2025-01-28T16:28:27.768Z"
   },
   {
    "duration": 4,
    "start_time": "2025-01-28T16:28:27.778Z"
   },
   {
    "duration": 82,
    "start_time": "2025-01-28T16:28:27.784Z"
   },
   {
    "duration": 2,
    "start_time": "2025-01-28T16:28:27.868Z"
   },
   {
    "duration": 3,
    "start_time": "2025-01-28T16:28:27.872Z"
   },
   {
    "duration": 3,
    "start_time": "2025-01-28T16:28:27.877Z"
   },
   {
    "duration": 4,
    "start_time": "2025-01-28T16:28:27.881Z"
   },
   {
    "duration": 3,
    "start_time": "2025-01-28T16:28:27.887Z"
   },
   {
    "duration": 3,
    "start_time": "2025-01-28T16:28:27.891Z"
   },
   {
    "duration": 4,
    "start_time": "2025-01-28T16:28:27.895Z"
   },
   {
    "duration": 31,
    "start_time": "2025-01-28T16:28:27.900Z"
   },
   {
    "duration": 15,
    "start_time": "2025-01-28T16:28:48.128Z"
   },
   {
    "duration": 137,
    "start_time": "2025-01-28T16:33:57.584Z"
   },
   {
    "duration": 5,
    "start_time": "2025-01-28T16:34:49.494Z"
   },
   {
    "duration": 21,
    "start_time": "2025-01-28T16:34:55.128Z"
   },
   {
    "duration": 121,
    "start_time": "2025-01-28T16:37:18.588Z"
   },
   {
    "duration": 397,
    "start_time": "2025-01-28T16:37:27.322Z"
   },
   {
    "duration": 32,
    "start_time": "2025-01-28T16:38:22.154Z"
   },
   {
    "duration": 30,
    "start_time": "2025-01-28T16:38:45.569Z"
   },
   {
    "duration": 47,
    "start_time": "2025-01-28T16:38:51.711Z"
   },
   {
    "duration": 32,
    "start_time": "2025-01-28T16:39:03.250Z"
   },
   {
    "duration": 21,
    "start_time": "2025-01-28T16:39:22.263Z"
   },
   {
    "duration": 25,
    "start_time": "2025-01-28T16:40:17.023Z"
   },
   {
    "duration": 20,
    "start_time": "2025-01-28T16:41:23.771Z"
   },
   {
    "duration": 18,
    "start_time": "2025-01-28T16:44:11.217Z"
   },
   {
    "duration": 19,
    "start_time": "2025-01-28T16:44:54.622Z"
   },
   {
    "duration": 541,
    "start_time": "2025-01-28T16:46:34.970Z"
   },
   {
    "duration": 42,
    "start_time": "2025-01-28T16:47:37.757Z"
   },
   {
    "duration": 21,
    "start_time": "2025-01-28T16:47:46.083Z"
   },
   {
    "duration": 38,
    "start_time": "2025-01-28T16:47:49.906Z"
   },
   {
    "duration": 812,
    "start_time": "2025-01-28T16:48:10.754Z"
   },
   {
    "duration": 158,
    "start_time": "2025-01-28T16:48:11.570Z"
   },
   {
    "duration": 9,
    "start_time": "2025-01-28T16:48:11.730Z"
   },
   {
    "duration": 12,
    "start_time": "2025-01-28T16:48:11.741Z"
   },
   {
    "duration": 3,
    "start_time": "2025-01-28T16:48:11.754Z"
   },
   {
    "duration": 10,
    "start_time": "2025-01-28T16:48:11.759Z"
   },
   {
    "duration": 10,
    "start_time": "2025-01-28T16:48:11.770Z"
   },
   {
    "duration": 11,
    "start_time": "2025-01-28T16:48:11.782Z"
   },
   {
    "duration": 47,
    "start_time": "2025-01-28T16:48:11.795Z"
   },
   {
    "duration": 21,
    "start_time": "2025-01-28T16:48:11.846Z"
   },
   {
    "duration": 19,
    "start_time": "2025-01-28T16:48:11.869Z"
   },
   {
    "duration": 41,
    "start_time": "2025-01-28T16:48:11.890Z"
   },
   {
    "duration": 18,
    "start_time": "2025-01-28T16:48:11.933Z"
   },
   {
    "duration": 12,
    "start_time": "2025-01-28T16:48:11.952Z"
   },
   {
    "duration": 27,
    "start_time": "2025-01-28T16:48:11.969Z"
   },
   {
    "duration": 43,
    "start_time": "2025-01-28T16:48:11.997Z"
   },
   {
    "duration": 17,
    "start_time": "2025-01-28T16:48:12.042Z"
   },
   {
    "duration": 8,
    "start_time": "2025-01-28T16:48:12.061Z"
   },
   {
    "duration": 18,
    "start_time": "2025-01-28T16:48:12.070Z"
   },
   {
    "duration": 12,
    "start_time": "2025-01-28T16:48:12.090Z"
   },
   {
    "duration": 45,
    "start_time": "2025-01-28T16:48:12.104Z"
   },
   {
    "duration": 8,
    "start_time": "2025-01-28T16:48:12.152Z"
   },
   {
    "duration": 23,
    "start_time": "2025-01-28T16:48:12.161Z"
   },
   {
    "duration": 13,
    "start_time": "2025-01-28T16:48:12.186Z"
   },
   {
    "duration": 2,
    "start_time": "2025-01-28T16:48:12.201Z"
   },
   {
    "duration": 25,
    "start_time": "2025-01-28T16:48:12.231Z"
   },
   {
    "duration": 21,
    "start_time": "2025-01-28T16:48:12.257Z"
   },
   {
    "duration": 17,
    "start_time": "2025-01-28T16:48:12.282Z"
   },
   {
    "duration": 45,
    "start_time": "2025-01-28T16:48:12.300Z"
   },
   {
    "duration": 29,
    "start_time": "2025-01-28T16:48:12.347Z"
   },
   {
    "duration": 12,
    "start_time": "2025-01-28T16:48:12.378Z"
   },
   {
    "duration": 8,
    "start_time": "2025-01-28T16:48:12.391Z"
   },
   {
    "duration": 31,
    "start_time": "2025-01-28T16:48:12.400Z"
   },
   {
    "duration": 56,
    "start_time": "2025-01-28T16:48:12.433Z"
   },
   {
    "duration": 11,
    "start_time": "2025-01-28T16:48:12.491Z"
   },
   {
    "duration": 38,
    "start_time": "2025-01-28T16:48:12.503Z"
   },
   {
    "duration": 17,
    "start_time": "2025-01-28T16:48:12.543Z"
   },
   {
    "duration": 421,
    "start_time": "2025-01-28T16:48:12.561Z"
   },
   {
    "duration": 0,
    "start_time": "2025-01-28T16:48:12.984Z"
   },
   {
    "duration": 0,
    "start_time": "2025-01-28T16:48:12.985Z"
   },
   {
    "duration": 0,
    "start_time": "2025-01-28T16:48:12.986Z"
   },
   {
    "duration": 0,
    "start_time": "2025-01-28T16:48:12.987Z"
   },
   {
    "duration": 1,
    "start_time": "2025-01-28T16:48:12.988Z"
   },
   {
    "duration": 0,
    "start_time": "2025-01-28T16:48:12.990Z"
   },
   {
    "duration": 0,
    "start_time": "2025-01-28T16:48:12.991Z"
   },
   {
    "duration": 795,
    "start_time": "2025-01-28T16:48:39.179Z"
   },
   {
    "duration": 166,
    "start_time": "2025-01-28T16:48:39.977Z"
   },
   {
    "duration": 8,
    "start_time": "2025-01-28T16:48:40.145Z"
   },
   {
    "duration": 10,
    "start_time": "2025-01-28T16:48:40.156Z"
   },
   {
    "duration": 2,
    "start_time": "2025-01-28T16:48:40.169Z"
   },
   {
    "duration": 9,
    "start_time": "2025-01-28T16:48:40.173Z"
   },
   {
    "duration": 7,
    "start_time": "2025-01-28T16:48:40.184Z"
   },
   {
    "duration": 9,
    "start_time": "2025-01-28T16:48:40.193Z"
   },
   {
    "duration": 10,
    "start_time": "2025-01-28T16:48:40.232Z"
   },
   {
    "duration": 21,
    "start_time": "2025-01-28T16:48:40.246Z"
   },
   {
    "duration": 17,
    "start_time": "2025-01-28T16:48:40.268Z"
   },
   {
    "duration": 10,
    "start_time": "2025-01-28T16:48:40.286Z"
   },
   {
    "duration": 44,
    "start_time": "2025-01-28T16:48:40.297Z"
   },
   {
    "duration": 10,
    "start_time": "2025-01-28T16:48:40.342Z"
   },
   {
    "duration": 26,
    "start_time": "2025-01-28T16:48:40.353Z"
   },
   {
    "duration": 21,
    "start_time": "2025-01-28T16:48:40.381Z"
   },
   {
    "duration": 37,
    "start_time": "2025-01-28T16:48:40.404Z"
   },
   {
    "duration": 6,
    "start_time": "2025-01-28T16:48:40.443Z"
   },
   {
    "duration": 16,
    "start_time": "2025-01-28T16:48:40.451Z"
   },
   {
    "duration": 11,
    "start_time": "2025-01-28T16:48:40.469Z"
   },
   {
    "duration": 17,
    "start_time": "2025-01-28T16:48:40.482Z"
   },
   {
    "duration": 11,
    "start_time": "2025-01-28T16:48:40.531Z"
   },
   {
    "duration": 21,
    "start_time": "2025-01-28T16:48:40.543Z"
   },
   {
    "duration": 14,
    "start_time": "2025-01-28T16:48:40.566Z"
   },
   {
    "duration": 2,
    "start_time": "2025-01-28T16:48:40.583Z"
   },
   {
    "duration": 54,
    "start_time": "2025-01-28T16:48:40.587Z"
   },
   {
    "duration": 20,
    "start_time": "2025-01-28T16:48:40.643Z"
   },
   {
    "duration": 16,
    "start_time": "2025-01-28T16:48:40.667Z"
   },
   {
    "duration": 20,
    "start_time": "2025-01-28T16:48:40.685Z"
   },
   {
    "duration": 49,
    "start_time": "2025-01-28T16:48:40.707Z"
   },
   {
    "duration": 11,
    "start_time": "2025-01-28T16:48:40.758Z"
   },
   {
    "duration": 9,
    "start_time": "2025-01-28T16:48:40.770Z"
   },
   {
    "duration": 5,
    "start_time": "2025-01-28T16:48:40.780Z"
   },
   {
    "duration": 81,
    "start_time": "2025-01-28T16:48:40.786Z"
   },
   {
    "duration": 11,
    "start_time": "2025-01-28T16:48:40.869Z"
   },
   {
    "duration": 20,
    "start_time": "2025-01-28T16:48:40.882Z"
   },
   {
    "duration": 33,
    "start_time": "2025-01-28T16:48:40.904Z"
   },
   {
    "duration": 413,
    "start_time": "2025-01-28T16:48:40.939Z"
   },
   {
    "duration": 0,
    "start_time": "2025-01-28T16:48:41.354Z"
   },
   {
    "duration": 0,
    "start_time": "2025-01-28T16:48:41.355Z"
   },
   {
    "duration": 0,
    "start_time": "2025-01-28T16:48:41.358Z"
   },
   {
    "duration": 0,
    "start_time": "2025-01-28T16:48:41.359Z"
   },
   {
    "duration": 0,
    "start_time": "2025-01-28T16:48:41.361Z"
   },
   {
    "duration": 0,
    "start_time": "2025-01-28T16:48:41.362Z"
   },
   {
    "duration": 0,
    "start_time": "2025-01-28T16:48:41.363Z"
   },
   {
    "duration": 768,
    "start_time": "2025-01-28T16:48:57.808Z"
   },
   {
    "duration": 156,
    "start_time": "2025-01-28T16:48:58.579Z"
   },
   {
    "duration": 10,
    "start_time": "2025-01-28T16:48:58.737Z"
   },
   {
    "duration": 9,
    "start_time": "2025-01-28T16:48:58.749Z"
   },
   {
    "duration": 2,
    "start_time": "2025-01-28T16:48:58.761Z"
   },
   {
    "duration": 9,
    "start_time": "2025-01-28T16:48:58.764Z"
   },
   {
    "duration": 9,
    "start_time": "2025-01-28T16:48:58.774Z"
   },
   {
    "duration": 9,
    "start_time": "2025-01-28T16:48:58.784Z"
   },
   {
    "duration": 44,
    "start_time": "2025-01-28T16:48:58.795Z"
   },
   {
    "duration": 19,
    "start_time": "2025-01-28T16:48:58.841Z"
   },
   {
    "duration": 17,
    "start_time": "2025-01-28T16:48:58.861Z"
   },
   {
    "duration": 9,
    "start_time": "2025-01-28T16:48:58.880Z"
   },
   {
    "duration": 41,
    "start_time": "2025-01-28T16:48:58.891Z"
   },
   {
    "duration": 8,
    "start_time": "2025-01-28T16:48:58.936Z"
   },
   {
    "duration": 27,
    "start_time": "2025-01-28T16:48:58.946Z"
   },
   {
    "duration": 21,
    "start_time": "2025-01-28T16:48:58.975Z"
   },
   {
    "duration": 36,
    "start_time": "2025-01-28T16:48:58.997Z"
   },
   {
    "duration": 7,
    "start_time": "2025-01-28T16:48:59.035Z"
   },
   {
    "duration": 17,
    "start_time": "2025-01-28T16:48:59.044Z"
   },
   {
    "duration": 13,
    "start_time": "2025-01-28T16:48:59.063Z"
   },
   {
    "duration": 13,
    "start_time": "2025-01-28T16:48:59.078Z"
   },
   {
    "duration": 7,
    "start_time": "2025-01-28T16:48:59.094Z"
   },
   {
    "duration": 21,
    "start_time": "2025-01-28T16:48:59.132Z"
   },
   {
    "duration": 14,
    "start_time": "2025-01-28T16:48:59.154Z"
   },
   {
    "duration": 3,
    "start_time": "2025-01-28T16:48:59.169Z"
   },
   {
    "duration": 26,
    "start_time": "2025-01-28T16:48:59.173Z"
   },
   {
    "duration": 45,
    "start_time": "2025-01-28T16:48:59.201Z"
   },
   {
    "duration": 16,
    "start_time": "2025-01-28T16:48:59.248Z"
   },
   {
    "duration": 20,
    "start_time": "2025-01-28T16:48:59.266Z"
   },
   {
    "duration": 49,
    "start_time": "2025-01-28T16:48:59.287Z"
   },
   {
    "duration": 11,
    "start_time": "2025-01-28T16:48:59.337Z"
   },
   {
    "duration": 8,
    "start_time": "2025-01-28T16:48:59.350Z"
   },
   {
    "duration": 4,
    "start_time": "2025-01-28T16:48:59.360Z"
   },
   {
    "duration": 80,
    "start_time": "2025-01-28T16:48:59.366Z"
   },
   {
    "duration": 12,
    "start_time": "2025-01-28T16:48:59.447Z"
   },
   {
    "duration": 20,
    "start_time": "2025-01-28T16:48:59.461Z"
   },
   {
    "duration": 17,
    "start_time": "2025-01-28T16:48:59.482Z"
   },
   {
    "duration": 40,
    "start_time": "2025-01-28T16:48:59.501Z"
   },
   {
    "duration": 428,
    "start_time": "2025-01-28T16:48:59.542Z"
   },
   {
    "duration": 0,
    "start_time": "2025-01-28T16:48:59.972Z"
   },
   {
    "duration": 0,
    "start_time": "2025-01-28T16:48:59.973Z"
   },
   {
    "duration": 0,
    "start_time": "2025-01-28T16:48:59.974Z"
   },
   {
    "duration": 0,
    "start_time": "2025-01-28T16:48:59.975Z"
   },
   {
    "duration": 0,
    "start_time": "2025-01-28T16:48:59.977Z"
   },
   {
    "duration": 0,
    "start_time": "2025-01-28T16:48:59.978Z"
   },
   {
    "duration": 0,
    "start_time": "2025-01-28T16:48:59.979Z"
   },
   {
    "duration": 776,
    "start_time": "2025-01-28T16:49:26.488Z"
   },
   {
    "duration": 158,
    "start_time": "2025-01-28T16:49:27.267Z"
   },
   {
    "duration": 9,
    "start_time": "2025-01-28T16:49:27.427Z"
   },
   {
    "duration": 10,
    "start_time": "2025-01-28T16:49:27.438Z"
   },
   {
    "duration": 2,
    "start_time": "2025-01-28T16:49:27.450Z"
   },
   {
    "duration": 8,
    "start_time": "2025-01-28T16:49:27.454Z"
   },
   {
    "duration": 8,
    "start_time": "2025-01-28T16:49:27.464Z"
   },
   {
    "duration": 8,
    "start_time": "2025-01-28T16:49:27.474Z"
   },
   {
    "duration": 48,
    "start_time": "2025-01-28T16:49:27.483Z"
   },
   {
    "duration": 22,
    "start_time": "2025-01-28T16:49:27.535Z"
   },
   {
    "duration": 16,
    "start_time": "2025-01-28T16:49:27.559Z"
   },
   {
    "duration": 12,
    "start_time": "2025-01-28T16:49:27.577Z"
   },
   {
    "duration": 43,
    "start_time": "2025-01-28T16:49:27.591Z"
   },
   {
    "duration": 9,
    "start_time": "2025-01-28T16:49:27.637Z"
   },
   {
    "duration": 35,
    "start_time": "2025-01-28T16:49:27.649Z"
   },
   {
    "duration": 22,
    "start_time": "2025-01-28T16:49:27.686Z"
   },
   {
    "duration": 29,
    "start_time": "2025-01-28T16:49:27.710Z"
   },
   {
    "duration": 9,
    "start_time": "2025-01-28T16:49:27.741Z"
   },
   {
    "duration": 16,
    "start_time": "2025-01-28T16:49:27.752Z"
   },
   {
    "duration": 12,
    "start_time": "2025-01-28T16:49:27.769Z"
   },
   {
    "duration": 13,
    "start_time": "2025-01-28T16:49:27.784Z"
   },
   {
    "duration": 41,
    "start_time": "2025-01-28T16:49:27.799Z"
   },
   {
    "duration": 24,
    "start_time": "2025-01-28T16:49:27.841Z"
   },
   {
    "duration": 14,
    "start_time": "2025-01-28T16:49:27.867Z"
   },
   {
    "duration": 3,
    "start_time": "2025-01-28T16:49:27.882Z"
   },
   {
    "duration": 54,
    "start_time": "2025-01-28T16:49:27.886Z"
   },
   {
    "duration": 23,
    "start_time": "2025-01-28T16:49:27.942Z"
   },
   {
    "duration": 22,
    "start_time": "2025-01-28T16:49:27.970Z"
   },
   {
    "duration": 43,
    "start_time": "2025-01-28T16:49:27.994Z"
   },
   {
    "duration": 31,
    "start_time": "2025-01-28T16:49:28.039Z"
   },
   {
    "duration": 12,
    "start_time": "2025-01-28T16:49:28.071Z"
   },
   {
    "duration": 9,
    "start_time": "2025-01-28T16:49:28.085Z"
   },
   {
    "duration": 6,
    "start_time": "2025-01-28T16:49:28.095Z"
   },
   {
    "duration": 88,
    "start_time": "2025-01-28T16:49:28.103Z"
   },
   {
    "duration": 11,
    "start_time": "2025-01-28T16:49:28.193Z"
   },
   {
    "duration": 39,
    "start_time": "2025-01-28T16:49:28.206Z"
   },
   {
    "duration": 18,
    "start_time": "2025-01-28T16:49:28.247Z"
   },
   {
    "duration": 16,
    "start_time": "2025-01-28T16:49:28.266Z"
   },
   {
    "duration": 2,
    "start_time": "2025-01-28T16:49:28.284Z"
   },
   {
    "duration": 3,
    "start_time": "2025-01-28T16:49:28.287Z"
   },
   {
    "duration": 3,
    "start_time": "2025-01-28T16:49:28.292Z"
   },
   {
    "duration": 3,
    "start_time": "2025-01-28T16:49:28.296Z"
   },
   {
    "duration": 30,
    "start_time": "2025-01-28T16:49:28.301Z"
   },
   {
    "duration": 4,
    "start_time": "2025-01-28T16:49:28.334Z"
   },
   {
    "duration": 3,
    "start_time": "2025-01-28T16:49:28.340Z"
   },
   {
    "duration": 761,
    "start_time": "2025-01-28T16:57:11.316Z"
   },
   {
    "duration": 157,
    "start_time": "2025-01-28T16:57:12.079Z"
   },
   {
    "duration": 9,
    "start_time": "2025-01-28T16:57:12.238Z"
   },
   {
    "duration": 10,
    "start_time": "2025-01-28T16:57:12.249Z"
   },
   {
    "duration": 2,
    "start_time": "2025-01-28T16:57:12.261Z"
   },
   {
    "duration": 8,
    "start_time": "2025-01-28T16:57:12.265Z"
   },
   {
    "duration": 9,
    "start_time": "2025-01-28T16:57:12.275Z"
   },
   {
    "duration": 9,
    "start_time": "2025-01-28T16:57:12.286Z"
   },
   {
    "duration": 38,
    "start_time": "2025-01-28T16:57:12.298Z"
   },
   {
    "duration": 19,
    "start_time": "2025-01-28T16:57:12.340Z"
   },
   {
    "duration": 17,
    "start_time": "2025-01-28T16:57:12.362Z"
   },
   {
    "duration": 10,
    "start_time": "2025-01-28T16:57:12.380Z"
   },
   {
    "duration": 47,
    "start_time": "2025-01-28T16:57:12.391Z"
   },
   {
    "duration": 10,
    "start_time": "2025-01-28T16:57:12.439Z"
   },
   {
    "duration": 27,
    "start_time": "2025-01-28T16:57:12.451Z"
   },
   {
    "duration": 20,
    "start_time": "2025-01-28T16:57:12.479Z"
   },
   {
    "duration": 31,
    "start_time": "2025-01-28T16:57:12.501Z"
   },
   {
    "duration": 7,
    "start_time": "2025-01-28T16:57:12.534Z"
   },
   {
    "duration": 16,
    "start_time": "2025-01-28T16:57:12.543Z"
   },
   {
    "duration": 11,
    "start_time": "2025-01-28T16:57:12.561Z"
   },
   {
    "duration": 13,
    "start_time": "2025-01-28T16:57:12.574Z"
   },
   {
    "duration": 45,
    "start_time": "2025-01-28T16:57:12.589Z"
   },
   {
    "duration": 20,
    "start_time": "2025-01-28T16:57:12.635Z"
   },
   {
    "duration": 13,
    "start_time": "2025-01-28T16:57:12.657Z"
   },
   {
    "duration": 3,
    "start_time": "2025-01-28T16:57:12.671Z"
   },
   {
    "duration": 26,
    "start_time": "2025-01-28T16:57:12.675Z"
   },
   {
    "duration": 48,
    "start_time": "2025-01-28T16:57:12.702Z"
   },
   {
    "duration": 16,
    "start_time": "2025-01-28T16:57:12.754Z"
   },
   {
    "duration": 19,
    "start_time": "2025-01-28T16:57:12.771Z"
   },
   {
    "duration": 49,
    "start_time": "2025-01-28T16:57:12.792Z"
   },
   {
    "duration": 11,
    "start_time": "2025-01-28T16:57:12.843Z"
   },
   {
    "duration": 8,
    "start_time": "2025-01-28T16:57:12.856Z"
   },
   {
    "duration": 5,
    "start_time": "2025-01-28T16:57:12.866Z"
   },
   {
    "duration": 78,
    "start_time": "2025-01-28T16:57:12.872Z"
   },
   {
    "duration": 11,
    "start_time": "2025-01-28T16:57:12.952Z"
   },
   {
    "duration": 3,
    "start_time": "2025-01-28T16:57:12.965Z"
   },
   {
    "duration": 0,
    "start_time": "2025-01-28T16:57:12.970Z"
   },
   {
    "duration": 0,
    "start_time": "2025-01-28T16:57:12.971Z"
   },
   {
    "duration": 0,
    "start_time": "2025-01-28T16:57:12.972Z"
   },
   {
    "duration": 0,
    "start_time": "2025-01-28T16:57:12.973Z"
   },
   {
    "duration": 0,
    "start_time": "2025-01-28T16:57:12.975Z"
   },
   {
    "duration": 0,
    "start_time": "2025-01-28T16:57:12.976Z"
   },
   {
    "duration": 0,
    "start_time": "2025-01-28T16:57:12.977Z"
   },
   {
    "duration": 0,
    "start_time": "2025-01-28T16:57:12.978Z"
   },
   {
    "duration": 213,
    "start_time": "2025-01-28T16:57:27.349Z"
   },
   {
    "duration": 318,
    "start_time": "2025-01-28T16:57:36.305Z"
   },
   {
    "duration": 12,
    "start_time": "2025-01-28T16:57:46.321Z"
   },
   {
    "duration": 11,
    "start_time": "2025-01-28T17:00:11.799Z"
   },
   {
    "duration": 12,
    "start_time": "2025-01-28T17:00:33.618Z"
   },
   {
    "duration": 10,
    "start_time": "2025-01-28T17:01:32.995Z"
   },
   {
    "duration": 204,
    "start_time": "2025-01-28T17:03:14.329Z"
   },
   {
    "duration": 169,
    "start_time": "2025-01-28T17:03:43.333Z"
   },
   {
    "duration": 12,
    "start_time": "2025-01-28T17:04:40.169Z"
   },
   {
    "duration": 8,
    "start_time": "2025-01-28T17:05:27.020Z"
   },
   {
    "duration": 247,
    "start_time": "2025-01-28T17:07:22.273Z"
   },
   {
    "duration": 669,
    "start_time": "2025-01-28T17:08:48.284Z"
   },
   {
    "duration": 10,
    "start_time": "2025-01-28T17:10:32.459Z"
   },
   {
    "duration": 495,
    "start_time": "2025-01-28T17:12:26.722Z"
   },
   {
    "duration": 790,
    "start_time": "2025-01-28T17:14:35.589Z"
   },
   {
    "duration": 159,
    "start_time": "2025-01-28T17:14:36.382Z"
   },
   {
    "duration": 9,
    "start_time": "2025-01-28T17:14:36.542Z"
   },
   {
    "duration": 9,
    "start_time": "2025-01-28T17:14:36.554Z"
   },
   {
    "duration": 2,
    "start_time": "2025-01-28T17:14:36.564Z"
   },
   {
    "duration": 9,
    "start_time": "2025-01-28T17:14:36.568Z"
   },
   {
    "duration": 9,
    "start_time": "2025-01-28T17:14:36.578Z"
   },
   {
    "duration": 8,
    "start_time": "2025-01-28T17:14:36.589Z"
   },
   {
    "duration": 42,
    "start_time": "2025-01-28T17:14:36.598Z"
   },
   {
    "duration": 19,
    "start_time": "2025-01-28T17:14:36.643Z"
   },
   {
    "duration": 18,
    "start_time": "2025-01-28T17:14:36.663Z"
   },
   {
    "duration": 10,
    "start_time": "2025-01-28T17:14:36.682Z"
   },
   {
    "duration": 43,
    "start_time": "2025-01-28T17:14:36.693Z"
   },
   {
    "duration": 9,
    "start_time": "2025-01-28T17:14:36.738Z"
   },
   {
    "duration": 25,
    "start_time": "2025-01-28T17:14:36.749Z"
   },
   {
    "duration": 22,
    "start_time": "2025-01-28T17:14:36.776Z"
   },
   {
    "duration": 36,
    "start_time": "2025-01-28T17:14:36.799Z"
   },
   {
    "duration": 7,
    "start_time": "2025-01-28T17:14:36.837Z"
   },
   {
    "duration": 16,
    "start_time": "2025-01-28T17:14:36.845Z"
   },
   {
    "duration": 11,
    "start_time": "2025-01-28T17:14:36.863Z"
   },
   {
    "duration": 12,
    "start_time": "2025-01-28T17:14:36.876Z"
   },
   {
    "duration": 8,
    "start_time": "2025-01-28T17:14:36.890Z"
   },
   {
    "duration": 51,
    "start_time": "2025-01-28T17:14:36.899Z"
   },
   {
    "duration": 13,
    "start_time": "2025-01-28T17:14:36.952Z"
   },
   {
    "duration": 2,
    "start_time": "2025-01-28T17:14:36.967Z"
   },
   {
    "duration": 27,
    "start_time": "2025-01-28T17:14:36.970Z"
   },
   {
    "duration": 46,
    "start_time": "2025-01-28T17:14:36.999Z"
   },
   {
    "duration": 17,
    "start_time": "2025-01-28T17:14:37.050Z"
   },
   {
    "duration": 18,
    "start_time": "2025-01-28T17:14:37.069Z"
   },
   {
    "duration": 54,
    "start_time": "2025-01-28T17:14:37.089Z"
   },
   {
    "duration": 11,
    "start_time": "2025-01-28T17:14:37.144Z"
   },
   {
    "duration": 8,
    "start_time": "2025-01-28T17:14:37.157Z"
   },
   {
    "duration": 5,
    "start_time": "2025-01-28T17:14:37.167Z"
   },
   {
    "duration": 76,
    "start_time": "2025-01-28T17:14:37.174Z"
   },
   {
    "duration": 12,
    "start_time": "2025-01-28T17:14:37.252Z"
   },
   {
    "duration": 11,
    "start_time": "2025-01-28T17:14:37.266Z"
   },
   {
    "duration": 10,
    "start_time": "2025-01-28T17:14:37.279Z"
   },
   {
    "duration": 261,
    "start_time": "2025-01-28T17:14:37.290Z"
   },
   {
    "duration": 0,
    "start_time": "2025-01-28T17:14:37.553Z"
   },
   {
    "duration": 0,
    "start_time": "2025-01-28T17:14:37.554Z"
   },
   {
    "duration": 0,
    "start_time": "2025-01-28T17:14:37.555Z"
   },
   {
    "duration": 0,
    "start_time": "2025-01-28T17:14:37.556Z"
   },
   {
    "duration": 0,
    "start_time": "2025-01-28T17:14:37.557Z"
   },
   {
    "duration": 0,
    "start_time": "2025-01-28T17:14:37.557Z"
   },
   {
    "duration": 0,
    "start_time": "2025-01-28T17:14:37.558Z"
   },
   {
    "duration": 750,
    "start_time": "2025-01-28T17:15:24.300Z"
   },
   {
    "duration": 10,
    "start_time": "2025-01-28T17:16:50.770Z"
   },
   {
    "duration": 707,
    "start_time": "2025-01-28T17:17:11.680Z"
   },
   {
    "duration": 9,
    "start_time": "2025-01-28T17:18:09.055Z"
   },
   {
    "duration": 121,
    "start_time": "2025-01-28T17:23:09.883Z"
   },
   {
    "duration": 147,
    "start_time": "2025-01-28T17:24:53.332Z"
   },
   {
    "duration": 158,
    "start_time": "2025-01-28T17:25:50.259Z"
   },
   {
    "duration": 143,
    "start_time": "2025-01-28T17:26:26.692Z"
   },
   {
    "duration": 446,
    "start_time": "2025-01-28T17:27:28.733Z"
   },
   {
    "duration": 4,
    "start_time": "2025-01-28T17:27:56.094Z"
   },
   {
    "duration": 122,
    "start_time": "2025-01-28T17:28:07.234Z"
   },
   {
    "duration": 118,
    "start_time": "2025-01-28T17:28:16.190Z"
   },
   {
    "duration": 135,
    "start_time": "2025-01-28T17:28:36.916Z"
   },
   {
    "duration": 142,
    "start_time": "2025-01-28T17:28:53.380Z"
   },
   {
    "duration": 151,
    "start_time": "2025-01-28T17:29:24.090Z"
   },
   {
    "duration": 152,
    "start_time": "2025-01-28T17:29:28.932Z"
   },
   {
    "duration": 250,
    "start_time": "2025-01-28T17:34:23.157Z"
   },
   {
    "duration": 769,
    "start_time": "2025-01-28T17:34:51.406Z"
   },
   {
    "duration": 158,
    "start_time": "2025-01-28T17:34:52.178Z"
   },
   {
    "duration": 10,
    "start_time": "2025-01-28T17:34:52.338Z"
   },
   {
    "duration": 11,
    "start_time": "2025-01-28T17:34:52.350Z"
   },
   {
    "duration": 3,
    "start_time": "2025-01-28T17:34:52.362Z"
   },
   {
    "duration": 9,
    "start_time": "2025-01-28T17:34:52.366Z"
   },
   {
    "duration": 8,
    "start_time": "2025-01-28T17:34:52.377Z"
   },
   {
    "duration": 9,
    "start_time": "2025-01-28T17:34:52.387Z"
   },
   {
    "duration": 43,
    "start_time": "2025-01-28T17:34:52.397Z"
   },
   {
    "duration": 19,
    "start_time": "2025-01-28T17:34:52.444Z"
   },
   {
    "duration": 17,
    "start_time": "2025-01-28T17:34:52.464Z"
   },
   {
    "duration": 9,
    "start_time": "2025-01-28T17:34:52.483Z"
   },
   {
    "duration": 44,
    "start_time": "2025-01-28T17:34:52.494Z"
   },
   {
    "duration": 8,
    "start_time": "2025-01-28T17:34:52.540Z"
   },
   {
    "duration": 27,
    "start_time": "2025-01-28T17:34:52.549Z"
   },
   {
    "duration": 20,
    "start_time": "2025-01-28T17:34:52.578Z"
   },
   {
    "duration": 36,
    "start_time": "2025-01-28T17:34:52.600Z"
   },
   {
    "duration": 7,
    "start_time": "2025-01-28T17:34:52.638Z"
   },
   {
    "duration": 17,
    "start_time": "2025-01-28T17:34:52.646Z"
   },
   {
    "duration": 12,
    "start_time": "2025-01-28T17:34:52.664Z"
   },
   {
    "duration": 13,
    "start_time": "2025-01-28T17:34:52.677Z"
   },
   {
    "duration": 39,
    "start_time": "2025-01-28T17:34:52.692Z"
   },
   {
    "duration": 21,
    "start_time": "2025-01-28T17:34:52.733Z"
   },
   {
    "duration": 13,
    "start_time": "2025-01-28T17:34:52.756Z"
   },
   {
    "duration": 2,
    "start_time": "2025-01-28T17:34:52.771Z"
   },
   {
    "duration": 27,
    "start_time": "2025-01-28T17:34:52.775Z"
   },
   {
    "duration": 46,
    "start_time": "2025-01-28T17:34:52.804Z"
   },
   {
    "duration": 18,
    "start_time": "2025-01-28T17:34:52.853Z"
   },
   {
    "duration": 20,
    "start_time": "2025-01-28T17:34:52.872Z"
   },
   {
    "duration": 57,
    "start_time": "2025-01-28T17:34:52.893Z"
   },
   {
    "duration": 10,
    "start_time": "2025-01-28T17:34:52.952Z"
   },
   {
    "duration": 9,
    "start_time": "2025-01-28T17:34:52.964Z"
   },
   {
    "duration": 5,
    "start_time": "2025-01-28T17:34:52.975Z"
   },
   {
    "duration": 75,
    "start_time": "2025-01-28T17:34:52.982Z"
   },
   {
    "duration": 11,
    "start_time": "2025-01-28T17:34:53.059Z"
   },
   {
    "duration": 11,
    "start_time": "2025-01-28T17:34:53.072Z"
   },
   {
    "duration": 10,
    "start_time": "2025-01-28T17:34:53.085Z"
   },
   {
    "duration": 772,
    "start_time": "2025-01-28T17:34:53.097Z"
   },
   {
    "duration": 0,
    "start_time": "2025-01-28T17:34:53.871Z"
   },
   {
    "duration": 0,
    "start_time": "2025-01-28T17:34:53.872Z"
   },
   {
    "duration": 0,
    "start_time": "2025-01-28T17:34:53.873Z"
   },
   {
    "duration": 1,
    "start_time": "2025-01-28T17:34:53.873Z"
   },
   {
    "duration": 0,
    "start_time": "2025-01-28T17:34:53.875Z"
   },
   {
    "duration": 0,
    "start_time": "2025-01-28T17:34:53.876Z"
   },
   {
    "duration": 0,
    "start_time": "2025-01-28T17:34:53.877Z"
   },
   {
    "duration": 157,
    "start_time": "2025-01-28T17:43:39.204Z"
   },
   {
    "duration": 162,
    "start_time": "2025-01-28T17:44:15.899Z"
   },
   {
    "duration": 192,
    "start_time": "2025-01-28T17:44:41.927Z"
   },
   {
    "duration": 310,
    "start_time": "2025-01-28T17:47:22.604Z"
   },
   {
    "duration": 190,
    "start_time": "2025-01-28T17:48:56.163Z"
   },
   {
    "duration": 747,
    "start_time": "2025-01-28T17:49:06.511Z"
   },
   {
    "duration": 158,
    "start_time": "2025-01-28T17:49:07.260Z"
   },
   {
    "duration": 10,
    "start_time": "2025-01-28T17:49:07.419Z"
   },
   {
    "duration": 10,
    "start_time": "2025-01-28T17:49:07.431Z"
   },
   {
    "duration": 2,
    "start_time": "2025-01-28T17:49:07.442Z"
   },
   {
    "duration": 9,
    "start_time": "2025-01-28T17:49:07.446Z"
   },
   {
    "duration": 8,
    "start_time": "2025-01-28T17:49:07.456Z"
   },
   {
    "duration": 9,
    "start_time": "2025-01-28T17:49:07.466Z"
   },
   {
    "duration": 10,
    "start_time": "2025-01-28T17:49:07.476Z"
   },
   {
    "duration": 56,
    "start_time": "2025-01-28T17:49:07.491Z"
   },
   {
    "duration": 18,
    "start_time": "2025-01-28T17:49:07.548Z"
   },
   {
    "duration": 12,
    "start_time": "2025-01-28T17:49:07.568Z"
   },
   {
    "duration": 16,
    "start_time": "2025-01-28T17:49:07.583Z"
   },
   {
    "duration": 33,
    "start_time": "2025-01-28T17:49:07.601Z"
   },
   {
    "duration": 33,
    "start_time": "2025-01-28T17:49:07.636Z"
   },
   {
    "duration": 23,
    "start_time": "2025-01-28T17:49:07.671Z"
   },
   {
    "duration": 36,
    "start_time": "2025-01-28T17:49:07.696Z"
   },
   {
    "duration": 9,
    "start_time": "2025-01-28T17:49:07.735Z"
   },
   {
    "duration": 18,
    "start_time": "2025-01-28T17:49:07.746Z"
   },
   {
    "duration": 13,
    "start_time": "2025-01-28T17:49:07.766Z"
   },
   {
    "duration": 13,
    "start_time": "2025-01-28T17:49:07.781Z"
   },
   {
    "duration": 35,
    "start_time": "2025-01-28T17:49:07.796Z"
   },
   {
    "duration": 21,
    "start_time": "2025-01-28T17:49:07.834Z"
   },
   {
    "duration": 15,
    "start_time": "2025-01-28T17:49:07.856Z"
   },
   {
    "duration": 3,
    "start_time": "2025-01-28T17:49:07.873Z"
   },
   {
    "duration": 25,
    "start_time": "2025-01-28T17:49:07.878Z"
   },
   {
    "duration": 47,
    "start_time": "2025-01-28T17:49:07.905Z"
   },
   {
    "duration": 18,
    "start_time": "2025-01-28T17:49:07.957Z"
   },
   {
    "duration": 20,
    "start_time": "2025-01-28T17:49:07.977Z"
   },
   {
    "duration": 51,
    "start_time": "2025-01-28T17:49:07.999Z"
   },
   {
    "duration": 11,
    "start_time": "2025-01-28T17:49:08.052Z"
   },
   {
    "duration": 8,
    "start_time": "2025-01-28T17:49:08.064Z"
   },
   {
    "duration": 5,
    "start_time": "2025-01-28T17:49:08.074Z"
   },
   {
    "duration": 83,
    "start_time": "2025-01-28T17:49:08.080Z"
   },
   {
    "duration": 13,
    "start_time": "2025-01-28T17:49:08.165Z"
   },
   {
    "duration": 11,
    "start_time": "2025-01-28T17:49:08.180Z"
   },
   {
    "duration": 11,
    "start_time": "2025-01-28T17:49:08.193Z"
   },
   {
    "duration": 246,
    "start_time": "2025-01-28T17:49:08.205Z"
   },
   {
    "duration": 2,
    "start_time": "2025-01-28T17:49:08.453Z"
   },
   {
    "duration": 3,
    "start_time": "2025-01-28T17:49:08.457Z"
   },
   {
    "duration": 3,
    "start_time": "2025-01-28T17:49:08.461Z"
   },
   {
    "duration": 3,
    "start_time": "2025-01-28T17:49:08.465Z"
   },
   {
    "duration": 3,
    "start_time": "2025-01-28T17:49:08.470Z"
   },
   {
    "duration": 2,
    "start_time": "2025-01-28T17:49:08.476Z"
   },
   {
    "duration": 2,
    "start_time": "2025-01-28T17:49:08.480Z"
   },
   {
    "duration": 11,
    "start_time": "2025-01-28T17:51:32.738Z"
   },
   {
    "duration": 5,
    "start_time": "2025-01-28T17:55:18.397Z"
   },
   {
    "duration": 13,
    "start_time": "2025-01-28T17:58:06.163Z"
   },
   {
    "duration": 168,
    "start_time": "2025-01-28T17:58:19.996Z"
   },
   {
    "duration": 855,
    "start_time": "2025-01-28T17:58:37.995Z"
   },
   {
    "duration": 152,
    "start_time": "2025-01-28T17:58:55.476Z"
   },
   {
    "duration": 181,
    "start_time": "2025-01-28T17:59:21.457Z"
   },
   {
    "duration": 330,
    "start_time": "2025-01-28T17:59:37.011Z"
   },
   {
    "duration": 5,
    "start_time": "2025-01-28T17:59:55.875Z"
   },
   {
    "duration": 164,
    "start_time": "2025-01-28T18:00:03.947Z"
   },
   {
    "duration": 189,
    "start_time": "2025-01-28T18:00:27.533Z"
   },
   {
    "duration": 177,
    "start_time": "2025-01-28T18:00:41.923Z"
   },
   {
    "duration": 159,
    "start_time": "2025-01-28T18:00:50.556Z"
   },
   {
    "duration": 199,
    "start_time": "2025-01-28T18:01:11.422Z"
   },
   {
    "duration": 149,
    "start_time": "2025-01-28T18:01:22.187Z"
   },
   {
    "duration": 830,
    "start_time": "2025-01-28T18:02:33.743Z"
   },
   {
    "duration": 166,
    "start_time": "2025-01-28T18:02:34.577Z"
   },
   {
    "duration": 10,
    "start_time": "2025-01-28T18:02:34.745Z"
   },
   {
    "duration": 9,
    "start_time": "2025-01-28T18:02:34.758Z"
   },
   {
    "duration": 2,
    "start_time": "2025-01-28T18:02:34.769Z"
   },
   {
    "duration": 10,
    "start_time": "2025-01-28T18:02:34.774Z"
   },
   {
    "duration": 8,
    "start_time": "2025-01-28T18:02:34.785Z"
   },
   {
    "duration": 37,
    "start_time": "2025-01-28T18:02:34.795Z"
   },
   {
    "duration": 10,
    "start_time": "2025-01-28T18:02:34.834Z"
   },
   {
    "duration": 20,
    "start_time": "2025-01-28T18:02:34.848Z"
   },
   {
    "duration": 17,
    "start_time": "2025-01-28T18:02:34.869Z"
   },
   {
    "duration": 10,
    "start_time": "2025-01-28T18:02:34.888Z"
   },
   {
    "duration": 16,
    "start_time": "2025-01-28T18:02:34.931Z"
   },
   {
    "duration": 9,
    "start_time": "2025-01-28T18:02:34.948Z"
   },
   {
    "duration": 26,
    "start_time": "2025-01-28T18:02:34.959Z"
   },
   {
    "duration": 45,
    "start_time": "2025-01-28T18:02:34.987Z"
   },
   {
    "duration": 12,
    "start_time": "2025-01-28T18:02:35.034Z"
   },
   {
    "duration": 7,
    "start_time": "2025-01-28T18:02:35.048Z"
   },
   {
    "duration": 17,
    "start_time": "2025-01-28T18:02:35.056Z"
   },
   {
    "duration": 12,
    "start_time": "2025-01-28T18:02:35.074Z"
   },
   {
    "duration": 44,
    "start_time": "2025-01-28T18:02:35.088Z"
   },
   {
    "duration": 8,
    "start_time": "2025-01-28T18:02:35.134Z"
   },
   {
    "duration": 21,
    "start_time": "2025-01-28T18:02:35.143Z"
   },
   {
    "duration": 15,
    "start_time": "2025-01-28T18:02:35.166Z"
   },
   {
    "duration": 2,
    "start_time": "2025-01-28T18:02:35.183Z"
   },
   {
    "duration": 53,
    "start_time": "2025-01-28T18:02:35.188Z"
   },
   {
    "duration": 21,
    "start_time": "2025-01-28T18:02:35.243Z"
   },
   {
    "duration": 17,
    "start_time": "2025-01-28T18:02:35.268Z"
   },
   {
    "duration": 21,
    "start_time": "2025-01-28T18:02:35.287Z"
   },
   {
    "duration": 29,
    "start_time": "2025-01-28T18:02:35.331Z"
   },
   {
    "duration": 11,
    "start_time": "2025-01-28T18:02:35.362Z"
   },
   {
    "duration": 10,
    "start_time": "2025-01-28T18:02:35.374Z"
   },
   {
    "duration": 5,
    "start_time": "2025-01-28T18:02:35.385Z"
   },
   {
    "duration": 83,
    "start_time": "2025-01-28T18:02:35.392Z"
   },
   {
    "duration": 11,
    "start_time": "2025-01-28T18:02:35.477Z"
   },
   {
    "duration": 11,
    "start_time": "2025-01-28T18:02:35.489Z"
   },
   {
    "duration": 31,
    "start_time": "2025-01-28T18:02:35.502Z"
   },
   {
    "duration": 23,
    "start_time": "2025-01-28T18:02:35.535Z"
   },
   {
    "duration": 180,
    "start_time": "2025-01-28T18:02:35.560Z"
   },
   {
    "duration": 2,
    "start_time": "2025-01-28T18:02:35.742Z"
   },
   {
    "duration": 2,
    "start_time": "2025-01-28T18:02:35.747Z"
   },
   {
    "duration": 3,
    "start_time": "2025-01-28T18:02:35.751Z"
   },
   {
    "duration": 3,
    "start_time": "2025-01-28T18:02:35.756Z"
   },
   {
    "duration": 4,
    "start_time": "2025-01-28T18:02:35.760Z"
   },
   {
    "duration": 3,
    "start_time": "2025-01-28T18:02:35.766Z"
   },
   {
    "duration": 3,
    "start_time": "2025-01-28T18:02:35.770Z"
   },
   {
    "duration": 158,
    "start_time": "2025-01-28T18:02:45.688Z"
   },
   {
    "duration": 159,
    "start_time": "2025-01-28T18:02:53.854Z"
   },
   {
    "duration": 7,
    "start_time": "2025-01-28T18:06:26.116Z"
   },
   {
    "duration": 8,
    "start_time": "2025-01-28T18:07:19.557Z"
   },
   {
    "duration": 11,
    "start_time": "2025-01-28T18:07:38.431Z"
   },
   {
    "duration": 523,
    "start_time": "2025-01-28T18:11:09.387Z"
   },
   {
    "duration": 186,
    "start_time": "2025-01-28T18:11:37.444Z"
   },
   {
    "duration": 183,
    "start_time": "2025-01-28T18:16:32.450Z"
   },
   {
    "duration": 480,
    "start_time": "2025-01-28T18:17:11.173Z"
   },
   {
    "duration": 132,
    "start_time": "2025-01-28T18:18:50.673Z"
   },
   {
    "duration": 192,
    "start_time": "2025-01-28T18:18:58.793Z"
   },
   {
    "duration": 136,
    "start_time": "2025-01-28T18:21:33.700Z"
   },
   {
    "duration": 209,
    "start_time": "2025-01-28T18:21:46.672Z"
   },
   {
    "duration": 162,
    "start_time": "2025-01-28T18:21:53.885Z"
   },
   {
    "duration": 12,
    "start_time": "2025-01-28T18:26:15.273Z"
   },
   {
    "duration": 11,
    "start_time": "2025-01-28T18:26:42.303Z"
   },
   {
    "duration": 440,
    "start_time": "2025-01-28T18:42:02.110Z"
   },
   {
    "duration": 185,
    "start_time": "2025-01-28T18:43:07.476Z"
   },
   {
    "duration": 9,
    "start_time": "2025-01-28T18:43:35.039Z"
   },
   {
    "duration": 9,
    "start_time": "2025-01-28T18:43:38.921Z"
   },
   {
    "duration": 229,
    "start_time": "2025-01-28T18:45:51.942Z"
   },
   {
    "duration": 250,
    "start_time": "2025-01-28T18:46:10.338Z"
   },
   {
    "duration": 389,
    "start_time": "2025-01-28T18:46:46.804Z"
   },
   {
    "duration": 182,
    "start_time": "2025-01-28T18:47:35.082Z"
   },
   {
    "duration": 203,
    "start_time": "2025-01-28T18:48:43.088Z"
   },
   {
    "duration": 221,
    "start_time": "2025-01-28T18:49:15.651Z"
   },
   {
    "duration": 815,
    "start_time": "2025-01-28T18:49:31.347Z"
   },
   {
    "duration": 164,
    "start_time": "2025-01-28T18:49:32.165Z"
   },
   {
    "duration": 9,
    "start_time": "2025-01-28T18:49:32.330Z"
   },
   {
    "duration": 10,
    "start_time": "2025-01-28T18:49:32.342Z"
   },
   {
    "duration": 2,
    "start_time": "2025-01-28T18:49:32.354Z"
   },
   {
    "duration": 9,
    "start_time": "2025-01-28T18:49:32.358Z"
   },
   {
    "duration": 9,
    "start_time": "2025-01-28T18:49:32.369Z"
   },
   {
    "duration": 8,
    "start_time": "2025-01-28T18:49:32.380Z"
   },
   {
    "duration": 48,
    "start_time": "2025-01-28T18:49:32.390Z"
   },
   {
    "duration": 22,
    "start_time": "2025-01-28T18:49:32.442Z"
   },
   {
    "duration": 18,
    "start_time": "2025-01-28T18:49:32.465Z"
   },
   {
    "duration": 9,
    "start_time": "2025-01-28T18:49:32.485Z"
   },
   {
    "duration": 48,
    "start_time": "2025-01-28T18:49:32.496Z"
   },
   {
    "duration": 9,
    "start_time": "2025-01-28T18:49:32.545Z"
   },
   {
    "duration": 27,
    "start_time": "2025-01-28T18:49:32.556Z"
   },
   {
    "duration": 21,
    "start_time": "2025-01-28T18:49:32.587Z"
   },
   {
    "duration": 33,
    "start_time": "2025-01-28T18:49:32.609Z"
   },
   {
    "duration": 8,
    "start_time": "2025-01-28T18:49:32.643Z"
   },
   {
    "duration": 16,
    "start_time": "2025-01-28T18:49:32.652Z"
   },
   {
    "duration": 12,
    "start_time": "2025-01-28T18:49:32.669Z"
   },
   {
    "duration": 14,
    "start_time": "2025-01-28T18:49:32.682Z"
   },
   {
    "duration": 40,
    "start_time": "2025-01-28T18:49:32.698Z"
   },
   {
    "duration": 21,
    "start_time": "2025-01-28T18:49:32.739Z"
   },
   {
    "duration": 14,
    "start_time": "2025-01-28T18:49:32.762Z"
   },
   {
    "duration": 2,
    "start_time": "2025-01-28T18:49:32.779Z"
   },
   {
    "duration": 48,
    "start_time": "2025-01-28T18:49:32.783Z"
   },
   {
    "duration": 21,
    "start_time": "2025-01-28T18:49:32.833Z"
   },
   {
    "duration": 18,
    "start_time": "2025-01-28T18:49:32.858Z"
   },
   {
    "duration": 22,
    "start_time": "2025-01-28T18:49:32.878Z"
   },
   {
    "duration": 55,
    "start_time": "2025-01-28T18:49:32.902Z"
   },
   {
    "duration": 11,
    "start_time": "2025-01-28T18:49:32.959Z"
   },
   {
    "duration": 9,
    "start_time": "2025-01-28T18:49:32.973Z"
   },
   {
    "duration": 5,
    "start_time": "2025-01-28T18:49:32.983Z"
   },
   {
    "duration": 76,
    "start_time": "2025-01-28T18:49:32.990Z"
   },
   {
    "duration": 11,
    "start_time": "2025-01-28T18:49:33.068Z"
   },
   {
    "duration": 11,
    "start_time": "2025-01-28T18:49:33.081Z"
   },
   {
    "duration": 11,
    "start_time": "2025-01-28T18:49:33.094Z"
   },
   {
    "duration": 35,
    "start_time": "2025-01-28T18:49:33.106Z"
   },
   {
    "duration": 176,
    "start_time": "2025-01-28T18:49:33.142Z"
   },
   {
    "duration": 13,
    "start_time": "2025-01-28T18:49:33.320Z"
   },
   {
    "duration": 200,
    "start_time": "2025-01-28T18:49:33.335Z"
   },
   {
    "duration": 9,
    "start_time": "2025-01-28T18:49:33.537Z"
   },
   {
    "duration": 609,
    "start_time": "2025-01-28T18:49:33.547Z"
   },
   {
    "duration": 0,
    "start_time": "2025-01-28T18:49:34.157Z"
   },
   {
    "duration": 0,
    "start_time": "2025-01-28T18:49:34.159Z"
   },
   {
    "duration": 0,
    "start_time": "2025-01-28T18:49:34.160Z"
   },
   {
    "duration": 0,
    "start_time": "2025-01-28T18:49:34.161Z"
   },
   {
    "duration": 0,
    "start_time": "2025-01-28T18:49:34.162Z"
   },
   {
    "duration": 0,
    "start_time": "2025-01-28T18:49:34.163Z"
   },
   {
    "duration": 195,
    "start_time": "2025-01-28T18:50:05.936Z"
   },
   {
    "duration": 213,
    "start_time": "2025-01-28T18:51:26.637Z"
   },
   {
    "duration": 190,
    "start_time": "2025-01-28T18:51:52.830Z"
   },
   {
    "duration": 193,
    "start_time": "2025-01-28T18:52:01.455Z"
   },
   {
    "duration": 204,
    "start_time": "2025-01-28T18:52:16.557Z"
   },
   {
    "duration": 311,
    "start_time": "2025-01-28T18:53:27.067Z"
   },
   {
    "duration": 778,
    "start_time": "2025-01-28T18:54:12.895Z"
   },
   {
    "duration": 157,
    "start_time": "2025-01-28T18:54:13.676Z"
   },
   {
    "duration": 10,
    "start_time": "2025-01-28T18:54:13.834Z"
   },
   {
    "duration": 10,
    "start_time": "2025-01-28T18:54:13.846Z"
   },
   {
    "duration": 2,
    "start_time": "2025-01-28T18:54:13.857Z"
   },
   {
    "duration": 9,
    "start_time": "2025-01-28T18:54:13.861Z"
   },
   {
    "duration": 9,
    "start_time": "2025-01-28T18:54:13.871Z"
   },
   {
    "duration": 8,
    "start_time": "2025-01-28T18:54:13.882Z"
   },
   {
    "duration": 43,
    "start_time": "2025-01-28T18:54:13.892Z"
   },
   {
    "duration": 21,
    "start_time": "2025-01-28T18:54:13.938Z"
   },
   {
    "duration": 16,
    "start_time": "2025-01-28T18:54:13.961Z"
   },
   {
    "duration": 11,
    "start_time": "2025-01-28T18:54:13.979Z"
   },
   {
    "duration": 43,
    "start_time": "2025-01-28T18:54:13.992Z"
   },
   {
    "duration": 10,
    "start_time": "2025-01-28T18:54:14.039Z"
   },
   {
    "duration": 27,
    "start_time": "2025-01-28T18:54:14.050Z"
   },
   {
    "duration": 20,
    "start_time": "2025-01-28T18:54:14.078Z"
   },
   {
    "duration": 32,
    "start_time": "2025-01-28T18:54:14.100Z"
   },
   {
    "duration": 8,
    "start_time": "2025-01-28T18:54:14.134Z"
   },
   {
    "duration": 16,
    "start_time": "2025-01-28T18:54:14.144Z"
   },
   {
    "duration": 11,
    "start_time": "2025-01-28T18:54:14.162Z"
   },
   {
    "duration": 13,
    "start_time": "2025-01-28T18:54:14.175Z"
   },
   {
    "duration": 9,
    "start_time": "2025-01-28T18:54:14.189Z"
   },
   {
    "duration": 51,
    "start_time": "2025-01-28T18:54:14.199Z"
   },
   {
    "duration": 14,
    "start_time": "2025-01-28T18:54:14.251Z"
   },
   {
    "duration": 2,
    "start_time": "2025-01-28T18:54:14.267Z"
   },
   {
    "duration": 27,
    "start_time": "2025-01-28T18:54:14.271Z"
   },
   {
    "duration": 49,
    "start_time": "2025-01-28T18:54:14.300Z"
   },
   {
    "duration": 17,
    "start_time": "2025-01-28T18:54:14.354Z"
   },
   {
    "duration": 21,
    "start_time": "2025-01-28T18:54:14.372Z"
   },
   {
    "duration": 47,
    "start_time": "2025-01-28T18:54:14.395Z"
   },
   {
    "duration": 11,
    "start_time": "2025-01-28T18:54:14.444Z"
   },
   {
    "duration": 7,
    "start_time": "2025-01-28T18:54:14.458Z"
   },
   {
    "duration": 5,
    "start_time": "2025-01-28T18:54:14.467Z"
   },
   {
    "duration": 76,
    "start_time": "2025-01-28T18:54:14.473Z"
   },
   {
    "duration": 12,
    "start_time": "2025-01-28T18:54:14.551Z"
   },
   {
    "duration": 11,
    "start_time": "2025-01-28T18:54:14.564Z"
   },
   {
    "duration": 11,
    "start_time": "2025-01-28T18:54:14.577Z"
   },
   {
    "duration": 12,
    "start_time": "2025-01-28T18:54:14.589Z"
   },
   {
    "duration": 167,
    "start_time": "2025-01-28T18:54:14.632Z"
   },
   {
    "duration": 9,
    "start_time": "2025-01-28T18:54:14.801Z"
   },
   {
    "duration": 236,
    "start_time": "2025-01-28T18:54:14.812Z"
   },
   {
    "duration": 8,
    "start_time": "2025-01-28T18:54:15.050Z"
   },
   {
    "duration": 601,
    "start_time": "2025-01-28T18:54:15.060Z"
   },
   {
    "duration": 0,
    "start_time": "2025-01-28T18:54:15.663Z"
   },
   {
    "duration": 0,
    "start_time": "2025-01-28T18:54:15.664Z"
   },
   {
    "duration": 0,
    "start_time": "2025-01-28T18:54:15.664Z"
   },
   {
    "duration": 0,
    "start_time": "2025-01-28T18:54:15.666Z"
   },
   {
    "duration": 0,
    "start_time": "2025-01-28T18:54:15.667Z"
   },
   {
    "duration": 0,
    "start_time": "2025-01-28T18:54:15.668Z"
   },
   {
    "duration": 4,
    "start_time": "2025-01-28T19:00:13.610Z"
   },
   {
    "duration": 4,
    "start_time": "2025-01-28T19:00:23.676Z"
   },
   {
    "duration": 5,
    "start_time": "2025-01-28T19:01:00.269Z"
   },
   {
    "duration": 7,
    "start_time": "2025-01-28T19:01:11.459Z"
   },
   {
    "duration": 4,
    "start_time": "2025-01-28T19:01:36.181Z"
   },
   {
    "duration": 6,
    "start_time": "2025-01-28T19:01:38.182Z"
   },
   {
    "duration": 4,
    "start_time": "2025-01-28T19:03:48.024Z"
   },
   {
    "duration": 5,
    "start_time": "2025-01-28T19:05:24.020Z"
   },
   {
    "duration": 4,
    "start_time": "2025-01-28T19:11:24.397Z"
   },
   {
    "duration": 4,
    "start_time": "2025-01-28T19:11:30.040Z"
   },
   {
    "duration": 4,
    "start_time": "2025-01-28T19:12:15.704Z"
   },
   {
    "duration": 174,
    "start_time": "2025-01-28T19:12:56.793Z"
   },
   {
    "duration": 84,
    "start_time": "2025-01-28T19:13:30.103Z"
   },
   {
    "duration": 77,
    "start_time": "2025-01-28T19:14:08.576Z"
   },
   {
    "duration": 200,
    "start_time": "2025-01-28T19:15:11.088Z"
   },
   {
    "duration": 75,
    "start_time": "2025-01-28T19:16:00.147Z"
   },
   {
    "duration": 81,
    "start_time": "2025-01-28T19:16:07.791Z"
   },
   {
    "duration": 7,
    "start_time": "2025-01-28T19:16:43.167Z"
   },
   {
    "duration": 78,
    "start_time": "2025-01-28T19:16:53.220Z"
   },
   {
    "duration": 188,
    "start_time": "2025-01-28T19:18:08.126Z"
   },
   {
    "duration": 157,
    "start_time": "2025-01-28T19:18:23.749Z"
   },
   {
    "duration": 123,
    "start_time": "2025-01-28T19:18:31.444Z"
   },
   {
    "duration": 4,
    "start_time": "2025-01-28T19:19:41.531Z"
   },
   {
    "duration": 78,
    "start_time": "2025-01-28T19:19:46.633Z"
   },
   {
    "duration": 765,
    "start_time": "2025-01-28T19:20:19.990Z"
   },
   {
    "duration": 158,
    "start_time": "2025-01-28T19:20:20.757Z"
   },
   {
    "duration": 8,
    "start_time": "2025-01-28T19:20:20.916Z"
   },
   {
    "duration": 12,
    "start_time": "2025-01-28T19:20:20.927Z"
   },
   {
    "duration": 2,
    "start_time": "2025-01-28T19:20:20.941Z"
   },
   {
    "duration": 9,
    "start_time": "2025-01-28T19:20:20.945Z"
   },
   {
    "duration": 11,
    "start_time": "2025-01-28T19:20:20.955Z"
   },
   {
    "duration": 10,
    "start_time": "2025-01-28T19:20:20.967Z"
   },
   {
    "duration": 11,
    "start_time": "2025-01-28T19:20:20.978Z"
   },
   {
    "duration": 55,
    "start_time": "2025-01-28T19:20:20.991Z"
   },
   {
    "duration": 18,
    "start_time": "2025-01-28T19:20:21.049Z"
   },
   {
    "duration": 9,
    "start_time": "2025-01-28T19:20:21.069Z"
   },
   {
    "duration": 15,
    "start_time": "2025-01-28T19:20:21.081Z"
   },
   {
    "duration": 37,
    "start_time": "2025-01-28T19:20:21.100Z"
   },
   {
    "duration": 25,
    "start_time": "2025-01-28T19:20:21.140Z"
   },
   {
    "duration": 20,
    "start_time": "2025-01-28T19:20:21.167Z"
   },
   {
    "duration": 12,
    "start_time": "2025-01-28T19:20:21.188Z"
   },
   {
    "duration": 7,
    "start_time": "2025-01-28T19:20:21.201Z"
   },
   {
    "duration": 16,
    "start_time": "2025-01-28T19:20:21.232Z"
   },
   {
    "duration": 11,
    "start_time": "2025-01-28T19:20:21.250Z"
   },
   {
    "duration": 13,
    "start_time": "2025-01-28T19:20:21.262Z"
   },
   {
    "duration": 8,
    "start_time": "2025-01-28T19:20:21.276Z"
   },
   {
    "duration": 45,
    "start_time": "2025-01-28T19:20:21.286Z"
   },
   {
    "duration": 14,
    "start_time": "2025-01-28T19:20:21.333Z"
   },
   {
    "duration": 2,
    "start_time": "2025-01-28T19:20:21.349Z"
   },
   {
    "duration": 25,
    "start_time": "2025-01-28T19:20:21.352Z"
   },
   {
    "duration": 20,
    "start_time": "2025-01-28T19:20:21.379Z"
   },
   {
    "duration": 46,
    "start_time": "2025-01-28T19:20:21.401Z"
   },
   {
    "duration": 20,
    "start_time": "2025-01-28T19:20:21.448Z"
   },
   {
    "duration": 28,
    "start_time": "2025-01-28T19:20:21.469Z"
   },
   {
    "duration": 34,
    "start_time": "2025-01-28T19:20:21.499Z"
   },
   {
    "duration": 9,
    "start_time": "2025-01-28T19:20:21.535Z"
   },
   {
    "duration": 5,
    "start_time": "2025-01-28T19:20:21.545Z"
   },
   {
    "duration": 56,
    "start_time": "2025-01-28T19:20:21.552Z"
   },
   {
    "duration": 32,
    "start_time": "2025-01-28T19:20:21.609Z"
   },
   {
    "duration": 10,
    "start_time": "2025-01-28T19:20:21.643Z"
   },
   {
    "duration": 11,
    "start_time": "2025-01-28T19:20:21.655Z"
   },
   {
    "duration": 14,
    "start_time": "2025-01-28T19:20:21.667Z"
   },
   {
    "duration": 187,
    "start_time": "2025-01-28T19:20:21.682Z"
   },
   {
    "duration": 9,
    "start_time": "2025-01-28T19:20:21.871Z"
   },
   {
    "duration": 263,
    "start_time": "2025-01-28T19:20:21.885Z"
   },
   {
    "duration": 4,
    "start_time": "2025-01-28T19:20:22.150Z"
   },
   {
    "duration": 4,
    "start_time": "2025-01-28T19:20:22.155Z"
   },
   {
    "duration": 150,
    "start_time": "2025-01-28T19:20:22.160Z"
   },
   {
    "duration": 85,
    "start_time": "2025-01-28T19:20:22.312Z"
   },
   {
    "duration": 2,
    "start_time": "2025-01-28T19:20:22.399Z"
   },
   {
    "duration": 3,
    "start_time": "2025-01-28T19:20:22.403Z"
   },
   {
    "duration": 3,
    "start_time": "2025-01-28T19:20:22.407Z"
   },
   {
    "duration": 3,
    "start_time": "2025-01-28T19:20:22.412Z"
   },
   {
    "duration": 86,
    "start_time": "2025-01-28T19:22:47.303Z"
   },
   {
    "duration": 12,
    "start_time": "2025-01-28T19:26:08.327Z"
   },
   {
    "duration": 11,
    "start_time": "2025-01-28T19:26:23.589Z"
   },
   {
    "duration": 764,
    "start_time": "2025-01-28T19:34:18.745Z"
   },
   {
    "duration": 822,
    "start_time": "2025-01-28T19:34:46.244Z"
   },
   {
    "duration": 154,
    "start_time": "2025-01-28T19:34:47.069Z"
   },
   {
    "duration": 9,
    "start_time": "2025-01-28T19:34:47.225Z"
   },
   {
    "duration": 9,
    "start_time": "2025-01-28T19:34:47.236Z"
   },
   {
    "duration": 2,
    "start_time": "2025-01-28T19:34:47.247Z"
   },
   {
    "duration": 12,
    "start_time": "2025-01-28T19:34:47.250Z"
   },
   {
    "duration": 8,
    "start_time": "2025-01-28T19:34:47.264Z"
   },
   {
    "duration": 9,
    "start_time": "2025-01-28T19:34:47.273Z"
   },
   {
    "duration": 11,
    "start_time": "2025-01-28T19:34:47.283Z"
   },
   {
    "duration": 21,
    "start_time": "2025-01-28T19:34:47.333Z"
   },
   {
    "duration": 17,
    "start_time": "2025-01-28T19:34:47.356Z"
   },
   {
    "duration": 10,
    "start_time": "2025-01-28T19:34:47.375Z"
   },
   {
    "duration": 15,
    "start_time": "2025-01-28T19:34:47.387Z"
   },
   {
    "duration": 34,
    "start_time": "2025-01-28T19:34:47.403Z"
   },
   {
    "duration": 27,
    "start_time": "2025-01-28T19:34:47.438Z"
   },
   {
    "duration": 21,
    "start_time": "2025-01-28T19:34:47.467Z"
   },
   {
    "duration": 12,
    "start_time": "2025-01-28T19:34:47.489Z"
   },
   {
    "duration": 35,
    "start_time": "2025-01-28T19:34:47.502Z"
   },
   {
    "duration": 18,
    "start_time": "2025-01-28T19:34:47.538Z"
   },
   {
    "duration": 12,
    "start_time": "2025-01-28T19:34:47.558Z"
   },
   {
    "duration": 13,
    "start_time": "2025-01-28T19:34:47.572Z"
   },
   {
    "duration": 8,
    "start_time": "2025-01-28T19:34:47.587Z"
   },
   {
    "duration": 49,
    "start_time": "2025-01-28T19:34:47.597Z"
   },
   {
    "duration": 18,
    "start_time": "2025-01-28T19:34:47.649Z"
   },
   {
    "duration": 4,
    "start_time": "2025-01-28T19:34:47.669Z"
   },
   {
    "duration": 27,
    "start_time": "2025-01-28T19:34:47.676Z"
   },
   {
    "duration": 43,
    "start_time": "2025-01-28T19:34:47.705Z"
   },
   {
    "duration": 17,
    "start_time": "2025-01-28T19:34:47.752Z"
   },
   {
    "duration": 21,
    "start_time": "2025-01-28T19:34:47.771Z"
   },
   {
    "duration": 55,
    "start_time": "2025-01-28T19:34:47.794Z"
   },
   {
    "duration": 10,
    "start_time": "2025-01-28T19:34:47.851Z"
   },
   {
    "duration": 8,
    "start_time": "2025-01-28T19:34:47.863Z"
   },
   {
    "duration": 5,
    "start_time": "2025-01-28T19:34:47.872Z"
   },
   {
    "duration": 91,
    "start_time": "2025-01-28T19:34:47.879Z"
   },
   {
    "duration": 13,
    "start_time": "2025-01-28T19:34:47.973Z"
   },
   {
    "duration": 12,
    "start_time": "2025-01-28T19:34:47.987Z"
   },
   {
    "duration": 10,
    "start_time": "2025-01-28T19:34:48.001Z"
   },
   {
    "duration": 17,
    "start_time": "2025-01-28T19:34:48.031Z"
   },
   {
    "duration": 199,
    "start_time": "2025-01-28T19:34:48.051Z"
   },
   {
    "duration": 9,
    "start_time": "2025-01-28T19:34:48.253Z"
   },
   {
    "duration": 255,
    "start_time": "2025-01-28T19:34:48.264Z"
   },
   {
    "duration": 6,
    "start_time": "2025-01-28T19:34:48.530Z"
   },
   {
    "duration": 4,
    "start_time": "2025-01-28T19:34:48.539Z"
   },
   {
    "duration": 167,
    "start_time": "2025-01-28T19:34:48.545Z"
   },
   {
    "duration": 21,
    "start_time": "2025-01-28T19:34:48.714Z"
   },
   {
    "duration": 647,
    "start_time": "2025-01-28T19:34:48.736Z"
   },
   {
    "duration": 0,
    "start_time": "2025-01-28T19:34:49.384Z"
   },
   {
    "duration": 0,
    "start_time": "2025-01-28T19:34:49.385Z"
   },
   {
    "duration": 0,
    "start_time": "2025-01-28T19:34:49.386Z"
   },
   {
    "duration": 4,
    "start_time": "2025-01-28T19:35:49.929Z"
   },
   {
    "duration": 4,
    "start_time": "2025-01-28T19:37:31.594Z"
   },
   {
    "duration": 129,
    "start_time": "2025-01-28T19:37:57.003Z"
   },
   {
    "duration": 799,
    "start_time": "2025-01-28T19:38:30.884Z"
   },
   {
    "duration": 159,
    "start_time": "2025-01-28T19:38:31.686Z"
   },
   {
    "duration": 9,
    "start_time": "2025-01-28T19:38:31.847Z"
   },
   {
    "duration": 11,
    "start_time": "2025-01-28T19:38:31.858Z"
   },
   {
    "duration": 2,
    "start_time": "2025-01-28T19:38:31.871Z"
   },
   {
    "duration": 10,
    "start_time": "2025-01-28T19:38:31.874Z"
   },
   {
    "duration": 8,
    "start_time": "2025-01-28T19:38:31.886Z"
   },
   {
    "duration": 36,
    "start_time": "2025-01-28T19:38:31.896Z"
   },
   {
    "duration": 10,
    "start_time": "2025-01-28T19:38:31.933Z"
   },
   {
    "duration": 28,
    "start_time": "2025-01-28T19:38:31.945Z"
   },
   {
    "duration": 17,
    "start_time": "2025-01-28T19:38:31.975Z"
   },
   {
    "duration": 10,
    "start_time": "2025-01-28T19:38:31.994Z"
   },
   {
    "duration": 14,
    "start_time": "2025-01-28T19:38:32.031Z"
   },
   {
    "duration": 8,
    "start_time": "2025-01-28T19:38:32.050Z"
   },
   {
    "duration": 26,
    "start_time": "2025-01-28T19:38:32.059Z"
   },
   {
    "duration": 45,
    "start_time": "2025-01-28T19:38:32.086Z"
   },
   {
    "duration": 13,
    "start_time": "2025-01-28T19:38:32.133Z"
   },
   {
    "duration": 7,
    "start_time": "2025-01-28T19:38:32.147Z"
   },
   {
    "duration": 16,
    "start_time": "2025-01-28T19:38:32.156Z"
   },
   {
    "duration": 11,
    "start_time": "2025-01-28T19:38:32.174Z"
   },
   {
    "duration": 12,
    "start_time": "2025-01-28T19:38:32.187Z"
   },
   {
    "duration": 37,
    "start_time": "2025-01-28T19:38:32.201Z"
   },
   {
    "duration": 20,
    "start_time": "2025-01-28T19:38:32.239Z"
   },
   {
    "duration": 13,
    "start_time": "2025-01-28T19:38:32.261Z"
   },
   {
    "duration": 4,
    "start_time": "2025-01-28T19:38:32.275Z"
   },
   {
    "duration": 25,
    "start_time": "2025-01-28T19:38:32.280Z"
   },
   {
    "duration": 22,
    "start_time": "2025-01-28T19:38:32.332Z"
   },
   {
    "duration": 16,
    "start_time": "2025-01-28T19:38:32.355Z"
   },
   {
    "duration": 19,
    "start_time": "2025-01-28T19:38:32.373Z"
   },
   {
    "duration": 53,
    "start_time": "2025-01-28T19:38:32.393Z"
   },
   {
    "duration": 10,
    "start_time": "2025-01-28T19:38:32.448Z"
   },
   {
    "duration": 8,
    "start_time": "2025-01-28T19:38:32.460Z"
   },
   {
    "duration": 6,
    "start_time": "2025-01-28T19:38:32.471Z"
   },
   {
    "duration": 72,
    "start_time": "2025-01-28T19:38:32.479Z"
   },
   {
    "duration": 11,
    "start_time": "2025-01-28T19:38:32.553Z"
   },
   {
    "duration": 12,
    "start_time": "2025-01-28T19:38:32.566Z"
   },
   {
    "duration": 10,
    "start_time": "2025-01-28T19:38:32.581Z"
   },
   {
    "duration": 12,
    "start_time": "2025-01-28T19:38:32.593Z"
   },
   {
    "duration": 175,
    "start_time": "2025-01-28T19:38:32.631Z"
   },
   {
    "duration": 10,
    "start_time": "2025-01-28T19:38:32.808Z"
   },
   {
    "duration": 240,
    "start_time": "2025-01-28T19:38:32.830Z"
   },
   {
    "duration": 4,
    "start_time": "2025-01-28T19:38:33.072Z"
   },
   {
    "duration": 5,
    "start_time": "2025-01-28T19:38:33.078Z"
   },
   {
    "duration": 170,
    "start_time": "2025-01-28T19:38:33.084Z"
   },
   {
    "duration": 12,
    "start_time": "2025-01-28T19:38:33.256Z"
   },
   {
    "duration": 564,
    "start_time": "2025-01-28T19:38:33.270Z"
   },
   {
    "duration": 0,
    "start_time": "2025-01-28T19:38:33.836Z"
   },
   {
    "duration": 0,
    "start_time": "2025-01-28T19:38:33.837Z"
   },
   {
    "duration": 0,
    "start_time": "2025-01-28T19:38:33.838Z"
   },
   {
    "duration": 783,
    "start_time": "2025-01-28T19:38:56.186Z"
   },
   {
    "duration": 158,
    "start_time": "2025-01-28T19:38:56.972Z"
   },
   {
    "duration": 8,
    "start_time": "2025-01-28T19:38:57.132Z"
   },
   {
    "duration": 10,
    "start_time": "2025-01-28T19:38:57.142Z"
   },
   {
    "duration": 3,
    "start_time": "2025-01-28T19:38:57.155Z"
   },
   {
    "duration": 11,
    "start_time": "2025-01-28T19:38:57.160Z"
   },
   {
    "duration": 9,
    "start_time": "2025-01-28T19:38:57.173Z"
   },
   {
    "duration": 10,
    "start_time": "2025-01-28T19:38:57.184Z"
   },
   {
    "duration": 44,
    "start_time": "2025-01-28T19:38:57.196Z"
   },
   {
    "duration": 21,
    "start_time": "2025-01-28T19:38:57.241Z"
   },
   {
    "duration": 17,
    "start_time": "2025-01-28T19:38:57.264Z"
   },
   {
    "duration": 12,
    "start_time": "2025-01-28T19:38:57.283Z"
   },
   {
    "duration": 48,
    "start_time": "2025-01-28T19:38:57.296Z"
   },
   {
    "duration": 11,
    "start_time": "2025-01-28T19:38:57.347Z"
   },
   {
    "duration": 26,
    "start_time": "2025-01-28T19:38:57.359Z"
   },
   {
    "duration": 21,
    "start_time": "2025-01-28T19:38:57.387Z"
   },
   {
    "duration": 33,
    "start_time": "2025-01-28T19:38:57.409Z"
   },
   {
    "duration": 7,
    "start_time": "2025-01-28T19:38:57.443Z"
   },
   {
    "duration": 16,
    "start_time": "2025-01-28T19:38:57.452Z"
   },
   {
    "duration": 12,
    "start_time": "2025-01-28T19:38:57.470Z"
   },
   {
    "duration": 13,
    "start_time": "2025-01-28T19:38:57.484Z"
   },
   {
    "duration": 39,
    "start_time": "2025-01-28T19:38:57.498Z"
   },
   {
    "duration": 28,
    "start_time": "2025-01-28T19:38:57.538Z"
   },
   {
    "duration": 13,
    "start_time": "2025-01-28T19:38:57.568Z"
   },
   {
    "duration": 2,
    "start_time": "2025-01-28T19:38:57.583Z"
   },
   {
    "duration": 51,
    "start_time": "2025-01-28T19:38:57.587Z"
   },
   {
    "duration": 28,
    "start_time": "2025-01-28T19:38:57.640Z"
   },
   {
    "duration": 23,
    "start_time": "2025-01-28T19:38:57.670Z"
   },
   {
    "duration": 42,
    "start_time": "2025-01-28T19:38:57.695Z"
   },
   {
    "duration": 28,
    "start_time": "2025-01-28T19:38:57.739Z"
   },
   {
    "duration": 12,
    "start_time": "2025-01-28T19:38:57.768Z"
   },
   {
    "duration": 8,
    "start_time": "2025-01-28T19:38:57.781Z"
   },
   {
    "duration": 5,
    "start_time": "2025-01-28T19:38:57.790Z"
   },
   {
    "duration": 86,
    "start_time": "2025-01-28T19:38:57.797Z"
   },
   {
    "duration": 12,
    "start_time": "2025-01-28T19:38:57.885Z"
   },
   {
    "duration": 10,
    "start_time": "2025-01-28T19:38:57.899Z"
   },
   {
    "duration": 23,
    "start_time": "2025-01-28T19:38:57.911Z"
   },
   {
    "duration": 16,
    "start_time": "2025-01-28T19:38:57.936Z"
   },
   {
    "duration": 185,
    "start_time": "2025-01-28T19:38:57.954Z"
   },
   {
    "duration": 9,
    "start_time": "2025-01-28T19:38:58.142Z"
   },
   {
    "duration": 257,
    "start_time": "2025-01-28T19:38:58.155Z"
   },
   {
    "duration": 3,
    "start_time": "2025-01-28T19:38:58.415Z"
   },
   {
    "duration": 14,
    "start_time": "2025-01-28T19:38:58.420Z"
   },
   {
    "duration": 149,
    "start_time": "2025-01-28T19:38:58.436Z"
   },
   {
    "duration": 11,
    "start_time": "2025-01-28T19:38:58.587Z"
   },
   {
    "duration": 9,
    "start_time": "2025-01-28T19:38:58.599Z"
   },
   {
    "duration": 3,
    "start_time": "2025-01-28T19:38:58.609Z"
   },
   {
    "duration": 18,
    "start_time": "2025-01-28T19:38:58.614Z"
   },
   {
    "duration": 3,
    "start_time": "2025-01-28T19:38:58.634Z"
   },
   {
    "duration": 11,
    "start_time": "2025-01-28T19:39:16.469Z"
   },
   {
    "duration": 14,
    "start_time": "2025-01-28T19:39:31.484Z"
   },
   {
    "duration": 166,
    "start_time": "2025-01-28T19:40:48.115Z"
   },
   {
    "duration": 156,
    "start_time": "2025-01-28T19:41:20.712Z"
   },
   {
    "duration": 11,
    "start_time": "2025-01-28T19:44:15.641Z"
   },
   {
    "duration": 4,
    "start_time": "2025-01-28T19:47:56.080Z"
   },
   {
    "duration": 9,
    "start_time": "2025-01-28T19:48:30.681Z"
   },
   {
    "duration": 5,
    "start_time": "2025-01-28T19:48:43.830Z"
   },
   {
    "duration": 10,
    "start_time": "2025-01-28T19:48:50.011Z"
   },
   {
    "duration": 13,
    "start_time": "2025-01-28T19:50:40.634Z"
   },
   {
    "duration": 161,
    "start_time": "2025-01-28T19:53:07.096Z"
   },
   {
    "duration": 169,
    "start_time": "2025-01-28T19:53:41.446Z"
   },
   {
    "duration": 163,
    "start_time": "2025-01-28T19:54:02.907Z"
   },
   {
    "duration": 157,
    "start_time": "2025-01-28T19:54:15.964Z"
   },
   {
    "duration": 11,
    "start_time": "2025-01-28T19:55:40.211Z"
   },
   {
    "duration": 15,
    "start_time": "2025-01-28T19:55:43.305Z"
   },
   {
    "duration": 161,
    "start_time": "2025-01-28T19:55:45.591Z"
   },
   {
    "duration": 233,
    "start_time": "2025-01-28T19:59:56.441Z"
   },
   {
    "duration": 11,
    "start_time": "2025-01-28T20:01:00.475Z"
   },
   {
    "duration": 9,
    "start_time": "2025-01-28T20:03:42.396Z"
   },
   {
    "duration": 9,
    "start_time": "2025-01-28T20:05:02.692Z"
   },
   {
    "duration": 13,
    "start_time": "2025-01-28T20:07:10.858Z"
   },
   {
    "duration": 158,
    "start_time": "2025-01-28T20:07:33.218Z"
   },
   {
    "duration": 783,
    "start_time": "2025-01-28T20:07:43.484Z"
   },
   {
    "duration": 158,
    "start_time": "2025-01-28T20:07:44.269Z"
   },
   {
    "duration": 9,
    "start_time": "2025-01-28T20:07:44.429Z"
   },
   {
    "duration": 9,
    "start_time": "2025-01-28T20:07:44.440Z"
   },
   {
    "duration": 2,
    "start_time": "2025-01-28T20:07:44.452Z"
   },
   {
    "duration": 9,
    "start_time": "2025-01-28T20:07:44.456Z"
   },
   {
    "duration": 8,
    "start_time": "2025-01-28T20:07:44.467Z"
   },
   {
    "duration": 8,
    "start_time": "2025-01-28T20:07:44.476Z"
   },
   {
    "duration": 10,
    "start_time": "2025-01-28T20:07:44.486Z"
   },
   {
    "duration": 21,
    "start_time": "2025-01-28T20:07:44.532Z"
   },
   {
    "duration": 18,
    "start_time": "2025-01-28T20:07:44.555Z"
   },
   {
    "duration": 12,
    "start_time": "2025-01-28T20:07:44.574Z"
   },
   {
    "duration": 16,
    "start_time": "2025-01-28T20:07:44.587Z"
   },
   {
    "duration": 8,
    "start_time": "2025-01-28T20:07:44.634Z"
   },
   {
    "duration": 26,
    "start_time": "2025-01-28T20:07:44.644Z"
   },
   {
    "duration": 22,
    "start_time": "2025-01-28T20:07:44.672Z"
   },
   {
    "duration": 39,
    "start_time": "2025-01-28T20:07:44.696Z"
   },
   {
    "duration": 7,
    "start_time": "2025-01-28T20:07:44.736Z"
   },
   {
    "duration": 20,
    "start_time": "2025-01-28T20:07:44.745Z"
   },
   {
    "duration": 13,
    "start_time": "2025-01-28T20:07:44.769Z"
   },
   {
    "duration": 13,
    "start_time": "2025-01-28T20:07:44.784Z"
   },
   {
    "duration": 38,
    "start_time": "2025-01-28T20:07:44.798Z"
   },
   {
    "duration": 20,
    "start_time": "2025-01-28T20:07:44.837Z"
   },
   {
    "duration": 14,
    "start_time": "2025-01-28T20:07:44.858Z"
   },
   {
    "duration": 4,
    "start_time": "2025-01-28T20:07:44.873Z"
   },
   {
    "duration": 25,
    "start_time": "2025-01-28T20:07:44.878Z"
   },
   {
    "duration": 45,
    "start_time": "2025-01-28T20:07:44.905Z"
   },
   {
    "duration": 17,
    "start_time": "2025-01-28T20:07:44.951Z"
   },
   {
    "duration": 20,
    "start_time": "2025-01-28T20:07:44.970Z"
   },
   {
    "duration": 53,
    "start_time": "2025-01-28T20:07:44.992Z"
   },
   {
    "duration": 11,
    "start_time": "2025-01-28T20:07:45.046Z"
   },
   {
    "duration": 8,
    "start_time": "2025-01-28T20:07:45.058Z"
   },
   {
    "duration": 5,
    "start_time": "2025-01-28T20:07:45.068Z"
   },
   {
    "duration": 76,
    "start_time": "2025-01-28T20:07:45.075Z"
   },
   {
    "duration": 11,
    "start_time": "2025-01-28T20:07:45.153Z"
   },
   {
    "duration": 11,
    "start_time": "2025-01-28T20:07:45.166Z"
   },
   {
    "duration": 11,
    "start_time": "2025-01-28T20:07:45.179Z"
   },
   {
    "duration": 13,
    "start_time": "2025-01-28T20:07:45.191Z"
   },
   {
    "duration": 166,
    "start_time": "2025-01-28T20:07:45.231Z"
   },
   {
    "duration": 9,
    "start_time": "2025-01-28T20:07:45.399Z"
   },
   {
    "duration": 241,
    "start_time": "2025-01-28T20:07:45.413Z"
   },
   {
    "duration": 4,
    "start_time": "2025-01-28T20:07:45.656Z"
   },
   {
    "duration": 5,
    "start_time": "2025-01-28T20:07:45.661Z"
   },
   {
    "duration": 176,
    "start_time": "2025-01-28T20:07:45.668Z"
   },
   {
    "duration": 11,
    "start_time": "2025-01-28T20:07:45.846Z"
   },
   {
    "duration": 13,
    "start_time": "2025-01-28T20:07:45.859Z"
   },
   {
    "duration": 187,
    "start_time": "2025-01-28T20:07:45.873Z"
   },
   {
    "duration": 12,
    "start_time": "2025-01-28T20:07:46.061Z"
   },
   {
    "duration": 13,
    "start_time": "2025-01-28T20:07:46.074Z"
   },
   {
    "duration": 185,
    "start_time": "2025-01-28T20:07:46.089Z"
   },
   {
    "duration": 12,
    "start_time": "2025-01-28T20:07:46.276Z"
   },
   {
    "duration": 13,
    "start_time": "2025-01-28T20:07:46.289Z"
   },
   {
    "duration": 2,
    "start_time": "2025-01-28T20:07:46.304Z"
   },
   {
    "duration": 4,
    "start_time": "2025-01-28T20:07:46.330Z"
   },
   {
    "duration": 177,
    "start_time": "2025-01-28T20:10:05.333Z"
   },
   {
    "duration": 160,
    "start_time": "2025-01-28T20:10:17.383Z"
   },
   {
    "duration": 6,
    "start_time": "2025-01-28T20:14:31.636Z"
   },
   {
    "duration": 3,
    "start_time": "2025-01-28T20:15:09.456Z"
   },
   {
    "duration": 4,
    "start_time": "2025-01-28T20:17:41.156Z"
   },
   {
    "duration": 29,
    "start_time": "2025-01-28T20:23:25.616Z"
   },
   {
    "duration": 11,
    "start_time": "2025-01-28T20:23:36.998Z"
   },
   {
    "duration": 10,
    "start_time": "2025-01-28T20:24:06.768Z"
   },
   {
    "duration": 741,
    "start_time": "2025-01-28T20:25:34.531Z"
   },
   {
    "duration": 177,
    "start_time": "2025-01-28T20:25:35.275Z"
   },
   {
    "duration": 10,
    "start_time": "2025-01-28T20:25:35.454Z"
   },
   {
    "duration": 9,
    "start_time": "2025-01-28T20:25:35.466Z"
   },
   {
    "duration": 2,
    "start_time": "2025-01-28T20:25:35.477Z"
   },
   {
    "duration": 9,
    "start_time": "2025-01-28T20:25:35.480Z"
   },
   {
    "duration": 9,
    "start_time": "2025-01-28T20:25:35.490Z"
   },
   {
    "duration": 33,
    "start_time": "2025-01-28T20:25:35.500Z"
   },
   {
    "duration": 11,
    "start_time": "2025-01-28T20:25:35.535Z"
   },
   {
    "duration": 21,
    "start_time": "2025-01-28T20:25:35.550Z"
   },
   {
    "duration": 18,
    "start_time": "2025-01-28T20:25:35.572Z"
   },
   {
    "duration": 10,
    "start_time": "2025-01-28T20:25:35.591Z"
   },
   {
    "duration": 15,
    "start_time": "2025-01-28T20:25:35.631Z"
   },
   {
    "duration": 8,
    "start_time": "2025-01-28T20:25:35.647Z"
   },
   {
    "duration": 25,
    "start_time": "2025-01-28T20:25:35.657Z"
   },
   {
    "duration": 20,
    "start_time": "2025-01-28T20:25:35.684Z"
   },
   {
    "duration": 36,
    "start_time": "2025-01-28T20:25:35.705Z"
   },
   {
    "duration": 8,
    "start_time": "2025-01-28T20:25:35.743Z"
   },
   {
    "duration": 16,
    "start_time": "2025-01-28T20:25:35.752Z"
   },
   {
    "duration": 12,
    "start_time": "2025-01-28T20:25:35.771Z"
   },
   {
    "duration": 13,
    "start_time": "2025-01-28T20:25:35.784Z"
   },
   {
    "duration": 39,
    "start_time": "2025-01-28T20:25:35.799Z"
   },
   {
    "duration": 20,
    "start_time": "2025-01-28T20:25:35.841Z"
   },
   {
    "duration": 13,
    "start_time": "2025-01-28T20:25:35.862Z"
   },
   {
    "duration": 2,
    "start_time": "2025-01-28T20:25:35.877Z"
   },
   {
    "duration": 27,
    "start_time": "2025-01-28T20:25:35.880Z"
   },
   {
    "duration": 20,
    "start_time": "2025-01-28T20:25:35.932Z"
   },
   {
    "duration": 18,
    "start_time": "2025-01-28T20:25:35.957Z"
   },
   {
    "duration": 19,
    "start_time": "2025-01-28T20:25:35.977Z"
   },
   {
    "duration": 52,
    "start_time": "2025-01-28T20:25:35.998Z"
   },
   {
    "duration": 12,
    "start_time": "2025-01-28T20:25:36.052Z"
   },
   {
    "duration": 10,
    "start_time": "2025-01-28T20:25:36.065Z"
   },
   {
    "duration": 8,
    "start_time": "2025-01-28T20:25:36.077Z"
   },
   {
    "duration": 9,
    "start_time": "2025-01-28T20:25:36.087Z"
   },
   {
    "duration": 39,
    "start_time": "2025-01-28T20:25:36.097Z"
   },
   {
    "duration": 0,
    "start_time": "2025-01-28T20:25:36.138Z"
   },
   {
    "duration": 0,
    "start_time": "2025-01-28T20:25:36.139Z"
   },
   {
    "duration": 0,
    "start_time": "2025-01-28T20:25:36.141Z"
   },
   {
    "duration": 0,
    "start_time": "2025-01-28T20:25:36.142Z"
   },
   {
    "duration": 0,
    "start_time": "2025-01-28T20:25:36.143Z"
   },
   {
    "duration": 0,
    "start_time": "2025-01-28T20:25:36.144Z"
   },
   {
    "duration": 0,
    "start_time": "2025-01-28T20:25:36.145Z"
   },
   {
    "duration": 0,
    "start_time": "2025-01-28T20:25:36.146Z"
   },
   {
    "duration": 0,
    "start_time": "2025-01-28T20:25:36.148Z"
   },
   {
    "duration": 0,
    "start_time": "2025-01-28T20:25:36.149Z"
   },
   {
    "duration": 0,
    "start_time": "2025-01-28T20:25:36.150Z"
   },
   {
    "duration": 0,
    "start_time": "2025-01-28T20:25:36.151Z"
   },
   {
    "duration": 0,
    "start_time": "2025-01-28T20:25:36.152Z"
   },
   {
    "duration": 0,
    "start_time": "2025-01-28T20:25:36.153Z"
   },
   {
    "duration": 0,
    "start_time": "2025-01-28T20:25:36.154Z"
   },
   {
    "duration": 0,
    "start_time": "2025-01-28T20:25:36.156Z"
   },
   {
    "duration": 0,
    "start_time": "2025-01-28T20:25:36.156Z"
   },
   {
    "duration": 0,
    "start_time": "2025-01-28T20:25:36.157Z"
   },
   {
    "duration": 0,
    "start_time": "2025-01-28T20:25:36.158Z"
   },
   {
    "duration": 0,
    "start_time": "2025-01-28T20:25:36.159Z"
   },
   {
    "duration": 0,
    "start_time": "2025-01-28T20:25:36.160Z"
   },
   {
    "duration": 0,
    "start_time": "2025-01-28T20:25:36.161Z"
   },
   {
    "duration": 0,
    "start_time": "2025-01-28T20:25:36.162Z"
   },
   {
    "duration": 752,
    "start_time": "2025-01-28T20:25:58.420Z"
   },
   {
    "duration": 158,
    "start_time": "2025-01-28T20:25:59.175Z"
   },
   {
    "duration": 10,
    "start_time": "2025-01-28T20:25:59.335Z"
   },
   {
    "duration": 10,
    "start_time": "2025-01-28T20:25:59.347Z"
   },
   {
    "duration": 2,
    "start_time": "2025-01-28T20:25:59.360Z"
   },
   {
    "duration": 10,
    "start_time": "2025-01-28T20:25:59.364Z"
   },
   {
    "duration": 9,
    "start_time": "2025-01-28T20:25:59.375Z"
   },
   {
    "duration": 8,
    "start_time": "2025-01-28T20:25:59.386Z"
   },
   {
    "duration": 44,
    "start_time": "2025-01-28T20:25:59.395Z"
   },
   {
    "duration": 22,
    "start_time": "2025-01-28T20:25:59.440Z"
   },
   {
    "duration": 18,
    "start_time": "2025-01-28T20:25:59.463Z"
   },
   {
    "duration": 10,
    "start_time": "2025-01-28T20:25:59.482Z"
   },
   {
    "duration": 44,
    "start_time": "2025-01-28T20:25:59.493Z"
   },
   {
    "duration": 9,
    "start_time": "2025-01-28T20:25:59.540Z"
   },
   {
    "duration": 27,
    "start_time": "2025-01-28T20:25:59.551Z"
   },
   {
    "duration": 21,
    "start_time": "2025-01-28T20:25:59.580Z"
   },
   {
    "duration": 36,
    "start_time": "2025-01-28T20:25:59.603Z"
   },
   {
    "duration": 6,
    "start_time": "2025-01-28T20:25:59.640Z"
   },
   {
    "duration": 16,
    "start_time": "2025-01-28T20:25:59.648Z"
   },
   {
    "duration": 12,
    "start_time": "2025-01-28T20:25:59.666Z"
   },
   {
    "duration": 13,
    "start_time": "2025-01-28T20:25:59.679Z"
   },
   {
    "duration": 38,
    "start_time": "2025-01-28T20:25:59.694Z"
   },
   {
    "duration": 20,
    "start_time": "2025-01-28T20:25:59.734Z"
   },
   {
    "duration": 13,
    "start_time": "2025-01-28T20:25:59.756Z"
   },
   {
    "duration": 2,
    "start_time": "2025-01-28T20:25:59.771Z"
   },
   {
    "duration": 27,
    "start_time": "2025-01-28T20:25:59.775Z"
   },
   {
    "duration": 49,
    "start_time": "2025-01-28T20:25:59.803Z"
   },
   {
    "duration": 19,
    "start_time": "2025-01-28T20:25:59.854Z"
   },
   {
    "duration": 19,
    "start_time": "2025-01-28T20:25:59.875Z"
   },
   {
    "duration": 57,
    "start_time": "2025-01-28T20:25:59.896Z"
   },
   {
    "duration": 12,
    "start_time": "2025-01-28T20:25:59.955Z"
   },
   {
    "duration": 10,
    "start_time": "2025-01-28T20:25:59.969Z"
   },
   {
    "duration": 9,
    "start_time": "2025-01-28T20:25:59.980Z"
   },
   {
    "duration": 8,
    "start_time": "2025-01-28T20:25:59.990Z"
   },
   {
    "duration": 35,
    "start_time": "2025-01-28T20:25:59.999Z"
   },
   {
    "duration": 55,
    "start_time": "2025-01-28T20:26:00.035Z"
   },
   {
    "duration": 11,
    "start_time": "2025-01-28T20:26:00.092Z"
   },
   {
    "duration": 27,
    "start_time": "2025-01-28T20:26:00.105Z"
   },
   {
    "duration": 12,
    "start_time": "2025-01-28T20:26:00.134Z"
   },
   {
    "duration": 12,
    "start_time": "2025-01-28T20:26:00.148Z"
   },
   {
    "duration": 187,
    "start_time": "2025-01-28T20:26:00.164Z"
   },
   {
    "duration": 9,
    "start_time": "2025-01-28T20:26:00.353Z"
   },
   {
    "duration": 250,
    "start_time": "2025-01-28T20:26:00.364Z"
   },
   {
    "duration": 4,
    "start_time": "2025-01-28T20:26:00.615Z"
   },
   {
    "duration": 12,
    "start_time": "2025-01-28T20:26:00.621Z"
   },
   {
    "duration": 152,
    "start_time": "2025-01-28T20:26:00.634Z"
   },
   {
    "duration": 12,
    "start_time": "2025-01-28T20:26:00.788Z"
   },
   {
    "duration": 29,
    "start_time": "2025-01-28T20:26:00.802Z"
   },
   {
    "duration": 161,
    "start_time": "2025-01-28T20:26:00.833Z"
   },
   {
    "duration": 12,
    "start_time": "2025-01-28T20:26:00.996Z"
   },
   {
    "duration": 28,
    "start_time": "2025-01-28T20:26:01.010Z"
   },
   {
    "duration": 173,
    "start_time": "2025-01-28T20:26:01.039Z"
   },
   {
    "duration": 18,
    "start_time": "2025-01-28T20:26:01.214Z"
   },
   {
    "duration": 12,
    "start_time": "2025-01-28T20:26:01.234Z"
   },
   {
    "duration": 172,
    "start_time": "2025-01-28T20:26:01.248Z"
   },
   {
    "duration": 9,
    "start_time": "2025-01-28T20:26:01.422Z"
   },
   {
    "duration": 2,
    "start_time": "2025-01-28T20:26:01.433Z"
   },
   {
    "duration": 3,
    "start_time": "2025-01-28T20:26:01.436Z"
   },
   {
    "duration": 763,
    "start_time": "2025-01-28T20:28:41.843Z"
   },
   {
    "duration": 42,
    "start_time": "2025-01-28T20:29:19.473Z"
   },
   {
    "duration": 749,
    "start_time": "2025-01-28T20:29:29.517Z"
   },
   {
    "duration": 164,
    "start_time": "2025-01-28T20:29:30.269Z"
   },
   {
    "duration": 9,
    "start_time": "2025-01-28T20:29:30.434Z"
   },
   {
    "duration": 10,
    "start_time": "2025-01-28T20:29:30.445Z"
   },
   {
    "duration": 2,
    "start_time": "2025-01-28T20:29:30.458Z"
   },
   {
    "duration": 9,
    "start_time": "2025-01-28T20:29:30.461Z"
   },
   {
    "duration": 8,
    "start_time": "2025-01-28T20:29:30.471Z"
   },
   {
    "duration": 8,
    "start_time": "2025-01-28T20:29:30.481Z"
   },
   {
    "duration": 49,
    "start_time": "2025-01-28T20:29:30.490Z"
   },
   {
    "duration": 22,
    "start_time": "2025-01-28T20:29:30.542Z"
   },
   {
    "duration": 17,
    "start_time": "2025-01-28T20:29:30.566Z"
   },
   {
    "duration": 10,
    "start_time": "2025-01-28T20:29:30.584Z"
   },
   {
    "duration": 36,
    "start_time": "2025-01-28T20:29:30.596Z"
   },
   {
    "duration": 9,
    "start_time": "2025-01-28T20:29:30.635Z"
   },
   {
    "duration": 25,
    "start_time": "2025-01-28T20:29:30.646Z"
   },
   {
    "duration": 20,
    "start_time": "2025-01-28T20:29:30.673Z"
   },
   {
    "duration": 37,
    "start_time": "2025-01-28T20:29:30.695Z"
   },
   {
    "duration": 8,
    "start_time": "2025-01-28T20:29:30.734Z"
   },
   {
    "duration": 17,
    "start_time": "2025-01-28T20:29:30.743Z"
   },
   {
    "duration": 12,
    "start_time": "2025-01-28T20:29:30.761Z"
   },
   {
    "duration": 14,
    "start_time": "2025-01-28T20:29:30.775Z"
   },
   {
    "duration": 42,
    "start_time": "2025-01-28T20:29:30.791Z"
   },
   {
    "duration": 21,
    "start_time": "2025-01-28T20:29:30.834Z"
   },
   {
    "duration": 13,
    "start_time": "2025-01-28T20:29:30.857Z"
   },
   {
    "duration": 2,
    "start_time": "2025-01-28T20:29:30.872Z"
   },
   {
    "duration": 25,
    "start_time": "2025-01-28T20:29:30.876Z"
   },
   {
    "duration": 56,
    "start_time": "2025-01-28T20:29:30.903Z"
   },
   {
    "duration": 21,
    "start_time": "2025-01-28T20:29:30.961Z"
   },
   {
    "duration": 19,
    "start_time": "2025-01-28T20:29:30.985Z"
   },
   {
    "duration": 44,
    "start_time": "2025-01-28T20:29:31.006Z"
   },
   {
    "duration": 13,
    "start_time": "2025-01-28T20:29:31.052Z"
   },
   {
    "duration": 10,
    "start_time": "2025-01-28T20:29:31.066Z"
   },
   {
    "duration": 8,
    "start_time": "2025-01-28T20:29:31.078Z"
   },
   {
    "duration": 8,
    "start_time": "2025-01-28T20:29:31.088Z"
   },
   {
    "duration": 4,
    "start_time": "2025-01-28T20:29:31.098Z"
   },
   {
    "duration": 56,
    "start_time": "2025-01-28T20:29:31.132Z"
   },
   {
    "duration": 12,
    "start_time": "2025-01-28T20:29:31.189Z"
   },
   {
    "duration": 34,
    "start_time": "2025-01-28T20:29:31.202Z"
   },
   {
    "duration": 12,
    "start_time": "2025-01-28T20:29:31.238Z"
   },
   {
    "duration": 10,
    "start_time": "2025-01-28T20:29:31.252Z"
   },
   {
    "duration": 239,
    "start_time": "2025-01-28T20:29:31.267Z"
   },
   {
    "duration": 8,
    "start_time": "2025-01-28T20:29:31.508Z"
   },
   {
    "duration": 268,
    "start_time": "2025-01-28T20:29:31.517Z"
   },
   {
    "duration": 4,
    "start_time": "2025-01-28T20:29:31.787Z"
   },
   {
    "duration": 4,
    "start_time": "2025-01-28T20:29:31.793Z"
   },
   {
    "duration": 771,
    "start_time": "2025-01-28T20:29:31.798Z"
   },
   {
    "duration": 0,
    "start_time": "2025-01-28T20:29:32.571Z"
   },
   {
    "duration": 0,
    "start_time": "2025-01-28T20:29:32.572Z"
   },
   {
    "duration": 0,
    "start_time": "2025-01-28T20:29:32.574Z"
   },
   {
    "duration": 0,
    "start_time": "2025-01-28T20:29:32.575Z"
   },
   {
    "duration": 0,
    "start_time": "2025-01-28T20:29:32.576Z"
   },
   {
    "duration": 0,
    "start_time": "2025-01-28T20:29:32.578Z"
   },
   {
    "duration": 0,
    "start_time": "2025-01-28T20:29:32.580Z"
   },
   {
    "duration": 0,
    "start_time": "2025-01-28T20:29:32.581Z"
   },
   {
    "duration": 0,
    "start_time": "2025-01-28T20:29:32.582Z"
   },
   {
    "duration": 0,
    "start_time": "2025-01-28T20:29:32.584Z"
   },
   {
    "duration": 0,
    "start_time": "2025-01-28T20:29:32.585Z"
   },
   {
    "duration": 0,
    "start_time": "2025-01-28T20:29:32.586Z"
   },
   {
    "duration": 20,
    "start_time": "2025-01-28T20:30:07.865Z"
   },
   {
    "duration": 759,
    "start_time": "2025-01-28T20:30:34.694Z"
   },
   {
    "duration": 160,
    "start_time": "2025-01-28T20:30:35.456Z"
   },
   {
    "duration": 9,
    "start_time": "2025-01-28T20:30:35.617Z"
   },
   {
    "duration": 10,
    "start_time": "2025-01-28T20:30:35.632Z"
   },
   {
    "duration": 2,
    "start_time": "2025-01-28T20:30:35.644Z"
   },
   {
    "duration": 9,
    "start_time": "2025-01-28T20:30:35.647Z"
   },
   {
    "duration": 8,
    "start_time": "2025-01-28T20:30:35.658Z"
   },
   {
    "duration": 8,
    "start_time": "2025-01-28T20:30:35.668Z"
   },
   {
    "duration": 10,
    "start_time": "2025-01-28T20:30:35.678Z"
   },
   {
    "duration": 57,
    "start_time": "2025-01-28T20:30:35.690Z"
   },
   {
    "duration": 17,
    "start_time": "2025-01-28T20:30:35.749Z"
   },
   {
    "duration": 11,
    "start_time": "2025-01-28T20:30:35.767Z"
   },
   {
    "duration": 16,
    "start_time": "2025-01-28T20:30:35.780Z"
   },
   {
    "duration": 35,
    "start_time": "2025-01-28T20:30:35.797Z"
   },
   {
    "duration": 25,
    "start_time": "2025-01-28T20:30:35.835Z"
   },
   {
    "duration": 22,
    "start_time": "2025-01-28T20:30:35.862Z"
   },
   {
    "duration": 12,
    "start_time": "2025-01-28T20:30:35.886Z"
   },
   {
    "duration": 33,
    "start_time": "2025-01-28T20:30:35.899Z"
   },
   {
    "duration": 17,
    "start_time": "2025-01-28T20:30:35.934Z"
   },
   {
    "duration": 11,
    "start_time": "2025-01-28T20:30:35.953Z"
   },
   {
    "duration": 14,
    "start_time": "2025-01-28T20:30:35.966Z"
   },
   {
    "duration": 8,
    "start_time": "2025-01-28T20:30:35.981Z"
   },
   {
    "duration": 47,
    "start_time": "2025-01-28T20:30:35.990Z"
   },
   {
    "duration": 13,
    "start_time": "2025-01-28T20:30:36.039Z"
   },
   {
    "duration": 2,
    "start_time": "2025-01-28T20:30:36.054Z"
   },
   {
    "duration": 25,
    "start_time": "2025-01-28T20:30:36.058Z"
   },
   {
    "duration": 21,
    "start_time": "2025-01-28T20:30:36.084Z"
   },
   {
    "duration": 18,
    "start_time": "2025-01-28T20:30:36.130Z"
   },
   {
    "duration": 18,
    "start_time": "2025-01-28T20:30:36.150Z"
   },
   {
    "duration": 31,
    "start_time": "2025-01-28T20:30:36.169Z"
   },
   {
    "duration": 36,
    "start_time": "2025-01-28T20:30:36.202Z"
   },
   {
    "duration": 10,
    "start_time": "2025-01-28T20:30:36.239Z"
   },
   {
    "duration": 8,
    "start_time": "2025-01-28T20:30:36.251Z"
   },
   {
    "duration": 7,
    "start_time": "2025-01-28T20:30:36.261Z"
   },
   {
    "duration": 5,
    "start_time": "2025-01-28T20:30:36.270Z"
   },
   {
    "duration": 94,
    "start_time": "2025-01-28T20:30:36.276Z"
   },
   {
    "duration": 13,
    "start_time": "2025-01-28T20:30:36.371Z"
   },
   {
    "duration": 11,
    "start_time": "2025-01-28T20:30:36.386Z"
   },
   {
    "duration": 32,
    "start_time": "2025-01-28T20:30:36.400Z"
   },
   {
    "duration": 14,
    "start_time": "2025-01-28T20:30:36.434Z"
   },
   {
    "duration": 175,
    "start_time": "2025-01-28T20:30:36.449Z"
   },
   {
    "duration": 11,
    "start_time": "2025-01-28T20:30:36.626Z"
   },
   {
    "duration": 252,
    "start_time": "2025-01-28T20:30:36.639Z"
   },
   {
    "duration": 4,
    "start_time": "2025-01-28T20:30:36.894Z"
   },
   {
    "duration": 4,
    "start_time": "2025-01-28T20:30:36.900Z"
   },
   {
    "duration": 170,
    "start_time": "2025-01-28T20:30:36.906Z"
   },
   {
    "duration": 13,
    "start_time": "2025-01-28T20:30:37.077Z"
   },
   {
    "duration": 13,
    "start_time": "2025-01-28T20:30:37.092Z"
   },
   {
    "duration": 174,
    "start_time": "2025-01-28T20:30:37.106Z"
   },
   {
    "duration": 13,
    "start_time": "2025-01-28T20:30:37.282Z"
   },
   {
    "duration": 13,
    "start_time": "2025-01-28T20:30:37.297Z"
   },
   {
    "duration": 191,
    "start_time": "2025-01-28T20:30:37.311Z"
   },
   {
    "duration": 13,
    "start_time": "2025-01-28T20:30:37.505Z"
   },
   {
    "duration": 20,
    "start_time": "2025-01-28T20:30:37.521Z"
   },
   {
    "duration": 200,
    "start_time": "2025-01-28T20:30:37.543Z"
   },
   {
    "duration": 5,
    "start_time": "2025-01-28T20:30:37.746Z"
   },
   {
    "duration": 2,
    "start_time": "2025-01-28T20:30:37.753Z"
   },
   {
    "duration": 3,
    "start_time": "2025-01-28T20:30:37.757Z"
   },
   {
    "duration": 26,
    "start_time": "2025-01-28T20:34:34.333Z"
   },
   {
    "duration": 30,
    "start_time": "2025-01-28T20:35:09.096Z"
   },
   {
    "duration": 18,
    "start_time": "2025-01-28T20:35:40.770Z"
   },
   {
    "duration": 14,
    "start_time": "2025-01-28T20:35:49.066Z"
   },
   {
    "duration": 13,
    "start_time": "2025-01-28T20:47:37.315Z"
   },
   {
    "duration": 27,
    "start_time": "2025-01-28T20:48:11.232Z"
   },
   {
    "duration": 414,
    "start_time": "2025-01-28T20:48:47.143Z"
   },
   {
    "duration": 30,
    "start_time": "2025-01-28T20:49:00.015Z"
   },
   {
    "duration": 26,
    "start_time": "2025-01-28T20:49:48.904Z"
   },
   {
    "duration": 11,
    "start_time": "2025-01-28T20:50:50.742Z"
   },
   {
    "duration": 10,
    "start_time": "2025-01-28T20:51:51.348Z"
   },
   {
    "duration": 808,
    "start_time": "2025-01-28T20:52:21.758Z"
   },
   {
    "duration": 174,
    "start_time": "2025-01-28T20:52:22.571Z"
   },
   {
    "duration": 11,
    "start_time": "2025-01-28T20:52:22.746Z"
   },
   {
    "duration": 12,
    "start_time": "2025-01-28T20:52:22.758Z"
   },
   {
    "duration": 2,
    "start_time": "2025-01-28T20:52:22.772Z"
   },
   {
    "duration": 10,
    "start_time": "2025-01-28T20:52:22.776Z"
   },
   {
    "duration": 9,
    "start_time": "2025-01-28T20:52:22.787Z"
   },
   {
    "duration": 34,
    "start_time": "2025-01-28T20:52:22.797Z"
   },
   {
    "duration": 11,
    "start_time": "2025-01-28T20:52:22.833Z"
   },
   {
    "duration": 21,
    "start_time": "2025-01-28T20:52:22.846Z"
   },
   {
    "duration": 19,
    "start_time": "2025-01-28T20:52:22.868Z"
   },
   {
    "duration": 9,
    "start_time": "2025-01-28T20:52:22.889Z"
   },
   {
    "duration": 16,
    "start_time": "2025-01-28T20:52:22.932Z"
   },
   {
    "duration": 9,
    "start_time": "2025-01-28T20:52:22.952Z"
   },
   {
    "duration": 26,
    "start_time": "2025-01-28T20:52:22.963Z"
   },
   {
    "duration": 46,
    "start_time": "2025-01-28T20:52:22.990Z"
   },
   {
    "duration": 12,
    "start_time": "2025-01-28T20:52:23.038Z"
   },
   {
    "duration": 8,
    "start_time": "2025-01-28T20:52:23.052Z"
   },
   {
    "duration": 18,
    "start_time": "2025-01-28T20:52:23.062Z"
   },
   {
    "duration": 11,
    "start_time": "2025-01-28T20:52:23.082Z"
   },
   {
    "duration": 49,
    "start_time": "2025-01-28T20:52:23.095Z"
   },
   {
    "duration": 8,
    "start_time": "2025-01-28T20:52:23.146Z"
   },
   {
    "duration": 20,
    "start_time": "2025-01-28T20:52:23.156Z"
   },
   {
    "duration": 14,
    "start_time": "2025-01-28T20:52:23.179Z"
   },
   {
    "duration": 2,
    "start_time": "2025-01-28T20:52:23.196Z"
   },
   {
    "duration": 51,
    "start_time": "2025-01-28T20:52:23.200Z"
   },
   {
    "duration": 20,
    "start_time": "2025-01-28T20:52:23.253Z"
   },
   {
    "duration": 19,
    "start_time": "2025-01-28T20:52:23.276Z"
   },
   {
    "duration": 42,
    "start_time": "2025-01-28T20:52:23.296Z"
   },
   {
    "duration": 28,
    "start_time": "2025-01-28T20:52:23.340Z"
   },
   {
    "duration": 11,
    "start_time": "2025-01-28T20:52:23.370Z"
   },
   {
    "duration": 142,
    "start_time": "2025-01-28T20:52:23.383Z"
   },
   {
    "duration": 0,
    "start_time": "2025-01-28T20:52:23.528Z"
   },
   {
    "duration": 0,
    "start_time": "2025-01-28T20:52:23.528Z"
   },
   {
    "duration": 0,
    "start_time": "2025-01-28T20:52:23.529Z"
   },
   {
    "duration": 0,
    "start_time": "2025-01-28T20:52:23.530Z"
   },
   {
    "duration": 0,
    "start_time": "2025-01-28T20:52:23.532Z"
   },
   {
    "duration": 0,
    "start_time": "2025-01-28T20:52:23.533Z"
   },
   {
    "duration": 0,
    "start_time": "2025-01-28T20:52:23.534Z"
   },
   {
    "duration": 0,
    "start_time": "2025-01-28T20:52:23.537Z"
   },
   {
    "duration": 0,
    "start_time": "2025-01-28T20:52:23.537Z"
   },
   {
    "duration": 0,
    "start_time": "2025-01-28T20:52:23.539Z"
   },
   {
    "duration": 0,
    "start_time": "2025-01-28T20:52:23.540Z"
   },
   {
    "duration": 0,
    "start_time": "2025-01-28T20:52:23.540Z"
   },
   {
    "duration": 0,
    "start_time": "2025-01-28T20:52:23.541Z"
   },
   {
    "duration": 0,
    "start_time": "2025-01-28T20:52:23.543Z"
   },
   {
    "duration": 1,
    "start_time": "2025-01-28T20:52:23.543Z"
   },
   {
    "duration": 0,
    "start_time": "2025-01-28T20:52:23.545Z"
   },
   {
    "duration": 0,
    "start_time": "2025-01-28T20:52:23.547Z"
   },
   {
    "duration": 0,
    "start_time": "2025-01-28T20:52:23.548Z"
   },
   {
    "duration": 0,
    "start_time": "2025-01-28T20:52:23.551Z"
   },
   {
    "duration": 0,
    "start_time": "2025-01-28T20:52:23.552Z"
   },
   {
    "duration": 0,
    "start_time": "2025-01-28T20:52:23.554Z"
   },
   {
    "duration": 0,
    "start_time": "2025-01-28T20:52:23.556Z"
   },
   {
    "duration": 0,
    "start_time": "2025-01-28T20:52:23.557Z"
   },
   {
    "duration": 0,
    "start_time": "2025-01-28T20:52:23.558Z"
   },
   {
    "duration": 0,
    "start_time": "2025-01-28T20:52:23.560Z"
   },
   {
    "duration": 0,
    "start_time": "2025-01-28T20:52:23.561Z"
   },
   {
    "duration": 0,
    "start_time": "2025-01-28T20:52:23.563Z"
   },
   {
    "duration": 0,
    "start_time": "2025-01-28T20:52:23.564Z"
   },
   {
    "duration": 801,
    "start_time": "2025-01-28T20:53:02.922Z"
   },
   {
    "duration": 124,
    "start_time": "2025-01-28T20:54:12.351Z"
   },
   {
    "duration": 15,
    "start_time": "2025-01-28T20:54:38.515Z"
   },
   {
    "duration": 754,
    "start_time": "2025-01-28T20:55:12.525Z"
   },
   {
    "duration": 164,
    "start_time": "2025-01-28T20:55:13.281Z"
   },
   {
    "duration": 10,
    "start_time": "2025-01-28T20:55:13.446Z"
   },
   {
    "duration": 10,
    "start_time": "2025-01-28T20:55:13.458Z"
   },
   {
    "duration": 2,
    "start_time": "2025-01-28T20:55:13.469Z"
   },
   {
    "duration": 8,
    "start_time": "2025-01-28T20:55:13.473Z"
   },
   {
    "duration": 7,
    "start_time": "2025-01-28T20:55:13.483Z"
   },
   {
    "duration": 8,
    "start_time": "2025-01-28T20:55:13.492Z"
   },
   {
    "duration": 39,
    "start_time": "2025-01-28T20:55:13.501Z"
   },
   {
    "duration": 19,
    "start_time": "2025-01-28T20:55:13.544Z"
   },
   {
    "duration": 16,
    "start_time": "2025-01-28T20:55:13.564Z"
   },
   {
    "duration": 9,
    "start_time": "2025-01-28T20:55:13.582Z"
   },
   {
    "duration": 48,
    "start_time": "2025-01-28T20:55:13.593Z"
   },
   {
    "duration": 9,
    "start_time": "2025-01-28T20:55:13.643Z"
   },
   {
    "duration": 25,
    "start_time": "2025-01-28T20:55:13.654Z"
   },
   {
    "duration": 20,
    "start_time": "2025-01-28T20:55:13.682Z"
   },
   {
    "duration": 32,
    "start_time": "2025-01-28T20:55:13.704Z"
   },
   {
    "duration": 6,
    "start_time": "2025-01-28T20:55:13.738Z"
   },
   {
    "duration": 16,
    "start_time": "2025-01-28T20:55:13.746Z"
   },
   {
    "duration": 12,
    "start_time": "2025-01-28T20:55:13.764Z"
   },
   {
    "duration": 13,
    "start_time": "2025-01-28T20:55:13.778Z"
   },
   {
    "duration": 41,
    "start_time": "2025-01-28T20:55:13.792Z"
   },
   {
    "duration": 22,
    "start_time": "2025-01-28T20:55:13.835Z"
   },
   {
    "duration": 13,
    "start_time": "2025-01-28T20:55:13.859Z"
   },
   {
    "duration": 2,
    "start_time": "2025-01-28T20:55:13.874Z"
   },
   {
    "duration": 25,
    "start_time": "2025-01-28T20:55:13.878Z"
   },
   {
    "duration": 41,
    "start_time": "2025-01-28T20:55:13.905Z"
   },
   {
    "duration": 18,
    "start_time": "2025-01-28T20:55:13.951Z"
   },
   {
    "duration": 22,
    "start_time": "2025-01-28T20:55:13.971Z"
   },
   {
    "duration": 52,
    "start_time": "2025-01-28T20:55:13.995Z"
   },
   {
    "duration": 10,
    "start_time": "2025-01-28T20:55:14.049Z"
   },
   {
    "duration": 14,
    "start_time": "2025-01-28T20:55:14.060Z"
   },
   {
    "duration": 11,
    "start_time": "2025-01-28T20:55:14.075Z"
   },
   {
    "duration": 10,
    "start_time": "2025-01-28T20:55:14.087Z"
   },
   {
    "duration": 37,
    "start_time": "2025-01-28T20:55:14.099Z"
   },
   {
    "duration": 9,
    "start_time": "2025-01-28T20:55:14.138Z"
   },
   {
    "duration": 6,
    "start_time": "2025-01-28T20:55:14.148Z"
   },
   {
    "duration": 76,
    "start_time": "2025-01-28T20:55:14.155Z"
   },
   {
    "duration": 11,
    "start_time": "2025-01-28T20:55:14.233Z"
   },
   {
    "duration": 11,
    "start_time": "2025-01-28T20:55:14.246Z"
   },
   {
    "duration": 12,
    "start_time": "2025-01-28T20:55:14.258Z"
   },
   {
    "duration": 13,
    "start_time": "2025-01-28T20:55:14.271Z"
   },
   {
    "duration": 218,
    "start_time": "2025-01-28T20:55:14.286Z"
   },
   {
    "duration": 10,
    "start_time": "2025-01-28T20:55:14.505Z"
   },
   {
    "duration": 249,
    "start_time": "2025-01-28T20:55:14.517Z"
   },
   {
    "duration": 4,
    "start_time": "2025-01-28T20:55:14.768Z"
   },
   {
    "duration": 5,
    "start_time": "2025-01-28T20:55:14.774Z"
   },
   {
    "duration": 172,
    "start_time": "2025-01-28T20:55:14.781Z"
   },
   {
    "duration": 13,
    "start_time": "2025-01-28T20:55:14.955Z"
   },
   {
    "duration": 14,
    "start_time": "2025-01-28T20:55:14.970Z"
   },
   {
    "duration": 170,
    "start_time": "2025-01-28T20:55:14.985Z"
   },
   {
    "duration": 12,
    "start_time": "2025-01-28T20:55:15.157Z"
   },
   {
    "duration": 14,
    "start_time": "2025-01-28T20:55:15.170Z"
   },
   {
    "duration": 175,
    "start_time": "2025-01-28T20:55:15.187Z"
   },
   {
    "duration": 12,
    "start_time": "2025-01-28T20:55:15.364Z"
   },
   {
    "duration": 15,
    "start_time": "2025-01-28T20:55:15.379Z"
   },
   {
    "duration": 187,
    "start_time": "2025-01-28T20:55:15.396Z"
   },
   {
    "duration": 5,
    "start_time": "2025-01-28T20:55:15.585Z"
   },
   {
    "duration": 2,
    "start_time": "2025-01-28T20:55:15.592Z"
   },
   {
    "duration": 3,
    "start_time": "2025-01-28T20:55:15.596Z"
   },
   {
    "duration": 651,
    "start_time": "2025-01-28T20:56:13.118Z"
   },
   {
    "duration": 802,
    "start_time": "2025-01-28T20:56:39.859Z"
   },
   {
    "duration": 161,
    "start_time": "2025-01-28T20:56:40.664Z"
   },
   {
    "duration": 10,
    "start_time": "2025-01-28T20:56:40.826Z"
   },
   {
    "duration": 10,
    "start_time": "2025-01-28T20:56:40.837Z"
   },
   {
    "duration": 2,
    "start_time": "2025-01-28T20:56:40.849Z"
   },
   {
    "duration": 8,
    "start_time": "2025-01-28T20:56:40.853Z"
   },
   {
    "duration": 7,
    "start_time": "2025-01-28T20:56:40.863Z"
   },
   {
    "duration": 8,
    "start_time": "2025-01-28T20:56:40.872Z"
   },
   {
    "duration": 10,
    "start_time": "2025-01-28T20:56:40.882Z"
   },
   {
    "duration": 21,
    "start_time": "2025-01-28T20:56:40.930Z"
   },
   {
    "duration": 16,
    "start_time": "2025-01-28T20:56:40.952Z"
   },
   {
    "duration": 11,
    "start_time": "2025-01-28T20:56:40.969Z"
   },
   {
    "duration": 14,
    "start_time": "2025-01-28T20:56:40.982Z"
   },
   {
    "duration": 33,
    "start_time": "2025-01-28T20:56:41.000Z"
   },
   {
    "duration": 26,
    "start_time": "2025-01-28T20:56:41.034Z"
   },
   {
    "duration": 22,
    "start_time": "2025-01-28T20:56:41.061Z"
   },
   {
    "duration": 12,
    "start_time": "2025-01-28T20:56:41.084Z"
   },
   {
    "duration": 35,
    "start_time": "2025-01-28T20:56:41.098Z"
   },
   {
    "duration": 17,
    "start_time": "2025-01-28T20:56:41.135Z"
   },
   {
    "duration": 12,
    "start_time": "2025-01-28T20:56:41.153Z"
   },
   {
    "duration": 14,
    "start_time": "2025-01-28T20:56:41.166Z"
   },
   {
    "duration": 8,
    "start_time": "2025-01-28T20:56:41.182Z"
   },
   {
    "duration": 48,
    "start_time": "2025-01-28T20:56:41.192Z"
   },
   {
    "duration": 14,
    "start_time": "2025-01-28T20:56:41.242Z"
   },
   {
    "duration": 2,
    "start_time": "2025-01-28T20:56:41.258Z"
   },
   {
    "duration": 26,
    "start_time": "2025-01-28T20:56:41.261Z"
   },
   {
    "duration": 46,
    "start_time": "2025-01-28T20:56:41.289Z"
   },
   {
    "duration": 20,
    "start_time": "2025-01-28T20:56:41.337Z"
   },
   {
    "duration": 21,
    "start_time": "2025-01-28T20:56:41.358Z"
   },
   {
    "duration": 28,
    "start_time": "2025-01-28T20:56:41.382Z"
   },
   {
    "duration": 30,
    "start_time": "2025-01-28T20:56:41.411Z"
   },
   {
    "duration": 16,
    "start_time": "2025-01-28T20:56:41.442Z"
   },
   {
    "duration": 10,
    "start_time": "2025-01-28T20:56:41.461Z"
   },
   {
    "duration": 10,
    "start_time": "2025-01-28T20:56:41.473Z"
   },
   {
    "duration": 9,
    "start_time": "2025-01-28T20:56:41.484Z"
   },
   {
    "duration": 9,
    "start_time": "2025-01-28T20:56:41.532Z"
   },
   {
    "duration": 5,
    "start_time": "2025-01-28T20:56:41.543Z"
   },
   {
    "duration": 58,
    "start_time": "2025-01-28T20:56:41.549Z"
   },
   {
    "duration": 23,
    "start_time": "2025-01-28T20:56:41.609Z"
   },
   {
    "duration": 12,
    "start_time": "2025-01-28T20:56:41.634Z"
   },
   {
    "duration": 12,
    "start_time": "2025-01-28T20:56:41.650Z"
   },
   {
    "duration": 14,
    "start_time": "2025-01-28T20:56:41.664Z"
   },
   {
    "duration": 210,
    "start_time": "2025-01-28T20:56:41.679Z"
   },
   {
    "duration": 9,
    "start_time": "2025-01-28T20:56:41.891Z"
   },
   {
    "duration": 260,
    "start_time": "2025-01-28T20:56:41.902Z"
   },
   {
    "duration": 4,
    "start_time": "2025-01-28T20:56:42.164Z"
   },
   {
    "duration": 4,
    "start_time": "2025-01-28T20:56:42.170Z"
   },
   {
    "duration": 159,
    "start_time": "2025-01-28T20:56:42.175Z"
   },
   {
    "duration": 12,
    "start_time": "2025-01-28T20:56:42.336Z"
   },
   {
    "duration": 13,
    "start_time": "2025-01-28T20:56:42.349Z"
   },
   {
    "duration": 178,
    "start_time": "2025-01-28T20:56:42.364Z"
   },
   {
    "duration": 12,
    "start_time": "2025-01-28T20:56:42.544Z"
   },
   {
    "duration": 13,
    "start_time": "2025-01-28T20:56:42.558Z"
   },
   {
    "duration": 183,
    "start_time": "2025-01-28T20:56:42.573Z"
   },
   {
    "duration": 12,
    "start_time": "2025-01-28T20:56:42.758Z"
   },
   {
    "duration": 15,
    "start_time": "2025-01-28T20:56:42.771Z"
   },
   {
    "duration": 177,
    "start_time": "2025-01-28T20:56:42.787Z"
   },
   {
    "duration": 6,
    "start_time": "2025-01-28T20:56:42.965Z"
   },
   {
    "duration": 2,
    "start_time": "2025-01-28T20:56:42.973Z"
   },
   {
    "duration": 4,
    "start_time": "2025-01-28T20:56:42.977Z"
   },
   {
    "duration": 155,
    "start_time": "2025-01-28T20:58:06.097Z"
   },
   {
    "duration": 203,
    "start_time": "2025-01-28T20:58:22.010Z"
   },
   {
    "duration": 155,
    "start_time": "2025-01-28T20:58:30.764Z"
   },
   {
    "duration": 164,
    "start_time": "2025-01-28T20:58:44.011Z"
   },
   {
    "duration": 168,
    "start_time": "2025-01-28T20:58:59.379Z"
   },
   {
    "duration": 768,
    "start_time": "2025-01-28T21:00:04.289Z"
   },
   {
    "duration": 155,
    "start_time": "2025-01-28T21:00:05.060Z"
   },
   {
    "duration": 12,
    "start_time": "2025-01-28T21:00:05.219Z"
   },
   {
    "duration": 10,
    "start_time": "2025-01-28T21:00:05.233Z"
   },
   {
    "duration": 2,
    "start_time": "2025-01-28T21:00:05.244Z"
   },
   {
    "duration": 9,
    "start_time": "2025-01-28T21:00:05.248Z"
   },
   {
    "duration": 8,
    "start_time": "2025-01-28T21:00:05.258Z"
   },
   {
    "duration": 9,
    "start_time": "2025-01-28T21:00:05.268Z"
   },
   {
    "duration": 11,
    "start_time": "2025-01-28T21:00:05.278Z"
   },
   {
    "duration": 57,
    "start_time": "2025-01-28T21:00:05.291Z"
   },
   {
    "duration": 17,
    "start_time": "2025-01-28T21:00:05.350Z"
   },
   {
    "duration": 11,
    "start_time": "2025-01-28T21:00:05.369Z"
   },
   {
    "duration": 15,
    "start_time": "2025-01-28T21:00:05.383Z"
   },
   {
    "duration": 33,
    "start_time": "2025-01-28T21:00:05.399Z"
   },
   {
    "duration": 27,
    "start_time": "2025-01-28T21:00:05.434Z"
   },
   {
    "duration": 21,
    "start_time": "2025-01-28T21:00:05.463Z"
   },
   {
    "duration": 11,
    "start_time": "2025-01-28T21:00:05.486Z"
   },
   {
    "duration": 36,
    "start_time": "2025-01-28T21:00:05.499Z"
   },
   {
    "duration": 19,
    "start_time": "2025-01-28T21:00:05.537Z"
   },
   {
    "duration": 17,
    "start_time": "2025-01-28T21:00:05.558Z"
   },
   {
    "duration": 24,
    "start_time": "2025-01-28T21:00:05.578Z"
   },
   {
    "duration": 27,
    "start_time": "2025-01-28T21:00:05.605Z"
   },
   {
    "duration": 21,
    "start_time": "2025-01-28T21:00:05.633Z"
   },
   {
    "duration": 14,
    "start_time": "2025-01-28T21:00:05.655Z"
   },
   {
    "duration": 2,
    "start_time": "2025-01-28T21:00:05.671Z"
   },
   {
    "duration": 26,
    "start_time": "2025-01-28T21:00:05.675Z"
   },
   {
    "duration": 45,
    "start_time": "2025-01-28T21:00:05.703Z"
   },
   {
    "duration": 16,
    "start_time": "2025-01-28T21:00:05.750Z"
   },
   {
    "duration": 19,
    "start_time": "2025-01-28T21:00:05.768Z"
   },
   {
    "duration": 50,
    "start_time": "2025-01-28T21:00:05.789Z"
   },
   {
    "duration": 10,
    "start_time": "2025-01-28T21:00:05.841Z"
   },
   {
    "duration": 18,
    "start_time": "2025-01-28T21:00:05.853Z"
   },
   {
    "duration": 13,
    "start_time": "2025-01-28T21:00:05.873Z"
   },
   {
    "duration": 12,
    "start_time": "2025-01-28T21:00:05.888Z"
   },
   {
    "duration": 38,
    "start_time": "2025-01-28T21:00:05.902Z"
   },
   {
    "duration": 7,
    "start_time": "2025-01-28T21:00:05.942Z"
   },
   {
    "duration": 5,
    "start_time": "2025-01-28T21:00:05.952Z"
   },
   {
    "duration": 78,
    "start_time": "2025-01-28T21:00:05.958Z"
   },
   {
    "duration": 11,
    "start_time": "2025-01-28T21:00:06.037Z"
   },
   {
    "duration": 11,
    "start_time": "2025-01-28T21:00:06.054Z"
   },
   {
    "duration": 12,
    "start_time": "2025-01-28T21:00:06.067Z"
   },
   {
    "duration": 13,
    "start_time": "2025-01-28T21:00:06.080Z"
   },
   {
    "duration": 202,
    "start_time": "2025-01-28T21:00:06.095Z"
   },
   {
    "duration": 9,
    "start_time": "2025-01-28T21:00:06.299Z"
   },
   {
    "duration": 177,
    "start_time": "2025-01-28T21:00:06.310Z"
   },
   {
    "duration": 4,
    "start_time": "2025-01-28T21:00:06.489Z"
   },
   {
    "duration": 4,
    "start_time": "2025-01-28T21:00:06.495Z"
   },
   {
    "duration": 109,
    "start_time": "2025-01-28T21:00:06.501Z"
   },
   {
    "duration": 11,
    "start_time": "2025-01-28T21:00:06.612Z"
   },
   {
    "duration": 18,
    "start_time": "2025-01-28T21:00:06.624Z"
   },
   {
    "duration": 220,
    "start_time": "2025-01-28T21:00:06.644Z"
   },
   {
    "duration": 12,
    "start_time": "2025-01-28T21:00:06.866Z"
   },
   {
    "duration": 12,
    "start_time": "2025-01-28T21:00:06.880Z"
   },
   {
    "duration": 198,
    "start_time": "2025-01-28T21:00:06.894Z"
   },
   {
    "duration": 12,
    "start_time": "2025-01-28T21:00:07.094Z"
   },
   {
    "duration": 25,
    "start_time": "2025-01-28T21:00:07.107Z"
   },
   {
    "duration": 163,
    "start_time": "2025-01-28T21:00:07.133Z"
   },
   {
    "duration": 5,
    "start_time": "2025-01-28T21:00:07.298Z"
   },
   {
    "duration": 3,
    "start_time": "2025-01-28T21:00:07.304Z"
   },
   {
    "duration": 3,
    "start_time": "2025-01-28T21:00:07.309Z"
   },
   {
    "duration": 5,
    "start_time": "2025-01-28T21:02:49.613Z"
   },
   {
    "duration": 5,
    "start_time": "2025-01-28T21:04:46.984Z"
   },
   {
    "duration": 5,
    "start_time": "2025-01-28T21:09:14.574Z"
   },
   {
    "duration": 825,
    "start_time": "2025-01-28T21:09:57.840Z"
   },
   {
    "duration": 162,
    "start_time": "2025-01-28T21:09:58.668Z"
   },
   {
    "duration": 9,
    "start_time": "2025-01-28T21:09:58.831Z"
   },
   {
    "duration": 10,
    "start_time": "2025-01-28T21:09:58.843Z"
   },
   {
    "duration": 2,
    "start_time": "2025-01-28T21:09:58.854Z"
   },
   {
    "duration": 8,
    "start_time": "2025-01-28T21:09:58.858Z"
   },
   {
    "duration": 8,
    "start_time": "2025-01-28T21:09:58.867Z"
   },
   {
    "duration": 8,
    "start_time": "2025-01-28T21:09:58.876Z"
   },
   {
    "duration": 47,
    "start_time": "2025-01-28T21:09:58.886Z"
   },
   {
    "duration": 20,
    "start_time": "2025-01-28T21:09:58.936Z"
   },
   {
    "duration": 16,
    "start_time": "2025-01-28T21:09:58.958Z"
   },
   {
    "duration": 10,
    "start_time": "2025-01-28T21:09:58.976Z"
   },
   {
    "duration": 43,
    "start_time": "2025-01-28T21:09:58.987Z"
   },
   {
    "duration": 9,
    "start_time": "2025-01-28T21:09:59.032Z"
   },
   {
    "duration": 25,
    "start_time": "2025-01-28T21:09:59.042Z"
   },
   {
    "duration": 20,
    "start_time": "2025-01-28T21:09:59.069Z"
   },
   {
    "duration": 12,
    "start_time": "2025-01-28T21:09:59.090Z"
   },
   {
    "duration": 7,
    "start_time": "2025-01-28T21:09:59.130Z"
   },
   {
    "duration": 16,
    "start_time": "2025-01-28T21:09:59.139Z"
   },
   {
    "duration": 11,
    "start_time": "2025-01-28T21:09:59.157Z"
   },
   {
    "duration": 14,
    "start_time": "2025-01-28T21:09:59.169Z"
   },
   {
    "duration": 7,
    "start_time": "2025-01-28T21:09:59.185Z"
   },
   {
    "duration": 49,
    "start_time": "2025-01-28T21:09:59.194Z"
   },
   {
    "duration": 13,
    "start_time": "2025-01-28T21:09:59.245Z"
   },
   {
    "duration": 2,
    "start_time": "2025-01-28T21:09:59.260Z"
   },
   {
    "duration": 25,
    "start_time": "2025-01-28T21:09:59.264Z"
   },
   {
    "duration": 47,
    "start_time": "2025-01-28T21:09:59.292Z"
   },
   {
    "duration": 16,
    "start_time": "2025-01-28T21:09:59.344Z"
   },
   {
    "duration": 21,
    "start_time": "2025-01-28T21:09:59.361Z"
   },
   {
    "duration": 48,
    "start_time": "2025-01-28T21:09:59.384Z"
   },
   {
    "duration": 11,
    "start_time": "2025-01-28T21:09:59.434Z"
   },
   {
    "duration": 15,
    "start_time": "2025-01-28T21:09:59.446Z"
   },
   {
    "duration": 11,
    "start_time": "2025-01-28T21:09:59.462Z"
   },
   {
    "duration": 10,
    "start_time": "2025-01-28T21:09:59.475Z"
   },
   {
    "duration": 9,
    "start_time": "2025-01-28T21:09:59.487Z"
   },
   {
    "duration": 40,
    "start_time": "2025-01-28T21:09:59.497Z"
   },
   {
    "duration": 5,
    "start_time": "2025-01-28T21:09:59.539Z"
   },
   {
    "duration": 57,
    "start_time": "2025-01-28T21:09:59.546Z"
   },
   {
    "duration": 35,
    "start_time": "2025-01-28T21:09:59.605Z"
   },
   {
    "duration": 10,
    "start_time": "2025-01-28T21:09:59.642Z"
   },
   {
    "duration": 12,
    "start_time": "2025-01-28T21:09:59.654Z"
   },
   {
    "duration": 13,
    "start_time": "2025-01-28T21:09:59.668Z"
   },
   {
    "duration": 212,
    "start_time": "2025-01-28T21:09:59.683Z"
   },
   {
    "duration": 11,
    "start_time": "2025-01-28T21:09:59.897Z"
   },
   {
    "duration": 180,
    "start_time": "2025-01-28T21:09:59.909Z"
   },
   {
    "duration": 4,
    "start_time": "2025-01-28T21:10:00.091Z"
   },
   {
    "duration": 4,
    "start_time": "2025-01-28T21:10:00.097Z"
   },
   {
    "duration": 107,
    "start_time": "2025-01-28T21:10:00.102Z"
   },
   {
    "duration": 12,
    "start_time": "2025-01-28T21:10:00.210Z"
   },
   {
    "duration": 12,
    "start_time": "2025-01-28T21:10:00.232Z"
   },
   {
    "duration": 219,
    "start_time": "2025-01-28T21:10:00.246Z"
   },
   {
    "duration": 12,
    "start_time": "2025-01-28T21:10:00.467Z"
   },
   {
    "duration": 13,
    "start_time": "2025-01-28T21:10:00.481Z"
   },
   {
    "duration": 181,
    "start_time": "2025-01-28T21:10:00.496Z"
   },
   {
    "duration": 12,
    "start_time": "2025-01-28T21:10:00.680Z"
   },
   {
    "duration": 12,
    "start_time": "2025-01-28T21:10:00.694Z"
   },
   {
    "duration": 201,
    "start_time": "2025-01-28T21:10:00.709Z"
   },
   {
    "duration": 5,
    "start_time": "2025-01-28T21:10:00.913Z"
   },
   {
    "duration": 2,
    "start_time": "2025-01-28T21:10:00.931Z"
   },
   {
    "duration": 3,
    "start_time": "2025-01-28T21:10:00.935Z"
   },
   {
    "duration": 4,
    "start_time": "2025-01-29T02:25:19.697Z"
   },
   {
    "duration": 16,
    "start_time": "2025-01-29T02:26:07.939Z"
   },
   {
    "duration": 474,
    "start_time": "2025-01-29T02:28:22.091Z"
   },
   {
    "duration": 773,
    "start_time": "2025-01-29T02:28:31.920Z"
   },
   {
    "duration": 156,
    "start_time": "2025-01-29T02:28:32.696Z"
   },
   {
    "duration": 9,
    "start_time": "2025-01-29T02:28:32.853Z"
   },
   {
    "duration": 10,
    "start_time": "2025-01-29T02:28:32.865Z"
   },
   {
    "duration": 2,
    "start_time": "2025-01-29T02:28:32.877Z"
   },
   {
    "duration": 9,
    "start_time": "2025-01-29T02:28:32.881Z"
   },
   {
    "duration": 7,
    "start_time": "2025-01-29T02:28:32.892Z"
   },
   {
    "duration": 32,
    "start_time": "2025-01-29T02:28:32.901Z"
   },
   {
    "duration": 10,
    "start_time": "2025-01-29T02:28:32.935Z"
   },
   {
    "duration": 19,
    "start_time": "2025-01-29T02:28:32.949Z"
   },
   {
    "duration": 17,
    "start_time": "2025-01-29T02:28:32.969Z"
   },
   {
    "duration": 10,
    "start_time": "2025-01-29T02:28:32.987Z"
   },
   {
    "duration": 47,
    "start_time": "2025-01-29T02:28:32.999Z"
   },
   {
    "duration": 9,
    "start_time": "2025-01-29T02:28:33.047Z"
   },
   {
    "duration": 26,
    "start_time": "2025-01-29T02:28:33.058Z"
   },
   {
    "duration": 46,
    "start_time": "2025-01-29T02:28:33.086Z"
   },
   {
    "duration": 11,
    "start_time": "2025-01-29T02:28:33.134Z"
   },
   {
    "duration": 7,
    "start_time": "2025-01-29T02:28:33.147Z"
   },
   {
    "duration": 16,
    "start_time": "2025-01-29T02:28:33.156Z"
   },
   {
    "duration": 12,
    "start_time": "2025-01-29T02:28:33.174Z"
   },
   {
    "duration": 44,
    "start_time": "2025-01-29T02:28:33.187Z"
   },
   {
    "duration": 8,
    "start_time": "2025-01-29T02:28:33.233Z"
   },
   {
    "duration": 21,
    "start_time": "2025-01-29T02:28:33.243Z"
   },
   {
    "duration": 13,
    "start_time": "2025-01-29T02:28:33.265Z"
   },
   {
    "duration": 3,
    "start_time": "2025-01-29T02:28:33.280Z"
   },
   {
    "duration": 55,
    "start_time": "2025-01-29T02:28:33.284Z"
   },
   {
    "duration": 21,
    "start_time": "2025-01-29T02:28:33.340Z"
   },
   {
    "duration": 17,
    "start_time": "2025-01-29T02:28:33.366Z"
   },
   {
    "duration": 19,
    "start_time": "2025-01-29T02:28:33.385Z"
   },
   {
    "duration": 588,
    "start_time": "2025-01-29T02:28:33.406Z"
   },
   {
    "duration": 0,
    "start_time": "2025-01-29T02:28:33.995Z"
   },
   {
    "duration": 0,
    "start_time": "2025-01-29T02:28:33.997Z"
   },
   {
    "duration": 1,
    "start_time": "2025-01-29T02:28:33.997Z"
   },
   {
    "duration": 0,
    "start_time": "2025-01-29T02:28:33.999Z"
   },
   {
    "duration": 0,
    "start_time": "2025-01-29T02:28:34.000Z"
   },
   {
    "duration": 1,
    "start_time": "2025-01-29T02:28:34.001Z"
   },
   {
    "duration": 0,
    "start_time": "2025-01-29T02:28:34.004Z"
   },
   {
    "duration": 0,
    "start_time": "2025-01-29T02:28:34.005Z"
   },
   {
    "duration": 0,
    "start_time": "2025-01-29T02:28:34.007Z"
   },
   {
    "duration": 0,
    "start_time": "2025-01-29T02:28:34.008Z"
   },
   {
    "duration": 0,
    "start_time": "2025-01-29T02:28:34.010Z"
   },
   {
    "duration": 0,
    "start_time": "2025-01-29T02:28:34.031Z"
   },
   {
    "duration": 0,
    "start_time": "2025-01-29T02:28:34.032Z"
   },
   {
    "duration": 0,
    "start_time": "2025-01-29T02:28:34.033Z"
   },
   {
    "duration": 0,
    "start_time": "2025-01-29T02:28:34.035Z"
   },
   {
    "duration": 0,
    "start_time": "2025-01-29T02:28:34.036Z"
   },
   {
    "duration": 0,
    "start_time": "2025-01-29T02:28:34.038Z"
   },
   {
    "duration": 0,
    "start_time": "2025-01-29T02:28:34.038Z"
   },
   {
    "duration": 0,
    "start_time": "2025-01-29T02:28:34.040Z"
   },
   {
    "duration": 0,
    "start_time": "2025-01-29T02:28:34.040Z"
   },
   {
    "duration": 0,
    "start_time": "2025-01-29T02:28:34.041Z"
   },
   {
    "duration": 0,
    "start_time": "2025-01-29T02:28:34.043Z"
   },
   {
    "duration": 0,
    "start_time": "2025-01-29T02:28:34.043Z"
   },
   {
    "duration": 0,
    "start_time": "2025-01-29T02:28:34.045Z"
   },
   {
    "duration": 0,
    "start_time": "2025-01-29T02:28:34.048Z"
   },
   {
    "duration": 1,
    "start_time": "2025-01-29T02:28:34.048Z"
   },
   {
    "duration": 0,
    "start_time": "2025-01-29T02:28:34.050Z"
   },
   {
    "duration": 0,
    "start_time": "2025-01-29T02:28:34.051Z"
   },
   {
    "duration": 1,
    "start_time": "2025-01-29T02:28:34.051Z"
   },
   {
    "duration": 0,
    "start_time": "2025-01-29T02:28:34.052Z"
   },
   {
    "duration": 34,
    "start_time": "2025-01-29T02:29:17.666Z"
   },
   {
    "duration": 830,
    "start_time": "2025-01-29T02:29:37.442Z"
   },
   {
    "duration": 162,
    "start_time": "2025-01-29T02:29:38.274Z"
   },
   {
    "duration": 10,
    "start_time": "2025-01-29T02:29:38.438Z"
   },
   {
    "duration": 10,
    "start_time": "2025-01-29T02:29:38.450Z"
   },
   {
    "duration": 2,
    "start_time": "2025-01-29T02:29:38.461Z"
   },
   {
    "duration": 10,
    "start_time": "2025-01-29T02:29:38.465Z"
   },
   {
    "duration": 8,
    "start_time": "2025-01-29T02:29:38.476Z"
   },
   {
    "duration": 8,
    "start_time": "2025-01-29T02:29:38.486Z"
   },
   {
    "duration": 44,
    "start_time": "2025-01-29T02:29:38.496Z"
   },
   {
    "duration": 22,
    "start_time": "2025-01-29T02:29:38.544Z"
   },
   {
    "duration": 19,
    "start_time": "2025-01-29T02:29:38.567Z"
   },
   {
    "duration": 10,
    "start_time": "2025-01-29T02:29:38.588Z"
   },
   {
    "duration": 19,
    "start_time": "2025-01-29T02:29:38.632Z"
   },
   {
    "duration": 10,
    "start_time": "2025-01-29T02:29:38.652Z"
   },
   {
    "duration": 26,
    "start_time": "2025-01-29T02:29:38.663Z"
   },
   {
    "duration": 45,
    "start_time": "2025-01-29T02:29:38.690Z"
   },
   {
    "duration": 12,
    "start_time": "2025-01-29T02:29:38.736Z"
   },
   {
    "duration": 7,
    "start_time": "2025-01-29T02:29:38.749Z"
   },
   {
    "duration": 16,
    "start_time": "2025-01-29T02:29:38.758Z"
   },
   {
    "duration": 13,
    "start_time": "2025-01-29T02:29:38.776Z"
   },
   {
    "duration": 41,
    "start_time": "2025-01-29T02:29:38.791Z"
   },
   {
    "duration": 8,
    "start_time": "2025-01-29T02:29:38.833Z"
   },
   {
    "duration": 21,
    "start_time": "2025-01-29T02:29:38.843Z"
   },
   {
    "duration": 14,
    "start_time": "2025-01-29T02:29:38.866Z"
   },
   {
    "duration": 3,
    "start_time": "2025-01-29T02:29:38.881Z"
   },
   {
    "duration": 55,
    "start_time": "2025-01-29T02:29:38.885Z"
   },
   {
    "duration": 22,
    "start_time": "2025-01-29T02:29:38.941Z"
   },
   {
    "duration": 18,
    "start_time": "2025-01-29T02:29:38.968Z"
   },
   {
    "duration": 43,
    "start_time": "2025-01-29T02:29:38.988Z"
   },
   {
    "duration": 33,
    "start_time": "2025-01-29T02:29:39.033Z"
   },
   {
    "duration": 11,
    "start_time": "2025-01-29T02:29:39.067Z"
   },
   {
    "duration": 16,
    "start_time": "2025-01-29T02:29:39.079Z"
   },
   {
    "duration": 34,
    "start_time": "2025-01-29T02:29:39.097Z"
   },
   {
    "duration": 11,
    "start_time": "2025-01-29T02:29:39.133Z"
   },
   {
    "duration": 9,
    "start_time": "2025-01-29T02:29:39.145Z"
   },
   {
    "duration": 7,
    "start_time": "2025-01-29T02:29:39.156Z"
   },
   {
    "duration": 5,
    "start_time": "2025-01-29T02:29:39.165Z"
   },
   {
    "duration": 83,
    "start_time": "2025-01-29T02:29:39.172Z"
   },
   {
    "duration": 11,
    "start_time": "2025-01-29T02:29:39.257Z"
   },
   {
    "duration": 11,
    "start_time": "2025-01-29T02:29:39.270Z"
   },
   {
    "duration": 12,
    "start_time": "2025-01-29T02:29:39.282Z"
   },
   {
    "duration": 37,
    "start_time": "2025-01-29T02:29:39.295Z"
   },
   {
    "duration": 171,
    "start_time": "2025-01-29T02:29:39.333Z"
   },
   {
    "duration": 10,
    "start_time": "2025-01-29T02:29:39.505Z"
   },
   {
    "duration": 180,
    "start_time": "2025-01-29T02:29:39.516Z"
   },
   {
    "duration": 4,
    "start_time": "2025-01-29T02:29:39.698Z"
   },
   {
    "duration": 4,
    "start_time": "2025-01-29T02:29:39.704Z"
   },
   {
    "duration": 109,
    "start_time": "2025-01-29T02:29:39.710Z"
   },
   {
    "duration": 19,
    "start_time": "2025-01-29T02:29:39.821Z"
   },
   {
    "duration": 15,
    "start_time": "2025-01-29T02:29:39.841Z"
   },
   {
    "duration": 220,
    "start_time": "2025-01-29T02:29:39.858Z"
   },
   {
    "duration": 12,
    "start_time": "2025-01-29T02:29:40.080Z"
   },
   {
    "duration": 13,
    "start_time": "2025-01-29T02:29:40.094Z"
   },
   {
    "duration": 182,
    "start_time": "2025-01-29T02:29:40.109Z"
   },
   {
    "duration": 12,
    "start_time": "2025-01-29T02:29:40.292Z"
   },
   {
    "duration": 28,
    "start_time": "2025-01-29T02:29:40.305Z"
   },
   {
    "duration": 171,
    "start_time": "2025-01-29T02:29:40.335Z"
   },
   {
    "duration": 4,
    "start_time": "2025-01-29T02:29:40.508Z"
   },
   {
    "duration": 4,
    "start_time": "2025-01-29T02:29:40.514Z"
   },
   {
    "duration": 27,
    "start_time": "2025-01-29T02:29:40.519Z"
   },
   {
    "duration": 556,
    "start_time": "2025-01-29T02:30:22.405Z"
   },
   {
    "duration": 756,
    "start_time": "2025-01-29T02:30:39.923Z"
   },
   {
    "duration": 155,
    "start_time": "2025-01-29T02:30:40.681Z"
   },
   {
    "duration": 11,
    "start_time": "2025-01-29T02:30:40.840Z"
   },
   {
    "duration": 10,
    "start_time": "2025-01-29T02:30:40.852Z"
   },
   {
    "duration": 2,
    "start_time": "2025-01-29T02:30:40.864Z"
   },
   {
    "duration": 10,
    "start_time": "2025-01-29T02:30:40.868Z"
   },
   {
    "duration": 8,
    "start_time": "2025-01-29T02:30:40.881Z"
   },
   {
    "duration": 8,
    "start_time": "2025-01-29T02:30:40.891Z"
   },
   {
    "duration": 9,
    "start_time": "2025-01-29T02:30:40.932Z"
   },
   {
    "duration": 19,
    "start_time": "2025-01-29T02:30:40.943Z"
   },
   {
    "duration": 19,
    "start_time": "2025-01-29T02:30:40.964Z"
   },
   {
    "duration": 10,
    "start_time": "2025-01-29T02:30:40.985Z"
   },
   {
    "duration": 51,
    "start_time": "2025-01-29T02:30:40.996Z"
   },
   {
    "duration": 9,
    "start_time": "2025-01-29T02:30:41.050Z"
   },
   {
    "duration": 30,
    "start_time": "2025-01-29T02:30:41.061Z"
   },
   {
    "duration": 43,
    "start_time": "2025-01-29T02:30:41.093Z"
   },
   {
    "duration": 12,
    "start_time": "2025-01-29T02:30:41.138Z"
   },
   {
    "duration": 7,
    "start_time": "2025-01-29T02:30:41.152Z"
   },
   {
    "duration": 17,
    "start_time": "2025-01-29T02:30:41.161Z"
   },
   {
    "duration": 14,
    "start_time": "2025-01-29T02:30:41.181Z"
   },
   {
    "duration": 43,
    "start_time": "2025-01-29T02:30:41.196Z"
   },
   {
    "duration": 9,
    "start_time": "2025-01-29T02:30:41.240Z"
   },
   {
    "duration": 21,
    "start_time": "2025-01-29T02:30:41.251Z"
   },
   {
    "duration": 14,
    "start_time": "2025-01-29T02:30:41.274Z"
   },
   {
    "duration": 2,
    "start_time": "2025-01-29T02:30:41.290Z"
   },
   {
    "duration": 60,
    "start_time": "2025-01-29T02:30:41.294Z"
   },
   {
    "duration": 22,
    "start_time": "2025-01-29T02:30:41.358Z"
   },
   {
    "duration": 17,
    "start_time": "2025-01-29T02:30:41.382Z"
   },
   {
    "duration": 36,
    "start_time": "2025-01-29T02:30:41.401Z"
   },
   {
    "duration": 31,
    "start_time": "2025-01-29T02:30:41.439Z"
   },
   {
    "duration": 12,
    "start_time": "2025-01-29T02:30:41.473Z"
   },
   {
    "duration": 16,
    "start_time": "2025-01-29T02:30:41.487Z"
   },
   {
    "duration": 34,
    "start_time": "2025-01-29T02:30:41.504Z"
   },
   {
    "duration": 11,
    "start_time": "2025-01-29T02:30:41.539Z"
   },
   {
    "duration": 9,
    "start_time": "2025-01-29T02:30:41.552Z"
   },
   {
    "duration": 8,
    "start_time": "2025-01-29T02:30:41.564Z"
   },
   {
    "duration": 5,
    "start_time": "2025-01-29T02:30:41.574Z"
   },
   {
    "duration": 87,
    "start_time": "2025-01-29T02:30:41.581Z"
   },
   {
    "duration": 12,
    "start_time": "2025-01-29T02:30:41.671Z"
   },
   {
    "duration": 11,
    "start_time": "2025-01-29T02:30:41.685Z"
   },
   {
    "duration": 11,
    "start_time": "2025-01-29T02:30:41.698Z"
   },
   {
    "duration": 14,
    "start_time": "2025-01-29T02:30:41.732Z"
   },
   {
    "duration": 184,
    "start_time": "2025-01-29T02:30:41.748Z"
   },
   {
    "duration": 10,
    "start_time": "2025-01-29T02:30:41.934Z"
   },
   {
    "duration": 182,
    "start_time": "2025-01-29T02:30:41.947Z"
   },
   {
    "duration": 6,
    "start_time": "2025-01-29T02:30:42.131Z"
   },
   {
    "duration": 4,
    "start_time": "2025-01-29T02:30:42.139Z"
   },
   {
    "duration": 116,
    "start_time": "2025-01-29T02:30:42.145Z"
   },
   {
    "duration": 12,
    "start_time": "2025-01-29T02:30:42.263Z"
   },
   {
    "duration": 13,
    "start_time": "2025-01-29T02:30:42.277Z"
   },
   {
    "duration": 216,
    "start_time": "2025-01-29T02:30:42.291Z"
   },
   {
    "duration": 13,
    "start_time": "2025-01-29T02:30:42.509Z"
   },
   {
    "duration": 13,
    "start_time": "2025-01-29T02:30:42.532Z"
   },
   {
    "duration": 175,
    "start_time": "2025-01-29T02:30:42.546Z"
   },
   {
    "duration": 12,
    "start_time": "2025-01-29T02:30:42.730Z"
   },
   {
    "duration": 12,
    "start_time": "2025-01-29T02:30:42.744Z"
   },
   {
    "duration": 167,
    "start_time": "2025-01-29T02:30:42.758Z"
   },
   {
    "duration": 5,
    "start_time": "2025-01-29T02:30:42.931Z"
   },
   {
    "duration": 5,
    "start_time": "2025-01-29T02:30:42.938Z"
   },
   {
    "duration": 17,
    "start_time": "2025-01-29T02:30:42.944Z"
   },
   {
    "duration": 402,
    "start_time": "2025-01-29T02:36:24.284Z"
   },
   {
    "duration": 9,
    "start_time": "2025-01-29T02:37:04.643Z"
   },
   {
    "duration": 18,
    "start_time": "2025-01-29T02:37:11.995Z"
   },
   {
    "duration": 11,
    "start_time": "2025-01-29T02:38:38.677Z"
   },
   {
    "duration": 14,
    "start_time": "2025-01-29T02:39:32.682Z"
   },
   {
    "duration": 16,
    "start_time": "2025-01-29T02:40:42.420Z"
   },
   {
    "duration": 16,
    "start_time": "2025-01-29T02:41:51.013Z"
   },
   {
    "duration": 12,
    "start_time": "2025-01-29T02:43:34.739Z"
   },
   {
    "duration": 16,
    "start_time": "2025-01-29T02:44:35.873Z"
   },
   {
    "duration": 13,
    "start_time": "2025-01-29T02:45:43.795Z"
   },
   {
    "duration": 11,
    "start_time": "2025-01-29T02:45:53.102Z"
   },
   {
    "duration": 11,
    "start_time": "2025-01-29T02:48:49.537Z"
   },
   {
    "duration": 10,
    "start_time": "2025-01-29T02:50:09.440Z"
   },
   {
    "duration": 265,
    "start_time": "2025-01-29T02:50:37.213Z"
   },
   {
    "duration": 4,
    "start_time": "2025-01-29T02:51:03.980Z"
   },
   {
    "duration": 12,
    "start_time": "2025-01-29T02:51:06.846Z"
   },
   {
    "duration": 186,
    "start_time": "2025-01-29T02:53:34.547Z"
   },
   {
    "duration": 23,
    "start_time": "2025-01-29T02:53:49.773Z"
   },
   {
    "duration": 15,
    "start_time": "2025-01-29T03:06:54.666Z"
   },
   {
    "duration": 211,
    "start_time": "2025-01-29T03:07:49.479Z"
   },
   {
    "duration": 54,
    "start_time": "2025-01-29T03:08:17.561Z"
   },
   {
    "duration": 20,
    "start_time": "2025-01-29T03:09:18.817Z"
   },
   {
    "duration": 170,
    "start_time": "2025-01-29T03:09:27.998Z"
   },
   {
    "duration": 5,
    "start_time": "2025-01-29T03:17:28.611Z"
   },
   {
    "duration": 737,
    "start_time": "2025-01-29T03:25:11.929Z"
   },
   {
    "duration": 158,
    "start_time": "2025-01-29T03:25:12.670Z"
   },
   {
    "duration": 9,
    "start_time": "2025-01-29T03:25:12.833Z"
   },
   {
    "duration": 10,
    "start_time": "2025-01-29T03:25:12.844Z"
   },
   {
    "duration": 2,
    "start_time": "2025-01-29T03:25:12.856Z"
   },
   {
    "duration": 10,
    "start_time": "2025-01-29T03:25:12.859Z"
   },
   {
    "duration": 8,
    "start_time": "2025-01-29T03:25:12.871Z"
   },
   {
    "duration": 8,
    "start_time": "2025-01-29T03:25:12.881Z"
   },
   {
    "duration": 44,
    "start_time": "2025-01-29T03:25:12.892Z"
   },
   {
    "duration": 20,
    "start_time": "2025-01-29T03:25:12.938Z"
   },
   {
    "duration": 16,
    "start_time": "2025-01-29T03:25:12.960Z"
   },
   {
    "duration": 10,
    "start_time": "2025-01-29T03:25:12.978Z"
   },
   {
    "duration": 45,
    "start_time": "2025-01-29T03:25:12.990Z"
   },
   {
    "duration": 11,
    "start_time": "2025-01-29T03:25:13.037Z"
   },
   {
    "duration": 31,
    "start_time": "2025-01-29T03:25:13.050Z"
   },
   {
    "duration": 21,
    "start_time": "2025-01-29T03:25:13.083Z"
   },
   {
    "duration": 36,
    "start_time": "2025-01-29T03:25:13.106Z"
   },
   {
    "duration": 8,
    "start_time": "2025-01-29T03:25:13.143Z"
   },
   {
    "duration": 16,
    "start_time": "2025-01-29T03:25:13.152Z"
   },
   {
    "duration": 14,
    "start_time": "2025-01-29T03:25:13.170Z"
   },
   {
    "duration": 17,
    "start_time": "2025-01-29T03:25:13.186Z"
   },
   {
    "duration": 35,
    "start_time": "2025-01-29T03:25:13.205Z"
   },
   {
    "duration": 22,
    "start_time": "2025-01-29T03:25:13.242Z"
   },
   {
    "duration": 13,
    "start_time": "2025-01-29T03:25:13.265Z"
   },
   {
    "duration": 2,
    "start_time": "2025-01-29T03:25:13.280Z"
   },
   {
    "duration": 50,
    "start_time": "2025-01-29T03:25:13.284Z"
   },
   {
    "duration": 21,
    "start_time": "2025-01-29T03:25:13.340Z"
   },
   {
    "duration": 19,
    "start_time": "2025-01-29T03:25:13.362Z"
   },
   {
    "duration": 19,
    "start_time": "2025-01-29T03:25:13.382Z"
   },
   {
    "duration": 56,
    "start_time": "2025-01-29T03:25:13.403Z"
   },
   {
    "duration": 11,
    "start_time": "2025-01-29T03:25:13.461Z"
   },
   {
    "duration": 16,
    "start_time": "2025-01-29T03:25:13.473Z"
   },
   {
    "duration": 11,
    "start_time": "2025-01-29T03:25:13.491Z"
   },
   {
    "duration": 34,
    "start_time": "2025-01-29T03:25:13.504Z"
   },
   {
    "duration": 8,
    "start_time": "2025-01-29T03:25:13.540Z"
   },
   {
    "duration": 7,
    "start_time": "2025-01-29T03:25:13.550Z"
   },
   {
    "duration": 4,
    "start_time": "2025-01-29T03:25:13.559Z"
   },
   {
    "duration": 80,
    "start_time": "2025-01-29T03:25:13.565Z"
   },
   {
    "duration": 12,
    "start_time": "2025-01-29T03:25:13.647Z"
   },
   {
    "duration": 12,
    "start_time": "2025-01-29T03:25:13.660Z"
   },
   {
    "duration": 12,
    "start_time": "2025-01-29T03:25:13.673Z"
   },
   {
    "duration": 12,
    "start_time": "2025-01-29T03:25:13.687Z"
   },
   {
    "duration": 194,
    "start_time": "2025-01-29T03:25:13.701Z"
   },
   {
    "duration": 9,
    "start_time": "2025-01-29T03:25:13.897Z"
   },
   {
    "duration": 180,
    "start_time": "2025-01-29T03:25:13.908Z"
   },
   {
    "duration": 5,
    "start_time": "2025-01-29T03:25:14.090Z"
   },
   {
    "duration": 4,
    "start_time": "2025-01-29T03:25:14.097Z"
   },
   {
    "duration": 118,
    "start_time": "2025-01-29T03:25:14.103Z"
   },
   {
    "duration": 17,
    "start_time": "2025-01-29T03:25:14.223Z"
   },
   {
    "duration": 13,
    "start_time": "2025-01-29T03:25:14.241Z"
   },
   {
    "duration": 210,
    "start_time": "2025-01-29T03:25:14.256Z"
   },
   {
    "duration": 12,
    "start_time": "2025-01-29T03:25:14.468Z"
   },
   {
    "duration": 13,
    "start_time": "2025-01-29T03:25:14.482Z"
   },
   {
    "duration": 175,
    "start_time": "2025-01-29T03:25:14.496Z"
   },
   {
    "duration": 12,
    "start_time": "2025-01-29T03:25:14.673Z"
   },
   {
    "duration": 12,
    "start_time": "2025-01-29T03:25:14.686Z"
   },
   {
    "duration": 171,
    "start_time": "2025-01-29T03:25:14.700Z"
   },
   {
    "duration": 5,
    "start_time": "2025-01-29T03:25:14.873Z"
   },
   {
    "duration": 5,
    "start_time": "2025-01-29T03:25:14.879Z"
   },
   {
    "duration": 11,
    "start_time": "2025-01-29T03:25:14.886Z"
   },
   {
    "duration": 33,
    "start_time": "2025-01-29T03:25:14.899Z"
   },
   {
    "duration": 16,
    "start_time": "2025-01-29T03:25:14.934Z"
   },
   {
    "duration": 183,
    "start_time": "2025-01-29T03:25:14.951Z"
   },
   {
    "duration": 5,
    "start_time": "2025-01-29T03:25:15.135Z"
   },
   {
    "duration": 810,
    "start_time": "2025-01-29T03:46:37.366Z"
   },
   {
    "duration": 754,
    "start_time": "2025-01-29T03:47:05.017Z"
   },
   {
    "duration": 153,
    "start_time": "2025-01-29T03:47:05.774Z"
   },
   {
    "duration": 9,
    "start_time": "2025-01-29T03:47:05.929Z"
   },
   {
    "duration": 10,
    "start_time": "2025-01-29T03:47:05.941Z"
   },
   {
    "duration": 2,
    "start_time": "2025-01-29T03:47:05.952Z"
   },
   {
    "duration": 9,
    "start_time": "2025-01-29T03:47:05.956Z"
   },
   {
    "duration": 8,
    "start_time": "2025-01-29T03:47:05.966Z"
   },
   {
    "duration": 8,
    "start_time": "2025-01-29T03:47:05.976Z"
   },
   {
    "duration": 10,
    "start_time": "2025-01-29T03:47:05.986Z"
   },
   {
    "duration": 19,
    "start_time": "2025-01-29T03:47:06.034Z"
   },
   {
    "duration": 16,
    "start_time": "2025-01-29T03:47:06.054Z"
   },
   {
    "duration": 10,
    "start_time": "2025-01-29T03:47:06.072Z"
   },
   {
    "duration": 16,
    "start_time": "2025-01-29T03:47:06.085Z"
   },
   {
    "duration": 35,
    "start_time": "2025-01-29T03:47:06.102Z"
   },
   {
    "duration": 26,
    "start_time": "2025-01-29T03:47:06.138Z"
   },
   {
    "duration": 29,
    "start_time": "2025-01-29T03:47:06.166Z"
   },
   {
    "duration": 35,
    "start_time": "2025-01-29T03:47:06.197Z"
   },
   {
    "duration": 7,
    "start_time": "2025-01-29T03:47:06.233Z"
   },
   {
    "duration": 17,
    "start_time": "2025-01-29T03:47:06.242Z"
   },
   {
    "duration": 12,
    "start_time": "2025-01-29T03:47:06.261Z"
   },
   {
    "duration": 14,
    "start_time": "2025-01-29T03:47:06.274Z"
   },
   {
    "duration": 9,
    "start_time": "2025-01-29T03:47:06.289Z"
   },
   {
    "duration": 52,
    "start_time": "2025-01-29T03:47:06.299Z"
   },
   {
    "duration": 14,
    "start_time": "2025-01-29T03:47:06.352Z"
   },
   {
    "duration": 2,
    "start_time": "2025-01-29T03:47:06.367Z"
   },
   {
    "duration": 26,
    "start_time": "2025-01-29T03:47:06.371Z"
   },
   {
    "duration": 48,
    "start_time": "2025-01-29T03:47:06.399Z"
   },
   {
    "duration": 17,
    "start_time": "2025-01-29T03:47:06.452Z"
   },
   {
    "duration": 20,
    "start_time": "2025-01-29T03:47:06.470Z"
   },
   {
    "duration": 51,
    "start_time": "2025-01-29T03:47:06.492Z"
   },
   {
    "duration": 15,
    "start_time": "2025-01-29T03:47:06.545Z"
   },
   {
    "duration": 19,
    "start_time": "2025-01-29T03:47:06.562Z"
   },
   {
    "duration": 12,
    "start_time": "2025-01-29T03:47:06.582Z"
   },
   {
    "duration": 39,
    "start_time": "2025-01-29T03:47:06.595Z"
   },
   {
    "duration": 9,
    "start_time": "2025-01-29T03:47:06.636Z"
   },
   {
    "duration": 8,
    "start_time": "2025-01-29T03:47:06.647Z"
   },
   {
    "duration": 5,
    "start_time": "2025-01-29T03:47:06.656Z"
   },
   {
    "duration": 75,
    "start_time": "2025-01-29T03:47:06.663Z"
   },
   {
    "duration": 15,
    "start_time": "2025-01-29T03:47:06.740Z"
   },
   {
    "duration": 10,
    "start_time": "2025-01-29T03:47:06.757Z"
   },
   {
    "duration": 13,
    "start_time": "2025-01-29T03:47:06.769Z"
   },
   {
    "duration": 13,
    "start_time": "2025-01-29T03:47:06.783Z"
   },
   {
    "duration": 194,
    "start_time": "2025-01-29T03:47:06.798Z"
   },
   {
    "duration": 9,
    "start_time": "2025-01-29T03:47:06.994Z"
   },
   {
    "duration": 177,
    "start_time": "2025-01-29T03:47:07.004Z"
   },
   {
    "duration": 4,
    "start_time": "2025-01-29T03:47:07.183Z"
   },
   {
    "duration": 3,
    "start_time": "2025-01-29T03:47:07.189Z"
   },
   {
    "duration": 105,
    "start_time": "2025-01-29T03:47:07.194Z"
   },
   {
    "duration": 12,
    "start_time": "2025-01-29T03:47:07.301Z"
   },
   {
    "duration": 28,
    "start_time": "2025-01-29T03:47:07.314Z"
   },
   {
    "duration": 215,
    "start_time": "2025-01-29T03:47:07.343Z"
   },
   {
    "duration": 14,
    "start_time": "2025-01-29T03:47:07.560Z"
   },
   {
    "duration": 13,
    "start_time": "2025-01-29T03:47:07.577Z"
   },
   {
    "duration": 201,
    "start_time": "2025-01-29T03:47:07.592Z"
   },
   {
    "duration": 12,
    "start_time": "2025-01-29T03:47:07.795Z"
   },
   {
    "duration": 30,
    "start_time": "2025-01-29T03:47:07.808Z"
   },
   {
    "duration": 166,
    "start_time": "2025-01-29T03:47:07.839Z"
   },
   {
    "duration": 5,
    "start_time": "2025-01-29T03:47:08.007Z"
   },
   {
    "duration": 4,
    "start_time": "2025-01-29T03:47:08.014Z"
   },
   {
    "duration": 13,
    "start_time": "2025-01-29T03:47:08.032Z"
   },
   {
    "duration": 12,
    "start_time": "2025-01-29T03:47:08.046Z"
   },
   {
    "duration": 16,
    "start_time": "2025-01-29T03:47:08.059Z"
   },
   {
    "duration": 198,
    "start_time": "2025-01-29T03:47:08.076Z"
   },
   {
    "duration": 5,
    "start_time": "2025-01-29T03:47:08.276Z"
   },
   {
    "duration": 788,
    "start_time": "2025-01-29T03:48:31.029Z"
   },
   {
    "duration": 165,
    "start_time": "2025-01-29T03:48:31.819Z"
   },
   {
    "duration": 10,
    "start_time": "2025-01-29T03:48:31.985Z"
   },
   {
    "duration": 9,
    "start_time": "2025-01-29T03:48:31.998Z"
   },
   {
    "duration": 2,
    "start_time": "2025-01-29T03:48:32.009Z"
   },
   {
    "duration": 21,
    "start_time": "2025-01-29T03:48:32.013Z"
   },
   {
    "duration": 8,
    "start_time": "2025-01-29T03:48:32.036Z"
   },
   {
    "duration": 8,
    "start_time": "2025-01-29T03:48:32.046Z"
   },
   {
    "duration": 10,
    "start_time": "2025-01-29T03:48:32.056Z"
   },
   {
    "duration": 21,
    "start_time": "2025-01-29T03:48:32.068Z"
   },
   {
    "duration": 46,
    "start_time": "2025-01-29T03:48:32.090Z"
   },
   {
    "duration": 10,
    "start_time": "2025-01-29T03:48:32.138Z"
   },
   {
    "duration": 14,
    "start_time": "2025-01-29T03:48:32.150Z"
   },
   {
    "duration": 9,
    "start_time": "2025-01-29T03:48:32.165Z"
   },
   {
    "duration": 55,
    "start_time": "2025-01-29T03:48:32.177Z"
   },
   {
    "duration": 23,
    "start_time": "2025-01-29T03:48:32.234Z"
   },
   {
    "duration": 11,
    "start_time": "2025-01-29T03:48:32.259Z"
   },
   {
    "duration": 6,
    "start_time": "2025-01-29T03:48:32.272Z"
   },
   {
    "duration": 17,
    "start_time": "2025-01-29T03:48:32.280Z"
   },
   {
    "duration": 41,
    "start_time": "2025-01-29T03:48:32.299Z"
   },
   {
    "duration": 13,
    "start_time": "2025-01-29T03:48:32.341Z"
   },
   {
    "duration": 7,
    "start_time": "2025-01-29T03:48:32.355Z"
   },
   {
    "duration": 21,
    "start_time": "2025-01-29T03:48:32.364Z"
   },
   {
    "duration": 13,
    "start_time": "2025-01-29T03:48:32.386Z"
   },
   {
    "duration": 31,
    "start_time": "2025-01-29T03:48:32.401Z"
   },
   {
    "duration": 25,
    "start_time": "2025-01-29T03:48:32.434Z"
   },
   {
    "duration": 24,
    "start_time": "2025-01-29T03:48:32.462Z"
   },
   {
    "duration": 40,
    "start_time": "2025-01-29T03:48:32.493Z"
   },
   {
    "duration": 21,
    "start_time": "2025-01-29T03:48:32.535Z"
   },
   {
    "duration": 33,
    "start_time": "2025-01-29T03:48:32.558Z"
   },
   {
    "duration": 11,
    "start_time": "2025-01-29T03:48:32.593Z"
   },
   {
    "duration": 15,
    "start_time": "2025-01-29T03:48:32.631Z"
   },
   {
    "duration": 11,
    "start_time": "2025-01-29T03:48:32.647Z"
   },
   {
    "duration": 10,
    "start_time": "2025-01-29T03:48:32.660Z"
   },
   {
    "duration": 9,
    "start_time": "2025-01-29T03:48:32.672Z"
   },
   {
    "duration": 8,
    "start_time": "2025-01-29T03:48:32.684Z"
   },
   {
    "duration": 38,
    "start_time": "2025-01-29T03:48:32.693Z"
   },
   {
    "duration": 57,
    "start_time": "2025-01-29T03:48:32.733Z"
   },
   {
    "duration": 12,
    "start_time": "2025-01-29T03:48:32.792Z"
   },
   {
    "duration": 31,
    "start_time": "2025-01-29T03:48:32.807Z"
   },
   {
    "duration": 11,
    "start_time": "2025-01-29T03:48:32.841Z"
   },
   {
    "duration": 12,
    "start_time": "2025-01-29T03:48:32.854Z"
   },
   {
    "duration": 184,
    "start_time": "2025-01-29T03:48:32.868Z"
   },
   {
    "duration": 9,
    "start_time": "2025-01-29T03:48:33.054Z"
   },
   {
    "duration": 184,
    "start_time": "2025-01-29T03:48:33.064Z"
   },
   {
    "duration": 5,
    "start_time": "2025-01-29T03:48:33.249Z"
   },
   {
    "duration": 4,
    "start_time": "2025-01-29T03:48:33.256Z"
   },
   {
    "duration": 108,
    "start_time": "2025-01-29T03:48:33.261Z"
   },
   {
    "duration": 12,
    "start_time": "2025-01-29T03:48:33.371Z"
   },
   {
    "duration": 13,
    "start_time": "2025-01-29T03:48:33.384Z"
   },
   {
    "duration": 235,
    "start_time": "2025-01-29T03:48:33.398Z"
   },
   {
    "duration": 12,
    "start_time": "2025-01-29T03:48:33.635Z"
   },
   {
    "duration": 12,
    "start_time": "2025-01-29T03:48:33.649Z"
   },
   {
    "duration": 198,
    "start_time": "2025-01-29T03:48:33.663Z"
   },
   {
    "duration": 13,
    "start_time": "2025-01-29T03:48:33.862Z"
   },
   {
    "duration": 13,
    "start_time": "2025-01-29T03:48:33.876Z"
   },
   {
    "duration": 179,
    "start_time": "2025-01-29T03:48:33.890Z"
   },
   {
    "duration": 7,
    "start_time": "2025-01-29T03:48:34.072Z"
   },
   {
    "duration": 7,
    "start_time": "2025-01-29T03:48:34.081Z"
   },
   {
    "duration": 16,
    "start_time": "2025-01-29T03:48:34.090Z"
   },
   {
    "duration": 33,
    "start_time": "2025-01-29T03:48:34.108Z"
   },
   {
    "duration": 18,
    "start_time": "2025-01-29T03:48:34.143Z"
   },
   {
    "duration": 196,
    "start_time": "2025-01-29T03:48:34.163Z"
   },
   {
    "duration": 5,
    "start_time": "2025-01-29T03:48:34.361Z"
   },
   {
    "duration": 13,
    "start_time": "2025-01-29T04:23:01.517Z"
   },
   {
    "duration": 6,
    "start_time": "2025-01-29T04:24:56.244Z"
   },
   {
    "duration": 296,
    "start_time": "2025-01-29T04:26:53.476Z"
   },
   {
    "duration": 21,
    "start_time": "2025-01-29T04:27:38.254Z"
   },
   {
    "duration": 12,
    "start_time": "2025-01-29T04:33:39.986Z"
   },
   {
    "duration": 12,
    "start_time": "2025-01-29T04:33:56.222Z"
   },
   {
    "duration": 24,
    "start_time": "2025-01-29T04:34:12.563Z"
   },
   {
    "duration": 17,
    "start_time": "2025-01-29T04:34:37.451Z"
   },
   {
    "duration": 13,
    "start_time": "2025-01-29T04:35:12.270Z"
   },
   {
    "duration": 13,
    "start_time": "2025-01-29T04:35:18.554Z"
   },
   {
    "duration": 439,
    "start_time": "2025-01-29T04:35:52.005Z"
   },
   {
    "duration": 12,
    "start_time": "2025-01-29T04:36:05.750Z"
   },
   {
    "duration": 13,
    "start_time": "2025-01-29T04:40:58.231Z"
   },
   {
    "duration": 9,
    "start_time": "2025-01-29T04:41:11.797Z"
   },
   {
    "duration": 4,
    "start_time": "2025-01-29T04:43:14.656Z"
   },
   {
    "duration": 4,
    "start_time": "2025-01-29T04:43:35.194Z"
   },
   {
    "duration": 11,
    "start_time": "2025-01-29T04:43:45.259Z"
   },
   {
    "duration": 789,
    "start_time": "2025-01-29T04:44:31.987Z"
   },
   {
    "duration": 150,
    "start_time": "2025-01-29T04:44:32.779Z"
   },
   {
    "duration": 10,
    "start_time": "2025-01-29T04:44:32.931Z"
   },
   {
    "duration": 10,
    "start_time": "2025-01-29T04:44:32.944Z"
   },
   {
    "duration": 2,
    "start_time": "2025-01-29T04:44:32.956Z"
   },
   {
    "duration": 10,
    "start_time": "2025-01-29T04:44:32.959Z"
   },
   {
    "duration": 8,
    "start_time": "2025-01-29T04:44:32.970Z"
   },
   {
    "duration": 7,
    "start_time": "2025-01-29T04:44:32.980Z"
   },
   {
    "duration": 42,
    "start_time": "2025-01-29T04:44:32.989Z"
   },
   {
    "duration": 3,
    "start_time": "2025-01-29T04:44:33.035Z"
   },
   {
    "duration": 10,
    "start_time": "2025-01-29T04:44:33.040Z"
   },
   {
    "duration": 10,
    "start_time": "2025-01-29T04:44:33.051Z"
   },
   {
    "duration": 12,
    "start_time": "2025-01-29T04:44:33.063Z"
   },
   {
    "duration": 9,
    "start_time": "2025-01-29T04:44:33.076Z"
   },
   {
    "duration": 48,
    "start_time": "2025-01-29T04:44:33.087Z"
   },
   {
    "duration": 10,
    "start_time": "2025-01-29T04:44:33.138Z"
   },
   {
    "duration": 14,
    "start_time": "2025-01-29T04:44:33.150Z"
   },
   {
    "duration": 9,
    "start_time": "2025-01-29T04:44:33.165Z"
   },
   {
    "duration": 26,
    "start_time": "2025-01-29T04:44:33.176Z"
   },
   {
    "duration": 45,
    "start_time": "2025-01-29T04:44:33.204Z"
   },
   {
    "duration": 12,
    "start_time": "2025-01-29T04:44:33.250Z"
   },
   {
    "duration": 6,
    "start_time": "2025-01-29T04:44:33.263Z"
   },
   {
    "duration": 18,
    "start_time": "2025-01-29T04:44:33.271Z"
   },
   {
    "duration": 11,
    "start_time": "2025-01-29T04:44:33.290Z"
   },
   {
    "duration": 13,
    "start_time": "2025-01-29T04:44:33.331Z"
   },
   {
    "duration": 7,
    "start_time": "2025-01-29T04:44:33.346Z"
   },
   {
    "duration": 21,
    "start_time": "2025-01-29T04:44:33.354Z"
   },
   {
    "duration": 13,
    "start_time": "2025-01-29T04:44:33.381Z"
   },
   {
    "duration": 2,
    "start_time": "2025-01-29T04:44:33.396Z"
   },
   {
    "duration": 52,
    "start_time": "2025-01-29T04:44:33.400Z"
   },
   {
    "duration": 20,
    "start_time": "2025-01-29T04:44:33.455Z"
   },
   {
    "duration": 17,
    "start_time": "2025-01-29T04:44:33.476Z"
   },
   {
    "duration": 39,
    "start_time": "2025-01-29T04:44:33.495Z"
   },
   {
    "duration": 32,
    "start_time": "2025-01-29T04:44:33.536Z"
   },
   {
    "duration": 12,
    "start_time": "2025-01-29T04:44:33.569Z"
   },
   {
    "duration": 15,
    "start_time": "2025-01-29T04:44:33.583Z"
   },
   {
    "duration": 38,
    "start_time": "2025-01-29T04:44:33.599Z"
   },
   {
    "duration": 10,
    "start_time": "2025-01-29T04:44:33.639Z"
   },
   {
    "duration": 8,
    "start_time": "2025-01-29T04:44:33.653Z"
   },
   {
    "duration": 8,
    "start_time": "2025-01-29T04:44:33.663Z"
   },
   {
    "duration": 5,
    "start_time": "2025-01-29T04:44:33.673Z"
   },
   {
    "duration": 83,
    "start_time": "2025-01-29T04:44:33.680Z"
   },
   {
    "duration": 12,
    "start_time": "2025-01-29T04:44:33.765Z"
   },
   {
    "duration": 12,
    "start_time": "2025-01-29T04:44:33.778Z"
   },
   {
    "duration": 10,
    "start_time": "2025-01-29T04:44:33.792Z"
   },
   {
    "duration": 31,
    "start_time": "2025-01-29T04:44:33.804Z"
   },
   {
    "duration": 13,
    "start_time": "2025-01-29T04:44:33.837Z"
   },
   {
    "duration": 178,
    "start_time": "2025-01-29T04:44:33.852Z"
   },
   {
    "duration": 9,
    "start_time": "2025-01-29T04:44:34.031Z"
   },
   {
    "duration": 180,
    "start_time": "2025-01-29T04:44:34.041Z"
   },
   {
    "duration": 9,
    "start_time": "2025-01-29T04:44:34.223Z"
   },
   {
    "duration": 4,
    "start_time": "2025-01-29T04:44:34.234Z"
   },
   {
    "duration": 104,
    "start_time": "2025-01-29T04:44:34.239Z"
   },
   {
    "duration": 12,
    "start_time": "2025-01-29T04:44:34.345Z"
   },
   {
    "duration": 13,
    "start_time": "2025-01-29T04:44:34.359Z"
   },
   {
    "duration": 223,
    "start_time": "2025-01-29T04:44:34.373Z"
   },
   {
    "duration": 11,
    "start_time": "2025-01-29T04:44:34.598Z"
   },
   {
    "duration": 29,
    "start_time": "2025-01-29T04:44:34.610Z"
   },
   {
    "duration": 162,
    "start_time": "2025-01-29T04:44:34.640Z"
   },
   {
    "duration": 12,
    "start_time": "2025-01-29T04:44:34.804Z"
   },
   {
    "duration": 23,
    "start_time": "2025-01-29T04:44:34.818Z"
   },
   {
    "duration": 175,
    "start_time": "2025-01-29T04:44:34.843Z"
   },
   {
    "duration": 12,
    "start_time": "2025-01-29T04:44:35.020Z"
   },
   {
    "duration": 4,
    "start_time": "2025-01-29T04:44:35.033Z"
   },
   {
    "duration": 11,
    "start_time": "2025-01-29T04:44:35.039Z"
   },
   {
    "duration": 12,
    "start_time": "2025-01-29T04:44:35.052Z"
   },
   {
    "duration": 15,
    "start_time": "2025-01-29T04:44:35.065Z"
   },
   {
    "duration": 198,
    "start_time": "2025-01-29T04:44:35.081Z"
   },
   {
    "duration": 5,
    "start_time": "2025-01-29T04:44:35.281Z"
   },
   {
    "duration": 766,
    "start_time": "2025-01-29T08:31:09.128Z"
   },
   {
    "duration": 213,
    "start_time": "2025-01-29T08:31:09.897Z"
   },
   {
    "duration": 10,
    "start_time": "2025-01-29T08:31:10.112Z"
   },
   {
    "duration": 11,
    "start_time": "2025-01-29T08:31:10.125Z"
   },
   {
    "duration": 2,
    "start_time": "2025-01-29T08:31:10.137Z"
   },
   {
    "duration": 10,
    "start_time": "2025-01-29T08:31:10.141Z"
   },
   {
    "duration": 25,
    "start_time": "2025-01-29T08:31:10.152Z"
   },
   {
    "duration": 10,
    "start_time": "2025-01-29T08:31:10.178Z"
   },
   {
    "duration": 4,
    "start_time": "2025-01-29T08:31:10.190Z"
   },
   {
    "duration": 4,
    "start_time": "2025-01-29T08:31:10.196Z"
   },
   {
    "duration": 8,
    "start_time": "2025-01-29T08:31:10.202Z"
   },
   {
    "duration": 10,
    "start_time": "2025-01-29T08:31:10.212Z"
   },
   {
    "duration": 54,
    "start_time": "2025-01-29T08:31:10.224Z"
   },
   {
    "duration": 9,
    "start_time": "2025-01-29T08:31:10.279Z"
   },
   {
    "duration": 17,
    "start_time": "2025-01-29T08:31:10.290Z"
   },
   {
    "duration": 10,
    "start_time": "2025-01-29T08:31:10.309Z"
   },
   {
    "duration": 16,
    "start_time": "2025-01-29T08:31:10.321Z"
   },
   {
    "duration": 40,
    "start_time": "2025-01-29T08:31:10.339Z"
   },
   {
    "duration": 26,
    "start_time": "2025-01-29T08:31:10.381Z"
   },
   {
    "duration": 20,
    "start_time": "2025-01-29T08:31:10.409Z"
   },
   {
    "duration": 39,
    "start_time": "2025-01-29T08:31:10.431Z"
   },
   {
    "duration": 8,
    "start_time": "2025-01-29T08:31:10.472Z"
   },
   {
    "duration": 17,
    "start_time": "2025-01-29T08:31:10.482Z"
   },
   {
    "duration": 13,
    "start_time": "2025-01-29T08:31:10.500Z"
   },
   {
    "duration": 14,
    "start_time": "2025-01-29T08:31:10.515Z"
   },
   {
    "duration": 40,
    "start_time": "2025-01-29T08:31:10.530Z"
   },
   {
    "duration": 21,
    "start_time": "2025-01-29T08:31:10.572Z"
   },
   {
    "duration": 13,
    "start_time": "2025-01-29T08:31:10.598Z"
   },
   {
    "duration": 3,
    "start_time": "2025-01-29T08:31:10.612Z"
   },
   {
    "duration": 26,
    "start_time": "2025-01-29T08:31:10.616Z"
   },
   {
    "duration": 46,
    "start_time": "2025-01-29T08:31:10.644Z"
   },
   {
    "duration": 18,
    "start_time": "2025-01-29T08:31:10.692Z"
   },
   {
    "duration": 21,
    "start_time": "2025-01-29T08:31:10.711Z"
   },
   {
    "duration": 61,
    "start_time": "2025-01-29T08:31:10.734Z"
   },
   {
    "duration": 11,
    "start_time": "2025-01-29T08:31:10.798Z"
   },
   {
    "duration": 16,
    "start_time": "2025-01-29T08:31:10.811Z"
   },
   {
    "duration": 11,
    "start_time": "2025-01-29T08:31:10.829Z"
   },
   {
    "duration": 37,
    "start_time": "2025-01-29T08:31:10.842Z"
   },
   {
    "duration": 9,
    "start_time": "2025-01-29T08:31:10.881Z"
   },
   {
    "duration": 9,
    "start_time": "2025-01-29T08:31:10.892Z"
   },
   {
    "duration": 5,
    "start_time": "2025-01-29T08:31:10.902Z"
   },
   {
    "duration": 79,
    "start_time": "2025-01-29T08:31:10.909Z"
   },
   {
    "duration": 11,
    "start_time": "2025-01-29T08:31:10.990Z"
   },
   {
    "duration": 12,
    "start_time": "2025-01-29T08:31:11.002Z"
   },
   {
    "duration": 12,
    "start_time": "2025-01-29T08:31:11.015Z"
   },
   {
    "duration": 41,
    "start_time": "2025-01-29T08:31:11.029Z"
   },
   {
    "duration": 14,
    "start_time": "2025-01-29T08:31:11.072Z"
   },
   {
    "duration": 183,
    "start_time": "2025-01-29T08:31:11.088Z"
   },
   {
    "duration": 9,
    "start_time": "2025-01-29T08:31:11.274Z"
   },
   {
    "duration": 186,
    "start_time": "2025-01-29T08:31:11.285Z"
   },
   {
    "duration": 4,
    "start_time": "2025-01-29T08:31:11.473Z"
   },
   {
    "duration": 5,
    "start_time": "2025-01-29T08:31:11.478Z"
   },
   {
    "duration": 109,
    "start_time": "2025-01-29T08:31:11.485Z"
   },
   {
    "duration": 13,
    "start_time": "2025-01-29T08:31:11.596Z"
   },
   {
    "duration": 13,
    "start_time": "2025-01-29T08:31:11.610Z"
   },
   {
    "duration": 228,
    "start_time": "2025-01-29T08:31:11.624Z"
   },
   {
    "duration": 17,
    "start_time": "2025-01-29T08:31:11.854Z"
   },
   {
    "duration": 12,
    "start_time": "2025-01-29T08:31:11.873Z"
   },
   {
    "duration": 179,
    "start_time": "2025-01-29T08:31:11.887Z"
   },
   {
    "duration": 13,
    "start_time": "2025-01-29T08:31:12.067Z"
   },
   {
    "duration": 13,
    "start_time": "2025-01-29T08:31:12.082Z"
   },
   {
    "duration": 182,
    "start_time": "2025-01-29T08:31:12.097Z"
   },
   {
    "duration": 4,
    "start_time": "2025-01-29T08:31:12.281Z"
   },
   {
    "duration": 4,
    "start_time": "2025-01-29T08:31:12.287Z"
   },
   {
    "duration": 13,
    "start_time": "2025-01-29T08:31:12.293Z"
   },
   {
    "duration": 12,
    "start_time": "2025-01-29T08:31:12.307Z"
   },
   {
    "duration": 16,
    "start_time": "2025-01-29T08:31:12.321Z"
   },
   {
    "duration": 187,
    "start_time": "2025-01-29T08:31:12.371Z"
   },
   {
    "duration": 10,
    "start_time": "2025-01-29T08:31:12.560Z"
   },
   {
    "duration": 16,
    "start_time": "2025-01-29T08:36:33.120Z"
   },
   {
    "duration": 16,
    "start_time": "2025-01-29T08:36:52.454Z"
   },
   {
    "duration": 14,
    "start_time": "2025-01-29T08:38:20.338Z"
   },
   {
    "duration": 140,
    "start_time": "2025-01-29T08:39:00.650Z"
   },
   {
    "duration": 163,
    "start_time": "2025-01-29T08:39:07.053Z"
   },
   {
    "duration": 5,
    "start_time": "2025-01-29T08:40:42.683Z"
   },
   {
    "duration": 4,
    "start_time": "2025-01-29T08:41:00.755Z"
   },
   {
    "duration": 158,
    "start_time": "2025-01-29T14:36:06.037Z"
   },
   {
    "duration": 2567,
    "start_time": "2025-01-29T14:36:20.572Z"
   },
   {
    "duration": 208,
    "start_time": "2025-01-29T14:36:23.143Z"
   },
   {
    "duration": 11,
    "start_time": "2025-01-29T14:36:23.353Z"
   },
   {
    "duration": 10,
    "start_time": "2025-01-29T14:36:23.367Z"
   },
   {
    "duration": 2,
    "start_time": "2025-01-29T14:36:23.378Z"
   },
   {
    "duration": 9,
    "start_time": "2025-01-29T14:36:23.382Z"
   },
   {
    "duration": 9,
    "start_time": "2025-01-29T14:36:23.392Z"
   },
   {
    "duration": 8,
    "start_time": "2025-01-29T14:36:23.404Z"
   },
   {
    "duration": 4,
    "start_time": "2025-01-29T14:36:23.443Z"
   },
   {
    "duration": 3,
    "start_time": "2025-01-29T14:36:23.451Z"
   },
   {
    "duration": 9,
    "start_time": "2025-01-29T14:36:23.456Z"
   },
   {
    "duration": 10,
    "start_time": "2025-01-29T14:36:23.466Z"
   },
   {
    "duration": 11,
    "start_time": "2025-01-29T14:36:23.477Z"
   },
   {
    "duration": 9,
    "start_time": "2025-01-29T14:36:23.490Z"
   },
   {
    "duration": 53,
    "start_time": "2025-01-29T14:36:23.502Z"
   },
   {
    "duration": 10,
    "start_time": "2025-01-29T14:36:23.557Z"
   },
   {
    "duration": 15,
    "start_time": "2025-01-29T14:36:23.568Z"
   },
   {
    "duration": 9,
    "start_time": "2025-01-29T14:36:23.584Z"
   },
   {
    "duration": 53,
    "start_time": "2025-01-29T14:36:23.595Z"
   },
   {
    "duration": 20,
    "start_time": "2025-01-29T14:36:23.650Z"
   },
   {
    "duration": 11,
    "start_time": "2025-01-29T14:36:23.672Z"
   },
   {
    "duration": 7,
    "start_time": "2025-01-29T14:36:23.685Z"
   },
   {
    "duration": 16,
    "start_time": "2025-01-29T14:36:23.693Z"
   },
   {
    "duration": 39,
    "start_time": "2025-01-29T14:36:23.711Z"
   },
   {
    "duration": 16,
    "start_time": "2025-01-29T14:36:23.752Z"
   },
   {
    "duration": 8,
    "start_time": "2025-01-29T14:36:23.769Z"
   },
   {
    "duration": 20,
    "start_time": "2025-01-29T14:36:23.778Z"
   },
   {
    "duration": 41,
    "start_time": "2025-01-29T14:36:23.803Z"
   },
   {
    "duration": 3,
    "start_time": "2025-01-29T14:36:23.846Z"
   },
   {
    "duration": 27,
    "start_time": "2025-01-29T14:36:23.851Z"
   },
   {
    "duration": 22,
    "start_time": "2025-01-29T14:36:23.879Z"
   },
   {
    "duration": 606,
    "start_time": "2025-01-29T14:36:23.904Z"
   },
   {
    "duration": 0,
    "start_time": "2025-01-29T14:36:24.512Z"
   },
   {
    "duration": 0,
    "start_time": "2025-01-29T14:36:24.514Z"
   },
   {
    "duration": 0,
    "start_time": "2025-01-29T14:36:24.515Z"
   },
   {
    "duration": 0,
    "start_time": "2025-01-29T14:36:24.517Z"
   },
   {
    "duration": 0,
    "start_time": "2025-01-29T14:36:24.518Z"
   },
   {
    "duration": 0,
    "start_time": "2025-01-29T14:36:24.520Z"
   },
   {
    "duration": 0,
    "start_time": "2025-01-29T14:36:24.521Z"
   },
   {
    "duration": 0,
    "start_time": "2025-01-29T14:36:24.523Z"
   },
   {
    "duration": 0,
    "start_time": "2025-01-29T14:36:24.543Z"
   },
   {
    "duration": 0,
    "start_time": "2025-01-29T14:36:24.544Z"
   },
   {
    "duration": 0,
    "start_time": "2025-01-29T14:36:24.545Z"
   },
   {
    "duration": 0,
    "start_time": "2025-01-29T14:36:24.546Z"
   },
   {
    "duration": 0,
    "start_time": "2025-01-29T14:36:24.547Z"
   },
   {
    "duration": 0,
    "start_time": "2025-01-29T14:36:24.549Z"
   },
   {
    "duration": 0,
    "start_time": "2025-01-29T14:36:24.550Z"
   },
   {
    "duration": 0,
    "start_time": "2025-01-29T14:36:24.551Z"
   },
   {
    "duration": 0,
    "start_time": "2025-01-29T14:36:24.552Z"
   },
   {
    "duration": 0,
    "start_time": "2025-01-29T14:36:24.553Z"
   },
   {
    "duration": 0,
    "start_time": "2025-01-29T14:36:24.554Z"
   },
   {
    "duration": 0,
    "start_time": "2025-01-29T14:36:24.555Z"
   },
   {
    "duration": 0,
    "start_time": "2025-01-29T14:36:24.556Z"
   },
   {
    "duration": 0,
    "start_time": "2025-01-29T14:36:24.558Z"
   },
   {
    "duration": 0,
    "start_time": "2025-01-29T14:36:24.559Z"
   },
   {
    "duration": 0,
    "start_time": "2025-01-29T14:36:24.560Z"
   },
   {
    "duration": 0,
    "start_time": "2025-01-29T14:36:24.561Z"
   },
   {
    "duration": 0,
    "start_time": "2025-01-29T14:36:24.563Z"
   },
   {
    "duration": 0,
    "start_time": "2025-01-29T14:36:24.564Z"
   },
   {
    "duration": 0,
    "start_time": "2025-01-29T14:36:24.566Z"
   },
   {
    "duration": 0,
    "start_time": "2025-01-29T14:36:24.568Z"
   },
   {
    "duration": 0,
    "start_time": "2025-01-29T14:36:24.570Z"
   },
   {
    "duration": 0,
    "start_time": "2025-01-29T14:36:24.574Z"
   },
   {
    "duration": 0,
    "start_time": "2025-01-29T14:36:24.576Z"
   },
   {
    "duration": 0,
    "start_time": "2025-01-29T14:36:24.577Z"
   },
   {
    "duration": 0,
    "start_time": "2025-01-29T14:36:24.578Z"
   },
   {
    "duration": 0,
    "start_time": "2025-01-29T14:36:24.579Z"
   },
   {
    "duration": 0,
    "start_time": "2025-01-29T14:36:24.580Z"
   },
   {
    "duration": 0,
    "start_time": "2025-01-29T14:36:24.581Z"
   },
   {
    "duration": 0,
    "start_time": "2025-01-29T14:36:24.583Z"
   },
   {
    "duration": 24,
    "start_time": "2025-01-29T14:36:46.860Z"
   },
   {
    "duration": 15,
    "start_time": "2025-01-29T14:39:20.946Z"
   },
   {
    "duration": 772,
    "start_time": "2025-01-29T14:39:31.108Z"
   },
   {
    "duration": 158,
    "start_time": "2025-01-29T14:39:31.883Z"
   },
   {
    "duration": 9,
    "start_time": "2025-01-29T14:39:32.045Z"
   },
   {
    "duration": 11,
    "start_time": "2025-01-29T14:39:32.055Z"
   },
   {
    "duration": 2,
    "start_time": "2025-01-29T14:39:32.068Z"
   },
   {
    "duration": 9,
    "start_time": "2025-01-29T14:39:32.072Z"
   },
   {
    "duration": 7,
    "start_time": "2025-01-29T14:39:32.083Z"
   },
   {
    "duration": 8,
    "start_time": "2025-01-29T14:39:32.092Z"
   },
   {
    "duration": 3,
    "start_time": "2025-01-29T14:39:32.103Z"
   },
   {
    "duration": 4,
    "start_time": "2025-01-29T14:39:32.143Z"
   },
   {
    "duration": 10,
    "start_time": "2025-01-29T14:39:32.148Z"
   },
   {
    "duration": 10,
    "start_time": "2025-01-29T14:39:32.160Z"
   },
   {
    "duration": 11,
    "start_time": "2025-01-29T14:39:32.172Z"
   },
   {
    "duration": 8,
    "start_time": "2025-01-29T14:39:32.185Z"
   },
   {
    "duration": 54,
    "start_time": "2025-01-29T14:39:32.195Z"
   },
   {
    "duration": 10,
    "start_time": "2025-01-29T14:39:32.251Z"
   },
   {
    "duration": 15,
    "start_time": "2025-01-29T14:39:32.263Z"
   },
   {
    "duration": 10,
    "start_time": "2025-01-29T14:39:32.279Z"
   },
   {
    "duration": 25,
    "start_time": "2025-01-29T14:39:32.291Z"
   },
   {
    "duration": 21,
    "start_time": "2025-01-29T14:39:32.343Z"
   },
   {
    "duration": 11,
    "start_time": "2025-01-29T14:39:32.366Z"
   },
   {
    "duration": 7,
    "start_time": "2025-01-29T14:39:32.378Z"
   },
   {
    "duration": 18,
    "start_time": "2025-01-29T14:39:32.386Z"
   },
   {
    "duration": 41,
    "start_time": "2025-01-29T14:39:32.406Z"
   },
   {
    "duration": 16,
    "start_time": "2025-01-29T14:39:32.449Z"
   },
   {
    "duration": 8,
    "start_time": "2025-01-29T14:39:32.467Z"
   },
   {
    "duration": 20,
    "start_time": "2025-01-29T14:39:32.480Z"
   },
   {
    "duration": 14,
    "start_time": "2025-01-29T14:39:32.502Z"
   },
   {
    "duration": 27,
    "start_time": "2025-01-29T14:39:32.517Z"
   },
   {
    "duration": 26,
    "start_time": "2025-01-29T14:39:32.546Z"
   },
   {
    "duration": 20,
    "start_time": "2025-01-29T14:39:32.575Z"
   },
   {
    "duration": 47,
    "start_time": "2025-01-29T14:39:32.597Z"
   },
   {
    "duration": 16,
    "start_time": "2025-01-29T14:39:32.646Z"
   },
   {
    "duration": 22,
    "start_time": "2025-01-29T14:39:32.663Z"
   },
   {
    "duration": 32,
    "start_time": "2025-01-29T14:39:32.689Z"
   },
   {
    "duration": 11,
    "start_time": "2025-01-29T14:39:32.743Z"
   },
   {
    "duration": 15,
    "start_time": "2025-01-29T14:39:32.755Z"
   },
   {
    "duration": 10,
    "start_time": "2025-01-29T14:39:32.772Z"
   },
   {
    "duration": 10,
    "start_time": "2025-01-29T14:39:32.784Z"
   },
   {
    "duration": 9,
    "start_time": "2025-01-29T14:39:32.796Z"
   },
   {
    "duration": 40,
    "start_time": "2025-01-29T14:39:32.807Z"
   },
   {
    "duration": 5,
    "start_time": "2025-01-29T14:39:32.849Z"
   },
   {
    "duration": 59,
    "start_time": "2025-01-29T14:39:32.856Z"
   },
   {
    "duration": 34,
    "start_time": "2025-01-29T14:39:32.917Z"
   },
   {
    "duration": 17,
    "start_time": "2025-01-29T14:39:32.952Z"
   },
   {
    "duration": 13,
    "start_time": "2025-01-29T14:39:32.971Z"
   },
   {
    "duration": 8,
    "start_time": "2025-01-29T14:39:32.986Z"
   },
   {
    "duration": 11,
    "start_time": "2025-01-29T14:39:32.995Z"
   },
   {
    "duration": 44,
    "start_time": "2025-01-29T14:39:33.008Z"
   },
   {
    "duration": 173,
    "start_time": "2025-01-29T14:39:33.054Z"
   },
   {
    "duration": 18,
    "start_time": "2025-01-29T14:39:33.229Z"
   },
   {
    "duration": 181,
    "start_time": "2025-01-29T14:39:33.248Z"
   },
   {
    "duration": 4,
    "start_time": "2025-01-29T14:39:33.431Z"
   },
   {
    "duration": 8,
    "start_time": "2025-01-29T14:39:33.436Z"
   },
   {
    "duration": 102,
    "start_time": "2025-01-29T14:39:33.446Z"
   },
   {
    "duration": 13,
    "start_time": "2025-01-29T14:39:33.550Z"
   },
   {
    "duration": 13,
    "start_time": "2025-01-29T14:39:33.564Z"
   },
   {
    "duration": 214,
    "start_time": "2025-01-29T14:39:33.579Z"
   },
   {
    "duration": 12,
    "start_time": "2025-01-29T14:39:33.795Z"
   },
   {
    "duration": 13,
    "start_time": "2025-01-29T14:39:33.809Z"
   },
   {
    "duration": 193,
    "start_time": "2025-01-29T14:39:33.824Z"
   },
   {
    "duration": 24,
    "start_time": "2025-01-29T14:39:34.019Z"
   },
   {
    "duration": 13,
    "start_time": "2025-01-29T14:39:34.044Z"
   },
   {
    "duration": 168,
    "start_time": "2025-01-29T14:39:34.059Z"
   },
   {
    "duration": 5,
    "start_time": "2025-01-29T14:39:34.229Z"
   },
   {
    "duration": 12,
    "start_time": "2025-01-29T14:39:34.235Z"
   },
   {
    "duration": 12,
    "start_time": "2025-01-29T14:39:34.249Z"
   },
   {
    "duration": 12,
    "start_time": "2025-01-29T14:39:34.263Z"
   },
   {
    "duration": 17,
    "start_time": "2025-01-29T14:39:34.277Z"
   },
   {
    "duration": 201,
    "start_time": "2025-01-29T14:39:34.296Z"
   },
   {
    "duration": 5,
    "start_time": "2025-01-29T14:39:34.498Z"
   },
   {
    "duration": 4,
    "start_time": "2025-01-29T14:42:17.884Z"
   },
   {
    "duration": 11,
    "start_time": "2025-01-29T14:42:37.839Z"
   },
   {
    "duration": 775,
    "start_time": "2025-01-29T14:43:16.802Z"
   },
   {
    "duration": 159,
    "start_time": "2025-01-29T14:43:17.580Z"
   },
   {
    "duration": 10,
    "start_time": "2025-01-29T14:43:17.740Z"
   },
   {
    "duration": 9,
    "start_time": "2025-01-29T14:43:17.752Z"
   },
   {
    "duration": 2,
    "start_time": "2025-01-29T14:43:17.764Z"
   },
   {
    "duration": 10,
    "start_time": "2025-01-29T14:43:17.767Z"
   },
   {
    "duration": 9,
    "start_time": "2025-01-29T14:43:17.780Z"
   },
   {
    "duration": 8,
    "start_time": "2025-01-29T14:43:17.791Z"
   },
   {
    "duration": 43,
    "start_time": "2025-01-29T14:43:17.800Z"
   },
   {
    "duration": 5,
    "start_time": "2025-01-29T14:43:17.845Z"
   },
   {
    "duration": 10,
    "start_time": "2025-01-29T14:43:17.851Z"
   },
   {
    "duration": 11,
    "start_time": "2025-01-29T14:43:17.862Z"
   },
   {
    "duration": 12,
    "start_time": "2025-01-29T14:43:17.875Z"
   },
   {
    "duration": 8,
    "start_time": "2025-01-29T14:43:17.891Z"
   },
   {
    "duration": 48,
    "start_time": "2025-01-29T14:43:17.901Z"
   },
   {
    "duration": 9,
    "start_time": "2025-01-29T14:43:17.950Z"
   },
   {
    "duration": 15,
    "start_time": "2025-01-29T14:43:17.961Z"
   },
   {
    "duration": 8,
    "start_time": "2025-01-29T14:43:17.977Z"
   },
   {
    "duration": 26,
    "start_time": "2025-01-29T14:43:17.987Z"
   },
   {
    "duration": 22,
    "start_time": "2025-01-29T14:43:18.043Z"
   },
   {
    "duration": 11,
    "start_time": "2025-01-29T14:43:18.067Z"
   },
   {
    "duration": 7,
    "start_time": "2025-01-29T14:43:18.079Z"
   },
   {
    "duration": 19,
    "start_time": "2025-01-29T14:43:18.088Z"
   },
   {
    "duration": 41,
    "start_time": "2025-01-29T14:43:18.108Z"
   },
   {
    "duration": 14,
    "start_time": "2025-01-29T14:43:18.151Z"
   },
   {
    "duration": 8,
    "start_time": "2025-01-29T14:43:18.167Z"
   },
   {
    "duration": 22,
    "start_time": "2025-01-29T14:43:18.177Z"
   },
   {
    "duration": 14,
    "start_time": "2025-01-29T14:43:18.201Z"
   },
   {
    "duration": 3,
    "start_time": "2025-01-29T14:43:18.242Z"
   },
   {
    "duration": 27,
    "start_time": "2025-01-29T14:43:18.246Z"
   },
   {
    "duration": 19,
    "start_time": "2025-01-29T14:43:18.275Z"
   },
   {
    "duration": 21,
    "start_time": "2025-01-29T14:43:18.296Z"
   },
   {
    "duration": 38,
    "start_time": "2025-01-29T14:43:18.319Z"
   },
   {
    "duration": 19,
    "start_time": "2025-01-29T14:43:18.359Z"
   },
   {
    "duration": 33,
    "start_time": "2025-01-29T14:43:18.380Z"
   },
   {
    "duration": 35,
    "start_time": "2025-01-29T14:43:18.416Z"
   },
   {
    "duration": 15,
    "start_time": "2025-01-29T14:43:18.453Z"
   },
   {
    "duration": 11,
    "start_time": "2025-01-29T14:43:18.469Z"
   },
   {
    "duration": 12,
    "start_time": "2025-01-29T14:43:18.481Z"
   },
   {
    "duration": 9,
    "start_time": "2025-01-29T14:43:18.495Z"
   },
   {
    "duration": 40,
    "start_time": "2025-01-29T14:43:18.509Z"
   },
   {
    "duration": 5,
    "start_time": "2025-01-29T14:43:18.551Z"
   },
   {
    "duration": 57,
    "start_time": "2025-01-29T14:43:18.557Z"
   },
   {
    "duration": 33,
    "start_time": "2025-01-29T14:43:18.616Z"
   },
   {
    "duration": 12,
    "start_time": "2025-01-29T14:43:18.651Z"
   },
   {
    "duration": 11,
    "start_time": "2025-01-29T14:43:18.665Z"
   },
   {
    "duration": 9,
    "start_time": "2025-01-29T14:43:18.678Z"
   },
   {
    "duration": 9,
    "start_time": "2025-01-29T14:43:18.689Z"
   },
   {
    "duration": 11,
    "start_time": "2025-01-29T14:43:18.699Z"
   },
   {
    "duration": 13,
    "start_time": "2025-01-29T14:43:18.743Z"
   },
   {
    "duration": 171,
    "start_time": "2025-01-29T14:43:18.758Z"
   },
   {
    "duration": 17,
    "start_time": "2025-01-29T14:43:18.930Z"
   },
   {
    "duration": 170,
    "start_time": "2025-01-29T14:43:18.949Z"
   },
   {
    "duration": 6,
    "start_time": "2025-01-29T14:43:19.121Z"
   },
   {
    "duration": 4,
    "start_time": "2025-01-29T14:43:19.142Z"
   },
   {
    "duration": 99,
    "start_time": "2025-01-29T14:43:19.147Z"
   },
   {
    "duration": 12,
    "start_time": "2025-01-29T14:43:19.249Z"
   },
   {
    "duration": 16,
    "start_time": "2025-01-29T14:43:19.263Z"
   },
   {
    "duration": 223,
    "start_time": "2025-01-29T14:43:19.282Z"
   },
   {
    "duration": 12,
    "start_time": "2025-01-29T14:43:19.507Z"
   },
   {
    "duration": 24,
    "start_time": "2025-01-29T14:43:19.521Z"
   },
   {
    "duration": 172,
    "start_time": "2025-01-29T14:43:19.547Z"
   },
   {
    "duration": 22,
    "start_time": "2025-01-29T14:43:19.722Z"
   },
   {
    "duration": 13,
    "start_time": "2025-01-29T14:43:19.746Z"
   },
   {
    "duration": 170,
    "start_time": "2025-01-29T14:43:19.761Z"
   },
   {
    "duration": 6,
    "start_time": "2025-01-29T14:43:19.942Z"
   },
   {
    "duration": 4,
    "start_time": "2025-01-29T14:43:19.950Z"
   },
   {
    "duration": 12,
    "start_time": "2025-01-29T14:43:19.956Z"
   },
   {
    "duration": 11,
    "start_time": "2025-01-29T14:43:19.970Z"
   },
   {
    "duration": 14,
    "start_time": "2025-01-29T14:43:19.983Z"
   },
   {
    "duration": 201,
    "start_time": "2025-01-29T14:43:19.998Z"
   },
   {
    "duration": 5,
    "start_time": "2025-01-29T14:43:20.201Z"
   },
   {
    "duration": 4,
    "start_time": "2025-01-29T14:50:44.935Z"
   },
   {
    "duration": 16,
    "start_time": "2025-01-29T14:51:57.063Z"
   },
   {
    "duration": 779,
    "start_time": "2025-01-29T14:52:14.201Z"
   },
   {
    "duration": 165,
    "start_time": "2025-01-29T14:52:14.983Z"
   },
   {
    "duration": 9,
    "start_time": "2025-01-29T14:52:15.149Z"
   },
   {
    "duration": 18,
    "start_time": "2025-01-29T14:52:15.160Z"
   },
   {
    "duration": 3,
    "start_time": "2025-01-29T14:52:15.180Z"
   },
   {
    "duration": 12,
    "start_time": "2025-01-29T14:52:15.185Z"
   },
   {
    "duration": 10,
    "start_time": "2025-01-29T14:52:15.199Z"
   },
   {
    "duration": 31,
    "start_time": "2025-01-29T14:52:15.211Z"
   },
   {
    "duration": 3,
    "start_time": "2025-01-29T14:52:15.244Z"
   },
   {
    "duration": 4,
    "start_time": "2025-01-29T14:52:15.250Z"
   },
   {
    "duration": 9,
    "start_time": "2025-01-29T14:52:15.255Z"
   },
   {
    "duration": 10,
    "start_time": "2025-01-29T14:52:15.266Z"
   },
   {
    "duration": 12,
    "start_time": "2025-01-29T14:52:15.277Z"
   },
   {
    "duration": 8,
    "start_time": "2025-01-29T14:52:15.290Z"
   },
   {
    "duration": 55,
    "start_time": "2025-01-29T14:52:15.300Z"
   },
   {
    "duration": 11,
    "start_time": "2025-01-29T14:52:15.357Z"
   },
   {
    "duration": 16,
    "start_time": "2025-01-29T14:52:15.369Z"
   },
   {
    "duration": 10,
    "start_time": "2025-01-29T14:52:15.386Z"
   },
   {
    "duration": 57,
    "start_time": "2025-01-29T14:52:15.398Z"
   },
   {
    "duration": 20,
    "start_time": "2025-01-29T14:52:15.457Z"
   },
   {
    "duration": 11,
    "start_time": "2025-01-29T14:52:15.479Z"
   },
   {
    "duration": 6,
    "start_time": "2025-01-29T14:52:15.492Z"
   },
   {
    "duration": 42,
    "start_time": "2025-01-29T14:52:15.500Z"
   },
   {
    "duration": 11,
    "start_time": "2025-01-29T14:52:15.544Z"
   },
   {
    "duration": 13,
    "start_time": "2025-01-29T14:52:15.557Z"
   },
   {
    "duration": 8,
    "start_time": "2025-01-29T14:52:15.571Z"
   },
   {
    "duration": 20,
    "start_time": "2025-01-29T14:52:15.581Z"
   },
   {
    "duration": 43,
    "start_time": "2025-01-29T14:52:15.606Z"
   },
   {
    "duration": 2,
    "start_time": "2025-01-29T14:52:15.651Z"
   },
   {
    "duration": 25,
    "start_time": "2025-01-29T14:52:15.655Z"
   },
   {
    "duration": 22,
    "start_time": "2025-01-29T14:52:15.682Z"
   },
   {
    "duration": 48,
    "start_time": "2025-01-29T14:52:15.706Z"
   },
   {
    "duration": 18,
    "start_time": "2025-01-29T14:52:15.755Z"
   },
   {
    "duration": 20,
    "start_time": "2025-01-29T14:52:15.775Z"
   },
   {
    "duration": 52,
    "start_time": "2025-01-29T14:52:15.796Z"
   },
   {
    "duration": 12,
    "start_time": "2025-01-29T14:52:15.849Z"
   },
   {
    "duration": 15,
    "start_time": "2025-01-29T14:52:15.863Z"
   },
   {
    "duration": 11,
    "start_time": "2025-01-29T14:52:15.879Z"
   },
   {
    "duration": 11,
    "start_time": "2025-01-29T14:52:15.893Z"
   },
   {
    "duration": 8,
    "start_time": "2025-01-29T14:52:15.906Z"
   },
   {
    "duration": 8,
    "start_time": "2025-01-29T14:52:15.943Z"
   },
   {
    "duration": 5,
    "start_time": "2025-01-29T14:52:15.952Z"
   },
   {
    "duration": 56,
    "start_time": "2025-01-29T14:52:15.958Z"
   },
   {
    "duration": 30,
    "start_time": "2025-01-29T14:52:16.016Z"
   },
   {
    "duration": 12,
    "start_time": "2025-01-29T14:52:16.049Z"
   },
   {
    "duration": 11,
    "start_time": "2025-01-29T14:52:16.062Z"
   },
   {
    "duration": 8,
    "start_time": "2025-01-29T14:52:16.075Z"
   },
   {
    "duration": 9,
    "start_time": "2025-01-29T14:52:16.085Z"
   },
   {
    "duration": 11,
    "start_time": "2025-01-29T14:52:16.096Z"
   },
   {
    "duration": 42,
    "start_time": "2025-01-29T14:52:16.110Z"
   },
   {
    "duration": 171,
    "start_time": "2025-01-29T14:52:16.153Z"
   },
   {
    "duration": 9,
    "start_time": "2025-01-29T14:52:16.326Z"
   },
   {
    "duration": 184,
    "start_time": "2025-01-29T14:52:16.342Z"
   },
   {
    "duration": 5,
    "start_time": "2025-01-29T14:52:16.528Z"
   },
   {
    "duration": 5,
    "start_time": "2025-01-29T14:52:16.543Z"
   },
   {
    "duration": 113,
    "start_time": "2025-01-29T14:52:16.550Z"
   },
   {
    "duration": 16,
    "start_time": "2025-01-29T14:52:16.665Z"
   },
   {
    "duration": 16,
    "start_time": "2025-01-29T14:52:16.683Z"
   },
   {
    "duration": 243,
    "start_time": "2025-01-29T14:52:16.701Z"
   },
   {
    "duration": 13,
    "start_time": "2025-01-29T14:52:16.946Z"
   },
   {
    "duration": 13,
    "start_time": "2025-01-29T14:52:16.961Z"
   },
   {
    "duration": 202,
    "start_time": "2025-01-29T14:52:16.975Z"
   },
   {
    "duration": 4,
    "start_time": "2025-01-29T14:52:17.179Z"
   },
   {
    "duration": 16,
    "start_time": "2025-01-29T14:52:17.185Z"
   },
   {
    "duration": 11,
    "start_time": "2025-01-29T14:52:17.203Z"
   },
   {
    "duration": 35,
    "start_time": "2025-01-29T14:52:17.215Z"
   },
   {
    "duration": 168,
    "start_time": "2025-01-29T14:52:17.251Z"
   },
   {
    "duration": 4,
    "start_time": "2025-01-29T14:52:17.421Z"
   },
   {
    "duration": 16,
    "start_time": "2025-01-29T14:52:17.427Z"
   },
   {
    "duration": 11,
    "start_time": "2025-01-29T14:52:17.445Z"
   },
   {
    "duration": 12,
    "start_time": "2025-01-29T14:52:17.458Z"
   },
   {
    "duration": 16,
    "start_time": "2025-01-29T14:52:17.471Z"
   },
   {
    "duration": 192,
    "start_time": "2025-01-29T14:52:17.488Z"
   },
   {
    "duration": 5,
    "start_time": "2025-01-29T14:52:17.682Z"
   },
   {
    "duration": 789,
    "start_time": "2025-01-29T14:55:07.084Z"
   },
   {
    "duration": 156,
    "start_time": "2025-01-29T14:55:07.876Z"
   },
   {
    "duration": 9,
    "start_time": "2025-01-29T14:55:08.034Z"
   },
   {
    "duration": 9,
    "start_time": "2025-01-29T14:55:08.045Z"
   },
   {
    "duration": 2,
    "start_time": "2025-01-29T14:55:08.056Z"
   },
   {
    "duration": 10,
    "start_time": "2025-01-29T14:55:08.059Z"
   },
   {
    "duration": 8,
    "start_time": "2025-01-29T14:55:08.071Z"
   },
   {
    "duration": 9,
    "start_time": "2025-01-29T14:55:08.081Z"
   },
   {
    "duration": 3,
    "start_time": "2025-01-29T14:55:08.092Z"
   },
   {
    "duration": 3,
    "start_time": "2025-01-29T14:55:08.098Z"
   },
   {
    "duration": 49,
    "start_time": "2025-01-29T14:55:08.103Z"
   },
   {
    "duration": 11,
    "start_time": "2025-01-29T14:55:08.153Z"
   },
   {
    "duration": 12,
    "start_time": "2025-01-29T14:55:08.165Z"
   },
   {
    "duration": 8,
    "start_time": "2025-01-29T14:55:08.178Z"
   },
   {
    "duration": 16,
    "start_time": "2025-01-29T14:55:08.187Z"
   },
   {
    "duration": 43,
    "start_time": "2025-01-29T14:55:08.205Z"
   },
   {
    "duration": 15,
    "start_time": "2025-01-29T14:55:08.250Z"
   },
   {
    "duration": 8,
    "start_time": "2025-01-29T14:55:08.266Z"
   },
   {
    "duration": 25,
    "start_time": "2025-01-29T14:55:08.275Z"
   },
   {
    "duration": 51,
    "start_time": "2025-01-29T14:55:08.302Z"
   },
   {
    "duration": 12,
    "start_time": "2025-01-29T14:55:08.354Z"
   },
   {
    "duration": 7,
    "start_time": "2025-01-29T14:55:08.368Z"
   },
   {
    "duration": 17,
    "start_time": "2025-01-29T14:55:08.376Z"
   },
   {
    "duration": 12,
    "start_time": "2025-01-29T14:55:08.395Z"
   },
   {
    "duration": 41,
    "start_time": "2025-01-29T14:55:08.408Z"
   },
   {
    "duration": 8,
    "start_time": "2025-01-29T14:55:08.451Z"
   },
   {
    "duration": 19,
    "start_time": "2025-01-29T14:55:08.461Z"
   },
   {
    "duration": 13,
    "start_time": "2025-01-29T14:55:08.484Z"
   },
   {
    "duration": 2,
    "start_time": "2025-01-29T14:55:08.499Z"
   },
   {
    "duration": 53,
    "start_time": "2025-01-29T14:55:08.503Z"
   },
   {
    "duration": 21,
    "start_time": "2025-01-29T14:55:08.558Z"
   },
   {
    "duration": 21,
    "start_time": "2025-01-29T14:55:08.581Z"
   },
   {
    "duration": 39,
    "start_time": "2025-01-29T14:55:08.604Z"
   },
   {
    "duration": 19,
    "start_time": "2025-01-29T14:55:08.645Z"
   },
   {
    "duration": 32,
    "start_time": "2025-01-29T14:55:08.666Z"
   },
   {
    "duration": 10,
    "start_time": "2025-01-29T14:55:08.700Z"
   },
   {
    "duration": 36,
    "start_time": "2025-01-29T14:55:08.712Z"
   },
   {
    "duration": 12,
    "start_time": "2025-01-29T14:55:08.750Z"
   },
   {
    "duration": 10,
    "start_time": "2025-01-29T14:55:08.763Z"
   },
   {
    "duration": 8,
    "start_time": "2025-01-29T14:55:08.775Z"
   },
   {
    "duration": 8,
    "start_time": "2025-01-29T14:55:08.785Z"
   },
   {
    "duration": 6,
    "start_time": "2025-01-29T14:55:08.795Z"
   },
   {
    "duration": 93,
    "start_time": "2025-01-29T14:55:08.802Z"
   },
   {
    "duration": 11,
    "start_time": "2025-01-29T14:55:08.897Z"
   },
   {
    "duration": 15,
    "start_time": "2025-01-29T14:55:08.909Z"
   },
   {
    "duration": 26,
    "start_time": "2025-01-29T14:55:08.926Z"
   },
   {
    "duration": 8,
    "start_time": "2025-01-29T14:55:08.954Z"
   },
   {
    "duration": 10,
    "start_time": "2025-01-29T14:55:08.963Z"
   },
   {
    "duration": 11,
    "start_time": "2025-01-29T14:55:08.975Z"
   },
   {
    "duration": 14,
    "start_time": "2025-01-29T14:55:08.988Z"
   },
   {
    "duration": 190,
    "start_time": "2025-01-29T14:55:09.004Z"
   },
   {
    "duration": 9,
    "start_time": "2025-01-29T14:55:09.195Z"
   },
   {
    "duration": 175,
    "start_time": "2025-01-29T14:55:09.206Z"
   },
   {
    "duration": 4,
    "start_time": "2025-01-29T14:55:09.383Z"
   },
   {
    "duration": 4,
    "start_time": "2025-01-29T14:55:09.388Z"
   },
   {
    "duration": 109,
    "start_time": "2025-01-29T14:55:09.394Z"
   },
   {
    "duration": 13,
    "start_time": "2025-01-29T14:55:09.505Z"
   },
   {
    "duration": 24,
    "start_time": "2025-01-29T14:55:09.520Z"
   },
   {
    "duration": 218,
    "start_time": "2025-01-29T14:55:09.546Z"
   },
   {
    "duration": 12,
    "start_time": "2025-01-29T14:55:09.765Z"
   },
   {
    "duration": 13,
    "start_time": "2025-01-29T14:55:09.779Z"
   },
   {
    "duration": 194,
    "start_time": "2025-01-29T14:55:09.794Z"
   },
   {
    "duration": 3,
    "start_time": "2025-01-29T14:55:09.990Z"
   },
   {
    "duration": 17,
    "start_time": "2025-01-29T14:55:09.996Z"
   },
   {
    "duration": 10,
    "start_time": "2025-01-29T14:55:10.015Z"
   },
   {
    "duration": 24,
    "start_time": "2025-01-29T14:55:10.027Z"
   },
   {
    "duration": 168,
    "start_time": "2025-01-29T14:55:10.053Z"
   },
   {
    "duration": 4,
    "start_time": "2025-01-29T14:55:10.224Z"
   },
   {
    "duration": 15,
    "start_time": "2025-01-29T14:55:10.230Z"
   },
   {
    "duration": 12,
    "start_time": "2025-01-29T14:55:10.246Z"
   },
   {
    "duration": 12,
    "start_time": "2025-01-29T14:55:10.259Z"
   },
   {
    "duration": 14,
    "start_time": "2025-01-29T14:55:10.273Z"
   },
   {
    "duration": 192,
    "start_time": "2025-01-29T14:55:10.289Z"
   },
   {
    "duration": 10,
    "start_time": "2025-01-29T14:55:10.484Z"
   },
   {
    "duration": 3,
    "start_time": "2025-01-29T14:57:02.279Z"
   },
   {
    "duration": 20,
    "start_time": "2025-01-29T14:57:06.174Z"
   },
   {
    "duration": 797,
    "start_time": "2025-01-29T15:06:42.474Z"
   },
   {
    "duration": 154,
    "start_time": "2025-01-29T15:06:43.273Z"
   },
   {
    "duration": 9,
    "start_time": "2025-01-29T15:06:43.429Z"
   },
   {
    "duration": 10,
    "start_time": "2025-01-29T15:06:43.440Z"
   },
   {
    "duration": 2,
    "start_time": "2025-01-29T15:06:43.452Z"
   },
   {
    "duration": 10,
    "start_time": "2025-01-29T15:06:43.455Z"
   },
   {
    "duration": 8,
    "start_time": "2025-01-29T15:06:43.466Z"
   },
   {
    "duration": 9,
    "start_time": "2025-01-29T15:06:43.475Z"
   },
   {
    "duration": 3,
    "start_time": "2025-01-29T15:06:43.486Z"
   },
   {
    "duration": 4,
    "start_time": "2025-01-29T15:06:43.492Z"
   },
   {
    "duration": 51,
    "start_time": "2025-01-29T15:06:43.497Z"
   },
   {
    "duration": 12,
    "start_time": "2025-01-29T15:06:43.550Z"
   },
   {
    "duration": 13,
    "start_time": "2025-01-29T15:06:43.564Z"
   },
   {
    "duration": 8,
    "start_time": "2025-01-29T15:06:43.581Z"
   },
   {
    "duration": 15,
    "start_time": "2025-01-29T15:06:43.591Z"
   },
   {
    "duration": 40,
    "start_time": "2025-01-29T15:06:43.607Z"
   },
   {
    "duration": 16,
    "start_time": "2025-01-29T15:06:43.649Z"
   },
   {
    "duration": 8,
    "start_time": "2025-01-29T15:06:43.667Z"
   },
   {
    "duration": 25,
    "start_time": "2025-01-29T15:06:43.677Z"
   },
   {
    "duration": 45,
    "start_time": "2025-01-29T15:06:43.703Z"
   },
   {
    "duration": 14,
    "start_time": "2025-01-29T15:06:43.750Z"
   },
   {
    "duration": 8,
    "start_time": "2025-01-29T15:06:43.766Z"
   },
   {
    "duration": 17,
    "start_time": "2025-01-29T15:06:43.776Z"
   },
   {
    "duration": 11,
    "start_time": "2025-01-29T15:06:43.795Z"
   },
   {
    "duration": 43,
    "start_time": "2025-01-29T15:06:43.808Z"
   },
   {
    "duration": 9,
    "start_time": "2025-01-29T15:06:43.853Z"
   },
   {
    "duration": 21,
    "start_time": "2025-01-29T15:06:43.863Z"
   },
   {
    "duration": 13,
    "start_time": "2025-01-29T15:06:43.888Z"
   },
   {
    "duration": 3,
    "start_time": "2025-01-29T15:06:43.903Z"
   },
   {
    "duration": 56,
    "start_time": "2025-01-29T15:06:43.907Z"
   },
   {
    "duration": 19,
    "start_time": "2025-01-29T15:06:43.965Z"
   },
   {
    "duration": 23,
    "start_time": "2025-01-29T15:06:43.985Z"
   },
   {
    "duration": 38,
    "start_time": "2025-01-29T15:06:44.010Z"
   },
   {
    "duration": 20,
    "start_time": "2025-01-29T15:06:44.050Z"
   },
   {
    "duration": 32,
    "start_time": "2025-01-29T15:06:44.072Z"
   },
   {
    "duration": 11,
    "start_time": "2025-01-29T15:06:44.105Z"
   },
   {
    "duration": 40,
    "start_time": "2025-01-29T15:06:44.117Z"
   },
   {
    "duration": 16,
    "start_time": "2025-01-29T15:06:44.158Z"
   },
   {
    "duration": 13,
    "start_time": "2025-01-29T15:06:44.176Z"
   },
   {
    "duration": 12,
    "start_time": "2025-01-29T15:06:44.191Z"
   },
   {
    "duration": 46,
    "start_time": "2025-01-29T15:06:44.205Z"
   },
   {
    "duration": 5,
    "start_time": "2025-01-29T15:06:44.253Z"
   },
   {
    "duration": 55,
    "start_time": "2025-01-29T15:06:44.260Z"
   },
   {
    "duration": 31,
    "start_time": "2025-01-29T15:06:44.317Z"
   },
   {
    "duration": 12,
    "start_time": "2025-01-29T15:06:44.351Z"
   },
   {
    "duration": 12,
    "start_time": "2025-01-29T15:06:44.364Z"
   },
   {
    "duration": 9,
    "start_time": "2025-01-29T15:06:44.377Z"
   },
   {
    "duration": 11,
    "start_time": "2025-01-29T15:06:44.389Z"
   },
   {
    "duration": 42,
    "start_time": "2025-01-29T15:06:44.401Z"
   },
   {
    "duration": 14,
    "start_time": "2025-01-29T15:06:44.445Z"
   },
   {
    "duration": 185,
    "start_time": "2025-01-29T15:06:44.461Z"
   },
   {
    "duration": 10,
    "start_time": "2025-01-29T15:06:44.648Z"
   },
   {
    "duration": 185,
    "start_time": "2025-01-29T15:06:44.660Z"
   },
   {
    "duration": 4,
    "start_time": "2025-01-29T15:06:44.847Z"
   },
   {
    "duration": 4,
    "start_time": "2025-01-29T15:06:44.853Z"
   },
   {
    "duration": 102,
    "start_time": "2025-01-29T15:06:44.859Z"
   },
   {
    "duration": 11,
    "start_time": "2025-01-29T15:06:44.963Z"
   },
   {
    "duration": 13,
    "start_time": "2025-01-29T15:06:44.976Z"
   },
   {
    "duration": 238,
    "start_time": "2025-01-29T15:06:44.990Z"
   },
   {
    "duration": 19,
    "start_time": "2025-01-29T15:06:45.230Z"
   },
   {
    "duration": 14,
    "start_time": "2025-01-29T15:06:45.250Z"
   },
   {
    "duration": 173,
    "start_time": "2025-01-29T15:06:45.267Z"
   },
   {
    "duration": 6,
    "start_time": "2025-01-29T15:06:45.443Z"
   },
   {
    "duration": 14,
    "start_time": "2025-01-29T15:06:45.450Z"
   },
   {
    "duration": 10,
    "start_time": "2025-01-29T15:06:45.466Z"
   },
   {
    "duration": 12,
    "start_time": "2025-01-29T15:06:45.478Z"
   },
   {
    "duration": 185,
    "start_time": "2025-01-29T15:06:45.492Z"
   },
   {
    "duration": 5,
    "start_time": "2025-01-29T15:06:45.679Z"
   },
   {
    "duration": 6,
    "start_time": "2025-01-29T15:06:45.686Z"
   },
   {
    "duration": 11,
    "start_time": "2025-01-29T15:06:45.694Z"
   },
   {
    "duration": 38,
    "start_time": "2025-01-29T15:06:45.706Z"
   },
   {
    "duration": 18,
    "start_time": "2025-01-29T15:06:45.745Z"
   },
   {
    "duration": 184,
    "start_time": "2025-01-29T15:06:45.764Z"
   },
   {
    "duration": 8,
    "start_time": "2025-01-29T15:06:45.949Z"
   },
   {
    "duration": 893,
    "start_time": "2025-01-29T15:20:19.322Z"
   },
   {
    "duration": 245,
    "start_time": "2025-01-29T15:20:20.219Z"
   },
   {
    "duration": 10,
    "start_time": "2025-01-29T15:20:20.465Z"
   },
   {
    "duration": 10,
    "start_time": "2025-01-29T15:20:20.478Z"
   },
   {
    "duration": 3,
    "start_time": "2025-01-29T15:20:20.490Z"
   },
   {
    "duration": 10,
    "start_time": "2025-01-29T15:20:20.494Z"
   },
   {
    "duration": 7,
    "start_time": "2025-01-29T15:20:20.506Z"
   },
   {
    "duration": 20,
    "start_time": "2025-01-29T15:20:20.515Z"
   },
   {
    "duration": 3,
    "start_time": "2025-01-29T15:20:20.537Z"
   },
   {
    "duration": 3,
    "start_time": "2025-01-29T15:20:20.544Z"
   },
   {
    "duration": 9,
    "start_time": "2025-01-29T15:20:20.549Z"
   },
   {
    "duration": 11,
    "start_time": "2025-01-29T15:20:20.559Z"
   },
   {
    "duration": 13,
    "start_time": "2025-01-29T15:20:20.572Z"
   },
   {
    "duration": 50,
    "start_time": "2025-01-29T15:20:20.586Z"
   },
   {
    "duration": 19,
    "start_time": "2025-01-29T15:20:20.638Z"
   },
   {
    "duration": 12,
    "start_time": "2025-01-29T15:20:20.659Z"
   },
   {
    "duration": 24,
    "start_time": "2025-01-29T15:20:20.673Z"
   },
   {
    "duration": 32,
    "start_time": "2025-01-29T15:20:20.699Z"
   },
   {
    "duration": 41,
    "start_time": "2025-01-29T15:20:20.733Z"
   },
   {
    "duration": 29,
    "start_time": "2025-01-29T15:20:20.778Z"
   },
   {
    "duration": 26,
    "start_time": "2025-01-29T15:20:20.809Z"
   },
   {
    "duration": 8,
    "start_time": "2025-01-29T15:20:20.837Z"
   },
   {
    "duration": 18,
    "start_time": "2025-01-29T15:20:20.847Z"
   },
   {
    "duration": 13,
    "start_time": "2025-01-29T15:20:20.867Z"
   },
   {
    "duration": 17,
    "start_time": "2025-01-29T15:20:20.882Z"
   },
   {
    "duration": 11,
    "start_time": "2025-01-29T15:20:20.932Z"
   },
   {
    "duration": 22,
    "start_time": "2025-01-29T15:20:20.947Z"
   },
   {
    "duration": 15,
    "start_time": "2025-01-29T15:20:20.974Z"
   },
   {
    "duration": 4,
    "start_time": "2025-01-29T15:20:20.991Z"
   },
   {
    "duration": 51,
    "start_time": "2025-01-29T15:20:20.998Z"
   },
   {
    "duration": 34,
    "start_time": "2025-01-29T15:20:21.051Z"
   },
   {
    "duration": 49,
    "start_time": "2025-01-29T15:20:21.091Z"
   },
   {
    "duration": 18,
    "start_time": "2025-01-29T15:20:21.143Z"
   },
   {
    "duration": 23,
    "start_time": "2025-01-29T15:20:21.163Z"
   },
   {
    "duration": 68,
    "start_time": "2025-01-29T15:20:21.188Z"
   },
   {
    "duration": 15,
    "start_time": "2025-01-29T15:20:21.259Z"
   },
   {
    "duration": 24,
    "start_time": "2025-01-29T15:20:21.277Z"
   },
   {
    "duration": 29,
    "start_time": "2025-01-29T15:20:21.303Z"
   },
   {
    "duration": 16,
    "start_time": "2025-01-29T15:20:21.334Z"
   },
   {
    "duration": 10,
    "start_time": "2025-01-29T15:20:21.351Z"
   },
   {
    "duration": 8,
    "start_time": "2025-01-29T15:20:21.363Z"
   },
   {
    "duration": 7,
    "start_time": "2025-01-29T15:20:21.373Z"
   },
   {
    "duration": 103,
    "start_time": "2025-01-29T15:20:21.382Z"
   },
   {
    "duration": 12,
    "start_time": "2025-01-29T15:20:21.487Z"
   },
   {
    "duration": 34,
    "start_time": "2025-01-29T15:20:21.501Z"
   },
   {
    "duration": 17,
    "start_time": "2025-01-29T15:20:21.537Z"
   },
   {
    "duration": 11,
    "start_time": "2025-01-29T15:20:21.557Z"
   },
   {
    "duration": 11,
    "start_time": "2025-01-29T15:20:21.570Z"
   },
   {
    "duration": 11,
    "start_time": "2025-01-29T15:20:21.583Z"
   },
   {
    "duration": 52,
    "start_time": "2025-01-29T15:20:21.596Z"
   },
   {
    "duration": 211,
    "start_time": "2025-01-29T15:20:21.651Z"
   },
   {
    "duration": 9,
    "start_time": "2025-01-29T15:20:21.864Z"
   },
   {
    "duration": 204,
    "start_time": "2025-01-29T15:20:21.875Z"
   },
   {
    "duration": 6,
    "start_time": "2025-01-29T15:20:22.082Z"
   },
   {
    "duration": 4,
    "start_time": "2025-01-29T15:20:22.090Z"
   },
   {
    "duration": 115,
    "start_time": "2025-01-29T15:20:22.096Z"
   },
   {
    "duration": 22,
    "start_time": "2025-01-29T15:20:22.214Z"
   },
   {
    "duration": 18,
    "start_time": "2025-01-29T15:20:22.238Z"
   },
   {
    "duration": 239,
    "start_time": "2025-01-29T15:20:22.258Z"
   },
   {
    "duration": 15,
    "start_time": "2025-01-29T15:20:22.499Z"
   },
   {
    "duration": 24,
    "start_time": "2025-01-29T15:20:22.516Z"
   },
   {
    "duration": 181,
    "start_time": "2025-01-29T15:20:22.542Z"
   },
   {
    "duration": 7,
    "start_time": "2025-01-29T15:20:22.731Z"
   },
   {
    "duration": 21,
    "start_time": "2025-01-29T15:20:22.740Z"
   },
   {
    "duration": 16,
    "start_time": "2025-01-29T15:20:22.763Z"
   },
   {
    "duration": 14,
    "start_time": "2025-01-29T15:20:22.781Z"
   },
   {
    "duration": 229,
    "start_time": "2025-01-29T15:20:22.796Z"
   },
   {
    "duration": 7,
    "start_time": "2025-01-29T15:20:23.030Z"
   },
   {
    "duration": 6,
    "start_time": "2025-01-29T15:20:23.039Z"
   },
   {
    "duration": 13,
    "start_time": "2025-01-29T15:20:23.048Z"
   },
   {
    "duration": 17,
    "start_time": "2025-01-29T15:20:23.062Z"
   },
   {
    "duration": 51,
    "start_time": "2025-01-29T15:20:23.081Z"
   },
   {
    "duration": 241,
    "start_time": "2025-01-29T15:20:23.134Z"
   },
   {
    "duration": 8,
    "start_time": "2025-01-29T15:20:23.377Z"
   },
   {
    "duration": 15,
    "start_time": "2025-01-29T15:21:40.828Z"
   },
   {
    "duration": 2638,
    "start_time": "2025-02-10T16:48:27.463Z"
   },
   {
    "duration": 263,
    "start_time": "2025-02-10T16:48:30.104Z"
   },
   {
    "duration": 9,
    "start_time": "2025-02-10T16:48:30.369Z"
   },
   {
    "duration": 10,
    "start_time": "2025-02-10T16:48:30.380Z"
   },
   {
    "duration": 19,
    "start_time": "2025-02-10T16:48:30.393Z"
   },
   {
    "duration": 9,
    "start_time": "2025-02-10T16:48:30.414Z"
   },
   {
    "duration": 11,
    "start_time": "2025-02-10T16:48:30.425Z"
   },
   {
    "duration": 3,
    "start_time": "2025-02-10T16:48:30.438Z"
   },
   {
    "duration": 4,
    "start_time": "2025-02-10T16:48:30.444Z"
   },
   {
    "duration": 11,
    "start_time": "2025-02-10T16:48:30.450Z"
   },
   {
    "duration": 49,
    "start_time": "2025-02-10T16:48:30.463Z"
   },
   {
    "duration": 12,
    "start_time": "2025-02-10T16:48:30.514Z"
   },
   {
    "duration": 8,
    "start_time": "2025-02-10T16:48:30.529Z"
   },
   {
    "duration": 23,
    "start_time": "2025-02-10T16:48:30.542Z"
   },
   {
    "duration": 11,
    "start_time": "2025-02-10T16:48:30.568Z"
   },
   {
    "duration": 42,
    "start_time": "2025-02-10T16:48:30.581Z"
   },
   {
    "duration": 10,
    "start_time": "2025-02-10T16:48:30.625Z"
   },
   {
    "duration": 26,
    "start_time": "2025-02-10T16:48:30.636Z"
   },
   {
    "duration": 21,
    "start_time": "2025-02-10T16:48:30.663Z"
   },
   {
    "duration": 12,
    "start_time": "2025-02-10T16:48:30.712Z"
   },
   {
    "duration": 8,
    "start_time": "2025-02-10T16:48:30.726Z"
   },
   {
    "duration": 24,
    "start_time": "2025-02-10T16:48:30.736Z"
   },
   {
    "duration": 18,
    "start_time": "2025-02-10T16:48:30.762Z"
   },
   {
    "duration": 43,
    "start_time": "2025-02-10T16:48:30.782Z"
   },
   {
    "duration": 10,
    "start_time": "2025-02-10T16:48:30.826Z"
   },
   {
    "duration": 21,
    "start_time": "2025-02-10T16:48:30.838Z"
   },
   {
    "duration": 17,
    "start_time": "2025-02-10T16:48:30.861Z"
   },
   {
    "duration": 3,
    "start_time": "2025-02-10T16:48:30.880Z"
   },
   {
    "duration": 31,
    "start_time": "2025-02-10T16:48:30.913Z"
   },
   {
    "duration": 21,
    "start_time": "2025-02-10T16:48:30.946Z"
   },
   {
    "duration": 20,
    "start_time": "2025-02-10T16:48:30.969Z"
   },
   {
    "duration": 17,
    "start_time": "2025-02-10T16:48:31.012Z"
   },
   {
    "duration": 19,
    "start_time": "2025-02-10T16:48:31.030Z"
   },
   {
    "duration": 32,
    "start_time": "2025-02-10T16:48:31.051Z"
   },
   {
    "duration": 36,
    "start_time": "2025-02-10T16:48:31.084Z"
   },
   {
    "duration": 15,
    "start_time": "2025-02-10T16:48:31.121Z"
   },
   {
    "duration": 11,
    "start_time": "2025-02-10T16:48:31.137Z"
   },
   {
    "duration": 10,
    "start_time": "2025-02-10T16:48:31.151Z"
   },
   {
    "duration": 10,
    "start_time": "2025-02-10T16:48:31.162Z"
   },
   {
    "duration": 41,
    "start_time": "2025-02-10T16:48:31.173Z"
   },
   {
    "duration": 5,
    "start_time": "2025-02-10T16:48:31.219Z"
   },
   {
    "duration": 55,
    "start_time": "2025-02-10T16:48:31.226Z"
   },
   {
    "duration": 10,
    "start_time": "2025-02-10T16:48:31.283Z"
   },
   {
    "duration": 11,
    "start_time": "2025-02-10T16:48:31.312Z"
   },
   {
    "duration": 12,
    "start_time": "2025-02-10T16:48:31.325Z"
   },
   {
    "duration": 8,
    "start_time": "2025-02-10T16:48:31.339Z"
   },
   {
    "duration": 9,
    "start_time": "2025-02-10T16:48:31.349Z"
   },
   {
    "duration": 11,
    "start_time": "2025-02-10T16:48:31.360Z"
   },
   {
    "duration": 46,
    "start_time": "2025-02-10T16:48:31.373Z"
   },
   {
    "duration": 166,
    "start_time": "2025-02-10T16:48:31.421Z"
   },
   {
    "duration": 9,
    "start_time": "2025-02-10T16:48:31.588Z"
   },
   {
    "duration": 183,
    "start_time": "2025-02-10T16:48:31.598Z"
   },
   {
    "duration": 4,
    "start_time": "2025-02-10T16:48:31.783Z"
   },
   {
    "duration": 4,
    "start_time": "2025-02-10T16:48:31.789Z"
   },
   {
    "duration": 99,
    "start_time": "2025-02-10T16:48:31.794Z"
   },
   {
    "duration": 20,
    "start_time": "2025-02-10T16:48:31.895Z"
   },
   {
    "duration": 13,
    "start_time": "2025-02-10T16:48:31.916Z"
   },
   {
    "duration": 168,
    "start_time": "2025-02-10T16:48:31.930Z"
   },
   {
    "duration": 19,
    "start_time": "2025-02-10T16:48:32.099Z"
   },
   {
    "duration": 23,
    "start_time": "2025-02-10T16:48:32.121Z"
   },
   {
    "duration": 165,
    "start_time": "2025-02-10T16:48:32.146Z"
   },
   {
    "duration": 12,
    "start_time": "2025-02-10T16:48:32.313Z"
   },
   {
    "duration": 13,
    "start_time": "2025-02-10T16:48:32.326Z"
   },
   {
    "duration": 175,
    "start_time": "2025-02-10T16:48:32.340Z"
   },
   {
    "duration": 5,
    "start_time": "2025-02-10T16:48:32.518Z"
   },
   {
    "duration": 6,
    "start_time": "2025-02-10T16:48:32.524Z"
   },
   {
    "duration": 12,
    "start_time": "2025-02-10T16:48:32.532Z"
   },
   {
    "duration": 12,
    "start_time": "2025-02-10T16:48:32.545Z"
   },
   {
    "duration": 15,
    "start_time": "2025-02-10T16:48:32.559Z"
   },
   {
    "duration": 210,
    "start_time": "2025-02-10T16:48:32.575Z"
   },
   {
    "duration": 7,
    "start_time": "2025-02-10T16:48:32.787Z"
   }
  ],
  "kernelspec": {
   "display_name": "Python 3 (ipykernel)",
   "language": "python",
   "name": "python3"
  },
  "language_info": {
   "codemirror_mode": {
    "name": "ipython",
    "version": 3
   },
   "file_extension": ".py",
   "mimetype": "text/x-python",
   "name": "python",
   "nbconvert_exporter": "python",
   "pygments_lexer": "ipython3",
   "version": "3.9.19"
  },
  "toc": {
   "base_numbering": 1,
   "nav_menu": {},
   "number_sections": true,
   "sideBar": true,
   "skip_h1_title": false,
   "title_cell": "Table of Contents",
   "title_sidebar": "Contents",
   "toc_cell": false,
   "toc_position": {},
   "toc_section_display": true,
   "toc_window_display": false
  }
 },
 "nbformat": 4,
 "nbformat_minor": 2
}
